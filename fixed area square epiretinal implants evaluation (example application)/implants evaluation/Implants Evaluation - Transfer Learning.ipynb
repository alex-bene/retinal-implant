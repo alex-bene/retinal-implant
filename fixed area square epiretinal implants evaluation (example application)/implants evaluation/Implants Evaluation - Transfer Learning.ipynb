{
 "cells": [
  {
   "cell_type": "code",
   "execution_count": 1,
   "metadata": {},
   "outputs": [
    {
     "name": "stderr",
     "output_type": "stream",
     "text": [
      "<ipython-input-1-ebfef1f0950f>:6: TqdmExperimentalWarning: Using `tqdm.autonotebook.tqdm` in notebook mode. Use `tqdm.tqdm` instead to force console mode (e.g. in jupyter console)\n",
      "  from tqdm.autonotebook import trange, tqdm\n"
     ]
    }
   ],
   "source": [
    "import os\n",
    "import time\n",
    "import copy\n",
    "import numpy as np\n",
    "import matplotlib.pyplot as plt\n",
    "from tqdm.autonotebook import trange, tqdm\n",
    "\n",
    "import torch\n",
    "from torchvision import transforms\n",
    "\n",
    "from adabound import AdaBound\n",
    "from pytorchUtils import Pipeline, ResNet18MNIST\n",
    "from retinal_implants_utils import MNISTpulse2percept"
   ]
  },
  {
   "cell_type": "code",
   "execution_count": 2,
   "metadata": {},
   "outputs": [],
   "source": [
    "%matplotlib inline"
   ]
  },
  {
   "cell_type": "code",
   "execution_count": 3,
   "metadata": {},
   "outputs": [],
   "source": [
    "DATA_PATH              = os.path.join(os.path.dirname(os.getcwd()), 'simulate MNIST - create new datasets', 'data')\n",
    "# DATA_PATH              = os.path.join(os.getcwd(), 'retinal_implants_utils', 'data')\n",
    "FULL_ARGUSII_DATA_PATH = os.path.join(DATA_PATH, 'MNIST', 'processed')\n",
    "MNIST_SUBSET_DATA_PATH = os.path.join(DATA_PATH, 'MNIST_2000_400', 'processed')"
   ]
  },
  {
   "cell_type": "code",
   "execution_count": 4,
   "metadata": {},
   "outputs": [],
   "source": [
    "def get_dataset_mean_std(path, print_results=True):\n",
    "    # get mean and std for the train data in order to normalize our data later\n",
    "    trainset      = MNISTpulse2percept(path=path, transform=transforms.ToTensor())\n",
    "    trainloader   = torch.utils.data.DataLoader(trainset, batch_size=len(trainset), shuffle=False)\n",
    "    trainset_mean = next(iter(trainloader))[0].mean(axis=(0, 2, 3))[0]\n",
    "    trainset_std  = next(iter(trainloader))[0].std( axis=(0, 2, 3))[0]\n",
    "    if print_results:\n",
    "        print(f' Trainset mean value for each channel is: {trainset_mean:.2f}')\n",
    "        print(f' Trainset std  value for each channel is: {trainset_std :.2f}')\n",
    "\n",
    "    return trainset_mean, trainset_std"
   ]
  },
  {
   "cell_type": "code",
   "execution_count": 5,
   "metadata": {},
   "outputs": [],
   "source": [
    "def get_dataset_loaders(path):\n",
    "    mean, std = get_dataset_mean_std(path)\n",
    "    transform   = transforms.Compose([transforms.Resize((224, 224)),\n",
    "                                      transforms.ToTensor(),\n",
    "                                      transforms.Lambda(lambda x: x.repeat(3, 1, 1)), #grayscale to RGB\n",
    "                                      transforms.Normalize(mean, std)])\n",
    "\n",
    "    trainset = MNISTpulse2percept(path=path, train=True,  transform=transform)\n",
    "    testset  = MNISTpulse2percept(path=path, train=False, transform=transform)\n",
    "\n",
    "    trainloader = torch.utils.data.DataLoader(trainset, batch_size=64, shuffle=True)\n",
    "    testloader  = torch.utils.data.DataLoader(testset,  batch_size=64, shuffle=True)\n",
    "\n",
    "    return trainloader, testloader"
   ]
  },
  {
   "cell_type": "markdown",
   "metadata": {},
   "source": [
    "# CUSTOM IMPLANTS' EVALUATION - MNIST SUBSET DATA PATH"
   ]
  },
  {
   "cell_type": "code",
   "execution_count": 7,
   "metadata": {},
   "outputs": [],
   "source": [
    "e_num_sides = [  5,   8,  10, 15, 20, 25]\n",
    "e_radius_lb = [ 10,  10,  10, 10, 10, 10]\n",
    "e_radius_ub = [400, 400, 400, 90, 90, 60]\n",
    "spacing     = None\n",
    "total_area  = 4000\n",
    "\n",
    "# e_num_sides = [25]\n",
    "# e_radius_lb = [10]\n",
    "# e_radius_ub = [60]\n",
    "\n",
    "e_num_sides_acc  = np.zeros((len(e_num_sides), (max(e_radius_ub) - min(e_radius_lb))//10 + 1, 2))\n",
    "e_radius_acc     = np.zeros(((max(e_radius_ub) - min(e_radius_lb))//10 + 1, len(e_num_sides), 2))\n",
    "\n",
    "e_num_sides_loss = np.zeros_like(e_num_sides_acc)\n",
    "e_radius_loss    = np.zeros_like(e_radius_acc)\n",
    "\n",
    "e_num_sides_acc_init  = np.zeros_like(e_num_sides_acc)\n",
    "e_radius_acc_init     = np.zeros_like(e_radius_acc)\n",
    "\n",
    "e_num_sides_loss_init = np.zeros_like(e_num_sides_acc)\n",
    "e_radius_loss_init    = np.zeros_like(e_radius_acc)\n",
    "\n",
    "device = torch.device(\"cuda:0\" if torch.cuda.is_available() else \"cpu\")"
   ]
  },
  {
   "cell_type": "code",
   "execution_count": 27,
   "metadata": {},
   "outputs": [],
   "source": [
    "#         print('# ------------------ AXON MAP MODEL ----------------- #')\n",
    "#         model = ResNet18MNIST(pretrained=True,\n",
    "#                               feature_extraction=True,\n",
    "#                               load_state_path='./data/MNIST__ResNet18Model__Adabound__25_epochs.pth')\n",
    "\n",
    "#         criterion = torch.nn.CrossEntropyLoss()\n",
    "#         optimizer = AdaBound(model.parameters(), lr=1e-3, final_lr=0.1)\n",
    "\n",
    "#         trainloader, testloader = get_dataset_loaders(os.path.join(MNIST_SUBSET_DATA_PATH,\n",
    "#                                                                    'AxonMapModel-'+implant_name))\n",
    "#         ppln_axon = Pipeline(model, device, optimizer, criterion,\n",
    "#                              trainloader, testloader, testloader,\n",
    "#                              live_plot=False)\n",
    "\n",
    "#         axon_init_loss, axon_init_accu = ppln_axon.test()\n",
    "#         _ = ppln_axon.training(epochs=1)\n",
    "#         axon_loss, axon_accu = ppln_axon.test(ppln_axon.best_model)\n",
    "#         torch.save(ppln_axon.best_model.state_dict(),\n",
    "#            os.path.join(os.getcwd(), 'data',\n",
    "#                         f'MNIST_2000_400_{implant_name}_AxonMapModel__ResNet18Model__Adabound__1_epoch.pth'))\n",
    "\n",
    "#         # ---------------- SCORE BOARD MODEL ---------------- #\n",
    "#         print('# ---------------- SCORE BOARD MODEL ---------------- #')\n",
    "#         model = ResNet18MNIST(pretrained=True,\n",
    "#                               feature_extraction=True,\n",
    "#                               load_state_path='./data/MNIST__ResNet18Model__Adabound__25_epochs.pth')\n",
    "\n",
    "#         criterion = torch.nn.CrossEntropyLoss()\n",
    "#         optimizer = AdaBound(model.parameters(), lr=1e-3, final_lr=0.1)\n",
    "\n",
    "#         trainloader, testloader = get_dataset_loaders(os.path.join(MNIST_SUBSET_DATA_PATH,\n",
    "#                                                                    'ScoreboardModel-'+implant_name))\n",
    "#         ppln_sboard = Pipeline(model, device, optimizer, criterion,\n",
    "#                                trainloader, testloader, testloader,\n",
    "#                                live_plot=False)\n",
    "\n",
    "#         sboard_init_loss, sboard_init_accu = ppln_sboard.test()\n",
    "#         _ = ppln_sboard.training(epochs=1)\n",
    "#         sboard_loss, sboard_accu = ppln_sboard.test(ppln_sboard.best_model)\n",
    "#         torch.save(ppln_sboard.best_model.state_dict(),\n",
    "#            os.path.join(os.getcwd(), 'data',\n",
    "#                         f'MNIST_2000_400_{implant_name}_ScoreBoardModel__ResNet18Model__Adabound__1_epoch.pth'))\n",
    "\n",
    "def one(model_name, implant_name, load_state_path, overwrite=False):\n",
    "    print(f'# ------------------ {model_name} ----------------- #')\n",
    "    out_path = os.path.join(os.getcwd(), 'evaluation', 'data', 'models',\n",
    "                            f'MNIST_2000_400_{implant_name}_{model_name}__ResNet18Model__Adabound__1_epoch.pth')\n",
    "    model = ResNet18MNIST(pretrained=True,\n",
    "                          feature_extraction=True,\n",
    "                          load_state_path=load_state_path)\n",
    "\n",
    "    criterion = torch.nn.CrossEntropyLoss()\n",
    "    optimizer = AdaBound(model.parameters(), lr=1e-3, final_lr=0.1)\n",
    "#     print(os.path.join(MNIST_SUBSET_DATA_PATH, model_name+'-'+implant_name))\n",
    "#     print(os.listdir(os.path.join(MNIST_SUBSET_DATA_PATH, model_name+'-'+implant_name)))\n",
    "    trainloader, testloader = get_dataset_loaders(os.path.join(MNIST_SUBSET_DATA_PATH,\n",
    "                                                               model_name+'-'+implant_name))\n",
    "    ppln = Pipeline(model, device, optimizer, criterion,\n",
    "                    trainloader, testloader, testloader,\n",
    "                    live_plot=False)\n",
    "\n",
    "    init_loss, init_accu = ppln.test()\n",
    "\n",
    "    if overwrite or not os.path.exists(out_path):\n",
    "        _ = ppln.training(epochs=1)\n",
    "        loss, accu = ppln.test(ppln.best_model)\n",
    "        torch.save(ppln.best_model.state_dict(), out_path)\n",
    "    else:\n",
    "        print(f'{implant_name} is already trained for {model_name}')\n",
    "        ppln.model.load_state(out_path)\n",
    "        loss, accu = ppln.test(ppln.model)\n",
    "\n",
    "    return init_loss, init_accu, loss, accu, ppln.model"
   ]
  },
  {
   "cell_type": "code",
   "execution_count": 28,
   "metadata": {
    "scrolled": true
   },
   "outputs": [
    {
     "data": {
      "application/vnd.jupyter.widget-view+json": {
       "model_id": "da2bd0fbec7748df9d7ab91a56ff4461",
       "version_major": 2,
       "version_minor": 0
      },
      "text/plain": [
       "HBox(children=(FloatProgress(value=0.0, max=144.0), HTML(value='')))"
      ]
     },
     "metadata": {},
     "output_type": "display_data"
    },
    {
     "name": "stdout",
     "output_type": "stream",
     "text": [
      "e_num_side 5\n",
      "e_radius 10\n",
      "# ------------------ AxonMapModel ----------------- #\n",
      " Trainset mean value for each channel is: 0.08\n",
      " Trainset std  value for each channel is: 0.15\n"
     ]
    },
    {
     "data": {
      "application/vnd.jupyter.widget-view+json": {
       "model_id": "e265ff3611fe4414b75d131125d11598",
       "version_major": 2,
       "version_minor": 0
      },
      "text/plain": [
       "HBox(children=(FloatProgress(value=0.0, description='Loss: - Accuracy:', layout=Layout(flex='2'), max=7.0, sty…"
      ]
     },
     "metadata": {},
     "output_type": "display_data"
    },
    {
     "name": "stdout",
     "output_type": "stream",
     "text": [
      "\n",
      "e_num_side=5-e_radius=10-spacing=None-total_area=4000 is already trained for AxonMapModel\n"
     ]
    },
    {
     "data": {
      "application/vnd.jupyter.widget-view+json": {
       "model_id": "06ad6c7068ee4a21ac4bd0a29b76c198",
       "version_major": 2,
       "version_minor": 0
      },
      "text/plain": [
       "HBox(children=(FloatProgress(value=0.0, description='Loss: - Accuracy:', layout=Layout(flex='2'), max=7.0, sty…"
      ]
     },
     "metadata": {},
     "output_type": "display_data"
    },
    {
     "name": "stdout",
     "output_type": "stream",
     "text": [
      "\n",
      "# ------------------ ScoreboardModel ----------------- #\n",
      " Trainset mean value for each channel is: 0.05\n",
      " Trainset std  value for each channel is: 0.13\n"
     ]
    },
    {
     "data": {
      "application/vnd.jupyter.widget-view+json": {
       "model_id": "a9a8833c673740b8bc6c3c58a7202508",
       "version_major": 2,
       "version_minor": 0
      },
      "text/plain": [
       "HBox(children=(FloatProgress(value=0.0, description='Loss: - Accuracy:', layout=Layout(flex='2'), max=7.0, sty…"
      ]
     },
     "metadata": {},
     "output_type": "display_data"
    },
    {
     "name": "stdout",
     "output_type": "stream",
     "text": [
      "\n",
      "e_num_side=5-e_radius=10-spacing=None-total_area=4000 is already trained for ScoreboardModel\n"
     ]
    },
    {
     "data": {
      "application/vnd.jupyter.widget-view+json": {
       "model_id": "11bcd36f23c44c4fbab43d0de7bdc98c",
       "version_major": 2,
       "version_minor": 0
      },
      "text/plain": [
       "HBox(children=(FloatProgress(value=0.0, description='Loss: - Accuracy:', layout=Layout(flex='2'), max=7.0, sty…"
      ]
     },
     "metadata": {},
     "output_type": "display_data"
    },
    {
     "name": "stdout",
     "output_type": "stream",
     "text": [
      "\n",
      "e_radius 20\n",
      "# ------------------ AxonMapModel ----------------- #\n",
      " Trainset mean value for each channel is: 0.08\n",
      " Trainset std  value for each channel is: 0.15\n"
     ]
    },
    {
     "data": {
      "application/vnd.jupyter.widget-view+json": {
       "model_id": "64aa2b251e504a2d9ae5f244427390a2",
       "version_major": 2,
       "version_minor": 0
      },
      "text/plain": [
       "HBox(children=(FloatProgress(value=0.0, description='Loss: - Accuracy:', layout=Layout(flex='2'), max=7.0, sty…"
      ]
     },
     "metadata": {},
     "output_type": "display_data"
    },
    {
     "name": "stdout",
     "output_type": "stream",
     "text": [
      "\n",
      "e_num_side=5-e_radius=20-spacing=None-total_area=4000 is already trained for AxonMapModel\n"
     ]
    },
    {
     "data": {
      "application/vnd.jupyter.widget-view+json": {
       "model_id": "0b2754a6b7ea44a69e98dff31df65417",
       "version_major": 2,
       "version_minor": 0
      },
      "text/plain": [
       "HBox(children=(FloatProgress(value=0.0, description='Loss: - Accuracy:', layout=Layout(flex='2'), max=7.0, sty…"
      ]
     },
     "metadata": {},
     "output_type": "display_data"
    },
    {
     "name": "stdout",
     "output_type": "stream",
     "text": [
      "\n",
      "# ------------------ ScoreboardModel ----------------- #\n",
      " Trainset mean value for each channel is: 0.05\n",
      " Trainset std  value for each channel is: 0.13\n"
     ]
    },
    {
     "data": {
      "application/vnd.jupyter.widget-view+json": {
       "model_id": "756cfb8b9a22445c8a5c99e9f53faa7b",
       "version_major": 2,
       "version_minor": 0
      },
      "text/plain": [
       "HBox(children=(FloatProgress(value=0.0, description='Loss: - Accuracy:', layout=Layout(flex='2'), max=7.0, sty…"
      ]
     },
     "metadata": {},
     "output_type": "display_data"
    },
    {
     "name": "stdout",
     "output_type": "stream",
     "text": [
      "\n",
      "e_num_side=5-e_radius=20-spacing=None-total_area=4000 is already trained for ScoreboardModel\n"
     ]
    },
    {
     "data": {
      "application/vnd.jupyter.widget-view+json": {
       "model_id": "a6556e88533645498a487ffe0afdf117",
       "version_major": 2,
       "version_minor": 0
      },
      "text/plain": [
       "HBox(children=(FloatProgress(value=0.0, description='Loss: - Accuracy:', layout=Layout(flex='2'), max=7.0, sty…"
      ]
     },
     "metadata": {},
     "output_type": "display_data"
    },
    {
     "name": "stdout",
     "output_type": "stream",
     "text": [
      "\n",
      "e_radius 30\n",
      "# ------------------ AxonMapModel ----------------- #\n",
      " Trainset mean value for each channel is: 0.08\n",
      " Trainset std  value for each channel is: 0.15\n"
     ]
    },
    {
     "data": {
      "application/vnd.jupyter.widget-view+json": {
       "model_id": "0ebcd6e901864676bb5f5c7d8fdbe494",
       "version_major": 2,
       "version_minor": 0
      },
      "text/plain": [
       "HBox(children=(FloatProgress(value=0.0, description='Loss: - Accuracy:', layout=Layout(flex='2'), max=7.0, sty…"
      ]
     },
     "metadata": {},
     "output_type": "display_data"
    },
    {
     "name": "stdout",
     "output_type": "stream",
     "text": [
      "\n",
      "e_num_side=5-e_radius=30-spacing=None-total_area=4000 is already trained for AxonMapModel\n"
     ]
    },
    {
     "data": {
      "application/vnd.jupyter.widget-view+json": {
       "model_id": "92924a1c52754249bbae41f46b84b7d0",
       "version_major": 2,
       "version_minor": 0
      },
      "text/plain": [
       "HBox(children=(FloatProgress(value=0.0, description='Loss: - Accuracy:', layout=Layout(flex='2'), max=7.0, sty…"
      ]
     },
     "metadata": {},
     "output_type": "display_data"
    },
    {
     "name": "stdout",
     "output_type": "stream",
     "text": [
      "\n",
      "# ------------------ ScoreboardModel ----------------- #\n",
      " Trainset mean value for each channel is: 0.05\n",
      " Trainset std  value for each channel is: 0.13\n"
     ]
    },
    {
     "data": {
      "application/vnd.jupyter.widget-view+json": {
       "model_id": "9655b28e06d340588131cbd2dad21b52",
       "version_major": 2,
       "version_minor": 0
      },
      "text/plain": [
       "HBox(children=(FloatProgress(value=0.0, description='Loss: - Accuracy:', layout=Layout(flex='2'), max=7.0, sty…"
      ]
     },
     "metadata": {},
     "output_type": "display_data"
    },
    {
     "name": "stdout",
     "output_type": "stream",
     "text": [
      "\n",
      "e_num_side=5-e_radius=30-spacing=None-total_area=4000 is already trained for ScoreboardModel\n"
     ]
    },
    {
     "data": {
      "application/vnd.jupyter.widget-view+json": {
       "model_id": "4368e2ba3e7449aa93eec208a27f7ad4",
       "version_major": 2,
       "version_minor": 0
      },
      "text/plain": [
       "HBox(children=(FloatProgress(value=0.0, description='Loss: - Accuracy:', layout=Layout(flex='2'), max=7.0, sty…"
      ]
     },
     "metadata": {},
     "output_type": "display_data"
    },
    {
     "name": "stdout",
     "output_type": "stream",
     "text": [
      "\n",
      "e_radius 40\n",
      "# ------------------ AxonMapModel ----------------- #\n",
      " Trainset mean value for each channel is: 0.08\n",
      " Trainset std  value for each channel is: 0.15\n"
     ]
    },
    {
     "data": {
      "application/vnd.jupyter.widget-view+json": {
       "model_id": "8ad44b4e14594de98fd11e7fb3ad828d",
       "version_major": 2,
       "version_minor": 0
      },
      "text/plain": [
       "HBox(children=(FloatProgress(value=0.0, description='Loss: - Accuracy:', layout=Layout(flex='2'), max=7.0, sty…"
      ]
     },
     "metadata": {},
     "output_type": "display_data"
    },
    {
     "name": "stdout",
     "output_type": "stream",
     "text": [
      "\n",
      "e_num_side=5-e_radius=40-spacing=None-total_area=4000 is already trained for AxonMapModel\n"
     ]
    },
    {
     "data": {
      "application/vnd.jupyter.widget-view+json": {
       "model_id": "4aaabe39f43c489bbd8b69967e2b5584",
       "version_major": 2,
       "version_minor": 0
      },
      "text/plain": [
       "HBox(children=(FloatProgress(value=0.0, description='Loss: - Accuracy:', layout=Layout(flex='2'), max=7.0, sty…"
      ]
     },
     "metadata": {},
     "output_type": "display_data"
    },
    {
     "name": "stdout",
     "output_type": "stream",
     "text": [
      "\n",
      "# ------------------ ScoreboardModel ----------------- #\n",
      " Trainset mean value for each channel is: 0.05\n",
      " Trainset std  value for each channel is: 0.13\n"
     ]
    },
    {
     "data": {
      "application/vnd.jupyter.widget-view+json": {
       "model_id": "270cfea9e21e483891cdeb65545dbbcb",
       "version_major": 2,
       "version_minor": 0
      },
      "text/plain": [
       "HBox(children=(FloatProgress(value=0.0, description='Loss: - Accuracy:', layout=Layout(flex='2'), max=7.0, sty…"
      ]
     },
     "metadata": {},
     "output_type": "display_data"
    },
    {
     "name": "stdout",
     "output_type": "stream",
     "text": [
      "\n",
      "e_num_side=5-e_radius=40-spacing=None-total_area=4000 is already trained for ScoreboardModel\n"
     ]
    },
    {
     "data": {
      "application/vnd.jupyter.widget-view+json": {
       "model_id": "8515edff007a432eb41357262174b9a8",
       "version_major": 2,
       "version_minor": 0
      },
      "text/plain": [
       "HBox(children=(FloatProgress(value=0.0, description='Loss: - Accuracy:', layout=Layout(flex='2'), max=7.0, sty…"
      ]
     },
     "metadata": {},
     "output_type": "display_data"
    },
    {
     "name": "stdout",
     "output_type": "stream",
     "text": [
      "\n",
      "e_radius 50\n",
      "# ------------------ AxonMapModel ----------------- #\n",
      " Trainset mean value for each channel is: 0.08\n",
      " Trainset std  value for each channel is: 0.15\n"
     ]
    },
    {
     "data": {
      "application/vnd.jupyter.widget-view+json": {
       "model_id": "bf66224fde5e4a9687f081bceda31f55",
       "version_major": 2,
       "version_minor": 0
      },
      "text/plain": [
       "HBox(children=(FloatProgress(value=0.0, description='Loss: - Accuracy:', layout=Layout(flex='2'), max=7.0, sty…"
      ]
     },
     "metadata": {},
     "output_type": "display_data"
    },
    {
     "name": "stdout",
     "output_type": "stream",
     "text": [
      "\n",
      "e_num_side=5-e_radius=50-spacing=None-total_area=4000 is already trained for AxonMapModel\n"
     ]
    },
    {
     "data": {
      "application/vnd.jupyter.widget-view+json": {
       "model_id": "34d2ef5cc8524336a2eb5aa13e007d31",
       "version_major": 2,
       "version_minor": 0
      },
      "text/plain": [
       "HBox(children=(FloatProgress(value=0.0, description='Loss: - Accuracy:', layout=Layout(flex='2'), max=7.0, sty…"
      ]
     },
     "metadata": {},
     "output_type": "display_data"
    },
    {
     "name": "stdout",
     "output_type": "stream",
     "text": [
      "\n",
      "# ------------------ ScoreboardModel ----------------- #\n",
      " Trainset mean value for each channel is: 0.05\n",
      " Trainset std  value for each channel is: 0.13\n"
     ]
    },
    {
     "data": {
      "application/vnd.jupyter.widget-view+json": {
       "model_id": "632d293b34da419fa5ba833395fdb8e4",
       "version_major": 2,
       "version_minor": 0
      },
      "text/plain": [
       "HBox(children=(FloatProgress(value=0.0, description='Loss: - Accuracy:', layout=Layout(flex='2'), max=7.0, sty…"
      ]
     },
     "metadata": {},
     "output_type": "display_data"
    },
    {
     "name": "stdout",
     "output_type": "stream",
     "text": [
      "\n",
      "e_num_side=5-e_radius=50-spacing=None-total_area=4000 is already trained for ScoreboardModel\n"
     ]
    },
    {
     "data": {
      "application/vnd.jupyter.widget-view+json": {
       "model_id": "7ae53111c4e243ef88bbf4e21ca60df8",
       "version_major": 2,
       "version_minor": 0
      },
      "text/plain": [
       "HBox(children=(FloatProgress(value=0.0, description='Loss: - Accuracy:', layout=Layout(flex='2'), max=7.0, sty…"
      ]
     },
     "metadata": {},
     "output_type": "display_data"
    },
    {
     "name": "stdout",
     "output_type": "stream",
     "text": [
      "\n",
      "e_radius 60\n",
      "# ------------------ AxonMapModel ----------------- #\n",
      " Trainset mean value for each channel is: 0.08\n",
      " Trainset std  value for each channel is: 0.15\n"
     ]
    },
    {
     "data": {
      "application/vnd.jupyter.widget-view+json": {
       "model_id": "482f4c7ff6124393aadc60833082fe6c",
       "version_major": 2,
       "version_minor": 0
      },
      "text/plain": [
       "HBox(children=(FloatProgress(value=0.0, description='Loss: - Accuracy:', layout=Layout(flex='2'), max=7.0, sty…"
      ]
     },
     "metadata": {},
     "output_type": "display_data"
    },
    {
     "name": "stdout",
     "output_type": "stream",
     "text": [
      "\n",
      "e_num_side=5-e_radius=60-spacing=None-total_area=4000 is already trained for AxonMapModel\n"
     ]
    },
    {
     "data": {
      "application/vnd.jupyter.widget-view+json": {
       "model_id": "622eb0fc100e4fb9b0c9f3a12d29792e",
       "version_major": 2,
       "version_minor": 0
      },
      "text/plain": [
       "HBox(children=(FloatProgress(value=0.0, description='Loss: - Accuracy:', layout=Layout(flex='2'), max=7.0, sty…"
      ]
     },
     "metadata": {},
     "output_type": "display_data"
    },
    {
     "name": "stdout",
     "output_type": "stream",
     "text": [
      "\n",
      "# ------------------ ScoreboardModel ----------------- #\n",
      " Trainset mean value for each channel is: 0.05\n",
      " Trainset std  value for each channel is: 0.13\n"
     ]
    },
    {
     "data": {
      "application/vnd.jupyter.widget-view+json": {
       "model_id": "14df29bdb0d0417eba5a1685d46e51c2",
       "version_major": 2,
       "version_minor": 0
      },
      "text/plain": [
       "HBox(children=(FloatProgress(value=0.0, description='Loss: - Accuracy:', layout=Layout(flex='2'), max=7.0, sty…"
      ]
     },
     "metadata": {},
     "output_type": "display_data"
    },
    {
     "name": "stdout",
     "output_type": "stream",
     "text": [
      "\n",
      "e_num_side=5-e_radius=60-spacing=None-total_area=4000 is already trained for ScoreboardModel\n"
     ]
    },
    {
     "data": {
      "application/vnd.jupyter.widget-view+json": {
       "model_id": "cc7c5da41eff47ef8e234cb39f01fc29",
       "version_major": 2,
       "version_minor": 0
      },
      "text/plain": [
       "HBox(children=(FloatProgress(value=0.0, description='Loss: - Accuracy:', layout=Layout(flex='2'), max=7.0, sty…"
      ]
     },
     "metadata": {},
     "output_type": "display_data"
    },
    {
     "name": "stdout",
     "output_type": "stream",
     "text": [
      "\n",
      "e_radius 70\n",
      "# ------------------ AxonMapModel ----------------- #\n",
      " Trainset mean value for each channel is: 0.08\n",
      " Trainset std  value for each channel is: 0.15\n"
     ]
    },
    {
     "data": {
      "application/vnd.jupyter.widget-view+json": {
       "model_id": "181115d3fd0247c8a599694eb1b5fa48",
       "version_major": 2,
       "version_minor": 0
      },
      "text/plain": [
       "HBox(children=(FloatProgress(value=0.0, description='Loss: - Accuracy:', layout=Layout(flex='2'), max=7.0, sty…"
      ]
     },
     "metadata": {},
     "output_type": "display_data"
    },
    {
     "name": "stdout",
     "output_type": "stream",
     "text": [
      "\n",
      "e_num_side=5-e_radius=70-spacing=None-total_area=4000 is already trained for AxonMapModel\n"
     ]
    },
    {
     "data": {
      "application/vnd.jupyter.widget-view+json": {
       "model_id": "a09529a5548c49fba2636371ec7b44da",
       "version_major": 2,
       "version_minor": 0
      },
      "text/plain": [
       "HBox(children=(FloatProgress(value=0.0, description='Loss: - Accuracy:', layout=Layout(flex='2'), max=7.0, sty…"
      ]
     },
     "metadata": {},
     "output_type": "display_data"
    },
    {
     "name": "stdout",
     "output_type": "stream",
     "text": [
      "\n",
      "# ------------------ ScoreboardModel ----------------- #\n",
      " Trainset mean value for each channel is: 0.05\n",
      " Trainset std  value for each channel is: 0.13\n"
     ]
    },
    {
     "data": {
      "application/vnd.jupyter.widget-view+json": {
       "model_id": "b88b0d988d7c4988b296f0468ad25992",
       "version_major": 2,
       "version_minor": 0
      },
      "text/plain": [
       "HBox(children=(FloatProgress(value=0.0, description='Loss: - Accuracy:', layout=Layout(flex='2'), max=7.0, sty…"
      ]
     },
     "metadata": {},
     "output_type": "display_data"
    },
    {
     "name": "stdout",
     "output_type": "stream",
     "text": [
      "\n",
      "e_num_side=5-e_radius=70-spacing=None-total_area=4000 is already trained for ScoreboardModel\n"
     ]
    },
    {
     "data": {
      "application/vnd.jupyter.widget-view+json": {
       "model_id": "694ad6039409461394faac825a1e7cee",
       "version_major": 2,
       "version_minor": 0
      },
      "text/plain": [
       "HBox(children=(FloatProgress(value=0.0, description='Loss: - Accuracy:', layout=Layout(flex='2'), max=7.0, sty…"
      ]
     },
     "metadata": {},
     "output_type": "display_data"
    },
    {
     "name": "stdout",
     "output_type": "stream",
     "text": [
      "\n",
      "e_radius 80\n",
      "# ------------------ AxonMapModel ----------------- #\n",
      " Trainset mean value for each channel is: 0.08\n",
      " Trainset std  value for each channel is: 0.15\n"
     ]
    },
    {
     "data": {
      "application/vnd.jupyter.widget-view+json": {
       "model_id": "3b95379d87d948148c0de1d72dd3babc",
       "version_major": 2,
       "version_minor": 0
      },
      "text/plain": [
       "HBox(children=(FloatProgress(value=0.0, description='Loss: - Accuracy:', layout=Layout(flex='2'), max=7.0, sty…"
      ]
     },
     "metadata": {},
     "output_type": "display_data"
    },
    {
     "name": "stdout",
     "output_type": "stream",
     "text": [
      "\n",
      "e_num_side=5-e_radius=80-spacing=None-total_area=4000 is already trained for AxonMapModel\n"
     ]
    },
    {
     "data": {
      "application/vnd.jupyter.widget-view+json": {
       "model_id": "af5d84097ecc4484a65ea7b970893234",
       "version_major": 2,
       "version_minor": 0
      },
      "text/plain": [
       "HBox(children=(FloatProgress(value=0.0, description='Loss: - Accuracy:', layout=Layout(flex='2'), max=7.0, sty…"
      ]
     },
     "metadata": {},
     "output_type": "display_data"
    },
    {
     "name": "stdout",
     "output_type": "stream",
     "text": [
      "\n",
      "# ------------------ ScoreboardModel ----------------- #\n",
      " Trainset mean value for each channel is: 0.05\n",
      " Trainset std  value for each channel is: 0.13\n"
     ]
    },
    {
     "data": {
      "application/vnd.jupyter.widget-view+json": {
       "model_id": "5881ab8309054187876a71e4f158998e",
       "version_major": 2,
       "version_minor": 0
      },
      "text/plain": [
       "HBox(children=(FloatProgress(value=0.0, description='Loss: - Accuracy:', layout=Layout(flex='2'), max=7.0, sty…"
      ]
     },
     "metadata": {},
     "output_type": "display_data"
    },
    {
     "name": "stdout",
     "output_type": "stream",
     "text": [
      "\n",
      "e_num_side=5-e_radius=80-spacing=None-total_area=4000 is already trained for ScoreboardModel\n"
     ]
    },
    {
     "data": {
      "application/vnd.jupyter.widget-view+json": {
       "model_id": "2d70776ee2814e1a9318d3ccf38f1a8a",
       "version_major": 2,
       "version_minor": 0
      },
      "text/plain": [
       "HBox(children=(FloatProgress(value=0.0, description='Loss: - Accuracy:', layout=Layout(flex='2'), max=7.0, sty…"
      ]
     },
     "metadata": {},
     "output_type": "display_data"
    },
    {
     "name": "stdout",
     "output_type": "stream",
     "text": [
      "\n",
      "e_radius 90\n",
      "# ------------------ AxonMapModel ----------------- #\n",
      " Trainset mean value for each channel is: 0.08\n",
      " Trainset std  value for each channel is: 0.15\n"
     ]
    },
    {
     "data": {
      "application/vnd.jupyter.widget-view+json": {
       "model_id": "32c24a652aa34fd9ab16d4012636005a",
       "version_major": 2,
       "version_minor": 0
      },
      "text/plain": [
       "HBox(children=(FloatProgress(value=0.0, description='Loss: - Accuracy:', layout=Layout(flex='2'), max=7.0, sty…"
      ]
     },
     "metadata": {},
     "output_type": "display_data"
    },
    {
     "name": "stdout",
     "output_type": "stream",
     "text": [
      "\n",
      "e_num_side=5-e_radius=90-spacing=None-total_area=4000 is already trained for AxonMapModel\n"
     ]
    },
    {
     "data": {
      "application/vnd.jupyter.widget-view+json": {
       "model_id": "de92df93146749429e30e0ad2d5a0968",
       "version_major": 2,
       "version_minor": 0
      },
      "text/plain": [
       "HBox(children=(FloatProgress(value=0.0, description='Loss: - Accuracy:', layout=Layout(flex='2'), max=7.0, sty…"
      ]
     },
     "metadata": {},
     "output_type": "display_data"
    },
    {
     "name": "stdout",
     "output_type": "stream",
     "text": [
      "\n",
      "# ------------------ ScoreboardModel ----------------- #\n",
      " Trainset mean value for each channel is: 0.05\n",
      " Trainset std  value for each channel is: 0.13\n"
     ]
    },
    {
     "data": {
      "application/vnd.jupyter.widget-view+json": {
       "model_id": "dba48712e624401b898d0be7dc1fd3c4",
       "version_major": 2,
       "version_minor": 0
      },
      "text/plain": [
       "HBox(children=(FloatProgress(value=0.0, description='Loss: - Accuracy:', layout=Layout(flex='2'), max=7.0, sty…"
      ]
     },
     "metadata": {},
     "output_type": "display_data"
    },
    {
     "name": "stdout",
     "output_type": "stream",
     "text": [
      "\n",
      "e_num_side=5-e_radius=90-spacing=None-total_area=4000 is already trained for ScoreboardModel\n"
     ]
    },
    {
     "data": {
      "application/vnd.jupyter.widget-view+json": {
       "model_id": "f882b5bf8e1d4fc9af7894d0221ef410",
       "version_major": 2,
       "version_minor": 0
      },
      "text/plain": [
       "HBox(children=(FloatProgress(value=0.0, description='Loss: - Accuracy:', layout=Layout(flex='2'), max=7.0, sty…"
      ]
     },
     "metadata": {},
     "output_type": "display_data"
    },
    {
     "name": "stdout",
     "output_type": "stream",
     "text": [
      "\n",
      "e_radius 100\n",
      "# ------------------ AxonMapModel ----------------- #\n",
      " Trainset mean value for each channel is: 0.08\n",
      " Trainset std  value for each channel is: 0.15\n"
     ]
    },
    {
     "data": {
      "application/vnd.jupyter.widget-view+json": {
       "model_id": "1762524ba26946a8b45b33006db03302",
       "version_major": 2,
       "version_minor": 0
      },
      "text/plain": [
       "HBox(children=(FloatProgress(value=0.0, description='Loss: - Accuracy:', layout=Layout(flex='2'), max=7.0, sty…"
      ]
     },
     "metadata": {},
     "output_type": "display_data"
    },
    {
     "name": "stdout",
     "output_type": "stream",
     "text": [
      "\n",
      "e_num_side=5-e_radius=100-spacing=None-total_area=4000 is already trained for AxonMapModel\n"
     ]
    },
    {
     "data": {
      "application/vnd.jupyter.widget-view+json": {
       "model_id": "6e54526940e343478cae39e51e7a5e27",
       "version_major": 2,
       "version_minor": 0
      },
      "text/plain": [
       "HBox(children=(FloatProgress(value=0.0, description='Loss: - Accuracy:', layout=Layout(flex='2'), max=7.0, sty…"
      ]
     },
     "metadata": {},
     "output_type": "display_data"
    },
    {
     "name": "stdout",
     "output_type": "stream",
     "text": [
      "\n",
      "# ------------------ ScoreboardModel ----------------- #\n",
      " Trainset mean value for each channel is: 0.05\n",
      " Trainset std  value for each channel is: 0.13\n"
     ]
    },
    {
     "data": {
      "application/vnd.jupyter.widget-view+json": {
       "model_id": "a6925a6197874aa9b6984e1a13acfb9a",
       "version_major": 2,
       "version_minor": 0
      },
      "text/plain": [
       "HBox(children=(FloatProgress(value=0.0, description='Loss: - Accuracy:', layout=Layout(flex='2'), max=7.0, sty…"
      ]
     },
     "metadata": {},
     "output_type": "display_data"
    },
    {
     "name": "stdout",
     "output_type": "stream",
     "text": [
      "\n",
      "e_num_side=5-e_radius=100-spacing=None-total_area=4000 is already trained for ScoreboardModel\n"
     ]
    },
    {
     "data": {
      "application/vnd.jupyter.widget-view+json": {
       "model_id": "cc0cc195ce6b4f458682d01bd449f046",
       "version_major": 2,
       "version_minor": 0
      },
      "text/plain": [
       "HBox(children=(FloatProgress(value=0.0, description='Loss: - Accuracy:', layout=Layout(flex='2'), max=7.0, sty…"
      ]
     },
     "metadata": {},
     "output_type": "display_data"
    },
    {
     "name": "stdout",
     "output_type": "stream",
     "text": [
      "\n",
      "e_radius 110\n",
      "# ------------------ AxonMapModel ----------------- #\n",
      " Trainset mean value for each channel is: 0.08\n",
      " Trainset std  value for each channel is: 0.15\n"
     ]
    },
    {
     "data": {
      "application/vnd.jupyter.widget-view+json": {
       "model_id": "52a9f3aee856454ebbc194a0414a7a35",
       "version_major": 2,
       "version_minor": 0
      },
      "text/plain": [
       "HBox(children=(FloatProgress(value=0.0, description='Loss: - Accuracy:', layout=Layout(flex='2'), max=7.0, sty…"
      ]
     },
     "metadata": {},
     "output_type": "display_data"
    },
    {
     "name": "stdout",
     "output_type": "stream",
     "text": [
      "\n",
      "e_num_side=5-e_radius=110-spacing=None-total_area=4000 is already trained for AxonMapModel\n"
     ]
    },
    {
     "data": {
      "application/vnd.jupyter.widget-view+json": {
       "model_id": "78d9b956bcb34c459e7d4ce88fb3ca77",
       "version_major": 2,
       "version_minor": 0
      },
      "text/plain": [
       "HBox(children=(FloatProgress(value=0.0, description='Loss: - Accuracy:', layout=Layout(flex='2'), max=7.0, sty…"
      ]
     },
     "metadata": {},
     "output_type": "display_data"
    },
    {
     "name": "stdout",
     "output_type": "stream",
     "text": [
      "\n",
      "# ------------------ ScoreboardModel ----------------- #\n",
      " Trainset mean value for each channel is: 0.05\n",
      " Trainset std  value for each channel is: 0.13\n"
     ]
    },
    {
     "data": {
      "application/vnd.jupyter.widget-view+json": {
       "model_id": "0182f94936b44b949072a3778e89d690",
       "version_major": 2,
       "version_minor": 0
      },
      "text/plain": [
       "HBox(children=(FloatProgress(value=0.0, description='Loss: - Accuracy:', layout=Layout(flex='2'), max=7.0, sty…"
      ]
     },
     "metadata": {},
     "output_type": "display_data"
    },
    {
     "name": "stdout",
     "output_type": "stream",
     "text": [
      "\n",
      "e_num_side=5-e_radius=110-spacing=None-total_area=4000 is already trained for ScoreboardModel\n"
     ]
    },
    {
     "data": {
      "application/vnd.jupyter.widget-view+json": {
       "model_id": "da029538a92f447faf2265e5ac629650",
       "version_major": 2,
       "version_minor": 0
      },
      "text/plain": [
       "HBox(children=(FloatProgress(value=0.0, description='Loss: - Accuracy:', layout=Layout(flex='2'), max=7.0, sty…"
      ]
     },
     "metadata": {},
     "output_type": "display_data"
    },
    {
     "name": "stdout",
     "output_type": "stream",
     "text": [
      "\n",
      "e_radius 120\n",
      "# ------------------ AxonMapModel ----------------- #\n",
      " Trainset mean value for each channel is: 0.08\n",
      " Trainset std  value for each channel is: 0.15\n"
     ]
    },
    {
     "data": {
      "application/vnd.jupyter.widget-view+json": {
       "model_id": "9722390f8011480fbda122a6ebcc22a2",
       "version_major": 2,
       "version_minor": 0
      },
      "text/plain": [
       "HBox(children=(FloatProgress(value=0.0, description='Loss: - Accuracy:', layout=Layout(flex='2'), max=7.0, sty…"
      ]
     },
     "metadata": {},
     "output_type": "display_data"
    },
    {
     "name": "stdout",
     "output_type": "stream",
     "text": [
      "\n",
      "e_num_side=5-e_radius=120-spacing=None-total_area=4000 is already trained for AxonMapModel\n"
     ]
    },
    {
     "data": {
      "application/vnd.jupyter.widget-view+json": {
       "model_id": "1f9de10a7fef4e24912158c2d719d7d2",
       "version_major": 2,
       "version_minor": 0
      },
      "text/plain": [
       "HBox(children=(FloatProgress(value=0.0, description='Loss: - Accuracy:', layout=Layout(flex='2'), max=7.0, sty…"
      ]
     },
     "metadata": {},
     "output_type": "display_data"
    },
    {
     "name": "stdout",
     "output_type": "stream",
     "text": [
      "\n",
      "# ------------------ ScoreboardModel ----------------- #\n",
      " Trainset mean value for each channel is: 0.05\n",
      " Trainset std  value for each channel is: 0.13\n"
     ]
    },
    {
     "data": {
      "application/vnd.jupyter.widget-view+json": {
       "model_id": "ba520768a33945839deda9e4334b73cd",
       "version_major": 2,
       "version_minor": 0
      },
      "text/plain": [
       "HBox(children=(FloatProgress(value=0.0, description='Loss: - Accuracy:', layout=Layout(flex='2'), max=7.0, sty…"
      ]
     },
     "metadata": {},
     "output_type": "display_data"
    },
    {
     "name": "stdout",
     "output_type": "stream",
     "text": [
      "\n",
      "e_num_side=5-e_radius=120-spacing=None-total_area=4000 is already trained for ScoreboardModel\n"
     ]
    },
    {
     "data": {
      "application/vnd.jupyter.widget-view+json": {
       "model_id": "90fd3342ca284990b1fe72947a6b3780",
       "version_major": 2,
       "version_minor": 0
      },
      "text/plain": [
       "HBox(children=(FloatProgress(value=0.0, description='Loss: - Accuracy:', layout=Layout(flex='2'), max=7.0, sty…"
      ]
     },
     "metadata": {},
     "output_type": "display_data"
    },
    {
     "name": "stdout",
     "output_type": "stream",
     "text": [
      "\n",
      "e_radius 130\n",
      "# ------------------ AxonMapModel ----------------- #\n",
      " Trainset mean value for each channel is: 0.08\n",
      " Trainset std  value for each channel is: 0.15\n"
     ]
    },
    {
     "data": {
      "application/vnd.jupyter.widget-view+json": {
       "model_id": "d7e554197b574b28a7779cc4a61e2ebb",
       "version_major": 2,
       "version_minor": 0
      },
      "text/plain": [
       "HBox(children=(FloatProgress(value=0.0, description='Loss: - Accuracy:', layout=Layout(flex='2'), max=7.0, sty…"
      ]
     },
     "metadata": {},
     "output_type": "display_data"
    },
    {
     "name": "stdout",
     "output_type": "stream",
     "text": [
      "\n",
      "e_num_side=5-e_radius=130-spacing=None-total_area=4000 is already trained for AxonMapModel\n"
     ]
    },
    {
     "data": {
      "application/vnd.jupyter.widget-view+json": {
       "model_id": "a51a7e77e23b4ad3b714c1a1c9bf939b",
       "version_major": 2,
       "version_minor": 0
      },
      "text/plain": [
       "HBox(children=(FloatProgress(value=0.0, description='Loss: - Accuracy:', layout=Layout(flex='2'), max=7.0, sty…"
      ]
     },
     "metadata": {},
     "output_type": "display_data"
    },
    {
     "name": "stdout",
     "output_type": "stream",
     "text": [
      "\n",
      "# ------------------ ScoreboardModel ----------------- #\n",
      " Trainset mean value for each channel is: 0.05\n",
      " Trainset std  value for each channel is: 0.13\n"
     ]
    },
    {
     "data": {
      "application/vnd.jupyter.widget-view+json": {
       "model_id": "7bf5c496b2e24bfe9874fb31eb6a7b39",
       "version_major": 2,
       "version_minor": 0
      },
      "text/plain": [
       "HBox(children=(FloatProgress(value=0.0, description='Loss: - Accuracy:', layout=Layout(flex='2'), max=7.0, sty…"
      ]
     },
     "metadata": {},
     "output_type": "display_data"
    },
    {
     "name": "stdout",
     "output_type": "stream",
     "text": [
      "\n",
      "e_num_side=5-e_radius=130-spacing=None-total_area=4000 is already trained for ScoreboardModel\n"
     ]
    },
    {
     "data": {
      "application/vnd.jupyter.widget-view+json": {
       "model_id": "7cd3578e3eef48d79d914a08ba5a824d",
       "version_major": 2,
       "version_minor": 0
      },
      "text/plain": [
       "HBox(children=(FloatProgress(value=0.0, description='Loss: - Accuracy:', layout=Layout(flex='2'), max=7.0, sty…"
      ]
     },
     "metadata": {},
     "output_type": "display_data"
    },
    {
     "name": "stdout",
     "output_type": "stream",
     "text": [
      "\n",
      "e_radius 140\n",
      "# ------------------ AxonMapModel ----------------- #\n",
      " Trainset mean value for each channel is: 0.08\n",
      " Trainset std  value for each channel is: 0.15\n"
     ]
    },
    {
     "data": {
      "application/vnd.jupyter.widget-view+json": {
       "model_id": "b021264c82e0402facb1feebb294e505",
       "version_major": 2,
       "version_minor": 0
      },
      "text/plain": [
       "HBox(children=(FloatProgress(value=0.0, description='Loss: - Accuracy:', layout=Layout(flex='2'), max=7.0, sty…"
      ]
     },
     "metadata": {},
     "output_type": "display_data"
    },
    {
     "name": "stdout",
     "output_type": "stream",
     "text": [
      "\n",
      "e_num_side=5-e_radius=140-spacing=None-total_area=4000 is already trained for AxonMapModel\n"
     ]
    },
    {
     "data": {
      "application/vnd.jupyter.widget-view+json": {
       "model_id": "52db1a08c4cf41fba98cdaf6038b60e0",
       "version_major": 2,
       "version_minor": 0
      },
      "text/plain": [
       "HBox(children=(FloatProgress(value=0.0, description='Loss: - Accuracy:', layout=Layout(flex='2'), max=7.0, sty…"
      ]
     },
     "metadata": {},
     "output_type": "display_data"
    },
    {
     "name": "stdout",
     "output_type": "stream",
     "text": [
      "\n",
      "# ------------------ ScoreboardModel ----------------- #\n",
      " Trainset mean value for each channel is: 0.05\n",
      " Trainset std  value for each channel is: 0.13\n"
     ]
    },
    {
     "data": {
      "application/vnd.jupyter.widget-view+json": {
       "model_id": "ff828b82c5954dd48d2213608aac6f05",
       "version_major": 2,
       "version_minor": 0
      },
      "text/plain": [
       "HBox(children=(FloatProgress(value=0.0, description='Loss: - Accuracy:', layout=Layout(flex='2'), max=7.0, sty…"
      ]
     },
     "metadata": {},
     "output_type": "display_data"
    },
    {
     "name": "stdout",
     "output_type": "stream",
     "text": [
      "\n",
      "e_num_side=5-e_radius=140-spacing=None-total_area=4000 is already trained for ScoreboardModel\n"
     ]
    },
    {
     "data": {
      "application/vnd.jupyter.widget-view+json": {
       "model_id": "48da095eaf1d4df1ad25cc35a1297b2c",
       "version_major": 2,
       "version_minor": 0
      },
      "text/plain": [
       "HBox(children=(FloatProgress(value=0.0, description='Loss: - Accuracy:', layout=Layout(flex='2'), max=7.0, sty…"
      ]
     },
     "metadata": {},
     "output_type": "display_data"
    },
    {
     "name": "stdout",
     "output_type": "stream",
     "text": [
      "\n",
      "e_radius 150\n",
      "# ------------------ AxonMapModel ----------------- #\n",
      " Trainset mean value for each channel is: 0.08\n",
      " Trainset std  value for each channel is: 0.15\n"
     ]
    },
    {
     "data": {
      "application/vnd.jupyter.widget-view+json": {
       "model_id": "3f311ea0452942eca248295cda2c9788",
       "version_major": 2,
       "version_minor": 0
      },
      "text/plain": [
       "HBox(children=(FloatProgress(value=0.0, description='Loss: - Accuracy:', layout=Layout(flex='2'), max=7.0, sty…"
      ]
     },
     "metadata": {},
     "output_type": "display_data"
    },
    {
     "name": "stdout",
     "output_type": "stream",
     "text": [
      "\n",
      "e_num_side=5-e_radius=150-spacing=None-total_area=4000 is already trained for AxonMapModel\n"
     ]
    },
    {
     "data": {
      "application/vnd.jupyter.widget-view+json": {
       "model_id": "9c1e61fdeb2f4328a9bee01141ff1e3d",
       "version_major": 2,
       "version_minor": 0
      },
      "text/plain": [
       "HBox(children=(FloatProgress(value=0.0, description='Loss: - Accuracy:', layout=Layout(flex='2'), max=7.0, sty…"
      ]
     },
     "metadata": {},
     "output_type": "display_data"
    },
    {
     "name": "stdout",
     "output_type": "stream",
     "text": [
      "\n",
      "# ------------------ ScoreboardModel ----------------- #\n",
      " Trainset mean value for each channel is: 0.05\n",
      " Trainset std  value for each channel is: 0.13\n"
     ]
    },
    {
     "data": {
      "application/vnd.jupyter.widget-view+json": {
       "model_id": "62f59414ea574cf5976af46df95a9d4a",
       "version_major": 2,
       "version_minor": 0
      },
      "text/plain": [
       "HBox(children=(FloatProgress(value=0.0, description='Loss: - Accuracy:', layout=Layout(flex='2'), max=7.0, sty…"
      ]
     },
     "metadata": {},
     "output_type": "display_data"
    },
    {
     "name": "stdout",
     "output_type": "stream",
     "text": [
      "\n",
      "e_num_side=5-e_radius=150-spacing=None-total_area=4000 is already trained for ScoreboardModel\n"
     ]
    },
    {
     "data": {
      "application/vnd.jupyter.widget-view+json": {
       "model_id": "74e172c0cc5e48139f3c3aec2bd0b8e8",
       "version_major": 2,
       "version_minor": 0
      },
      "text/plain": [
       "HBox(children=(FloatProgress(value=0.0, description='Loss: - Accuracy:', layout=Layout(flex='2'), max=7.0, sty…"
      ]
     },
     "metadata": {},
     "output_type": "display_data"
    },
    {
     "name": "stdout",
     "output_type": "stream",
     "text": [
      "\n",
      "e_radius 160\n",
      "# ------------------ AxonMapModel ----------------- #\n",
      " Trainset mean value for each channel is: 0.08\n",
      " Trainset std  value for each channel is: 0.15\n"
     ]
    },
    {
     "data": {
      "application/vnd.jupyter.widget-view+json": {
       "model_id": "2159de8932d6413c9a36955caf654fd4",
       "version_major": 2,
       "version_minor": 0
      },
      "text/plain": [
       "HBox(children=(FloatProgress(value=0.0, description='Loss: - Accuracy:', layout=Layout(flex='2'), max=7.0, sty…"
      ]
     },
     "metadata": {},
     "output_type": "display_data"
    },
    {
     "name": "stdout",
     "output_type": "stream",
     "text": [
      "\n",
      "e_num_side=5-e_radius=160-spacing=None-total_area=4000 is already trained for AxonMapModel\n"
     ]
    },
    {
     "data": {
      "application/vnd.jupyter.widget-view+json": {
       "model_id": "8c033c31903e452a937d1ca6bc312a84",
       "version_major": 2,
       "version_minor": 0
      },
      "text/plain": [
       "HBox(children=(FloatProgress(value=0.0, description='Loss: - Accuracy:', layout=Layout(flex='2'), max=7.0, sty…"
      ]
     },
     "metadata": {},
     "output_type": "display_data"
    },
    {
     "name": "stdout",
     "output_type": "stream",
     "text": [
      "\n",
      "# ------------------ ScoreboardModel ----------------- #\n",
      " Trainset mean value for each channel is: 0.05\n",
      " Trainset std  value for each channel is: 0.13\n"
     ]
    },
    {
     "data": {
      "application/vnd.jupyter.widget-view+json": {
       "model_id": "20d7c13c32284f95ad77fa284b809436",
       "version_major": 2,
       "version_minor": 0
      },
      "text/plain": [
       "HBox(children=(FloatProgress(value=0.0, description='Loss: - Accuracy:', layout=Layout(flex='2'), max=7.0, sty…"
      ]
     },
     "metadata": {},
     "output_type": "display_data"
    },
    {
     "name": "stdout",
     "output_type": "stream",
     "text": [
      "\n",
      "e_num_side=5-e_radius=160-spacing=None-total_area=4000 is already trained for ScoreboardModel\n"
     ]
    },
    {
     "data": {
      "application/vnd.jupyter.widget-view+json": {
       "model_id": "2dedbae49be14de39fc51fe44c4eb955",
       "version_major": 2,
       "version_minor": 0
      },
      "text/plain": [
       "HBox(children=(FloatProgress(value=0.0, description='Loss: - Accuracy:', layout=Layout(flex='2'), max=7.0, sty…"
      ]
     },
     "metadata": {},
     "output_type": "display_data"
    },
    {
     "name": "stdout",
     "output_type": "stream",
     "text": [
      "\n",
      "e_radius 170\n",
      "# ------------------ AxonMapModel ----------------- #\n",
      " Trainset mean value for each channel is: 0.08\n",
      " Trainset std  value for each channel is: 0.15\n"
     ]
    },
    {
     "data": {
      "application/vnd.jupyter.widget-view+json": {
       "model_id": "6706606d65b645a59a9d2772a8c4254c",
       "version_major": 2,
       "version_minor": 0
      },
      "text/plain": [
       "HBox(children=(FloatProgress(value=0.0, description='Loss: - Accuracy:', layout=Layout(flex='2'), max=7.0, sty…"
      ]
     },
     "metadata": {},
     "output_type": "display_data"
    },
    {
     "name": "stdout",
     "output_type": "stream",
     "text": [
      "\n",
      "e_num_side=5-e_radius=170-spacing=None-total_area=4000 is already trained for AxonMapModel\n"
     ]
    },
    {
     "data": {
      "application/vnd.jupyter.widget-view+json": {
       "model_id": "931ba7c47b294dec80f2ea1c26d788a2",
       "version_major": 2,
       "version_minor": 0
      },
      "text/plain": [
       "HBox(children=(FloatProgress(value=0.0, description='Loss: - Accuracy:', layout=Layout(flex='2'), max=7.0, sty…"
      ]
     },
     "metadata": {},
     "output_type": "display_data"
    },
    {
     "name": "stdout",
     "output_type": "stream",
     "text": [
      "\n",
      "# ------------------ ScoreboardModel ----------------- #\n",
      " Trainset mean value for each channel is: 0.05\n",
      " Trainset std  value for each channel is: 0.13\n"
     ]
    },
    {
     "data": {
      "application/vnd.jupyter.widget-view+json": {
       "model_id": "e1ed896647fd49f2b6c500ec212c32d4",
       "version_major": 2,
       "version_minor": 0
      },
      "text/plain": [
       "HBox(children=(FloatProgress(value=0.0, description='Loss: - Accuracy:', layout=Layout(flex='2'), max=7.0, sty…"
      ]
     },
     "metadata": {},
     "output_type": "display_data"
    },
    {
     "name": "stdout",
     "output_type": "stream",
     "text": [
      "\n",
      "e_num_side=5-e_radius=170-spacing=None-total_area=4000 is already trained for ScoreboardModel\n"
     ]
    },
    {
     "data": {
      "application/vnd.jupyter.widget-view+json": {
       "model_id": "f6e3998d110a44dda66e9eef494478d9",
       "version_major": 2,
       "version_minor": 0
      },
      "text/plain": [
       "HBox(children=(FloatProgress(value=0.0, description='Loss: - Accuracy:', layout=Layout(flex='2'), max=7.0, sty…"
      ]
     },
     "metadata": {},
     "output_type": "display_data"
    },
    {
     "name": "stdout",
     "output_type": "stream",
     "text": [
      "\n",
      "e_radius 180\n",
      "# ------------------ AxonMapModel ----------------- #\n",
      " Trainset mean value for each channel is: 0.08\n",
      " Trainset std  value for each channel is: 0.15\n"
     ]
    },
    {
     "data": {
      "application/vnd.jupyter.widget-view+json": {
       "model_id": "0c0a80b9c4a245a0af658f3028f5c3fe",
       "version_major": 2,
       "version_minor": 0
      },
      "text/plain": [
       "HBox(children=(FloatProgress(value=0.0, description='Loss: - Accuracy:', layout=Layout(flex='2'), max=7.0, sty…"
      ]
     },
     "metadata": {},
     "output_type": "display_data"
    },
    {
     "name": "stdout",
     "output_type": "stream",
     "text": [
      "\n",
      "e_num_side=5-e_radius=180-spacing=None-total_area=4000 is already trained for AxonMapModel\n"
     ]
    },
    {
     "data": {
      "application/vnd.jupyter.widget-view+json": {
       "model_id": "9a1e99422fd9429d8c9ace8366b84dba",
       "version_major": 2,
       "version_minor": 0
      },
      "text/plain": [
       "HBox(children=(FloatProgress(value=0.0, description='Loss: - Accuracy:', layout=Layout(flex='2'), max=7.0, sty…"
      ]
     },
     "metadata": {},
     "output_type": "display_data"
    },
    {
     "name": "stdout",
     "output_type": "stream",
     "text": [
      "\n",
      "# ------------------ ScoreboardModel ----------------- #\n",
      " Trainset mean value for each channel is: 0.05\n",
      " Trainset std  value for each channel is: 0.13\n"
     ]
    },
    {
     "data": {
      "application/vnd.jupyter.widget-view+json": {
       "model_id": "a7955bc84fcd474a8e9d8919d2c116ec",
       "version_major": 2,
       "version_minor": 0
      },
      "text/plain": [
       "HBox(children=(FloatProgress(value=0.0, description='Loss: - Accuracy:', layout=Layout(flex='2'), max=7.0, sty…"
      ]
     },
     "metadata": {},
     "output_type": "display_data"
    },
    {
     "name": "stdout",
     "output_type": "stream",
     "text": [
      "\n",
      "e_num_side=5-e_radius=180-spacing=None-total_area=4000 is already trained for ScoreboardModel\n"
     ]
    },
    {
     "data": {
      "application/vnd.jupyter.widget-view+json": {
       "model_id": "241e71017eb04f07a478452bbda4dd88",
       "version_major": 2,
       "version_minor": 0
      },
      "text/plain": [
       "HBox(children=(FloatProgress(value=0.0, description='Loss: - Accuracy:', layout=Layout(flex='2'), max=7.0, sty…"
      ]
     },
     "metadata": {},
     "output_type": "display_data"
    },
    {
     "name": "stdout",
     "output_type": "stream",
     "text": [
      "\n",
      "e_radius 190\n",
      "# ------------------ AxonMapModel ----------------- #\n",
      " Trainset mean value for each channel is: 0.08\n",
      " Trainset std  value for each channel is: 0.15\n"
     ]
    },
    {
     "data": {
      "application/vnd.jupyter.widget-view+json": {
       "model_id": "fe57be78ff634655bd0d20394546f873",
       "version_major": 2,
       "version_minor": 0
      },
      "text/plain": [
       "HBox(children=(FloatProgress(value=0.0, description='Loss: - Accuracy:', layout=Layout(flex='2'), max=7.0, sty…"
      ]
     },
     "metadata": {},
     "output_type": "display_data"
    },
    {
     "name": "stdout",
     "output_type": "stream",
     "text": [
      "\n",
      "e_num_side=5-e_radius=190-spacing=None-total_area=4000 is already trained for AxonMapModel\n"
     ]
    },
    {
     "data": {
      "application/vnd.jupyter.widget-view+json": {
       "model_id": "06ce725e7f15431aa1c0736c511f6ce2",
       "version_major": 2,
       "version_minor": 0
      },
      "text/plain": [
       "HBox(children=(FloatProgress(value=0.0, description='Loss: - Accuracy:', layout=Layout(flex='2'), max=7.0, sty…"
      ]
     },
     "metadata": {},
     "output_type": "display_data"
    },
    {
     "name": "stdout",
     "output_type": "stream",
     "text": [
      "\n",
      "# ------------------ ScoreboardModel ----------------- #\n",
      " Trainset mean value for each channel is: 0.05\n",
      " Trainset std  value for each channel is: 0.13\n"
     ]
    },
    {
     "data": {
      "application/vnd.jupyter.widget-view+json": {
       "model_id": "b53726b0245749e990718515e0320e29",
       "version_major": 2,
       "version_minor": 0
      },
      "text/plain": [
       "HBox(children=(FloatProgress(value=0.0, description='Loss: - Accuracy:', layout=Layout(flex='2'), max=7.0, sty…"
      ]
     },
     "metadata": {},
     "output_type": "display_data"
    },
    {
     "name": "stdout",
     "output_type": "stream",
     "text": [
      "\n",
      "e_num_side=5-e_radius=190-spacing=None-total_area=4000 is already trained for ScoreboardModel\n"
     ]
    },
    {
     "data": {
      "application/vnd.jupyter.widget-view+json": {
       "model_id": "397e1bec7dc34967868598ae3c0b514b",
       "version_major": 2,
       "version_minor": 0
      },
      "text/plain": [
       "HBox(children=(FloatProgress(value=0.0, description='Loss: - Accuracy:', layout=Layout(flex='2'), max=7.0, sty…"
      ]
     },
     "metadata": {},
     "output_type": "display_data"
    },
    {
     "name": "stdout",
     "output_type": "stream",
     "text": [
      "\n",
      "e_radius 200\n",
      "# ------------------ AxonMapModel ----------------- #\n",
      " Trainset mean value for each channel is: 0.08\n",
      " Trainset std  value for each channel is: 0.15\n"
     ]
    },
    {
     "data": {
      "application/vnd.jupyter.widget-view+json": {
       "model_id": "86d2af7489674fdcaf90af77b7f50cfb",
       "version_major": 2,
       "version_minor": 0
      },
      "text/plain": [
       "HBox(children=(FloatProgress(value=0.0, description='Loss: - Accuracy:', layout=Layout(flex='2'), max=7.0, sty…"
      ]
     },
     "metadata": {},
     "output_type": "display_data"
    },
    {
     "name": "stdout",
     "output_type": "stream",
     "text": [
      "\n",
      "e_num_side=5-e_radius=200-spacing=None-total_area=4000 is already trained for AxonMapModel\n"
     ]
    },
    {
     "data": {
      "application/vnd.jupyter.widget-view+json": {
       "model_id": "979939d781a54f52a3a247674ce1694c",
       "version_major": 2,
       "version_minor": 0
      },
      "text/plain": [
       "HBox(children=(FloatProgress(value=0.0, description='Loss: - Accuracy:', layout=Layout(flex='2'), max=7.0, sty…"
      ]
     },
     "metadata": {},
     "output_type": "display_data"
    },
    {
     "name": "stdout",
     "output_type": "stream",
     "text": [
      "\n",
      "# ------------------ ScoreboardModel ----------------- #\n",
      " Trainset mean value for each channel is: 0.05\n",
      " Trainset std  value for each channel is: 0.13\n"
     ]
    },
    {
     "data": {
      "application/vnd.jupyter.widget-view+json": {
       "model_id": "356183ceb8f04473b126a2dd3e7dca9b",
       "version_major": 2,
       "version_minor": 0
      },
      "text/plain": [
       "HBox(children=(FloatProgress(value=0.0, description='Loss: - Accuracy:', layout=Layout(flex='2'), max=7.0, sty…"
      ]
     },
     "metadata": {},
     "output_type": "display_data"
    },
    {
     "name": "stdout",
     "output_type": "stream",
     "text": [
      "\n",
      "e_num_side=5-e_radius=200-spacing=None-total_area=4000 is already trained for ScoreboardModel\n"
     ]
    },
    {
     "data": {
      "application/vnd.jupyter.widget-view+json": {
       "model_id": "0367107d184a497f8b04da3fa689d594",
       "version_major": 2,
       "version_minor": 0
      },
      "text/plain": [
       "HBox(children=(FloatProgress(value=0.0, description='Loss: - Accuracy:', layout=Layout(flex='2'), max=7.0, sty…"
      ]
     },
     "metadata": {},
     "output_type": "display_data"
    },
    {
     "name": "stdout",
     "output_type": "stream",
     "text": [
      "\n",
      "e_radius 210\n",
      "# ------------------ AxonMapModel ----------------- #\n",
      " Trainset mean value for each channel is: 0.08\n",
      " Trainset std  value for each channel is: 0.15\n"
     ]
    },
    {
     "data": {
      "application/vnd.jupyter.widget-view+json": {
       "model_id": "2257e0692fb54f0799bdc5a2d57de257",
       "version_major": 2,
       "version_minor": 0
      },
      "text/plain": [
       "HBox(children=(FloatProgress(value=0.0, description='Loss: - Accuracy:', layout=Layout(flex='2'), max=7.0, sty…"
      ]
     },
     "metadata": {},
     "output_type": "display_data"
    },
    {
     "name": "stdout",
     "output_type": "stream",
     "text": [
      "\n",
      "e_num_side=5-e_radius=210-spacing=None-total_area=4000 is already trained for AxonMapModel\n"
     ]
    },
    {
     "data": {
      "application/vnd.jupyter.widget-view+json": {
       "model_id": "894d0917313a4e7bb4a53841cec42747",
       "version_major": 2,
       "version_minor": 0
      },
      "text/plain": [
       "HBox(children=(FloatProgress(value=0.0, description='Loss: - Accuracy:', layout=Layout(flex='2'), max=7.0, sty…"
      ]
     },
     "metadata": {},
     "output_type": "display_data"
    },
    {
     "name": "stdout",
     "output_type": "stream",
     "text": [
      "\n",
      "# ------------------ ScoreboardModel ----------------- #\n",
      " Trainset mean value for each channel is: 0.05\n",
      " Trainset std  value for each channel is: 0.13\n"
     ]
    },
    {
     "data": {
      "application/vnd.jupyter.widget-view+json": {
       "model_id": "002a79ff2f0146a6bc890fd97573f24d",
       "version_major": 2,
       "version_minor": 0
      },
      "text/plain": [
       "HBox(children=(FloatProgress(value=0.0, description='Loss: - Accuracy:', layout=Layout(flex='2'), max=7.0, sty…"
      ]
     },
     "metadata": {},
     "output_type": "display_data"
    },
    {
     "name": "stdout",
     "output_type": "stream",
     "text": [
      "\n",
      "e_num_side=5-e_radius=210-spacing=None-total_area=4000 is already trained for ScoreboardModel\n"
     ]
    },
    {
     "data": {
      "application/vnd.jupyter.widget-view+json": {
       "model_id": "d63f6037f3ef46168db875c62fb39ddb",
       "version_major": 2,
       "version_minor": 0
      },
      "text/plain": [
       "HBox(children=(FloatProgress(value=0.0, description='Loss: - Accuracy:', layout=Layout(flex='2'), max=7.0, sty…"
      ]
     },
     "metadata": {},
     "output_type": "display_data"
    },
    {
     "name": "stdout",
     "output_type": "stream",
     "text": [
      "\n",
      "e_radius 220\n",
      "# ------------------ AxonMapModel ----------------- #\n",
      " Trainset mean value for each channel is: 0.08\n",
      " Trainset std  value for each channel is: 0.15\n"
     ]
    },
    {
     "data": {
      "application/vnd.jupyter.widget-view+json": {
       "model_id": "fae224a47fd741009a2c8474900ac88f",
       "version_major": 2,
       "version_minor": 0
      },
      "text/plain": [
       "HBox(children=(FloatProgress(value=0.0, description='Loss: - Accuracy:', layout=Layout(flex='2'), max=7.0, sty…"
      ]
     },
     "metadata": {},
     "output_type": "display_data"
    },
    {
     "name": "stdout",
     "output_type": "stream",
     "text": [
      "\n",
      "e_num_side=5-e_radius=220-spacing=None-total_area=4000 is already trained for AxonMapModel\n"
     ]
    },
    {
     "data": {
      "application/vnd.jupyter.widget-view+json": {
       "model_id": "03037d86ccd94f3faed8620346ef3129",
       "version_major": 2,
       "version_minor": 0
      },
      "text/plain": [
       "HBox(children=(FloatProgress(value=0.0, description='Loss: - Accuracy:', layout=Layout(flex='2'), max=7.0, sty…"
      ]
     },
     "metadata": {},
     "output_type": "display_data"
    },
    {
     "name": "stdout",
     "output_type": "stream",
     "text": [
      "\n",
      "# ------------------ ScoreboardModel ----------------- #\n",
      " Trainset mean value for each channel is: 0.05\n",
      " Trainset std  value for each channel is: 0.13\n"
     ]
    },
    {
     "data": {
      "application/vnd.jupyter.widget-view+json": {
       "model_id": "4612135d376d4248a4023702dae5264a",
       "version_major": 2,
       "version_minor": 0
      },
      "text/plain": [
       "HBox(children=(FloatProgress(value=0.0, description='Loss: - Accuracy:', layout=Layout(flex='2'), max=7.0, sty…"
      ]
     },
     "metadata": {},
     "output_type": "display_data"
    },
    {
     "name": "stdout",
     "output_type": "stream",
     "text": [
      "\n",
      "e_num_side=5-e_radius=220-spacing=None-total_area=4000 is already trained for ScoreboardModel\n"
     ]
    },
    {
     "data": {
      "application/vnd.jupyter.widget-view+json": {
       "model_id": "a432d2412a124f759e37955efd00cb67",
       "version_major": 2,
       "version_minor": 0
      },
      "text/plain": [
       "HBox(children=(FloatProgress(value=0.0, description='Loss: - Accuracy:', layout=Layout(flex='2'), max=7.0, sty…"
      ]
     },
     "metadata": {},
     "output_type": "display_data"
    },
    {
     "name": "stdout",
     "output_type": "stream",
     "text": [
      "\n",
      "e_radius 230\n",
      "# ------------------ AxonMapModel ----------------- #\n",
      " Trainset mean value for each channel is: 0.08\n",
      " Trainset std  value for each channel is: 0.15\n"
     ]
    },
    {
     "data": {
      "application/vnd.jupyter.widget-view+json": {
       "model_id": "8528bcba07c64152a89eee607133505b",
       "version_major": 2,
       "version_minor": 0
      },
      "text/plain": [
       "HBox(children=(FloatProgress(value=0.0, description='Loss: - Accuracy:', layout=Layout(flex='2'), max=7.0, sty…"
      ]
     },
     "metadata": {},
     "output_type": "display_data"
    },
    {
     "name": "stdout",
     "output_type": "stream",
     "text": [
      "\n",
      "e_num_side=5-e_radius=230-spacing=None-total_area=4000 is already trained for AxonMapModel\n"
     ]
    },
    {
     "data": {
      "application/vnd.jupyter.widget-view+json": {
       "model_id": "838cb93c80b74f7e97406374c8fbbff8",
       "version_major": 2,
       "version_minor": 0
      },
      "text/plain": [
       "HBox(children=(FloatProgress(value=0.0, description='Loss: - Accuracy:', layout=Layout(flex='2'), max=7.0, sty…"
      ]
     },
     "metadata": {},
     "output_type": "display_data"
    },
    {
     "name": "stdout",
     "output_type": "stream",
     "text": [
      "\n",
      "# ------------------ ScoreboardModel ----------------- #\n",
      " Trainset mean value for each channel is: 0.05\n",
      " Trainset std  value for each channel is: 0.13\n"
     ]
    },
    {
     "data": {
      "application/vnd.jupyter.widget-view+json": {
       "model_id": "393f8137e7b74c8e890641e1bf9882f0",
       "version_major": 2,
       "version_minor": 0
      },
      "text/plain": [
       "HBox(children=(FloatProgress(value=0.0, description='Loss: - Accuracy:', layout=Layout(flex='2'), max=7.0, sty…"
      ]
     },
     "metadata": {},
     "output_type": "display_data"
    },
    {
     "name": "stdout",
     "output_type": "stream",
     "text": [
      "\n",
      "e_num_side=5-e_radius=230-spacing=None-total_area=4000 is already trained for ScoreboardModel\n"
     ]
    },
    {
     "data": {
      "application/vnd.jupyter.widget-view+json": {
       "model_id": "15c2e55a149c40628127dd58a6e878c9",
       "version_major": 2,
       "version_minor": 0
      },
      "text/plain": [
       "HBox(children=(FloatProgress(value=0.0, description='Loss: - Accuracy:', layout=Layout(flex='2'), max=7.0, sty…"
      ]
     },
     "metadata": {},
     "output_type": "display_data"
    },
    {
     "name": "stdout",
     "output_type": "stream",
     "text": [
      "\n",
      "e_radius 240\n",
      "# ------------------ AxonMapModel ----------------- #\n",
      " Trainset mean value for each channel is: 0.08\n",
      " Trainset std  value for each channel is: 0.15\n"
     ]
    },
    {
     "data": {
      "application/vnd.jupyter.widget-view+json": {
       "model_id": "4792e8eee5574837bdbdffb2eb2f3a3d",
       "version_major": 2,
       "version_minor": 0
      },
      "text/plain": [
       "HBox(children=(FloatProgress(value=0.0, description='Loss: - Accuracy:', layout=Layout(flex='2'), max=7.0, sty…"
      ]
     },
     "metadata": {},
     "output_type": "display_data"
    },
    {
     "name": "stdout",
     "output_type": "stream",
     "text": [
      "\n",
      "e_num_side=5-e_radius=240-spacing=None-total_area=4000 is already trained for AxonMapModel\n"
     ]
    },
    {
     "data": {
      "application/vnd.jupyter.widget-view+json": {
       "model_id": "7919527411be4127b6a72e55c150a411",
       "version_major": 2,
       "version_minor": 0
      },
      "text/plain": [
       "HBox(children=(FloatProgress(value=0.0, description='Loss: - Accuracy:', layout=Layout(flex='2'), max=7.0, sty…"
      ]
     },
     "metadata": {},
     "output_type": "display_data"
    },
    {
     "name": "stdout",
     "output_type": "stream",
     "text": [
      "\n",
      "# ------------------ ScoreboardModel ----------------- #\n",
      " Trainset mean value for each channel is: 0.05\n",
      " Trainset std  value for each channel is: 0.13\n"
     ]
    },
    {
     "data": {
      "application/vnd.jupyter.widget-view+json": {
       "model_id": "e99db8daae8b4e168e820d3faabd5cb2",
       "version_major": 2,
       "version_minor": 0
      },
      "text/plain": [
       "HBox(children=(FloatProgress(value=0.0, description='Loss: - Accuracy:', layout=Layout(flex='2'), max=7.0, sty…"
      ]
     },
     "metadata": {},
     "output_type": "display_data"
    },
    {
     "name": "stdout",
     "output_type": "stream",
     "text": [
      "\n",
      "e_num_side=5-e_radius=240-spacing=None-total_area=4000 is already trained for ScoreboardModel\n"
     ]
    },
    {
     "data": {
      "application/vnd.jupyter.widget-view+json": {
       "model_id": "6aeeead84a8942ada52574cbbd83ba89",
       "version_major": 2,
       "version_minor": 0
      },
      "text/plain": [
       "HBox(children=(FloatProgress(value=0.0, description='Loss: - Accuracy:', layout=Layout(flex='2'), max=7.0, sty…"
      ]
     },
     "metadata": {},
     "output_type": "display_data"
    },
    {
     "name": "stdout",
     "output_type": "stream",
     "text": [
      "\n",
      "e_radius 250\n",
      "# ------------------ AxonMapModel ----------------- #\n",
      " Trainset mean value for each channel is: 0.08\n",
      " Trainset std  value for each channel is: 0.15\n"
     ]
    },
    {
     "data": {
      "application/vnd.jupyter.widget-view+json": {
       "model_id": "80e33a5fe8ce4ba695184ad5635fb49e",
       "version_major": 2,
       "version_minor": 0
      },
      "text/plain": [
       "HBox(children=(FloatProgress(value=0.0, description='Loss: - Accuracy:', layout=Layout(flex='2'), max=7.0, sty…"
      ]
     },
     "metadata": {},
     "output_type": "display_data"
    },
    {
     "name": "stdout",
     "output_type": "stream",
     "text": [
      "\n",
      "e_num_side=5-e_radius=250-spacing=None-total_area=4000 is already trained for AxonMapModel\n"
     ]
    },
    {
     "data": {
      "application/vnd.jupyter.widget-view+json": {
       "model_id": "78567d3e653449ad87c47dcb94ce87b0",
       "version_major": 2,
       "version_minor": 0
      },
      "text/plain": [
       "HBox(children=(FloatProgress(value=0.0, description='Loss: - Accuracy:', layout=Layout(flex='2'), max=7.0, sty…"
      ]
     },
     "metadata": {},
     "output_type": "display_data"
    },
    {
     "name": "stdout",
     "output_type": "stream",
     "text": [
      "\n",
      "# ------------------ ScoreboardModel ----------------- #\n",
      " Trainset mean value for each channel is: 0.05\n",
      " Trainset std  value for each channel is: 0.13\n"
     ]
    },
    {
     "data": {
      "application/vnd.jupyter.widget-view+json": {
       "model_id": "6c6505de6c6b47b28d55012a24e1e2a6",
       "version_major": 2,
       "version_minor": 0
      },
      "text/plain": [
       "HBox(children=(FloatProgress(value=0.0, description='Loss: - Accuracy:', layout=Layout(flex='2'), max=7.0, sty…"
      ]
     },
     "metadata": {},
     "output_type": "display_data"
    },
    {
     "name": "stdout",
     "output_type": "stream",
     "text": [
      "\n",
      "e_num_side=5-e_radius=250-spacing=None-total_area=4000 is already trained for ScoreboardModel\n"
     ]
    },
    {
     "data": {
      "application/vnd.jupyter.widget-view+json": {
       "model_id": "6cb0e975a87644dea11236f09b1be626",
       "version_major": 2,
       "version_minor": 0
      },
      "text/plain": [
       "HBox(children=(FloatProgress(value=0.0, description='Loss: - Accuracy:', layout=Layout(flex='2'), max=7.0, sty…"
      ]
     },
     "metadata": {},
     "output_type": "display_data"
    },
    {
     "name": "stdout",
     "output_type": "stream",
     "text": [
      "\n",
      "e_radius 260\n",
      "# ------------------ AxonMapModel ----------------- #\n",
      " Trainset mean value for each channel is: 0.08\n",
      " Trainset std  value for each channel is: 0.15\n"
     ]
    },
    {
     "data": {
      "application/vnd.jupyter.widget-view+json": {
       "model_id": "8b7ef4e2ada7436d976ef69fc571bd8f",
       "version_major": 2,
       "version_minor": 0
      },
      "text/plain": [
       "HBox(children=(FloatProgress(value=0.0, description='Loss: - Accuracy:', layout=Layout(flex='2'), max=7.0, sty…"
      ]
     },
     "metadata": {},
     "output_type": "display_data"
    },
    {
     "name": "stdout",
     "output_type": "stream",
     "text": [
      "\n",
      "e_num_side=5-e_radius=260-spacing=None-total_area=4000 is already trained for AxonMapModel\n"
     ]
    },
    {
     "data": {
      "application/vnd.jupyter.widget-view+json": {
       "model_id": "e16c9f1cb5bc4c5db101cc63ab9a473f",
       "version_major": 2,
       "version_minor": 0
      },
      "text/plain": [
       "HBox(children=(FloatProgress(value=0.0, description='Loss: - Accuracy:', layout=Layout(flex='2'), max=7.0, sty…"
      ]
     },
     "metadata": {},
     "output_type": "display_data"
    },
    {
     "name": "stdout",
     "output_type": "stream",
     "text": [
      "\n",
      "# ------------------ ScoreboardModel ----------------- #\n",
      " Trainset mean value for each channel is: 0.05\n",
      " Trainset std  value for each channel is: 0.13\n"
     ]
    },
    {
     "data": {
      "application/vnd.jupyter.widget-view+json": {
       "model_id": "bd3ba1da847b44218fb603f8773fa30a",
       "version_major": 2,
       "version_minor": 0
      },
      "text/plain": [
       "HBox(children=(FloatProgress(value=0.0, description='Loss: - Accuracy:', layout=Layout(flex='2'), max=7.0, sty…"
      ]
     },
     "metadata": {},
     "output_type": "display_data"
    },
    {
     "name": "stdout",
     "output_type": "stream",
     "text": [
      "\n",
      "e_num_side=5-e_radius=260-spacing=None-total_area=4000 is already trained for ScoreboardModel\n"
     ]
    },
    {
     "data": {
      "application/vnd.jupyter.widget-view+json": {
       "model_id": "6e7334b7ac0c4edca21445ed9d93d0f1",
       "version_major": 2,
       "version_minor": 0
      },
      "text/plain": [
       "HBox(children=(FloatProgress(value=0.0, description='Loss: - Accuracy:', layout=Layout(flex='2'), max=7.0, sty…"
      ]
     },
     "metadata": {},
     "output_type": "display_data"
    },
    {
     "name": "stdout",
     "output_type": "stream",
     "text": [
      "\n",
      "e_radius 270\n",
      "# ------------------ AxonMapModel ----------------- #\n",
      " Trainset mean value for each channel is: 0.08\n",
      " Trainset std  value for each channel is: 0.15\n"
     ]
    },
    {
     "data": {
      "application/vnd.jupyter.widget-view+json": {
       "model_id": "7a3b178aff234fdea9f0f538625044ed",
       "version_major": 2,
       "version_minor": 0
      },
      "text/plain": [
       "HBox(children=(FloatProgress(value=0.0, description='Loss: - Accuracy:', layout=Layout(flex='2'), max=7.0, sty…"
      ]
     },
     "metadata": {},
     "output_type": "display_data"
    },
    {
     "name": "stdout",
     "output_type": "stream",
     "text": [
      "\n",
      "e_num_side=5-e_radius=270-spacing=None-total_area=4000 is already trained for AxonMapModel\n"
     ]
    },
    {
     "data": {
      "application/vnd.jupyter.widget-view+json": {
       "model_id": "3c11693741184a5d96fd6909f66cadc4",
       "version_major": 2,
       "version_minor": 0
      },
      "text/plain": [
       "HBox(children=(FloatProgress(value=0.0, description='Loss: - Accuracy:', layout=Layout(flex='2'), max=7.0, sty…"
      ]
     },
     "metadata": {},
     "output_type": "display_data"
    },
    {
     "name": "stdout",
     "output_type": "stream",
     "text": [
      "\n",
      "# ------------------ ScoreboardModel ----------------- #\n",
      " Trainset mean value for each channel is: 0.05\n",
      " Trainset std  value for each channel is: 0.13\n"
     ]
    },
    {
     "data": {
      "application/vnd.jupyter.widget-view+json": {
       "model_id": "556b3060c7824236b90623501bb935e1",
       "version_major": 2,
       "version_minor": 0
      },
      "text/plain": [
       "HBox(children=(FloatProgress(value=0.0, description='Loss: - Accuracy:', layout=Layout(flex='2'), max=7.0, sty…"
      ]
     },
     "metadata": {},
     "output_type": "display_data"
    },
    {
     "name": "stdout",
     "output_type": "stream",
     "text": [
      "\n",
      "e_num_side=5-e_radius=270-spacing=None-total_area=4000 is already trained for ScoreboardModel\n"
     ]
    },
    {
     "data": {
      "application/vnd.jupyter.widget-view+json": {
       "model_id": "e4b9b69e7d234a1ab740cfc6db4f2686",
       "version_major": 2,
       "version_minor": 0
      },
      "text/plain": [
       "HBox(children=(FloatProgress(value=0.0, description='Loss: - Accuracy:', layout=Layout(flex='2'), max=7.0, sty…"
      ]
     },
     "metadata": {},
     "output_type": "display_data"
    },
    {
     "name": "stdout",
     "output_type": "stream",
     "text": [
      "\n",
      "e_radius 280\n",
      "# ------------------ AxonMapModel ----------------- #\n",
      " Trainset mean value for each channel is: 0.08\n",
      " Trainset std  value for each channel is: 0.15\n"
     ]
    },
    {
     "data": {
      "application/vnd.jupyter.widget-view+json": {
       "model_id": "f8265bb5d0044e629d2038dd4347f318",
       "version_major": 2,
       "version_minor": 0
      },
      "text/plain": [
       "HBox(children=(FloatProgress(value=0.0, description='Loss: - Accuracy:', layout=Layout(flex='2'), max=7.0, sty…"
      ]
     },
     "metadata": {},
     "output_type": "display_data"
    },
    {
     "name": "stdout",
     "output_type": "stream",
     "text": [
      "\n",
      "e_num_side=5-e_radius=280-spacing=None-total_area=4000 is already trained for AxonMapModel\n"
     ]
    },
    {
     "data": {
      "application/vnd.jupyter.widget-view+json": {
       "model_id": "ecdcb4f554c44bafbb8b5780587303b4",
       "version_major": 2,
       "version_minor": 0
      },
      "text/plain": [
       "HBox(children=(FloatProgress(value=0.0, description='Loss: - Accuracy:', layout=Layout(flex='2'), max=7.0, sty…"
      ]
     },
     "metadata": {},
     "output_type": "display_data"
    },
    {
     "name": "stdout",
     "output_type": "stream",
     "text": [
      "\n",
      "# ------------------ ScoreboardModel ----------------- #\n",
      " Trainset mean value for each channel is: 0.05\n",
      " Trainset std  value for each channel is: 0.13\n"
     ]
    },
    {
     "data": {
      "application/vnd.jupyter.widget-view+json": {
       "model_id": "bbcaab5b8c4e46bb949437dd753009ac",
       "version_major": 2,
       "version_minor": 0
      },
      "text/plain": [
       "HBox(children=(FloatProgress(value=0.0, description='Loss: - Accuracy:', layout=Layout(flex='2'), max=7.0, sty…"
      ]
     },
     "metadata": {},
     "output_type": "display_data"
    },
    {
     "name": "stdout",
     "output_type": "stream",
     "text": [
      "\n",
      "e_num_side=5-e_radius=280-spacing=None-total_area=4000 is already trained for ScoreboardModel\n"
     ]
    },
    {
     "data": {
      "application/vnd.jupyter.widget-view+json": {
       "model_id": "0dcd35dc18114917a8f1bafede96a988",
       "version_major": 2,
       "version_minor": 0
      },
      "text/plain": [
       "HBox(children=(FloatProgress(value=0.0, description='Loss: - Accuracy:', layout=Layout(flex='2'), max=7.0, sty…"
      ]
     },
     "metadata": {},
     "output_type": "display_data"
    },
    {
     "name": "stdout",
     "output_type": "stream",
     "text": [
      "\n",
      "e_radius 290\n",
      "# ------------------ AxonMapModel ----------------- #\n",
      " Trainset mean value for each channel is: 0.08\n",
      " Trainset std  value for each channel is: 0.15\n"
     ]
    },
    {
     "data": {
      "application/vnd.jupyter.widget-view+json": {
       "model_id": "7f1c2d3ccef24ad3a5567366dc379c7b",
       "version_major": 2,
       "version_minor": 0
      },
      "text/plain": [
       "HBox(children=(FloatProgress(value=0.0, description='Loss: - Accuracy:', layout=Layout(flex='2'), max=7.0, sty…"
      ]
     },
     "metadata": {},
     "output_type": "display_data"
    },
    {
     "name": "stdout",
     "output_type": "stream",
     "text": [
      "\n",
      "e_num_side=5-e_radius=290-spacing=None-total_area=4000 is already trained for AxonMapModel\n"
     ]
    },
    {
     "data": {
      "application/vnd.jupyter.widget-view+json": {
       "model_id": "577249509a864a5e9a53af141dbdba0e",
       "version_major": 2,
       "version_minor": 0
      },
      "text/plain": [
       "HBox(children=(FloatProgress(value=0.0, description='Loss: - Accuracy:', layout=Layout(flex='2'), max=7.0, sty…"
      ]
     },
     "metadata": {},
     "output_type": "display_data"
    },
    {
     "name": "stdout",
     "output_type": "stream",
     "text": [
      "\n",
      "# ------------------ ScoreboardModel ----------------- #\n",
      " Trainset mean value for each channel is: 0.05\n",
      " Trainset std  value for each channel is: 0.13\n"
     ]
    },
    {
     "data": {
      "application/vnd.jupyter.widget-view+json": {
       "model_id": "92bb5c298dec43d694a4b7cedfc5c0d3",
       "version_major": 2,
       "version_minor": 0
      },
      "text/plain": [
       "HBox(children=(FloatProgress(value=0.0, description='Loss: - Accuracy:', layout=Layout(flex='2'), max=7.0, sty…"
      ]
     },
     "metadata": {},
     "output_type": "display_data"
    },
    {
     "name": "stdout",
     "output_type": "stream",
     "text": [
      "\n",
      "e_num_side=5-e_radius=290-spacing=None-total_area=4000 is already trained for ScoreboardModel\n"
     ]
    },
    {
     "data": {
      "application/vnd.jupyter.widget-view+json": {
       "model_id": "ce72231815004fcebd7507128f1cad96",
       "version_major": 2,
       "version_minor": 0
      },
      "text/plain": [
       "HBox(children=(FloatProgress(value=0.0, description='Loss: - Accuracy:', layout=Layout(flex='2'), max=7.0, sty…"
      ]
     },
     "metadata": {},
     "output_type": "display_data"
    },
    {
     "name": "stdout",
     "output_type": "stream",
     "text": [
      "\n",
      "e_radius 300\n",
      "# ------------------ AxonMapModel ----------------- #\n",
      " Trainset mean value for each channel is: 0.08\n",
      " Trainset std  value for each channel is: 0.15\n"
     ]
    },
    {
     "data": {
      "application/vnd.jupyter.widget-view+json": {
       "model_id": "ab7d1469f8e74c4e80436865b0a57630",
       "version_major": 2,
       "version_minor": 0
      },
      "text/plain": [
       "HBox(children=(FloatProgress(value=0.0, description='Loss: - Accuracy:', layout=Layout(flex='2'), max=7.0, sty…"
      ]
     },
     "metadata": {},
     "output_type": "display_data"
    },
    {
     "name": "stdout",
     "output_type": "stream",
     "text": [
      "\n",
      "e_num_side=5-e_radius=300-spacing=None-total_area=4000 is already trained for AxonMapModel\n"
     ]
    },
    {
     "data": {
      "application/vnd.jupyter.widget-view+json": {
       "model_id": "ca51e2c90674416c86501e7bb16832f2",
       "version_major": 2,
       "version_minor": 0
      },
      "text/plain": [
       "HBox(children=(FloatProgress(value=0.0, description='Loss: - Accuracy:', layout=Layout(flex='2'), max=7.0, sty…"
      ]
     },
     "metadata": {},
     "output_type": "display_data"
    },
    {
     "name": "stdout",
     "output_type": "stream",
     "text": [
      "\n",
      "# ------------------ ScoreboardModel ----------------- #\n",
      " Trainset mean value for each channel is: 0.05\n",
      " Trainset std  value for each channel is: 0.13\n"
     ]
    },
    {
     "data": {
      "application/vnd.jupyter.widget-view+json": {
       "model_id": "adfb567f78914015aa2fc1211d54fa3a",
       "version_major": 2,
       "version_minor": 0
      },
      "text/plain": [
       "HBox(children=(FloatProgress(value=0.0, description='Loss: - Accuracy:', layout=Layout(flex='2'), max=7.0, sty…"
      ]
     },
     "metadata": {},
     "output_type": "display_data"
    },
    {
     "name": "stdout",
     "output_type": "stream",
     "text": [
      "\n",
      "e_num_side=5-e_radius=300-spacing=None-total_area=4000 is already trained for ScoreboardModel\n"
     ]
    },
    {
     "data": {
      "application/vnd.jupyter.widget-view+json": {
       "model_id": "f97b33624a894a279ef0840358301771",
       "version_major": 2,
       "version_minor": 0
      },
      "text/plain": [
       "HBox(children=(FloatProgress(value=0.0, description='Loss: - Accuracy:', layout=Layout(flex='2'), max=7.0, sty…"
      ]
     },
     "metadata": {},
     "output_type": "display_data"
    },
    {
     "name": "stdout",
     "output_type": "stream",
     "text": [
      "\n",
      "e_radius 310\n",
      "# ------------------ AxonMapModel ----------------- #\n",
      " Trainset mean value for each channel is: 0.08\n",
      " Trainset std  value for each channel is: 0.15\n"
     ]
    },
    {
     "data": {
      "application/vnd.jupyter.widget-view+json": {
       "model_id": "27941e0c71014d06ab4378a04e2b8748",
       "version_major": 2,
       "version_minor": 0
      },
      "text/plain": [
       "HBox(children=(FloatProgress(value=0.0, description='Loss: - Accuracy:', layout=Layout(flex='2'), max=7.0, sty…"
      ]
     },
     "metadata": {},
     "output_type": "display_data"
    },
    {
     "name": "stdout",
     "output_type": "stream",
     "text": [
      "\n",
      "e_num_side=5-e_radius=310-spacing=None-total_area=4000 is already trained for AxonMapModel\n"
     ]
    },
    {
     "data": {
      "application/vnd.jupyter.widget-view+json": {
       "model_id": "3216e522b2a044d8802a439e052932bc",
       "version_major": 2,
       "version_minor": 0
      },
      "text/plain": [
       "HBox(children=(FloatProgress(value=0.0, description='Loss: - Accuracy:', layout=Layout(flex='2'), max=7.0, sty…"
      ]
     },
     "metadata": {},
     "output_type": "display_data"
    },
    {
     "name": "stdout",
     "output_type": "stream",
     "text": [
      "\n",
      "# ------------------ ScoreboardModel ----------------- #\n",
      " Trainset mean value for each channel is: 0.05\n",
      " Trainset std  value for each channel is: 0.13\n"
     ]
    },
    {
     "data": {
      "application/vnd.jupyter.widget-view+json": {
       "model_id": "97bf8161c91042c8a37d73e90fa0d7f8",
       "version_major": 2,
       "version_minor": 0
      },
      "text/plain": [
       "HBox(children=(FloatProgress(value=0.0, description='Loss: - Accuracy:', layout=Layout(flex='2'), max=7.0, sty…"
      ]
     },
     "metadata": {},
     "output_type": "display_data"
    },
    {
     "name": "stdout",
     "output_type": "stream",
     "text": [
      "\n",
      "e_num_side=5-e_radius=310-spacing=None-total_area=4000 is already trained for ScoreboardModel\n"
     ]
    },
    {
     "data": {
      "application/vnd.jupyter.widget-view+json": {
       "model_id": "203dd2eab6f6455ba94db343a09e6b16",
       "version_major": 2,
       "version_minor": 0
      },
      "text/plain": [
       "HBox(children=(FloatProgress(value=0.0, description='Loss: - Accuracy:', layout=Layout(flex='2'), max=7.0, sty…"
      ]
     },
     "metadata": {},
     "output_type": "display_data"
    },
    {
     "name": "stdout",
     "output_type": "stream",
     "text": [
      "\n",
      "e_radius 320\n",
      "# ------------------ AxonMapModel ----------------- #\n",
      " Trainset mean value for each channel is: 0.08\n",
      " Trainset std  value for each channel is: 0.15\n"
     ]
    },
    {
     "data": {
      "application/vnd.jupyter.widget-view+json": {
       "model_id": "c1b09bb9547640c6afddedbb19cb9b80",
       "version_major": 2,
       "version_minor": 0
      },
      "text/plain": [
       "HBox(children=(FloatProgress(value=0.0, description='Loss: - Accuracy:', layout=Layout(flex='2'), max=7.0, sty…"
      ]
     },
     "metadata": {},
     "output_type": "display_data"
    },
    {
     "name": "stdout",
     "output_type": "stream",
     "text": [
      "\n",
      "e_num_side=5-e_radius=320-spacing=None-total_area=4000 is already trained for AxonMapModel\n"
     ]
    },
    {
     "data": {
      "application/vnd.jupyter.widget-view+json": {
       "model_id": "dbad3677aa4f4afdbb8c1193a598f037",
       "version_major": 2,
       "version_minor": 0
      },
      "text/plain": [
       "HBox(children=(FloatProgress(value=0.0, description='Loss: - Accuracy:', layout=Layout(flex='2'), max=7.0, sty…"
      ]
     },
     "metadata": {},
     "output_type": "display_data"
    },
    {
     "name": "stdout",
     "output_type": "stream",
     "text": [
      "\n",
      "# ------------------ ScoreboardModel ----------------- #\n",
      " Trainset mean value for each channel is: 0.05\n",
      " Trainset std  value for each channel is: 0.13\n"
     ]
    },
    {
     "data": {
      "application/vnd.jupyter.widget-view+json": {
       "model_id": "8aee2f0f309744f69a8a81e092ec1f65",
       "version_major": 2,
       "version_minor": 0
      },
      "text/plain": [
       "HBox(children=(FloatProgress(value=0.0, description='Loss: - Accuracy:', layout=Layout(flex='2'), max=7.0, sty…"
      ]
     },
     "metadata": {},
     "output_type": "display_data"
    },
    {
     "name": "stdout",
     "output_type": "stream",
     "text": [
      "\n",
      "e_num_side=5-e_radius=320-spacing=None-total_area=4000 is already trained for ScoreboardModel\n"
     ]
    },
    {
     "data": {
      "application/vnd.jupyter.widget-view+json": {
       "model_id": "55ef9777cb224b258a03f7d15265ab41",
       "version_major": 2,
       "version_minor": 0
      },
      "text/plain": [
       "HBox(children=(FloatProgress(value=0.0, description='Loss: - Accuracy:', layout=Layout(flex='2'), max=7.0, sty…"
      ]
     },
     "metadata": {},
     "output_type": "display_data"
    },
    {
     "name": "stdout",
     "output_type": "stream",
     "text": [
      "\n",
      "e_radius 330\n",
      "# ------------------ AxonMapModel ----------------- #\n",
      " Trainset mean value for each channel is: 0.08\n",
      " Trainset std  value for each channel is: 0.15\n"
     ]
    },
    {
     "data": {
      "application/vnd.jupyter.widget-view+json": {
       "model_id": "0de5625370fe436cb641de15cb9adc6f",
       "version_major": 2,
       "version_minor": 0
      },
      "text/plain": [
       "HBox(children=(FloatProgress(value=0.0, description='Loss: - Accuracy:', layout=Layout(flex='2'), max=7.0, sty…"
      ]
     },
     "metadata": {},
     "output_type": "display_data"
    },
    {
     "name": "stdout",
     "output_type": "stream",
     "text": [
      "\n",
      "e_num_side=5-e_radius=330-spacing=None-total_area=4000 is already trained for AxonMapModel\n"
     ]
    },
    {
     "data": {
      "application/vnd.jupyter.widget-view+json": {
       "model_id": "03afbdbe40c148e69a46c3e0af60f83e",
       "version_major": 2,
       "version_minor": 0
      },
      "text/plain": [
       "HBox(children=(FloatProgress(value=0.0, description='Loss: - Accuracy:', layout=Layout(flex='2'), max=7.0, sty…"
      ]
     },
     "metadata": {},
     "output_type": "display_data"
    },
    {
     "name": "stdout",
     "output_type": "stream",
     "text": [
      "\n",
      "# ------------------ ScoreboardModel ----------------- #\n",
      " Trainset mean value for each channel is: 0.05\n",
      " Trainset std  value for each channel is: 0.13\n"
     ]
    },
    {
     "data": {
      "application/vnd.jupyter.widget-view+json": {
       "model_id": "db22cd7e4999442fa019eed842218197",
       "version_major": 2,
       "version_minor": 0
      },
      "text/plain": [
       "HBox(children=(FloatProgress(value=0.0, description='Loss: - Accuracy:', layout=Layout(flex='2'), max=7.0, sty…"
      ]
     },
     "metadata": {},
     "output_type": "display_data"
    },
    {
     "name": "stdout",
     "output_type": "stream",
     "text": [
      "\n",
      "e_num_side=5-e_radius=330-spacing=None-total_area=4000 is already trained for ScoreboardModel\n"
     ]
    },
    {
     "data": {
      "application/vnd.jupyter.widget-view+json": {
       "model_id": "77c8a3bedd5b4674bf9507b93d85b96e",
       "version_major": 2,
       "version_minor": 0
      },
      "text/plain": [
       "HBox(children=(FloatProgress(value=0.0, description='Loss: - Accuracy:', layout=Layout(flex='2'), max=7.0, sty…"
      ]
     },
     "metadata": {},
     "output_type": "display_data"
    },
    {
     "name": "stdout",
     "output_type": "stream",
     "text": [
      "\n",
      "e_radius 340\n",
      "# ------------------ AxonMapModel ----------------- #\n",
      " Trainset mean value for each channel is: 0.08\n",
      " Trainset std  value for each channel is: 0.15\n"
     ]
    },
    {
     "data": {
      "application/vnd.jupyter.widget-view+json": {
       "model_id": "14b31efaa30e4724865708b67f91c3b3",
       "version_major": 2,
       "version_minor": 0
      },
      "text/plain": [
       "HBox(children=(FloatProgress(value=0.0, description='Loss: - Accuracy:', layout=Layout(flex='2'), max=7.0, sty…"
      ]
     },
     "metadata": {},
     "output_type": "display_data"
    },
    {
     "name": "stdout",
     "output_type": "stream",
     "text": [
      "\n",
      "e_num_side=5-e_radius=340-spacing=None-total_area=4000 is already trained for AxonMapModel\n"
     ]
    },
    {
     "data": {
      "application/vnd.jupyter.widget-view+json": {
       "model_id": "82d722b6a8804e8288fe8462785bd591",
       "version_major": 2,
       "version_minor": 0
      },
      "text/plain": [
       "HBox(children=(FloatProgress(value=0.0, description='Loss: - Accuracy:', layout=Layout(flex='2'), max=7.0, sty…"
      ]
     },
     "metadata": {},
     "output_type": "display_data"
    },
    {
     "name": "stdout",
     "output_type": "stream",
     "text": [
      "\n",
      "# ------------------ ScoreboardModel ----------------- #\n",
      " Trainset mean value for each channel is: 0.05\n",
      " Trainset std  value for each channel is: 0.13\n"
     ]
    },
    {
     "data": {
      "application/vnd.jupyter.widget-view+json": {
       "model_id": "377543495de148fd96d542da52220ac3",
       "version_major": 2,
       "version_minor": 0
      },
      "text/plain": [
       "HBox(children=(FloatProgress(value=0.0, description='Loss: - Accuracy:', layout=Layout(flex='2'), max=7.0, sty…"
      ]
     },
     "metadata": {},
     "output_type": "display_data"
    },
    {
     "name": "stdout",
     "output_type": "stream",
     "text": [
      "\n",
      "e_num_side=5-e_radius=340-spacing=None-total_area=4000 is already trained for ScoreboardModel\n"
     ]
    },
    {
     "data": {
      "application/vnd.jupyter.widget-view+json": {
       "model_id": "87dd7585b033415596ddadc2cae94222",
       "version_major": 2,
       "version_minor": 0
      },
      "text/plain": [
       "HBox(children=(FloatProgress(value=0.0, description='Loss: - Accuracy:', layout=Layout(flex='2'), max=7.0, sty…"
      ]
     },
     "metadata": {},
     "output_type": "display_data"
    },
    {
     "name": "stdout",
     "output_type": "stream",
     "text": [
      "\n",
      "e_radius 350\n",
      "# ------------------ AxonMapModel ----------------- #\n",
      " Trainset mean value for each channel is: 0.08\n",
      " Trainset std  value for each channel is: 0.15\n"
     ]
    },
    {
     "data": {
      "application/vnd.jupyter.widget-view+json": {
       "model_id": "f5acc8c6846c495bbe7518f86f3b2ce6",
       "version_major": 2,
       "version_minor": 0
      },
      "text/plain": [
       "HBox(children=(FloatProgress(value=0.0, description='Loss: - Accuracy:', layout=Layout(flex='2'), max=7.0, sty…"
      ]
     },
     "metadata": {},
     "output_type": "display_data"
    },
    {
     "name": "stdout",
     "output_type": "stream",
     "text": [
      "\n",
      "e_num_side=5-e_radius=350-spacing=None-total_area=4000 is already trained for AxonMapModel\n"
     ]
    },
    {
     "data": {
      "application/vnd.jupyter.widget-view+json": {
       "model_id": "a82012d614e748adab617ad8ddcea9c0",
       "version_major": 2,
       "version_minor": 0
      },
      "text/plain": [
       "HBox(children=(FloatProgress(value=0.0, description='Loss: - Accuracy:', layout=Layout(flex='2'), max=7.0, sty…"
      ]
     },
     "metadata": {},
     "output_type": "display_data"
    },
    {
     "name": "stdout",
     "output_type": "stream",
     "text": [
      "\n",
      "# ------------------ ScoreboardModel ----------------- #\n",
      " Trainset mean value for each channel is: 0.05\n",
      " Trainset std  value for each channel is: 0.13\n"
     ]
    },
    {
     "data": {
      "application/vnd.jupyter.widget-view+json": {
       "model_id": "d744cf2b80b24f5095b5da2b1c70d667",
       "version_major": 2,
       "version_minor": 0
      },
      "text/plain": [
       "HBox(children=(FloatProgress(value=0.0, description='Loss: - Accuracy:', layout=Layout(flex='2'), max=7.0, sty…"
      ]
     },
     "metadata": {},
     "output_type": "display_data"
    },
    {
     "name": "stdout",
     "output_type": "stream",
     "text": [
      "\n",
      "e_num_side=5-e_radius=350-spacing=None-total_area=4000 is already trained for ScoreboardModel\n"
     ]
    },
    {
     "data": {
      "application/vnd.jupyter.widget-view+json": {
       "model_id": "0e8eeed2149e4ac4a26a99c2eeea83db",
       "version_major": 2,
       "version_minor": 0
      },
      "text/plain": [
       "HBox(children=(FloatProgress(value=0.0, description='Loss: - Accuracy:', layout=Layout(flex='2'), max=7.0, sty…"
      ]
     },
     "metadata": {},
     "output_type": "display_data"
    },
    {
     "name": "stdout",
     "output_type": "stream",
     "text": [
      "\n",
      "e_radius 360\n",
      "# ------------------ AxonMapModel ----------------- #\n",
      " Trainset mean value for each channel is: 0.08\n",
      " Trainset std  value for each channel is: 0.15\n"
     ]
    },
    {
     "data": {
      "application/vnd.jupyter.widget-view+json": {
       "model_id": "357dbda6fe19421587032218a8ca97ca",
       "version_major": 2,
       "version_minor": 0
      },
      "text/plain": [
       "HBox(children=(FloatProgress(value=0.0, description='Loss: - Accuracy:', layout=Layout(flex='2'), max=7.0, sty…"
      ]
     },
     "metadata": {},
     "output_type": "display_data"
    },
    {
     "name": "stdout",
     "output_type": "stream",
     "text": [
      "\n",
      "e_num_side=5-e_radius=360-spacing=None-total_area=4000 is already trained for AxonMapModel\n"
     ]
    },
    {
     "data": {
      "application/vnd.jupyter.widget-view+json": {
       "model_id": "3bbc0c29de9c45ee966a676be38af303",
       "version_major": 2,
       "version_minor": 0
      },
      "text/plain": [
       "HBox(children=(FloatProgress(value=0.0, description='Loss: - Accuracy:', layout=Layout(flex='2'), max=7.0, sty…"
      ]
     },
     "metadata": {},
     "output_type": "display_data"
    },
    {
     "name": "stdout",
     "output_type": "stream",
     "text": [
      "\n",
      "# ------------------ ScoreboardModel ----------------- #\n",
      " Trainset mean value for each channel is: 0.05\n",
      " Trainset std  value for each channel is: 0.13\n"
     ]
    },
    {
     "data": {
      "application/vnd.jupyter.widget-view+json": {
       "model_id": "f62d3bf8804c40c8bc12a8f1d1dfac5e",
       "version_major": 2,
       "version_minor": 0
      },
      "text/plain": [
       "HBox(children=(FloatProgress(value=0.0, description='Loss: - Accuracy:', layout=Layout(flex='2'), max=7.0, sty…"
      ]
     },
     "metadata": {},
     "output_type": "display_data"
    },
    {
     "name": "stdout",
     "output_type": "stream",
     "text": [
      "\n",
      "e_num_side=5-e_radius=360-spacing=None-total_area=4000 is already trained for ScoreboardModel\n"
     ]
    },
    {
     "data": {
      "application/vnd.jupyter.widget-view+json": {
       "model_id": "6dff297b38334e68abdf45c19a65618f",
       "version_major": 2,
       "version_minor": 0
      },
      "text/plain": [
       "HBox(children=(FloatProgress(value=0.0, description='Loss: - Accuracy:', layout=Layout(flex='2'), max=7.0, sty…"
      ]
     },
     "metadata": {},
     "output_type": "display_data"
    },
    {
     "name": "stdout",
     "output_type": "stream",
     "text": [
      "\n",
      "e_radius 370\n",
      "# ------------------ AxonMapModel ----------------- #\n",
      " Trainset mean value for each channel is: 0.08\n",
      " Trainset std  value for each channel is: 0.15\n"
     ]
    },
    {
     "data": {
      "application/vnd.jupyter.widget-view+json": {
       "model_id": "b61fc7543eac40509d32f0a2a1994213",
       "version_major": 2,
       "version_minor": 0
      },
      "text/plain": [
       "HBox(children=(FloatProgress(value=0.0, description='Loss: - Accuracy:', layout=Layout(flex='2'), max=7.0, sty…"
      ]
     },
     "metadata": {},
     "output_type": "display_data"
    },
    {
     "name": "stdout",
     "output_type": "stream",
     "text": [
      "\n",
      "e_num_side=5-e_radius=370-spacing=None-total_area=4000 is already trained for AxonMapModel\n"
     ]
    },
    {
     "data": {
      "application/vnd.jupyter.widget-view+json": {
       "model_id": "bfc0a4fa5252451095e9fbf8d698275f",
       "version_major": 2,
       "version_minor": 0
      },
      "text/plain": [
       "HBox(children=(FloatProgress(value=0.0, description='Loss: - Accuracy:', layout=Layout(flex='2'), max=7.0, sty…"
      ]
     },
     "metadata": {},
     "output_type": "display_data"
    },
    {
     "name": "stdout",
     "output_type": "stream",
     "text": [
      "\n",
      "# ------------------ ScoreboardModel ----------------- #\n",
      " Trainset mean value for each channel is: 0.05\n",
      " Trainset std  value for each channel is: 0.13\n"
     ]
    },
    {
     "data": {
      "application/vnd.jupyter.widget-view+json": {
       "model_id": "57784cabe8fa448b9c1edb09c021b582",
       "version_major": 2,
       "version_minor": 0
      },
      "text/plain": [
       "HBox(children=(FloatProgress(value=0.0, description='Loss: - Accuracy:', layout=Layout(flex='2'), max=7.0, sty…"
      ]
     },
     "metadata": {},
     "output_type": "display_data"
    },
    {
     "name": "stdout",
     "output_type": "stream",
     "text": [
      "\n",
      "e_num_side=5-e_radius=370-spacing=None-total_area=4000 is already trained for ScoreboardModel\n"
     ]
    },
    {
     "data": {
      "application/vnd.jupyter.widget-view+json": {
       "model_id": "17fa400df37e4329bbae250da8e47c4f",
       "version_major": 2,
       "version_minor": 0
      },
      "text/plain": [
       "HBox(children=(FloatProgress(value=0.0, description='Loss: - Accuracy:', layout=Layout(flex='2'), max=7.0, sty…"
      ]
     },
     "metadata": {},
     "output_type": "display_data"
    },
    {
     "name": "stdout",
     "output_type": "stream",
     "text": [
      "\n",
      "e_radius 380\n",
      "# ------------------ AxonMapModel ----------------- #\n",
      " Trainset mean value for each channel is: 0.08\n",
      " Trainset std  value for each channel is: 0.15\n"
     ]
    },
    {
     "data": {
      "application/vnd.jupyter.widget-view+json": {
       "model_id": "f189cbf1c98d43b19414149f9930cc52",
       "version_major": 2,
       "version_minor": 0
      },
      "text/plain": [
       "HBox(children=(FloatProgress(value=0.0, description='Loss: - Accuracy:', layout=Layout(flex='2'), max=7.0, sty…"
      ]
     },
     "metadata": {},
     "output_type": "display_data"
    },
    {
     "name": "stdout",
     "output_type": "stream",
     "text": [
      "\n",
      "e_num_side=5-e_radius=380-spacing=None-total_area=4000 is already trained for AxonMapModel\n"
     ]
    },
    {
     "data": {
      "application/vnd.jupyter.widget-view+json": {
       "model_id": "ecbba8e4dbdf43759de904b575162b8e",
       "version_major": 2,
       "version_minor": 0
      },
      "text/plain": [
       "HBox(children=(FloatProgress(value=0.0, description='Loss: - Accuracy:', layout=Layout(flex='2'), max=7.0, sty…"
      ]
     },
     "metadata": {},
     "output_type": "display_data"
    },
    {
     "name": "stdout",
     "output_type": "stream",
     "text": [
      "\n",
      "# ------------------ ScoreboardModel ----------------- #\n",
      " Trainset mean value for each channel is: 0.05\n",
      " Trainset std  value for each channel is: 0.13\n"
     ]
    },
    {
     "data": {
      "application/vnd.jupyter.widget-view+json": {
       "model_id": "6b1c519ca454420b975dc0ae2007c279",
       "version_major": 2,
       "version_minor": 0
      },
      "text/plain": [
       "HBox(children=(FloatProgress(value=0.0, description='Loss: - Accuracy:', layout=Layout(flex='2'), max=7.0, sty…"
      ]
     },
     "metadata": {},
     "output_type": "display_data"
    },
    {
     "name": "stdout",
     "output_type": "stream",
     "text": [
      "\n",
      "e_num_side=5-e_radius=380-spacing=None-total_area=4000 is already trained for ScoreboardModel\n"
     ]
    },
    {
     "data": {
      "application/vnd.jupyter.widget-view+json": {
       "model_id": "60f3a42b47b649498c758a2e95bdf572",
       "version_major": 2,
       "version_minor": 0
      },
      "text/plain": [
       "HBox(children=(FloatProgress(value=0.0, description='Loss: - Accuracy:', layout=Layout(flex='2'), max=7.0, sty…"
      ]
     },
     "metadata": {},
     "output_type": "display_data"
    },
    {
     "name": "stdout",
     "output_type": "stream",
     "text": [
      "\n",
      "e_radius 390\n",
      "# ------------------ AxonMapModel ----------------- #\n",
      " Trainset mean value for each channel is: 0.08\n",
      " Trainset std  value for each channel is: 0.15\n"
     ]
    },
    {
     "data": {
      "application/vnd.jupyter.widget-view+json": {
       "model_id": "462cf50553c34e2a9f8ff3ac86d4a213",
       "version_major": 2,
       "version_minor": 0
      },
      "text/plain": [
       "HBox(children=(FloatProgress(value=0.0, description='Loss: - Accuracy:', layout=Layout(flex='2'), max=7.0, sty…"
      ]
     },
     "metadata": {},
     "output_type": "display_data"
    },
    {
     "name": "stdout",
     "output_type": "stream",
     "text": [
      "\n",
      "e_num_side=5-e_radius=390-spacing=None-total_area=4000 is already trained for AxonMapModel\n"
     ]
    },
    {
     "data": {
      "application/vnd.jupyter.widget-view+json": {
       "model_id": "6cb231dfc67244d6a428d02f291bdcaf",
       "version_major": 2,
       "version_minor": 0
      },
      "text/plain": [
       "HBox(children=(FloatProgress(value=0.0, description='Loss: - Accuracy:', layout=Layout(flex='2'), max=7.0, sty…"
      ]
     },
     "metadata": {},
     "output_type": "display_data"
    },
    {
     "name": "stdout",
     "output_type": "stream",
     "text": [
      "\n",
      "# ------------------ ScoreboardModel ----------------- #\n",
      " Trainset mean value for each channel is: 0.05\n",
      " Trainset std  value for each channel is: 0.13\n"
     ]
    },
    {
     "data": {
      "application/vnd.jupyter.widget-view+json": {
       "model_id": "ee341682ba8641c6862f61c2e3d896a4",
       "version_major": 2,
       "version_minor": 0
      },
      "text/plain": [
       "HBox(children=(FloatProgress(value=0.0, description='Loss: - Accuracy:', layout=Layout(flex='2'), max=7.0, sty…"
      ]
     },
     "metadata": {},
     "output_type": "display_data"
    },
    {
     "name": "stdout",
     "output_type": "stream",
     "text": [
      "\n",
      "e_num_side=5-e_radius=390-spacing=None-total_area=4000 is already trained for ScoreboardModel\n"
     ]
    },
    {
     "data": {
      "application/vnd.jupyter.widget-view+json": {
       "model_id": "e615d8afaa624408919a6b13f933c5eb",
       "version_major": 2,
       "version_minor": 0
      },
      "text/plain": [
       "HBox(children=(FloatProgress(value=0.0, description='Loss: - Accuracy:', layout=Layout(flex='2'), max=7.0, sty…"
      ]
     },
     "metadata": {},
     "output_type": "display_data"
    },
    {
     "name": "stdout",
     "output_type": "stream",
     "text": [
      "\n",
      "e_radius 400\n",
      "# ------------------ AxonMapModel ----------------- #\n",
      " Trainset mean value for each channel is: 0.08\n",
      " Trainset std  value for each channel is: 0.15\n"
     ]
    },
    {
     "data": {
      "application/vnd.jupyter.widget-view+json": {
       "model_id": "295c4e078c9f462fb57dbb4174373fff",
       "version_major": 2,
       "version_minor": 0
      },
      "text/plain": [
       "HBox(children=(FloatProgress(value=0.0, description='Loss: - Accuracy:', layout=Layout(flex='2'), max=7.0, sty…"
      ]
     },
     "metadata": {},
     "output_type": "display_data"
    },
    {
     "name": "stdout",
     "output_type": "stream",
     "text": [
      "\n",
      "e_num_side=5-e_radius=400-spacing=None-total_area=4000 is already trained for AxonMapModel\n"
     ]
    },
    {
     "data": {
      "application/vnd.jupyter.widget-view+json": {
       "model_id": "7016a7a203544d769b602e4ced48c188",
       "version_major": 2,
       "version_minor": 0
      },
      "text/plain": [
       "HBox(children=(FloatProgress(value=0.0, description='Loss: - Accuracy:', layout=Layout(flex='2'), max=7.0, sty…"
      ]
     },
     "metadata": {},
     "output_type": "display_data"
    },
    {
     "name": "stdout",
     "output_type": "stream",
     "text": [
      "\n",
      "# ------------------ ScoreboardModel ----------------- #\n",
      " Trainset mean value for each channel is: 0.05\n",
      " Trainset std  value for each channel is: 0.13\n"
     ]
    },
    {
     "data": {
      "application/vnd.jupyter.widget-view+json": {
       "model_id": "c83b0a8286c54d978e1574d250d966db",
       "version_major": 2,
       "version_minor": 0
      },
      "text/plain": [
       "HBox(children=(FloatProgress(value=0.0, description='Loss: - Accuracy:', layout=Layout(flex='2'), max=7.0, sty…"
      ]
     },
     "metadata": {},
     "output_type": "display_data"
    },
    {
     "name": "stdout",
     "output_type": "stream",
     "text": [
      "\n",
      "e_num_side=5-e_radius=400-spacing=None-total_area=4000 is already trained for ScoreboardModel\n"
     ]
    },
    {
     "data": {
      "application/vnd.jupyter.widget-view+json": {
       "model_id": "44d86c3904904bc0bb7cc8e44dd29a75",
       "version_major": 2,
       "version_minor": 0
      },
      "text/plain": [
       "HBox(children=(FloatProgress(value=0.0, description='Loss: - Accuracy:', layout=Layout(flex='2'), max=7.0, sty…"
      ]
     },
     "metadata": {},
     "output_type": "display_data"
    },
    {
     "name": "stdout",
     "output_type": "stream",
     "text": [
      "\n",
      "e_num_side 8\n",
      "e_radius 10\n",
      "# ------------------ AxonMapModel ----------------- #\n",
      " Trainset mean value for each channel is: 0.15\n",
      " Trainset std  value for each channel is: 0.20\n"
     ]
    },
    {
     "data": {
      "application/vnd.jupyter.widget-view+json": {
       "model_id": "e4e79903511c4b1f8c12b76bc1dbf313",
       "version_major": 2,
       "version_minor": 0
      },
      "text/plain": [
       "HBox(children=(FloatProgress(value=0.0, description='Loss: - Accuracy:', layout=Layout(flex='2'), max=7.0, sty…"
      ]
     },
     "metadata": {},
     "output_type": "display_data"
    },
    {
     "name": "stdout",
     "output_type": "stream",
     "text": [
      "\n",
      "e_num_side=8-e_radius=10-spacing=None-total_area=4000 is already trained for AxonMapModel\n"
     ]
    },
    {
     "data": {
      "application/vnd.jupyter.widget-view+json": {
       "model_id": "710e93523ba948108b449eba05b4a18f",
       "version_major": 2,
       "version_minor": 0
      },
      "text/plain": [
       "HBox(children=(FloatProgress(value=0.0, description='Loss: - Accuracy:', layout=Layout(flex='2'), max=7.0, sty…"
      ]
     },
     "metadata": {},
     "output_type": "display_data"
    },
    {
     "name": "stdout",
     "output_type": "stream",
     "text": [
      "\n",
      "# ------------------ ScoreboardModel ----------------- #\n",
      " Trainset mean value for each channel is: 0.10\n",
      " Trainset std  value for each channel is: 0.17\n"
     ]
    },
    {
     "data": {
      "application/vnd.jupyter.widget-view+json": {
       "model_id": "3050fb70657e4315895547bbc2949289",
       "version_major": 2,
       "version_minor": 0
      },
      "text/plain": [
       "HBox(children=(FloatProgress(value=0.0, description='Loss: - Accuracy:', layout=Layout(flex='2'), max=7.0, sty…"
      ]
     },
     "metadata": {},
     "output_type": "display_data"
    },
    {
     "name": "stdout",
     "output_type": "stream",
     "text": [
      "\n",
      "e_num_side=8-e_radius=10-spacing=None-total_area=4000 is already trained for ScoreboardModel\n"
     ]
    },
    {
     "data": {
      "application/vnd.jupyter.widget-view+json": {
       "model_id": "18015d36c4a94d24a475af82d053cdf0",
       "version_major": 2,
       "version_minor": 0
      },
      "text/plain": [
       "HBox(children=(FloatProgress(value=0.0, description='Loss: - Accuracy:', layout=Layout(flex='2'), max=7.0, sty…"
      ]
     },
     "metadata": {},
     "output_type": "display_data"
    },
    {
     "name": "stdout",
     "output_type": "stream",
     "text": [
      "\n",
      "e_radius 20\n",
      "# ------------------ AxonMapModel ----------------- #\n",
      " Trainset mean value for each channel is: 0.15\n",
      " Trainset std  value for each channel is: 0.20\n"
     ]
    },
    {
     "data": {
      "application/vnd.jupyter.widget-view+json": {
       "model_id": "44f564552412442db3160d720877bb29",
       "version_major": 2,
       "version_minor": 0
      },
      "text/plain": [
       "HBox(children=(FloatProgress(value=0.0, description='Loss: - Accuracy:', layout=Layout(flex='2'), max=7.0, sty…"
      ]
     },
     "metadata": {},
     "output_type": "display_data"
    },
    {
     "name": "stdout",
     "output_type": "stream",
     "text": [
      "\n",
      "e_num_side=8-e_radius=20-spacing=None-total_area=4000 is already trained for AxonMapModel\n"
     ]
    },
    {
     "data": {
      "application/vnd.jupyter.widget-view+json": {
       "model_id": "580c703c7bc4464f8fb08bb8ad732e95",
       "version_major": 2,
       "version_minor": 0
      },
      "text/plain": [
       "HBox(children=(FloatProgress(value=0.0, description='Loss: - Accuracy:', layout=Layout(flex='2'), max=7.0, sty…"
      ]
     },
     "metadata": {},
     "output_type": "display_data"
    },
    {
     "name": "stdout",
     "output_type": "stream",
     "text": [
      "\n",
      "# ------------------ ScoreboardModel ----------------- #\n",
      " Trainset mean value for each channel is: 0.10\n",
      " Trainset std  value for each channel is: 0.17\n"
     ]
    },
    {
     "data": {
      "application/vnd.jupyter.widget-view+json": {
       "model_id": "a3d3599698a9436c9006810da0aef43a",
       "version_major": 2,
       "version_minor": 0
      },
      "text/plain": [
       "HBox(children=(FloatProgress(value=0.0, description='Loss: - Accuracy:', layout=Layout(flex='2'), max=7.0, sty…"
      ]
     },
     "metadata": {},
     "output_type": "display_data"
    },
    {
     "name": "stdout",
     "output_type": "stream",
     "text": [
      "\n",
      "e_num_side=8-e_radius=20-spacing=None-total_area=4000 is already trained for ScoreboardModel\n"
     ]
    },
    {
     "data": {
      "application/vnd.jupyter.widget-view+json": {
       "model_id": "ece6088d3f964678a1716257eee6d1e8",
       "version_major": 2,
       "version_minor": 0
      },
      "text/plain": [
       "HBox(children=(FloatProgress(value=0.0, description='Loss: - Accuracy:', layout=Layout(flex='2'), max=7.0, sty…"
      ]
     },
     "metadata": {},
     "output_type": "display_data"
    },
    {
     "name": "stdout",
     "output_type": "stream",
     "text": [
      "\n",
      "e_radius 30\n",
      "# ------------------ AxonMapModel ----------------- #\n",
      " Trainset mean value for each channel is: 0.15\n",
      " Trainset std  value for each channel is: 0.20\n"
     ]
    },
    {
     "data": {
      "application/vnd.jupyter.widget-view+json": {
       "model_id": "8091c989883640118cbca96da526f9c1",
       "version_major": 2,
       "version_minor": 0
      },
      "text/plain": [
       "HBox(children=(FloatProgress(value=0.0, description='Loss: - Accuracy:', layout=Layout(flex='2'), max=7.0, sty…"
      ]
     },
     "metadata": {},
     "output_type": "display_data"
    },
    {
     "name": "stdout",
     "output_type": "stream",
     "text": [
      "\n",
      "e_num_side=8-e_radius=30-spacing=None-total_area=4000 is already trained for AxonMapModel\n"
     ]
    },
    {
     "data": {
      "application/vnd.jupyter.widget-view+json": {
       "model_id": "aa450cdc18dc4148895086e6233e0933",
       "version_major": 2,
       "version_minor": 0
      },
      "text/plain": [
       "HBox(children=(FloatProgress(value=0.0, description='Loss: - Accuracy:', layout=Layout(flex='2'), max=7.0, sty…"
      ]
     },
     "metadata": {},
     "output_type": "display_data"
    },
    {
     "name": "stdout",
     "output_type": "stream",
     "text": [
      "\n",
      "# ------------------ ScoreboardModel ----------------- #\n",
      " Trainset mean value for each channel is: 0.10\n",
      " Trainset std  value for each channel is: 0.17\n"
     ]
    },
    {
     "data": {
      "application/vnd.jupyter.widget-view+json": {
       "model_id": "09cef00dfa5b43e7ae72f1576abb6dbf",
       "version_major": 2,
       "version_minor": 0
      },
      "text/plain": [
       "HBox(children=(FloatProgress(value=0.0, description='Loss: - Accuracy:', layout=Layout(flex='2'), max=7.0, sty…"
      ]
     },
     "metadata": {},
     "output_type": "display_data"
    },
    {
     "name": "stdout",
     "output_type": "stream",
     "text": [
      "\n",
      "e_num_side=8-e_radius=30-spacing=None-total_area=4000 is already trained for ScoreboardModel\n"
     ]
    },
    {
     "data": {
      "application/vnd.jupyter.widget-view+json": {
       "model_id": "00a61002dcf94eb1acd24b7374ab1b12",
       "version_major": 2,
       "version_minor": 0
      },
      "text/plain": [
       "HBox(children=(FloatProgress(value=0.0, description='Loss: - Accuracy:', layout=Layout(flex='2'), max=7.0, sty…"
      ]
     },
     "metadata": {},
     "output_type": "display_data"
    },
    {
     "name": "stdout",
     "output_type": "stream",
     "text": [
      "\n",
      "e_radius 40\n",
      "# ------------------ AxonMapModel ----------------- #\n",
      " Trainset mean value for each channel is: 0.15\n",
      " Trainset std  value for each channel is: 0.20\n"
     ]
    },
    {
     "data": {
      "application/vnd.jupyter.widget-view+json": {
       "model_id": "1894e176a0cf46cbbcef963987f25211",
       "version_major": 2,
       "version_minor": 0
      },
      "text/plain": [
       "HBox(children=(FloatProgress(value=0.0, description='Loss: - Accuracy:', layout=Layout(flex='2'), max=7.0, sty…"
      ]
     },
     "metadata": {},
     "output_type": "display_data"
    },
    {
     "name": "stdout",
     "output_type": "stream",
     "text": [
      "\n",
      "e_num_side=8-e_radius=40-spacing=None-total_area=4000 is already trained for AxonMapModel\n"
     ]
    },
    {
     "data": {
      "application/vnd.jupyter.widget-view+json": {
       "model_id": "95dcddac53b94071adecf5e79a0d64eb",
       "version_major": 2,
       "version_minor": 0
      },
      "text/plain": [
       "HBox(children=(FloatProgress(value=0.0, description='Loss: - Accuracy:', layout=Layout(flex='2'), max=7.0, sty…"
      ]
     },
     "metadata": {},
     "output_type": "display_data"
    },
    {
     "name": "stdout",
     "output_type": "stream",
     "text": [
      "\n",
      "# ------------------ ScoreboardModel ----------------- #\n",
      " Trainset mean value for each channel is: 0.10\n",
      " Trainset std  value for each channel is: 0.17\n"
     ]
    },
    {
     "data": {
      "application/vnd.jupyter.widget-view+json": {
       "model_id": "f91a6beaa0d74a129206200ca5079582",
       "version_major": 2,
       "version_minor": 0
      },
      "text/plain": [
       "HBox(children=(FloatProgress(value=0.0, description='Loss: - Accuracy:', layout=Layout(flex='2'), max=7.0, sty…"
      ]
     },
     "metadata": {},
     "output_type": "display_data"
    },
    {
     "name": "stdout",
     "output_type": "stream",
     "text": [
      "\n",
      "e_num_side=8-e_radius=40-spacing=None-total_area=4000 is already trained for ScoreboardModel\n"
     ]
    },
    {
     "data": {
      "application/vnd.jupyter.widget-view+json": {
       "model_id": "822ca783763846cabbccb5110e96209e",
       "version_major": 2,
       "version_minor": 0
      },
      "text/plain": [
       "HBox(children=(FloatProgress(value=0.0, description='Loss: - Accuracy:', layout=Layout(flex='2'), max=7.0, sty…"
      ]
     },
     "metadata": {},
     "output_type": "display_data"
    },
    {
     "name": "stdout",
     "output_type": "stream",
     "text": [
      "\n",
      "e_radius 50\n",
      "# ------------------ AxonMapModel ----------------- #\n",
      " Trainset mean value for each channel is: 0.15\n",
      " Trainset std  value for each channel is: 0.20\n"
     ]
    },
    {
     "data": {
      "application/vnd.jupyter.widget-view+json": {
       "model_id": "da6876d73c93410297550630df4d8dfb",
       "version_major": 2,
       "version_minor": 0
      },
      "text/plain": [
       "HBox(children=(FloatProgress(value=0.0, description='Loss: - Accuracy:', layout=Layout(flex='2'), max=7.0, sty…"
      ]
     },
     "metadata": {},
     "output_type": "display_data"
    },
    {
     "name": "stdout",
     "output_type": "stream",
     "text": [
      "\n",
      "e_num_side=8-e_radius=50-spacing=None-total_area=4000 is already trained for AxonMapModel\n"
     ]
    },
    {
     "data": {
      "application/vnd.jupyter.widget-view+json": {
       "model_id": "1c7096a33ef847959c98c0a0a71510dd",
       "version_major": 2,
       "version_minor": 0
      },
      "text/plain": [
       "HBox(children=(FloatProgress(value=0.0, description='Loss: - Accuracy:', layout=Layout(flex='2'), max=7.0, sty…"
      ]
     },
     "metadata": {},
     "output_type": "display_data"
    },
    {
     "name": "stdout",
     "output_type": "stream",
     "text": [
      "\n",
      "# ------------------ ScoreboardModel ----------------- #\n",
      " Trainset mean value for each channel is: 0.10\n",
      " Trainset std  value for each channel is: 0.17\n"
     ]
    },
    {
     "data": {
      "application/vnd.jupyter.widget-view+json": {
       "model_id": "b609b502fdd943098032726ce9e2d86a",
       "version_major": 2,
       "version_minor": 0
      },
      "text/plain": [
       "HBox(children=(FloatProgress(value=0.0, description='Loss: - Accuracy:', layout=Layout(flex='2'), max=7.0, sty…"
      ]
     },
     "metadata": {},
     "output_type": "display_data"
    },
    {
     "name": "stdout",
     "output_type": "stream",
     "text": [
      "\n",
      "e_num_side=8-e_radius=50-spacing=None-total_area=4000 is already trained for ScoreboardModel\n"
     ]
    },
    {
     "data": {
      "application/vnd.jupyter.widget-view+json": {
       "model_id": "98f187f8e5cb41b49fe86a000215f412",
       "version_major": 2,
       "version_minor": 0
      },
      "text/plain": [
       "HBox(children=(FloatProgress(value=0.0, description='Loss: - Accuracy:', layout=Layout(flex='2'), max=7.0, sty…"
      ]
     },
     "metadata": {},
     "output_type": "display_data"
    },
    {
     "name": "stdout",
     "output_type": "stream",
     "text": [
      "\n",
      "e_radius 60\n",
      "# ------------------ AxonMapModel ----------------- #\n",
      " Trainset mean value for each channel is: 0.15\n",
      " Trainset std  value for each channel is: 0.20\n"
     ]
    },
    {
     "data": {
      "application/vnd.jupyter.widget-view+json": {
       "model_id": "f2c846a1df864f3a95a3e0c8636903fc",
       "version_major": 2,
       "version_minor": 0
      },
      "text/plain": [
       "HBox(children=(FloatProgress(value=0.0, description='Loss: - Accuracy:', layout=Layout(flex='2'), max=7.0, sty…"
      ]
     },
     "metadata": {},
     "output_type": "display_data"
    },
    {
     "name": "stdout",
     "output_type": "stream",
     "text": [
      "\n",
      "e_num_side=8-e_radius=60-spacing=None-total_area=4000 is already trained for AxonMapModel\n"
     ]
    },
    {
     "data": {
      "application/vnd.jupyter.widget-view+json": {
       "model_id": "bdbb721e2e364f089b093ed7f632fd11",
       "version_major": 2,
       "version_minor": 0
      },
      "text/plain": [
       "HBox(children=(FloatProgress(value=0.0, description='Loss: - Accuracy:', layout=Layout(flex='2'), max=7.0, sty…"
      ]
     },
     "metadata": {},
     "output_type": "display_data"
    },
    {
     "name": "stdout",
     "output_type": "stream",
     "text": [
      "\n",
      "# ------------------ ScoreboardModel ----------------- #\n",
      " Trainset mean value for each channel is: 0.10\n",
      " Trainset std  value for each channel is: 0.17\n"
     ]
    },
    {
     "data": {
      "application/vnd.jupyter.widget-view+json": {
       "model_id": "82b70544aa7541a697e7bf44c96328c3",
       "version_major": 2,
       "version_minor": 0
      },
      "text/plain": [
       "HBox(children=(FloatProgress(value=0.0, description='Loss: - Accuracy:', layout=Layout(flex='2'), max=7.0, sty…"
      ]
     },
     "metadata": {},
     "output_type": "display_data"
    },
    {
     "name": "stdout",
     "output_type": "stream",
     "text": [
      "\n",
      "e_num_side=8-e_radius=60-spacing=None-total_area=4000 is already trained for ScoreboardModel\n"
     ]
    },
    {
     "data": {
      "application/vnd.jupyter.widget-view+json": {
       "model_id": "6eef88aa865e4d289181b4e168017369",
       "version_major": 2,
       "version_minor": 0
      },
      "text/plain": [
       "HBox(children=(FloatProgress(value=0.0, description='Loss: - Accuracy:', layout=Layout(flex='2'), max=7.0, sty…"
      ]
     },
     "metadata": {},
     "output_type": "display_data"
    },
    {
     "name": "stdout",
     "output_type": "stream",
     "text": [
      "\n",
      "e_radius 70\n",
      "# ------------------ AxonMapModel ----------------- #\n",
      " Trainset mean value for each channel is: 0.15\n",
      " Trainset std  value for each channel is: 0.20\n"
     ]
    },
    {
     "data": {
      "application/vnd.jupyter.widget-view+json": {
       "model_id": "f84dd0f7211942b897e411650e6a2830",
       "version_major": 2,
       "version_minor": 0
      },
      "text/plain": [
       "HBox(children=(FloatProgress(value=0.0, description='Loss: - Accuracy:', layout=Layout(flex='2'), max=7.0, sty…"
      ]
     },
     "metadata": {},
     "output_type": "display_data"
    },
    {
     "name": "stdout",
     "output_type": "stream",
     "text": [
      "\n",
      "e_num_side=8-e_radius=70-spacing=None-total_area=4000 is already trained for AxonMapModel\n"
     ]
    },
    {
     "data": {
      "application/vnd.jupyter.widget-view+json": {
       "model_id": "92f304024eaa49d8abd8b7599090ee67",
       "version_major": 2,
       "version_minor": 0
      },
      "text/plain": [
       "HBox(children=(FloatProgress(value=0.0, description='Loss: - Accuracy:', layout=Layout(flex='2'), max=7.0, sty…"
      ]
     },
     "metadata": {},
     "output_type": "display_data"
    },
    {
     "name": "stdout",
     "output_type": "stream",
     "text": [
      "\n",
      "# ------------------ ScoreboardModel ----------------- #\n",
      " Trainset mean value for each channel is: 0.10\n",
      " Trainset std  value for each channel is: 0.17\n"
     ]
    },
    {
     "data": {
      "application/vnd.jupyter.widget-view+json": {
       "model_id": "e19541880125416183ee362a7cfa6d00",
       "version_major": 2,
       "version_minor": 0
      },
      "text/plain": [
       "HBox(children=(FloatProgress(value=0.0, description='Loss: - Accuracy:', layout=Layout(flex='2'), max=7.0, sty…"
      ]
     },
     "metadata": {},
     "output_type": "display_data"
    },
    {
     "name": "stdout",
     "output_type": "stream",
     "text": [
      "\n",
      "e_num_side=8-e_radius=70-spacing=None-total_area=4000 is already trained for ScoreboardModel\n"
     ]
    },
    {
     "data": {
      "application/vnd.jupyter.widget-view+json": {
       "model_id": "cd5585c2b91c4ccfab2e9dec3956d962",
       "version_major": 2,
       "version_minor": 0
      },
      "text/plain": [
       "HBox(children=(FloatProgress(value=0.0, description='Loss: - Accuracy:', layout=Layout(flex='2'), max=7.0, sty…"
      ]
     },
     "metadata": {},
     "output_type": "display_data"
    },
    {
     "name": "stdout",
     "output_type": "stream",
     "text": [
      "\n",
      "e_radius 80\n",
      "# ------------------ AxonMapModel ----------------- #\n",
      " Trainset mean value for each channel is: 0.15\n",
      " Trainset std  value for each channel is: 0.20\n"
     ]
    },
    {
     "data": {
      "application/vnd.jupyter.widget-view+json": {
       "model_id": "4b35f87be4524feb95a0af9d7032a9ec",
       "version_major": 2,
       "version_minor": 0
      },
      "text/plain": [
       "HBox(children=(FloatProgress(value=0.0, description='Loss: - Accuracy:', layout=Layout(flex='2'), max=7.0, sty…"
      ]
     },
     "metadata": {},
     "output_type": "display_data"
    },
    {
     "name": "stdout",
     "output_type": "stream",
     "text": [
      "\n",
      "e_num_side=8-e_radius=80-spacing=None-total_area=4000 is already trained for AxonMapModel\n"
     ]
    },
    {
     "data": {
      "application/vnd.jupyter.widget-view+json": {
       "model_id": "2d97a586cf9f48a69fa9f3ccf3e8ff93",
       "version_major": 2,
       "version_minor": 0
      },
      "text/plain": [
       "HBox(children=(FloatProgress(value=0.0, description='Loss: - Accuracy:', layout=Layout(flex='2'), max=7.0, sty…"
      ]
     },
     "metadata": {},
     "output_type": "display_data"
    },
    {
     "name": "stdout",
     "output_type": "stream",
     "text": [
      "\n",
      "# ------------------ ScoreboardModel ----------------- #\n",
      " Trainset mean value for each channel is: 0.10\n",
      " Trainset std  value for each channel is: 0.17\n"
     ]
    },
    {
     "data": {
      "application/vnd.jupyter.widget-view+json": {
       "model_id": "f76b02c3643d4a73bd8099feb3063a5d",
       "version_major": 2,
       "version_minor": 0
      },
      "text/plain": [
       "HBox(children=(FloatProgress(value=0.0, description='Loss: - Accuracy:', layout=Layout(flex='2'), max=7.0, sty…"
      ]
     },
     "metadata": {},
     "output_type": "display_data"
    },
    {
     "name": "stdout",
     "output_type": "stream",
     "text": [
      "\n",
      "e_num_side=8-e_radius=80-spacing=None-total_area=4000 is already trained for ScoreboardModel\n"
     ]
    },
    {
     "data": {
      "application/vnd.jupyter.widget-view+json": {
       "model_id": "0774957ac44a4c7bbb918a30181724b4",
       "version_major": 2,
       "version_minor": 0
      },
      "text/plain": [
       "HBox(children=(FloatProgress(value=0.0, description='Loss: - Accuracy:', layout=Layout(flex='2'), max=7.0, sty…"
      ]
     },
     "metadata": {},
     "output_type": "display_data"
    },
    {
     "name": "stdout",
     "output_type": "stream",
     "text": [
      "\n",
      "e_radius 90\n",
      "# ------------------ AxonMapModel ----------------- #\n",
      " Trainset mean value for each channel is: 0.15\n",
      " Trainset std  value for each channel is: 0.20\n"
     ]
    },
    {
     "data": {
      "application/vnd.jupyter.widget-view+json": {
       "model_id": "a1bf3998f9ee4e75bd4515aafaf7be86",
       "version_major": 2,
       "version_minor": 0
      },
      "text/plain": [
       "HBox(children=(FloatProgress(value=0.0, description='Loss: - Accuracy:', layout=Layout(flex='2'), max=7.0, sty…"
      ]
     },
     "metadata": {},
     "output_type": "display_data"
    },
    {
     "name": "stdout",
     "output_type": "stream",
     "text": [
      "\n",
      "e_num_side=8-e_radius=90-spacing=None-total_area=4000 is already trained for AxonMapModel\n"
     ]
    },
    {
     "data": {
      "application/vnd.jupyter.widget-view+json": {
       "model_id": "48166a7bde9148a4b0f230beb8b6ed70",
       "version_major": 2,
       "version_minor": 0
      },
      "text/plain": [
       "HBox(children=(FloatProgress(value=0.0, description='Loss: - Accuracy:', layout=Layout(flex='2'), max=7.0, sty…"
      ]
     },
     "metadata": {},
     "output_type": "display_data"
    },
    {
     "name": "stdout",
     "output_type": "stream",
     "text": [
      "\n",
      "# ------------------ ScoreboardModel ----------------- #\n",
      " Trainset mean value for each channel is: 0.10\n",
      " Trainset std  value for each channel is: 0.17\n"
     ]
    },
    {
     "data": {
      "application/vnd.jupyter.widget-view+json": {
       "model_id": "2329065659d24e60b83af58f5afe0c8d",
       "version_major": 2,
       "version_minor": 0
      },
      "text/plain": [
       "HBox(children=(FloatProgress(value=0.0, description='Loss: - Accuracy:', layout=Layout(flex='2'), max=7.0, sty…"
      ]
     },
     "metadata": {},
     "output_type": "display_data"
    },
    {
     "name": "stdout",
     "output_type": "stream",
     "text": [
      "\n",
      "e_num_side=8-e_radius=90-spacing=None-total_area=4000 is already trained for ScoreboardModel\n"
     ]
    },
    {
     "data": {
      "application/vnd.jupyter.widget-view+json": {
       "model_id": "f24276bf9d47470b8c95a1329ddc714e",
       "version_major": 2,
       "version_minor": 0
      },
      "text/plain": [
       "HBox(children=(FloatProgress(value=0.0, description='Loss: - Accuracy:', layout=Layout(flex='2'), max=7.0, sty…"
      ]
     },
     "metadata": {},
     "output_type": "display_data"
    },
    {
     "name": "stdout",
     "output_type": "stream",
     "text": [
      "\n",
      "e_radius 100\n",
      "# ------------------ AxonMapModel ----------------- #\n",
      " Trainset mean value for each channel is: 0.15\n",
      " Trainset std  value for each channel is: 0.20\n"
     ]
    },
    {
     "data": {
      "application/vnd.jupyter.widget-view+json": {
       "model_id": "181a554ba8c84f49aeaa3149d0db8a2e",
       "version_major": 2,
       "version_minor": 0
      },
      "text/plain": [
       "HBox(children=(FloatProgress(value=0.0, description='Loss: - Accuracy:', layout=Layout(flex='2'), max=7.0, sty…"
      ]
     },
     "metadata": {},
     "output_type": "display_data"
    },
    {
     "name": "stdout",
     "output_type": "stream",
     "text": [
      "\n",
      "e_num_side=8-e_radius=100-spacing=None-total_area=4000 is already trained for AxonMapModel\n"
     ]
    },
    {
     "data": {
      "application/vnd.jupyter.widget-view+json": {
       "model_id": "5042db20b07d4775bd97ea0b6aa83ebb",
       "version_major": 2,
       "version_minor": 0
      },
      "text/plain": [
       "HBox(children=(FloatProgress(value=0.0, description='Loss: - Accuracy:', layout=Layout(flex='2'), max=7.0, sty…"
      ]
     },
     "metadata": {},
     "output_type": "display_data"
    },
    {
     "name": "stdout",
     "output_type": "stream",
     "text": [
      "\n",
      "# ------------------ ScoreboardModel ----------------- #\n",
      " Trainset mean value for each channel is: 0.10\n",
      " Trainset std  value for each channel is: 0.17\n"
     ]
    },
    {
     "data": {
      "application/vnd.jupyter.widget-view+json": {
       "model_id": "4953c4ca8ce349e39c8836a22558e5b7",
       "version_major": 2,
       "version_minor": 0
      },
      "text/plain": [
       "HBox(children=(FloatProgress(value=0.0, description='Loss: - Accuracy:', layout=Layout(flex='2'), max=7.0, sty…"
      ]
     },
     "metadata": {},
     "output_type": "display_data"
    },
    {
     "name": "stdout",
     "output_type": "stream",
     "text": [
      "\n",
      "e_num_side=8-e_radius=100-spacing=None-total_area=4000 is already trained for ScoreboardModel\n"
     ]
    },
    {
     "data": {
      "application/vnd.jupyter.widget-view+json": {
       "model_id": "c0ee083304054e17aed980c7601d74c6",
       "version_major": 2,
       "version_minor": 0
      },
      "text/plain": [
       "HBox(children=(FloatProgress(value=0.0, description='Loss: - Accuracy:', layout=Layout(flex='2'), max=7.0, sty…"
      ]
     },
     "metadata": {},
     "output_type": "display_data"
    },
    {
     "name": "stdout",
     "output_type": "stream",
     "text": [
      "\n",
      "e_radius 110\n",
      "# ------------------ AxonMapModel ----------------- #\n",
      " Trainset mean value for each channel is: 0.15\n",
      " Trainset std  value for each channel is: 0.20\n"
     ]
    },
    {
     "data": {
      "application/vnd.jupyter.widget-view+json": {
       "model_id": "ceeca5442e884af095193fb53f33959e",
       "version_major": 2,
       "version_minor": 0
      },
      "text/plain": [
       "HBox(children=(FloatProgress(value=0.0, description='Loss: - Accuracy:', layout=Layout(flex='2'), max=7.0, sty…"
      ]
     },
     "metadata": {},
     "output_type": "display_data"
    },
    {
     "name": "stdout",
     "output_type": "stream",
     "text": [
      "\n",
      "e_num_side=8-e_radius=110-spacing=None-total_area=4000 is already trained for AxonMapModel\n"
     ]
    },
    {
     "data": {
      "application/vnd.jupyter.widget-view+json": {
       "model_id": "fa7362ba2f8e40219869fdf81daad711",
       "version_major": 2,
       "version_minor": 0
      },
      "text/plain": [
       "HBox(children=(FloatProgress(value=0.0, description='Loss: - Accuracy:', layout=Layout(flex='2'), max=7.0, sty…"
      ]
     },
     "metadata": {},
     "output_type": "display_data"
    },
    {
     "name": "stdout",
     "output_type": "stream",
     "text": [
      "\n",
      "# ------------------ ScoreboardModel ----------------- #\n",
      " Trainset mean value for each channel is: 0.10\n",
      " Trainset std  value for each channel is: 0.17\n"
     ]
    },
    {
     "data": {
      "application/vnd.jupyter.widget-view+json": {
       "model_id": "4324a30f23fe4e5c9564dc54ce908ad4",
       "version_major": 2,
       "version_minor": 0
      },
      "text/plain": [
       "HBox(children=(FloatProgress(value=0.0, description='Loss: - Accuracy:', layout=Layout(flex='2'), max=7.0, sty…"
      ]
     },
     "metadata": {},
     "output_type": "display_data"
    },
    {
     "name": "stdout",
     "output_type": "stream",
     "text": [
      "\n",
      "e_num_side=8-e_radius=110-spacing=None-total_area=4000 is already trained for ScoreboardModel\n"
     ]
    },
    {
     "data": {
      "application/vnd.jupyter.widget-view+json": {
       "model_id": "f584d706ac6f4750aa6891d5f54f5ecc",
       "version_major": 2,
       "version_minor": 0
      },
      "text/plain": [
       "HBox(children=(FloatProgress(value=0.0, description='Loss: - Accuracy:', layout=Layout(flex='2'), max=7.0, sty…"
      ]
     },
     "metadata": {},
     "output_type": "display_data"
    },
    {
     "name": "stdout",
     "output_type": "stream",
     "text": [
      "\n",
      "e_radius 120\n",
      "# ------------------ AxonMapModel ----------------- #\n",
      " Trainset mean value for each channel is: 0.15\n",
      " Trainset std  value for each channel is: 0.20\n"
     ]
    },
    {
     "data": {
      "application/vnd.jupyter.widget-view+json": {
       "model_id": "f263ec8c1f2e4d48bec513cbc3247d4d",
       "version_major": 2,
       "version_minor": 0
      },
      "text/plain": [
       "HBox(children=(FloatProgress(value=0.0, description='Loss: - Accuracy:', layout=Layout(flex='2'), max=7.0, sty…"
      ]
     },
     "metadata": {},
     "output_type": "display_data"
    },
    {
     "name": "stdout",
     "output_type": "stream",
     "text": [
      "\n",
      "e_num_side=8-e_radius=120-spacing=None-total_area=4000 is already trained for AxonMapModel\n"
     ]
    },
    {
     "data": {
      "application/vnd.jupyter.widget-view+json": {
       "model_id": "70020980417c46d783a03141ed552e73",
       "version_major": 2,
       "version_minor": 0
      },
      "text/plain": [
       "HBox(children=(FloatProgress(value=0.0, description='Loss: - Accuracy:', layout=Layout(flex='2'), max=7.0, sty…"
      ]
     },
     "metadata": {},
     "output_type": "display_data"
    },
    {
     "name": "stdout",
     "output_type": "stream",
     "text": [
      "\n",
      "# ------------------ ScoreboardModel ----------------- #\n",
      " Trainset mean value for each channel is: 0.10\n",
      " Trainset std  value for each channel is: 0.17\n"
     ]
    },
    {
     "data": {
      "application/vnd.jupyter.widget-view+json": {
       "model_id": "3ce08a219bcc4b4f8438784a5135401c",
       "version_major": 2,
       "version_minor": 0
      },
      "text/plain": [
       "HBox(children=(FloatProgress(value=0.0, description='Loss: - Accuracy:', layout=Layout(flex='2'), max=7.0, sty…"
      ]
     },
     "metadata": {},
     "output_type": "display_data"
    },
    {
     "name": "stdout",
     "output_type": "stream",
     "text": [
      "\n",
      "e_num_side=8-e_radius=120-spacing=None-total_area=4000 is already trained for ScoreboardModel\n"
     ]
    },
    {
     "data": {
      "application/vnd.jupyter.widget-view+json": {
       "model_id": "8d29e565176444e9a14e968adc0e3908",
       "version_major": 2,
       "version_minor": 0
      },
      "text/plain": [
       "HBox(children=(FloatProgress(value=0.0, description='Loss: - Accuracy:', layout=Layout(flex='2'), max=7.0, sty…"
      ]
     },
     "metadata": {},
     "output_type": "display_data"
    },
    {
     "name": "stdout",
     "output_type": "stream",
     "text": [
      "\n",
      "e_radius 130\n",
      "# ------------------ AxonMapModel ----------------- #\n",
      " Trainset mean value for each channel is: 0.15\n",
      " Trainset std  value for each channel is: 0.20\n"
     ]
    },
    {
     "data": {
      "application/vnd.jupyter.widget-view+json": {
       "model_id": "3ddfb3844eda45ed88e8ff3bfdf3f790",
       "version_major": 2,
       "version_minor": 0
      },
      "text/plain": [
       "HBox(children=(FloatProgress(value=0.0, description='Loss: - Accuracy:', layout=Layout(flex='2'), max=7.0, sty…"
      ]
     },
     "metadata": {},
     "output_type": "display_data"
    },
    {
     "name": "stdout",
     "output_type": "stream",
     "text": [
      "\n",
      "e_num_side=8-e_radius=130-spacing=None-total_area=4000 is already trained for AxonMapModel\n"
     ]
    },
    {
     "data": {
      "application/vnd.jupyter.widget-view+json": {
       "model_id": "1b25b3413a1b460292691d237312c87b",
       "version_major": 2,
       "version_minor": 0
      },
      "text/plain": [
       "HBox(children=(FloatProgress(value=0.0, description='Loss: - Accuracy:', layout=Layout(flex='2'), max=7.0, sty…"
      ]
     },
     "metadata": {},
     "output_type": "display_data"
    },
    {
     "name": "stdout",
     "output_type": "stream",
     "text": [
      "\n",
      "# ------------------ ScoreboardModel ----------------- #\n",
      " Trainset mean value for each channel is: 0.10\n",
      " Trainset std  value for each channel is: 0.17\n"
     ]
    },
    {
     "data": {
      "application/vnd.jupyter.widget-view+json": {
       "model_id": "e022381113d84a089e5bd0f5ae3e8cfe",
       "version_major": 2,
       "version_minor": 0
      },
      "text/plain": [
       "HBox(children=(FloatProgress(value=0.0, description='Loss: - Accuracy:', layout=Layout(flex='2'), max=7.0, sty…"
      ]
     },
     "metadata": {},
     "output_type": "display_data"
    },
    {
     "name": "stdout",
     "output_type": "stream",
     "text": [
      "\n",
      "e_num_side=8-e_radius=130-spacing=None-total_area=4000 is already trained for ScoreboardModel\n"
     ]
    },
    {
     "data": {
      "application/vnd.jupyter.widget-view+json": {
       "model_id": "67062721789748728137725d87759624",
       "version_major": 2,
       "version_minor": 0
      },
      "text/plain": [
       "HBox(children=(FloatProgress(value=0.0, description='Loss: - Accuracy:', layout=Layout(flex='2'), max=7.0, sty…"
      ]
     },
     "metadata": {},
     "output_type": "display_data"
    },
    {
     "name": "stdout",
     "output_type": "stream",
     "text": [
      "\n",
      "e_radius 140\n",
      "# ------------------ AxonMapModel ----------------- #\n",
      " Trainset mean value for each channel is: 0.15\n",
      " Trainset std  value for each channel is: 0.20\n"
     ]
    },
    {
     "data": {
      "application/vnd.jupyter.widget-view+json": {
       "model_id": "0e38a074e99f496db7eb338076ae669c",
       "version_major": 2,
       "version_minor": 0
      },
      "text/plain": [
       "HBox(children=(FloatProgress(value=0.0, description='Loss: - Accuracy:', layout=Layout(flex='2'), max=7.0, sty…"
      ]
     },
     "metadata": {},
     "output_type": "display_data"
    },
    {
     "name": "stdout",
     "output_type": "stream",
     "text": [
      "\n",
      "e_num_side=8-e_radius=140-spacing=None-total_area=4000 is already trained for AxonMapModel\n"
     ]
    },
    {
     "data": {
      "application/vnd.jupyter.widget-view+json": {
       "model_id": "9e5cd87fb4a049e4b504c97a384dcfca",
       "version_major": 2,
       "version_minor": 0
      },
      "text/plain": [
       "HBox(children=(FloatProgress(value=0.0, description='Loss: - Accuracy:', layout=Layout(flex='2'), max=7.0, sty…"
      ]
     },
     "metadata": {},
     "output_type": "display_data"
    },
    {
     "name": "stdout",
     "output_type": "stream",
     "text": [
      "\n",
      "# ------------------ ScoreboardModel ----------------- #\n",
      " Trainset mean value for each channel is: 0.10\n",
      " Trainset std  value for each channel is: 0.17\n"
     ]
    },
    {
     "data": {
      "application/vnd.jupyter.widget-view+json": {
       "model_id": "158dd92520304706be495377bf5c81c0",
       "version_major": 2,
       "version_minor": 0
      },
      "text/plain": [
       "HBox(children=(FloatProgress(value=0.0, description='Loss: - Accuracy:', layout=Layout(flex='2'), max=7.0, sty…"
      ]
     },
     "metadata": {},
     "output_type": "display_data"
    },
    {
     "name": "stdout",
     "output_type": "stream",
     "text": [
      "\n",
      "e_num_side=8-e_radius=140-spacing=None-total_area=4000 is already trained for ScoreboardModel\n"
     ]
    },
    {
     "data": {
      "application/vnd.jupyter.widget-view+json": {
       "model_id": "754874c4aba84a46a8504d22523e5aff",
       "version_major": 2,
       "version_minor": 0
      },
      "text/plain": [
       "HBox(children=(FloatProgress(value=0.0, description='Loss: - Accuracy:', layout=Layout(flex='2'), max=7.0, sty…"
      ]
     },
     "metadata": {},
     "output_type": "display_data"
    },
    {
     "name": "stdout",
     "output_type": "stream",
     "text": [
      "\n",
      "e_radius 150\n",
      "# ------------------ AxonMapModel ----------------- #\n",
      " Trainset mean value for each channel is: 0.15\n",
      " Trainset std  value for each channel is: 0.20\n"
     ]
    },
    {
     "data": {
      "application/vnd.jupyter.widget-view+json": {
       "model_id": "43a9e911691f40f7b61b0cb651ad5de9",
       "version_major": 2,
       "version_minor": 0
      },
      "text/plain": [
       "HBox(children=(FloatProgress(value=0.0, description='Loss: - Accuracy:', layout=Layout(flex='2'), max=7.0, sty…"
      ]
     },
     "metadata": {},
     "output_type": "display_data"
    },
    {
     "name": "stdout",
     "output_type": "stream",
     "text": [
      "\n",
      "e_num_side=8-e_radius=150-spacing=None-total_area=4000 is already trained for AxonMapModel\n"
     ]
    },
    {
     "data": {
      "application/vnd.jupyter.widget-view+json": {
       "model_id": "332e32285fdd4ec694c885ca9442e132",
       "version_major": 2,
       "version_minor": 0
      },
      "text/plain": [
       "HBox(children=(FloatProgress(value=0.0, description='Loss: - Accuracy:', layout=Layout(flex='2'), max=7.0, sty…"
      ]
     },
     "metadata": {},
     "output_type": "display_data"
    },
    {
     "name": "stdout",
     "output_type": "stream",
     "text": [
      "\n",
      "# ------------------ ScoreboardModel ----------------- #\n",
      " Trainset mean value for each channel is: 0.10\n",
      " Trainset std  value for each channel is: 0.17\n"
     ]
    },
    {
     "data": {
      "application/vnd.jupyter.widget-view+json": {
       "model_id": "754a1422a8244426958ec8603b65aad2",
       "version_major": 2,
       "version_minor": 0
      },
      "text/plain": [
       "HBox(children=(FloatProgress(value=0.0, description='Loss: - Accuracy:', layout=Layout(flex='2'), max=7.0, sty…"
      ]
     },
     "metadata": {},
     "output_type": "display_data"
    },
    {
     "name": "stdout",
     "output_type": "stream",
     "text": [
      "\n",
      "e_num_side=8-e_radius=150-spacing=None-total_area=4000 is already trained for ScoreboardModel\n"
     ]
    },
    {
     "data": {
      "application/vnd.jupyter.widget-view+json": {
       "model_id": "ded341aa515d4f97ac5b3562decab287",
       "version_major": 2,
       "version_minor": 0
      },
      "text/plain": [
       "HBox(children=(FloatProgress(value=0.0, description='Loss: - Accuracy:', layout=Layout(flex='2'), max=7.0, sty…"
      ]
     },
     "metadata": {},
     "output_type": "display_data"
    },
    {
     "name": "stdout",
     "output_type": "stream",
     "text": [
      "\n",
      "e_radius 160\n",
      "# ------------------ AxonMapModel ----------------- #\n",
      " Trainset mean value for each channel is: 0.15\n",
      " Trainset std  value for each channel is: 0.20\n"
     ]
    },
    {
     "data": {
      "application/vnd.jupyter.widget-view+json": {
       "model_id": "a21edfc63fe5457f94c8154447f87803",
       "version_major": 2,
       "version_minor": 0
      },
      "text/plain": [
       "HBox(children=(FloatProgress(value=0.0, description='Loss: - Accuracy:', layout=Layout(flex='2'), max=7.0, sty…"
      ]
     },
     "metadata": {},
     "output_type": "display_data"
    },
    {
     "name": "stdout",
     "output_type": "stream",
     "text": [
      "\n",
      "e_num_side=8-e_radius=160-spacing=None-total_area=4000 is already trained for AxonMapModel\n"
     ]
    },
    {
     "data": {
      "application/vnd.jupyter.widget-view+json": {
       "model_id": "937f2735707a468f9d1ab857a377019d",
       "version_major": 2,
       "version_minor": 0
      },
      "text/plain": [
       "HBox(children=(FloatProgress(value=0.0, description='Loss: - Accuracy:', layout=Layout(flex='2'), max=7.0, sty…"
      ]
     },
     "metadata": {},
     "output_type": "display_data"
    },
    {
     "name": "stdout",
     "output_type": "stream",
     "text": [
      "\n",
      "# ------------------ ScoreboardModel ----------------- #\n",
      " Trainset mean value for each channel is: 0.10\n",
      " Trainset std  value for each channel is: 0.17\n"
     ]
    },
    {
     "data": {
      "application/vnd.jupyter.widget-view+json": {
       "model_id": "b34d4565539942279c02b5c28ac0c16a",
       "version_major": 2,
       "version_minor": 0
      },
      "text/plain": [
       "HBox(children=(FloatProgress(value=0.0, description='Loss: - Accuracy:', layout=Layout(flex='2'), max=7.0, sty…"
      ]
     },
     "metadata": {},
     "output_type": "display_data"
    },
    {
     "name": "stdout",
     "output_type": "stream",
     "text": [
      "\n",
      "e_num_side=8-e_radius=160-spacing=None-total_area=4000 is already trained for ScoreboardModel\n"
     ]
    },
    {
     "data": {
      "application/vnd.jupyter.widget-view+json": {
       "model_id": "f639053d84e14b5092ba101152a1dbca",
       "version_major": 2,
       "version_minor": 0
      },
      "text/plain": [
       "HBox(children=(FloatProgress(value=0.0, description='Loss: - Accuracy:', layout=Layout(flex='2'), max=7.0, sty…"
      ]
     },
     "metadata": {},
     "output_type": "display_data"
    },
    {
     "name": "stdout",
     "output_type": "stream",
     "text": [
      "\n",
      "e_radius 170\n",
      "# ------------------ AxonMapModel ----------------- #\n",
      " Trainset mean value for each channel is: 0.15\n",
      " Trainset std  value for each channel is: 0.20\n"
     ]
    },
    {
     "data": {
      "application/vnd.jupyter.widget-view+json": {
       "model_id": "15febef27cd54094bc87f03463e27c61",
       "version_major": 2,
       "version_minor": 0
      },
      "text/plain": [
       "HBox(children=(FloatProgress(value=0.0, description='Loss: - Accuracy:', layout=Layout(flex='2'), max=7.0, sty…"
      ]
     },
     "metadata": {},
     "output_type": "display_data"
    },
    {
     "name": "stdout",
     "output_type": "stream",
     "text": [
      "\n",
      "e_num_side=8-e_radius=170-spacing=None-total_area=4000 is already trained for AxonMapModel\n"
     ]
    },
    {
     "data": {
      "application/vnd.jupyter.widget-view+json": {
       "model_id": "c08b0bbeb40246aeb1737133fba6ede6",
       "version_major": 2,
       "version_minor": 0
      },
      "text/plain": [
       "HBox(children=(FloatProgress(value=0.0, description='Loss: - Accuracy:', layout=Layout(flex='2'), max=7.0, sty…"
      ]
     },
     "metadata": {},
     "output_type": "display_data"
    },
    {
     "name": "stdout",
     "output_type": "stream",
     "text": [
      "\n",
      "# ------------------ ScoreboardModel ----------------- #\n",
      " Trainset mean value for each channel is: 0.10\n",
      " Trainset std  value for each channel is: 0.17\n"
     ]
    },
    {
     "data": {
      "application/vnd.jupyter.widget-view+json": {
       "model_id": "befdbfdcbfd646bd8b5f85e55686ec58",
       "version_major": 2,
       "version_minor": 0
      },
      "text/plain": [
       "HBox(children=(FloatProgress(value=0.0, description='Loss: - Accuracy:', layout=Layout(flex='2'), max=7.0, sty…"
      ]
     },
     "metadata": {},
     "output_type": "display_data"
    },
    {
     "name": "stdout",
     "output_type": "stream",
     "text": [
      "\n",
      "e_num_side=8-e_radius=170-spacing=None-total_area=4000 is already trained for ScoreboardModel\n"
     ]
    },
    {
     "data": {
      "application/vnd.jupyter.widget-view+json": {
       "model_id": "36e4b4385c33442a9c0e567e538175c6",
       "version_major": 2,
       "version_minor": 0
      },
      "text/plain": [
       "HBox(children=(FloatProgress(value=0.0, description='Loss: - Accuracy:', layout=Layout(flex='2'), max=7.0, sty…"
      ]
     },
     "metadata": {},
     "output_type": "display_data"
    },
    {
     "name": "stdout",
     "output_type": "stream",
     "text": [
      "\n",
      "e_radius 180\n",
      "# ------------------ AxonMapModel ----------------- #\n",
      " Trainset mean value for each channel is: 0.15\n",
      " Trainset std  value for each channel is: 0.20\n"
     ]
    },
    {
     "data": {
      "application/vnd.jupyter.widget-view+json": {
       "model_id": "c606e51231e84cb48bd827e027a36fb9",
       "version_major": 2,
       "version_minor": 0
      },
      "text/plain": [
       "HBox(children=(FloatProgress(value=0.0, description='Loss: - Accuracy:', layout=Layout(flex='2'), max=7.0, sty…"
      ]
     },
     "metadata": {},
     "output_type": "display_data"
    },
    {
     "name": "stdout",
     "output_type": "stream",
     "text": [
      "\n",
      "e_num_side=8-e_radius=180-spacing=None-total_area=4000 is already trained for AxonMapModel\n"
     ]
    },
    {
     "data": {
      "application/vnd.jupyter.widget-view+json": {
       "model_id": "6ed45d620e224b31aa81bd6265ead7c2",
       "version_major": 2,
       "version_minor": 0
      },
      "text/plain": [
       "HBox(children=(FloatProgress(value=0.0, description='Loss: - Accuracy:', layout=Layout(flex='2'), max=7.0, sty…"
      ]
     },
     "metadata": {},
     "output_type": "display_data"
    },
    {
     "name": "stdout",
     "output_type": "stream",
     "text": [
      "\n",
      "# ------------------ ScoreboardModel ----------------- #\n",
      " Trainset mean value for each channel is: 0.10\n",
      " Trainset std  value for each channel is: 0.17\n"
     ]
    },
    {
     "data": {
      "application/vnd.jupyter.widget-view+json": {
       "model_id": "b3dc3b93ed154b03b7fe4fe14c3c7013",
       "version_major": 2,
       "version_minor": 0
      },
      "text/plain": [
       "HBox(children=(FloatProgress(value=0.0, description='Loss: - Accuracy:', layout=Layout(flex='2'), max=7.0, sty…"
      ]
     },
     "metadata": {},
     "output_type": "display_data"
    },
    {
     "name": "stdout",
     "output_type": "stream",
     "text": [
      "\n",
      "e_num_side=8-e_radius=180-spacing=None-total_area=4000 is already trained for ScoreboardModel\n"
     ]
    },
    {
     "data": {
      "application/vnd.jupyter.widget-view+json": {
       "model_id": "33e8c7319ddb405ab311958bb096c85f",
       "version_major": 2,
       "version_minor": 0
      },
      "text/plain": [
       "HBox(children=(FloatProgress(value=0.0, description='Loss: - Accuracy:', layout=Layout(flex='2'), max=7.0, sty…"
      ]
     },
     "metadata": {},
     "output_type": "display_data"
    },
    {
     "name": "stdout",
     "output_type": "stream",
     "text": [
      "\n",
      "e_radius 190\n",
      "# ------------------ AxonMapModel ----------------- #\n",
      " Trainset mean value for each channel is: 0.15\n",
      " Trainset std  value for each channel is: 0.20\n"
     ]
    },
    {
     "data": {
      "application/vnd.jupyter.widget-view+json": {
       "model_id": "17f8e0f879484e6794e7efa6e058d374",
       "version_major": 2,
       "version_minor": 0
      },
      "text/plain": [
       "HBox(children=(FloatProgress(value=0.0, description='Loss: - Accuracy:', layout=Layout(flex='2'), max=7.0, sty…"
      ]
     },
     "metadata": {},
     "output_type": "display_data"
    },
    {
     "name": "stdout",
     "output_type": "stream",
     "text": [
      "\n",
      "e_num_side=8-e_radius=190-spacing=None-total_area=4000 is already trained for AxonMapModel\n"
     ]
    },
    {
     "data": {
      "application/vnd.jupyter.widget-view+json": {
       "model_id": "3d8747185db9427c8227f2879cc5c501",
       "version_major": 2,
       "version_minor": 0
      },
      "text/plain": [
       "HBox(children=(FloatProgress(value=0.0, description='Loss: - Accuracy:', layout=Layout(flex='2'), max=7.0, sty…"
      ]
     },
     "metadata": {},
     "output_type": "display_data"
    },
    {
     "name": "stdout",
     "output_type": "stream",
     "text": [
      "\n",
      "# ------------------ ScoreboardModel ----------------- #\n",
      " Trainset mean value for each channel is: 0.10\n",
      " Trainset std  value for each channel is: 0.17\n"
     ]
    },
    {
     "data": {
      "application/vnd.jupyter.widget-view+json": {
       "model_id": "31b49edf63564df59ebb806a8167f58a",
       "version_major": 2,
       "version_minor": 0
      },
      "text/plain": [
       "HBox(children=(FloatProgress(value=0.0, description='Loss: - Accuracy:', layout=Layout(flex='2'), max=7.0, sty…"
      ]
     },
     "metadata": {},
     "output_type": "display_data"
    },
    {
     "name": "stdout",
     "output_type": "stream",
     "text": [
      "\n",
      "e_num_side=8-e_radius=190-spacing=None-total_area=4000 is already trained for ScoreboardModel\n"
     ]
    },
    {
     "data": {
      "application/vnd.jupyter.widget-view+json": {
       "model_id": "872f1fa6c01a430d904effb3988aa12f",
       "version_major": 2,
       "version_minor": 0
      },
      "text/plain": [
       "HBox(children=(FloatProgress(value=0.0, description='Loss: - Accuracy:', layout=Layout(flex='2'), max=7.0, sty…"
      ]
     },
     "metadata": {},
     "output_type": "display_data"
    },
    {
     "name": "stdout",
     "output_type": "stream",
     "text": [
      "\n",
      "e_radius 200\n",
      "# ------------------ AxonMapModel ----------------- #\n",
      " Trainset mean value for each channel is: 0.15\n",
      " Trainset std  value for each channel is: 0.20\n"
     ]
    },
    {
     "data": {
      "application/vnd.jupyter.widget-view+json": {
       "model_id": "c06d84b5752b44d8b752c43722645faa",
       "version_major": 2,
       "version_minor": 0
      },
      "text/plain": [
       "HBox(children=(FloatProgress(value=0.0, description='Loss: - Accuracy:', layout=Layout(flex='2'), max=7.0, sty…"
      ]
     },
     "metadata": {},
     "output_type": "display_data"
    },
    {
     "name": "stdout",
     "output_type": "stream",
     "text": [
      "\n",
      "e_num_side=8-e_radius=200-spacing=None-total_area=4000 is already trained for AxonMapModel\n"
     ]
    },
    {
     "data": {
      "application/vnd.jupyter.widget-view+json": {
       "model_id": "4b015fb62ff34b47baecd5cc488b629b",
       "version_major": 2,
       "version_minor": 0
      },
      "text/plain": [
       "HBox(children=(FloatProgress(value=0.0, description='Loss: - Accuracy:', layout=Layout(flex='2'), max=7.0, sty…"
      ]
     },
     "metadata": {},
     "output_type": "display_data"
    },
    {
     "name": "stdout",
     "output_type": "stream",
     "text": [
      "\n",
      "# ------------------ ScoreboardModel ----------------- #\n",
      " Trainset mean value for each channel is: 0.10\n",
      " Trainset std  value for each channel is: 0.17\n"
     ]
    },
    {
     "data": {
      "application/vnd.jupyter.widget-view+json": {
       "model_id": "d860e39a241e4457bf80fb88cc8cafe7",
       "version_major": 2,
       "version_minor": 0
      },
      "text/plain": [
       "HBox(children=(FloatProgress(value=0.0, description='Loss: - Accuracy:', layout=Layout(flex='2'), max=7.0, sty…"
      ]
     },
     "metadata": {},
     "output_type": "display_data"
    },
    {
     "name": "stdout",
     "output_type": "stream",
     "text": [
      "\n",
      "e_num_side=8-e_radius=200-spacing=None-total_area=4000 is already trained for ScoreboardModel\n"
     ]
    },
    {
     "data": {
      "application/vnd.jupyter.widget-view+json": {
       "model_id": "517a8c4cfbf6402e962c07e939f8f109",
       "version_major": 2,
       "version_minor": 0
      },
      "text/plain": [
       "HBox(children=(FloatProgress(value=0.0, description='Loss: - Accuracy:', layout=Layout(flex='2'), max=7.0, sty…"
      ]
     },
     "metadata": {},
     "output_type": "display_data"
    },
    {
     "name": "stdout",
     "output_type": "stream",
     "text": [
      "\n",
      "e_radius 210\n",
      "# ------------------ AxonMapModel ----------------- #\n",
      " Trainset mean value for each channel is: 0.15\n",
      " Trainset std  value for each channel is: 0.20\n"
     ]
    },
    {
     "data": {
      "application/vnd.jupyter.widget-view+json": {
       "model_id": "3b4b7acaabcc49c7bb6f4bac264d921d",
       "version_major": 2,
       "version_minor": 0
      },
      "text/plain": [
       "HBox(children=(FloatProgress(value=0.0, description='Loss: - Accuracy:', layout=Layout(flex='2'), max=7.0, sty…"
      ]
     },
     "metadata": {},
     "output_type": "display_data"
    },
    {
     "name": "stdout",
     "output_type": "stream",
     "text": [
      "\n",
      "e_num_side=8-e_radius=210-spacing=None-total_area=4000 is already trained for AxonMapModel\n"
     ]
    },
    {
     "data": {
      "application/vnd.jupyter.widget-view+json": {
       "model_id": "ea0d2534ef194cf185f4eecdff34e19f",
       "version_major": 2,
       "version_minor": 0
      },
      "text/plain": [
       "HBox(children=(FloatProgress(value=0.0, description='Loss: - Accuracy:', layout=Layout(flex='2'), max=7.0, sty…"
      ]
     },
     "metadata": {},
     "output_type": "display_data"
    },
    {
     "name": "stdout",
     "output_type": "stream",
     "text": [
      "\n",
      "# ------------------ ScoreboardModel ----------------- #\n",
      " Trainset mean value for each channel is: 0.10\n",
      " Trainset std  value for each channel is: 0.17\n"
     ]
    },
    {
     "data": {
      "application/vnd.jupyter.widget-view+json": {
       "model_id": "dda21ac6a9fc434e911dcc8779985d41",
       "version_major": 2,
       "version_minor": 0
      },
      "text/plain": [
       "HBox(children=(FloatProgress(value=0.0, description='Loss: - Accuracy:', layout=Layout(flex='2'), max=7.0, sty…"
      ]
     },
     "metadata": {},
     "output_type": "display_data"
    },
    {
     "name": "stdout",
     "output_type": "stream",
     "text": [
      "\n",
      "e_num_side=8-e_radius=210-spacing=None-total_area=4000 is already trained for ScoreboardModel\n"
     ]
    },
    {
     "data": {
      "application/vnd.jupyter.widget-view+json": {
       "model_id": "947c7dc3e1a34334bb71089c986eb489",
       "version_major": 2,
       "version_minor": 0
      },
      "text/plain": [
       "HBox(children=(FloatProgress(value=0.0, description='Loss: - Accuracy:', layout=Layout(flex='2'), max=7.0, sty…"
      ]
     },
     "metadata": {},
     "output_type": "display_data"
    },
    {
     "name": "stdout",
     "output_type": "stream",
     "text": [
      "\n",
      "e_radius 220\n",
      "# ------------------ AxonMapModel ----------------- #\n",
      " Trainset mean value for each channel is: 0.15\n",
      " Trainset std  value for each channel is: 0.20\n"
     ]
    },
    {
     "data": {
      "application/vnd.jupyter.widget-view+json": {
       "model_id": "72a31e7563944285b3baf9351d6a1298",
       "version_major": 2,
       "version_minor": 0
      },
      "text/plain": [
       "HBox(children=(FloatProgress(value=0.0, description='Loss: - Accuracy:', layout=Layout(flex='2'), max=7.0, sty…"
      ]
     },
     "metadata": {},
     "output_type": "display_data"
    },
    {
     "name": "stdout",
     "output_type": "stream",
     "text": [
      "\n",
      "e_num_side=8-e_radius=220-spacing=None-total_area=4000 is already trained for AxonMapModel\n"
     ]
    },
    {
     "data": {
      "application/vnd.jupyter.widget-view+json": {
       "model_id": "1e76dbbb8a6640dc984561636a13eb04",
       "version_major": 2,
       "version_minor": 0
      },
      "text/plain": [
       "HBox(children=(FloatProgress(value=0.0, description='Loss: - Accuracy:', layout=Layout(flex='2'), max=7.0, sty…"
      ]
     },
     "metadata": {},
     "output_type": "display_data"
    },
    {
     "name": "stdout",
     "output_type": "stream",
     "text": [
      "\n",
      "# ------------------ ScoreboardModel ----------------- #\n",
      " Trainset mean value for each channel is: 0.10\n",
      " Trainset std  value for each channel is: 0.17\n"
     ]
    },
    {
     "data": {
      "application/vnd.jupyter.widget-view+json": {
       "model_id": "4fc61c1522c041cabcbf9ba402360c27",
       "version_major": 2,
       "version_minor": 0
      },
      "text/plain": [
       "HBox(children=(FloatProgress(value=0.0, description='Loss: - Accuracy:', layout=Layout(flex='2'), max=7.0, sty…"
      ]
     },
     "metadata": {},
     "output_type": "display_data"
    },
    {
     "name": "stdout",
     "output_type": "stream",
     "text": [
      "\n",
      "e_num_side=8-e_radius=220-spacing=None-total_area=4000 is already trained for ScoreboardModel\n"
     ]
    },
    {
     "data": {
      "application/vnd.jupyter.widget-view+json": {
       "model_id": "291e8d743d084b3d8d9493f9cad4188d",
       "version_major": 2,
       "version_minor": 0
      },
      "text/plain": [
       "HBox(children=(FloatProgress(value=0.0, description='Loss: - Accuracy:', layout=Layout(flex='2'), max=7.0, sty…"
      ]
     },
     "metadata": {},
     "output_type": "display_data"
    },
    {
     "name": "stdout",
     "output_type": "stream",
     "text": [
      "\n",
      "e_radius 230\n",
      "# ------------------ AxonMapModel ----------------- #\n",
      " Trainset mean value for each channel is: 0.15\n",
      " Trainset std  value for each channel is: 0.20\n"
     ]
    },
    {
     "data": {
      "application/vnd.jupyter.widget-view+json": {
       "model_id": "608f6ac58bcc49258443eb650c5d3fa5",
       "version_major": 2,
       "version_minor": 0
      },
      "text/plain": [
       "HBox(children=(FloatProgress(value=0.0, description='Loss: - Accuracy:', layout=Layout(flex='2'), max=7.0, sty…"
      ]
     },
     "metadata": {},
     "output_type": "display_data"
    },
    {
     "name": "stdout",
     "output_type": "stream",
     "text": [
      "\n",
      "e_num_side=8-e_radius=230-spacing=None-total_area=4000 is already trained for AxonMapModel\n"
     ]
    },
    {
     "data": {
      "application/vnd.jupyter.widget-view+json": {
       "model_id": "7adaf281ac2a4c1cb9dc55b0aa3b6ae6",
       "version_major": 2,
       "version_minor": 0
      },
      "text/plain": [
       "HBox(children=(FloatProgress(value=0.0, description='Loss: - Accuracy:', layout=Layout(flex='2'), max=7.0, sty…"
      ]
     },
     "metadata": {},
     "output_type": "display_data"
    },
    {
     "name": "stdout",
     "output_type": "stream",
     "text": [
      "\n",
      "# ------------------ ScoreboardModel ----------------- #\n",
      " Trainset mean value for each channel is: 0.10\n",
      " Trainset std  value for each channel is: 0.17\n"
     ]
    },
    {
     "data": {
      "application/vnd.jupyter.widget-view+json": {
       "model_id": "e0fd74856d75427484669a5ca1970d0b",
       "version_major": 2,
       "version_minor": 0
      },
      "text/plain": [
       "HBox(children=(FloatProgress(value=0.0, description='Loss: - Accuracy:', layout=Layout(flex='2'), max=7.0, sty…"
      ]
     },
     "metadata": {},
     "output_type": "display_data"
    },
    {
     "name": "stdout",
     "output_type": "stream",
     "text": [
      "\n",
      "e_num_side=8-e_radius=230-spacing=None-total_area=4000 is already trained for ScoreboardModel\n"
     ]
    },
    {
     "data": {
      "application/vnd.jupyter.widget-view+json": {
       "model_id": "16dbb8216273403488ba51b3e21a6b53",
       "version_major": 2,
       "version_minor": 0
      },
      "text/plain": [
       "HBox(children=(FloatProgress(value=0.0, description='Loss: - Accuracy:', layout=Layout(flex='2'), max=7.0, sty…"
      ]
     },
     "metadata": {},
     "output_type": "display_data"
    },
    {
     "name": "stdout",
     "output_type": "stream",
     "text": [
      "\n",
      "e_radius 240\n",
      "# ------------------ AxonMapModel ----------------- #\n",
      " Trainset mean value for each channel is: 0.15\n",
      " Trainset std  value for each channel is: 0.20\n"
     ]
    },
    {
     "data": {
      "application/vnd.jupyter.widget-view+json": {
       "model_id": "943c363e25dd4a98bfb95d270b558c72",
       "version_major": 2,
       "version_minor": 0
      },
      "text/plain": [
       "HBox(children=(FloatProgress(value=0.0, description='Loss: - Accuracy:', layout=Layout(flex='2'), max=7.0, sty…"
      ]
     },
     "metadata": {},
     "output_type": "display_data"
    },
    {
     "name": "stdout",
     "output_type": "stream",
     "text": [
      "\n",
      "e_num_side=8-e_radius=240-spacing=None-total_area=4000 is already trained for AxonMapModel\n"
     ]
    },
    {
     "data": {
      "application/vnd.jupyter.widget-view+json": {
       "model_id": "d0cd71e78c694f888c544475b8f4978a",
       "version_major": 2,
       "version_minor": 0
      },
      "text/plain": [
       "HBox(children=(FloatProgress(value=0.0, description='Loss: - Accuracy:', layout=Layout(flex='2'), max=7.0, sty…"
      ]
     },
     "metadata": {},
     "output_type": "display_data"
    },
    {
     "name": "stdout",
     "output_type": "stream",
     "text": [
      "\n",
      "# ------------------ ScoreboardModel ----------------- #\n",
      " Trainset mean value for each channel is: 0.10\n",
      " Trainset std  value for each channel is: 0.17\n"
     ]
    },
    {
     "data": {
      "application/vnd.jupyter.widget-view+json": {
       "model_id": "adfa1b627dd946cbb1c4be4324334fba",
       "version_major": 2,
       "version_minor": 0
      },
      "text/plain": [
       "HBox(children=(FloatProgress(value=0.0, description='Loss: - Accuracy:', layout=Layout(flex='2'), max=7.0, sty…"
      ]
     },
     "metadata": {},
     "output_type": "display_data"
    },
    {
     "name": "stdout",
     "output_type": "stream",
     "text": [
      "\n",
      "e_num_side=8-e_radius=240-spacing=None-total_area=4000 is already trained for ScoreboardModel\n"
     ]
    },
    {
     "data": {
      "application/vnd.jupyter.widget-view+json": {
       "model_id": "a35801cf005f41778d54c7f72e1086bb",
       "version_major": 2,
       "version_minor": 0
      },
      "text/plain": [
       "HBox(children=(FloatProgress(value=0.0, description='Loss: - Accuracy:', layout=Layout(flex='2'), max=7.0, sty…"
      ]
     },
     "metadata": {},
     "output_type": "display_data"
    },
    {
     "name": "stdout",
     "output_type": "stream",
     "text": [
      "\n",
      "e_radius 250\n",
      "# ------------------ AxonMapModel ----------------- #\n",
      " Trainset mean value for each channel is: 0.15\n",
      " Trainset std  value for each channel is: 0.20\n"
     ]
    },
    {
     "data": {
      "application/vnd.jupyter.widget-view+json": {
       "model_id": "2f2c897194be4c91a65962121153661c",
       "version_major": 2,
       "version_minor": 0
      },
      "text/plain": [
       "HBox(children=(FloatProgress(value=0.0, description='Loss: - Accuracy:', layout=Layout(flex='2'), max=7.0, sty…"
      ]
     },
     "metadata": {},
     "output_type": "display_data"
    },
    {
     "name": "stdout",
     "output_type": "stream",
     "text": [
      "\n",
      "e_num_side=8-e_radius=250-spacing=None-total_area=4000 is already trained for AxonMapModel\n"
     ]
    },
    {
     "data": {
      "application/vnd.jupyter.widget-view+json": {
       "model_id": "131a378720414678aea72ca3775a5070",
       "version_major": 2,
       "version_minor": 0
      },
      "text/plain": [
       "HBox(children=(FloatProgress(value=0.0, description='Loss: - Accuracy:', layout=Layout(flex='2'), max=7.0, sty…"
      ]
     },
     "metadata": {},
     "output_type": "display_data"
    },
    {
     "name": "stdout",
     "output_type": "stream",
     "text": [
      "\n",
      "# ------------------ ScoreboardModel ----------------- #\n",
      " Trainset mean value for each channel is: 0.10\n",
      " Trainset std  value for each channel is: 0.17\n"
     ]
    },
    {
     "data": {
      "application/vnd.jupyter.widget-view+json": {
       "model_id": "655fac7445484934bc0fce62e16fa258",
       "version_major": 2,
       "version_minor": 0
      },
      "text/plain": [
       "HBox(children=(FloatProgress(value=0.0, description='Loss: - Accuracy:', layout=Layout(flex='2'), max=7.0, sty…"
      ]
     },
     "metadata": {},
     "output_type": "display_data"
    },
    {
     "name": "stdout",
     "output_type": "stream",
     "text": [
      "\n",
      "e_num_side=8-e_radius=250-spacing=None-total_area=4000 is already trained for ScoreboardModel\n"
     ]
    },
    {
     "data": {
      "application/vnd.jupyter.widget-view+json": {
       "model_id": "3072d168ec8d4f7aa176b54870256e97",
       "version_major": 2,
       "version_minor": 0
      },
      "text/plain": [
       "HBox(children=(FloatProgress(value=0.0, description='Loss: - Accuracy:', layout=Layout(flex='2'), max=7.0, sty…"
      ]
     },
     "metadata": {},
     "output_type": "display_data"
    },
    {
     "name": "stdout",
     "output_type": "stream",
     "text": [
      "\n",
      "e_radius 260\n",
      "# ------------------ AxonMapModel ----------------- #\n",
      " Trainset mean value for each channel is: 0.15\n",
      " Trainset std  value for each channel is: 0.20\n"
     ]
    },
    {
     "data": {
      "application/vnd.jupyter.widget-view+json": {
       "model_id": "5b76119860bc4079928094452c1ac38e",
       "version_major": 2,
       "version_minor": 0
      },
      "text/plain": [
       "HBox(children=(FloatProgress(value=0.0, description='Loss: - Accuracy:', layout=Layout(flex='2'), max=7.0, sty…"
      ]
     },
     "metadata": {},
     "output_type": "display_data"
    },
    {
     "name": "stdout",
     "output_type": "stream",
     "text": [
      "\n",
      "e_num_side=8-e_radius=260-spacing=None-total_area=4000 is already trained for AxonMapModel\n"
     ]
    },
    {
     "data": {
      "application/vnd.jupyter.widget-view+json": {
       "model_id": "ed175dd4c89547eebc3cbd806afa1f48",
       "version_major": 2,
       "version_minor": 0
      },
      "text/plain": [
       "HBox(children=(FloatProgress(value=0.0, description='Loss: - Accuracy:', layout=Layout(flex='2'), max=7.0, sty…"
      ]
     },
     "metadata": {},
     "output_type": "display_data"
    },
    {
     "name": "stdout",
     "output_type": "stream",
     "text": [
      "\n",
      "# ------------------ ScoreboardModel ----------------- #\n",
      " Trainset mean value for each channel is: 0.10\n",
      " Trainset std  value for each channel is: 0.17\n"
     ]
    },
    {
     "data": {
      "application/vnd.jupyter.widget-view+json": {
       "model_id": "44bd19ebaf5b415ab4038c7bc50d88ee",
       "version_major": 2,
       "version_minor": 0
      },
      "text/plain": [
       "HBox(children=(FloatProgress(value=0.0, description='Loss: - Accuracy:', layout=Layout(flex='2'), max=7.0, sty…"
      ]
     },
     "metadata": {},
     "output_type": "display_data"
    },
    {
     "name": "stdout",
     "output_type": "stream",
     "text": [
      "\n",
      "e_num_side=8-e_radius=260-spacing=None-total_area=4000 is already trained for ScoreboardModel\n"
     ]
    },
    {
     "data": {
      "application/vnd.jupyter.widget-view+json": {
       "model_id": "506a9c29722f4846b4f4861ae2060966",
       "version_major": 2,
       "version_minor": 0
      },
      "text/plain": [
       "HBox(children=(FloatProgress(value=0.0, description='Loss: - Accuracy:', layout=Layout(flex='2'), max=7.0, sty…"
      ]
     },
     "metadata": {},
     "output_type": "display_data"
    },
    {
     "name": "stdout",
     "output_type": "stream",
     "text": [
      "\n",
      "e_radius 270\n",
      "# ------------------ AxonMapModel ----------------- #\n",
      " Trainset mean value for each channel is: 0.15\n",
      " Trainset std  value for each channel is: 0.20\n"
     ]
    },
    {
     "data": {
      "application/vnd.jupyter.widget-view+json": {
       "model_id": "0007d99f93d0450c86175c4bf2af1c68",
       "version_major": 2,
       "version_minor": 0
      },
      "text/plain": [
       "HBox(children=(FloatProgress(value=0.0, description='Loss: - Accuracy:', layout=Layout(flex='2'), max=7.0, sty…"
      ]
     },
     "metadata": {},
     "output_type": "display_data"
    },
    {
     "name": "stdout",
     "output_type": "stream",
     "text": [
      "\n",
      "e_num_side=8-e_radius=270-spacing=None-total_area=4000 is already trained for AxonMapModel\n"
     ]
    },
    {
     "data": {
      "application/vnd.jupyter.widget-view+json": {
       "model_id": "d65257fda0524f9daa100655011cebd3",
       "version_major": 2,
       "version_minor": 0
      },
      "text/plain": [
       "HBox(children=(FloatProgress(value=0.0, description='Loss: - Accuracy:', layout=Layout(flex='2'), max=7.0, sty…"
      ]
     },
     "metadata": {},
     "output_type": "display_data"
    },
    {
     "name": "stdout",
     "output_type": "stream",
     "text": [
      "\n",
      "# ------------------ ScoreboardModel ----------------- #\n",
      " Trainset mean value for each channel is: 0.10\n",
      " Trainset std  value for each channel is: 0.17\n"
     ]
    },
    {
     "data": {
      "application/vnd.jupyter.widget-view+json": {
       "model_id": "02f16c3900e34e3ea5088560d5475c61",
       "version_major": 2,
       "version_minor": 0
      },
      "text/plain": [
       "HBox(children=(FloatProgress(value=0.0, description='Loss: - Accuracy:', layout=Layout(flex='2'), max=7.0, sty…"
      ]
     },
     "metadata": {},
     "output_type": "display_data"
    },
    {
     "name": "stdout",
     "output_type": "stream",
     "text": [
      "\n",
      "e_num_side=8-e_radius=270-spacing=None-total_area=4000 is already trained for ScoreboardModel\n"
     ]
    },
    {
     "data": {
      "application/vnd.jupyter.widget-view+json": {
       "model_id": "c1b864a9544d4e779f4a37efdcf844c5",
       "version_major": 2,
       "version_minor": 0
      },
      "text/plain": [
       "HBox(children=(FloatProgress(value=0.0, description='Loss: - Accuracy:', layout=Layout(flex='2'), max=7.0, sty…"
      ]
     },
     "metadata": {},
     "output_type": "display_data"
    },
    {
     "name": "stdout",
     "output_type": "stream",
     "text": [
      "\n",
      "e_radius 280\n",
      "# ------------------ AxonMapModel ----------------- #\n",
      " Trainset mean value for each channel is: 0.15\n",
      " Trainset std  value for each channel is: 0.20\n"
     ]
    },
    {
     "data": {
      "application/vnd.jupyter.widget-view+json": {
       "model_id": "bfcd28ab58c84a35974016b3f846317c",
       "version_major": 2,
       "version_minor": 0
      },
      "text/plain": [
       "HBox(children=(FloatProgress(value=0.0, description='Loss: - Accuracy:', layout=Layout(flex='2'), max=7.0, sty…"
      ]
     },
     "metadata": {},
     "output_type": "display_data"
    },
    {
     "name": "stdout",
     "output_type": "stream",
     "text": [
      "\n",
      "e_num_side=8-e_radius=280-spacing=None-total_area=4000 is already trained for AxonMapModel\n"
     ]
    },
    {
     "data": {
      "application/vnd.jupyter.widget-view+json": {
       "model_id": "53c8a233f20c422e8297ac0f5895c37c",
       "version_major": 2,
       "version_minor": 0
      },
      "text/plain": [
       "HBox(children=(FloatProgress(value=0.0, description='Loss: - Accuracy:', layout=Layout(flex='2'), max=7.0, sty…"
      ]
     },
     "metadata": {},
     "output_type": "display_data"
    },
    {
     "name": "stdout",
     "output_type": "stream",
     "text": [
      "\n",
      "# ------------------ ScoreboardModel ----------------- #\n",
      " Trainset mean value for each channel is: 0.10\n",
      " Trainset std  value for each channel is: 0.17\n"
     ]
    },
    {
     "data": {
      "application/vnd.jupyter.widget-view+json": {
       "model_id": "a5fce66be0d04013a105f5fdf3643f3f",
       "version_major": 2,
       "version_minor": 0
      },
      "text/plain": [
       "HBox(children=(FloatProgress(value=0.0, description='Loss: - Accuracy:', layout=Layout(flex='2'), max=7.0, sty…"
      ]
     },
     "metadata": {},
     "output_type": "display_data"
    },
    {
     "name": "stdout",
     "output_type": "stream",
     "text": [
      "\n",
      "e_num_side=8-e_radius=280-spacing=None-total_area=4000 is already trained for ScoreboardModel\n"
     ]
    },
    {
     "data": {
      "application/vnd.jupyter.widget-view+json": {
       "model_id": "8f26308b072d4bab94531a66502f46c2",
       "version_major": 2,
       "version_minor": 0
      },
      "text/plain": [
       "HBox(children=(FloatProgress(value=0.0, description='Loss: - Accuracy:', layout=Layout(flex='2'), max=7.0, sty…"
      ]
     },
     "metadata": {},
     "output_type": "display_data"
    },
    {
     "name": "stdout",
     "output_type": "stream",
     "text": [
      "\n",
      "e_radius 290\n",
      "# ------------------ AxonMapModel ----------------- #\n",
      " Trainset mean value for each channel is: 0.15\n",
      " Trainset std  value for each channel is: 0.20\n"
     ]
    },
    {
     "data": {
      "application/vnd.jupyter.widget-view+json": {
       "model_id": "a225c6b59432470fabc25cb8e03e9467",
       "version_major": 2,
       "version_minor": 0
      },
      "text/plain": [
       "HBox(children=(FloatProgress(value=0.0, description='Loss: - Accuracy:', layout=Layout(flex='2'), max=7.0, sty…"
      ]
     },
     "metadata": {},
     "output_type": "display_data"
    },
    {
     "name": "stdout",
     "output_type": "stream",
     "text": [
      "\n",
      "e_num_side=8-e_radius=290-spacing=None-total_area=4000 is already trained for AxonMapModel\n"
     ]
    },
    {
     "data": {
      "application/vnd.jupyter.widget-view+json": {
       "model_id": "bef574476f894f8fa21d3d9d5630d149",
       "version_major": 2,
       "version_minor": 0
      },
      "text/plain": [
       "HBox(children=(FloatProgress(value=0.0, description='Loss: - Accuracy:', layout=Layout(flex='2'), max=7.0, sty…"
      ]
     },
     "metadata": {},
     "output_type": "display_data"
    },
    {
     "name": "stdout",
     "output_type": "stream",
     "text": [
      "\n",
      "# ------------------ ScoreboardModel ----------------- #\n",
      " Trainset mean value for each channel is: 0.10\n",
      " Trainset std  value for each channel is: 0.17\n"
     ]
    },
    {
     "data": {
      "application/vnd.jupyter.widget-view+json": {
       "model_id": "b13d133f0e0b406b8bd639f186190f25",
       "version_major": 2,
       "version_minor": 0
      },
      "text/plain": [
       "HBox(children=(FloatProgress(value=0.0, description='Loss: - Accuracy:', layout=Layout(flex='2'), max=7.0, sty…"
      ]
     },
     "metadata": {},
     "output_type": "display_data"
    },
    {
     "name": "stdout",
     "output_type": "stream",
     "text": [
      "\n",
      "e_num_side=8-e_radius=290-spacing=None-total_area=4000 is already trained for ScoreboardModel\n"
     ]
    },
    {
     "data": {
      "application/vnd.jupyter.widget-view+json": {
       "model_id": "827894c3ec0849f3b0e027acfa592ea5",
       "version_major": 2,
       "version_minor": 0
      },
      "text/plain": [
       "HBox(children=(FloatProgress(value=0.0, description='Loss: - Accuracy:', layout=Layout(flex='2'), max=7.0, sty…"
      ]
     },
     "metadata": {},
     "output_type": "display_data"
    },
    {
     "name": "stdout",
     "output_type": "stream",
     "text": [
      "\n",
      "e_radius 300\n",
      "# ------------------ AxonMapModel ----------------- #\n",
      " Trainset mean value for each channel is: 0.15\n",
      " Trainset std  value for each channel is: 0.20\n"
     ]
    },
    {
     "data": {
      "application/vnd.jupyter.widget-view+json": {
       "model_id": "512e91a12d8b4480a50a07c9e443301f",
       "version_major": 2,
       "version_minor": 0
      },
      "text/plain": [
       "HBox(children=(FloatProgress(value=0.0, description='Loss: - Accuracy:', layout=Layout(flex='2'), max=7.0, sty…"
      ]
     },
     "metadata": {},
     "output_type": "display_data"
    },
    {
     "name": "stdout",
     "output_type": "stream",
     "text": [
      "\n",
      "e_num_side=8-e_radius=300-spacing=None-total_area=4000 is already trained for AxonMapModel\n"
     ]
    },
    {
     "data": {
      "application/vnd.jupyter.widget-view+json": {
       "model_id": "feab18fce1874065b60429ffa13a6fa9",
       "version_major": 2,
       "version_minor": 0
      },
      "text/plain": [
       "HBox(children=(FloatProgress(value=0.0, description='Loss: - Accuracy:', layout=Layout(flex='2'), max=7.0, sty…"
      ]
     },
     "metadata": {},
     "output_type": "display_data"
    },
    {
     "name": "stdout",
     "output_type": "stream",
     "text": [
      "\n",
      "# ------------------ ScoreboardModel ----------------- #\n",
      " Trainset mean value for each channel is: 0.10\n",
      " Trainset std  value for each channel is: 0.17\n"
     ]
    },
    {
     "data": {
      "application/vnd.jupyter.widget-view+json": {
       "model_id": "5df011769613407398e76d525f58f1df",
       "version_major": 2,
       "version_minor": 0
      },
      "text/plain": [
       "HBox(children=(FloatProgress(value=0.0, description='Loss: - Accuracy:', layout=Layout(flex='2'), max=7.0, sty…"
      ]
     },
     "metadata": {},
     "output_type": "display_data"
    },
    {
     "name": "stdout",
     "output_type": "stream",
     "text": [
      "\n",
      "e_num_side=8-e_radius=300-spacing=None-total_area=4000 is already trained for ScoreboardModel\n"
     ]
    },
    {
     "data": {
      "application/vnd.jupyter.widget-view+json": {
       "model_id": "de2a44f481d04d7c85f7690976e614de",
       "version_major": 2,
       "version_minor": 0
      },
      "text/plain": [
       "HBox(children=(FloatProgress(value=0.0, description='Loss: - Accuracy:', layout=Layout(flex='2'), max=7.0, sty…"
      ]
     },
     "metadata": {},
     "output_type": "display_data"
    },
    {
     "name": "stdout",
     "output_type": "stream",
     "text": [
      "\n",
      "e_radius 310\n",
      "# ------------------ AxonMapModel ----------------- #\n",
      " Trainset mean value for each channel is: 0.15\n",
      " Trainset std  value for each channel is: 0.20\n"
     ]
    },
    {
     "data": {
      "application/vnd.jupyter.widget-view+json": {
       "model_id": "ed0fa20e20bf4a649503fa3d62b18801",
       "version_major": 2,
       "version_minor": 0
      },
      "text/plain": [
       "HBox(children=(FloatProgress(value=0.0, description='Loss: - Accuracy:', layout=Layout(flex='2'), max=7.0, sty…"
      ]
     },
     "metadata": {},
     "output_type": "display_data"
    },
    {
     "name": "stdout",
     "output_type": "stream",
     "text": [
      "\n",
      "e_num_side=8-e_radius=310-spacing=None-total_area=4000 is already trained for AxonMapModel\n"
     ]
    },
    {
     "data": {
      "application/vnd.jupyter.widget-view+json": {
       "model_id": "92de535296af4109aef1cded3c4f5a58",
       "version_major": 2,
       "version_minor": 0
      },
      "text/plain": [
       "HBox(children=(FloatProgress(value=0.0, description='Loss: - Accuracy:', layout=Layout(flex='2'), max=7.0, sty…"
      ]
     },
     "metadata": {},
     "output_type": "display_data"
    },
    {
     "name": "stdout",
     "output_type": "stream",
     "text": [
      "\n",
      "# ------------------ ScoreboardModel ----------------- #\n",
      " Trainset mean value for each channel is: 0.10\n",
      " Trainset std  value for each channel is: 0.17\n"
     ]
    },
    {
     "data": {
      "application/vnd.jupyter.widget-view+json": {
       "model_id": "7875025861cd4ef583f21e83b694c3ec",
       "version_major": 2,
       "version_minor": 0
      },
      "text/plain": [
       "HBox(children=(FloatProgress(value=0.0, description='Loss: - Accuracy:', layout=Layout(flex='2'), max=7.0, sty…"
      ]
     },
     "metadata": {},
     "output_type": "display_data"
    },
    {
     "name": "stdout",
     "output_type": "stream",
     "text": [
      "\n",
      "e_num_side=8-e_radius=310-spacing=None-total_area=4000 is already trained for ScoreboardModel\n"
     ]
    },
    {
     "data": {
      "application/vnd.jupyter.widget-view+json": {
       "model_id": "fcdbc76a4f574de6bc6111dc577575ac",
       "version_major": 2,
       "version_minor": 0
      },
      "text/plain": [
       "HBox(children=(FloatProgress(value=0.0, description='Loss: - Accuracy:', layout=Layout(flex='2'), max=7.0, sty…"
      ]
     },
     "metadata": {},
     "output_type": "display_data"
    },
    {
     "name": "stdout",
     "output_type": "stream",
     "text": [
      "\n",
      "e_radius 320\n",
      "# ------------------ AxonMapModel ----------------- #\n",
      " Trainset mean value for each channel is: 0.15\n",
      " Trainset std  value for each channel is: 0.20\n"
     ]
    },
    {
     "data": {
      "application/vnd.jupyter.widget-view+json": {
       "model_id": "f7029ca79dc3455a855624a2bbfce8c9",
       "version_major": 2,
       "version_minor": 0
      },
      "text/plain": [
       "HBox(children=(FloatProgress(value=0.0, description='Loss: - Accuracy:', layout=Layout(flex='2'), max=7.0, sty…"
      ]
     },
     "metadata": {},
     "output_type": "display_data"
    },
    {
     "name": "stdout",
     "output_type": "stream",
     "text": [
      "\n",
      "e_num_side=8-e_radius=320-spacing=None-total_area=4000 is already trained for AxonMapModel\n"
     ]
    },
    {
     "data": {
      "application/vnd.jupyter.widget-view+json": {
       "model_id": "0eb758969da846df88abd51be13584b8",
       "version_major": 2,
       "version_minor": 0
      },
      "text/plain": [
       "HBox(children=(FloatProgress(value=0.0, description='Loss: - Accuracy:', layout=Layout(flex='2'), max=7.0, sty…"
      ]
     },
     "metadata": {},
     "output_type": "display_data"
    },
    {
     "name": "stdout",
     "output_type": "stream",
     "text": [
      "\n",
      "# ------------------ ScoreboardModel ----------------- #\n",
      " Trainset mean value for each channel is: 0.10\n",
      " Trainset std  value for each channel is: 0.17\n"
     ]
    },
    {
     "data": {
      "application/vnd.jupyter.widget-view+json": {
       "model_id": "298133d1d285473d93b13c1e9dcbfe1e",
       "version_major": 2,
       "version_minor": 0
      },
      "text/plain": [
       "HBox(children=(FloatProgress(value=0.0, description='Loss: - Accuracy:', layout=Layout(flex='2'), max=7.0, sty…"
      ]
     },
     "metadata": {},
     "output_type": "display_data"
    },
    {
     "name": "stdout",
     "output_type": "stream",
     "text": [
      "\n",
      "e_num_side=8-e_radius=320-spacing=None-total_area=4000 is already trained for ScoreboardModel\n"
     ]
    },
    {
     "data": {
      "application/vnd.jupyter.widget-view+json": {
       "model_id": "3754e09c67614ead80a6556047e30cbc",
       "version_major": 2,
       "version_minor": 0
      },
      "text/plain": [
       "HBox(children=(FloatProgress(value=0.0, description='Loss: - Accuracy:', layout=Layout(flex='2'), max=7.0, sty…"
      ]
     },
     "metadata": {},
     "output_type": "display_data"
    },
    {
     "name": "stdout",
     "output_type": "stream",
     "text": [
      "\n",
      "e_radius 330\n",
      "# ------------------ AxonMapModel ----------------- #\n",
      " Trainset mean value for each channel is: 0.15\n",
      " Trainset std  value for each channel is: 0.20\n"
     ]
    },
    {
     "data": {
      "application/vnd.jupyter.widget-view+json": {
       "model_id": "2e6a35b673624c76980dcdf7ab839bbd",
       "version_major": 2,
       "version_minor": 0
      },
      "text/plain": [
       "HBox(children=(FloatProgress(value=0.0, description='Loss: - Accuracy:', layout=Layout(flex='2'), max=7.0, sty…"
      ]
     },
     "metadata": {},
     "output_type": "display_data"
    },
    {
     "name": "stdout",
     "output_type": "stream",
     "text": [
      "\n",
      "e_num_side=8-e_radius=330-spacing=None-total_area=4000 is already trained for AxonMapModel\n"
     ]
    },
    {
     "data": {
      "application/vnd.jupyter.widget-view+json": {
       "model_id": "053e45ef3f334ec7bd362588ca07423c",
       "version_major": 2,
       "version_minor": 0
      },
      "text/plain": [
       "HBox(children=(FloatProgress(value=0.0, description='Loss: - Accuracy:', layout=Layout(flex='2'), max=7.0, sty…"
      ]
     },
     "metadata": {},
     "output_type": "display_data"
    },
    {
     "name": "stdout",
     "output_type": "stream",
     "text": [
      "\n",
      "# ------------------ ScoreboardModel ----------------- #\n",
      " Trainset mean value for each channel is: 0.10\n",
      " Trainset std  value for each channel is: 0.17\n"
     ]
    },
    {
     "data": {
      "application/vnd.jupyter.widget-view+json": {
       "model_id": "dd04cda6ffae48b584db9570f0a263b7",
       "version_major": 2,
       "version_minor": 0
      },
      "text/plain": [
       "HBox(children=(FloatProgress(value=0.0, description='Loss: - Accuracy:', layout=Layout(flex='2'), max=7.0, sty…"
      ]
     },
     "metadata": {},
     "output_type": "display_data"
    },
    {
     "name": "stdout",
     "output_type": "stream",
     "text": [
      "\n",
      "e_num_side=8-e_radius=330-spacing=None-total_area=4000 is already trained for ScoreboardModel\n"
     ]
    },
    {
     "data": {
      "application/vnd.jupyter.widget-view+json": {
       "model_id": "376ca3c0c5034444a976e704c5eed052",
       "version_major": 2,
       "version_minor": 0
      },
      "text/plain": [
       "HBox(children=(FloatProgress(value=0.0, description='Loss: - Accuracy:', layout=Layout(flex='2'), max=7.0, sty…"
      ]
     },
     "metadata": {},
     "output_type": "display_data"
    },
    {
     "name": "stdout",
     "output_type": "stream",
     "text": [
      "\n",
      "e_radius 340\n",
      "# ------------------ AxonMapModel ----------------- #\n",
      " Trainset mean value for each channel is: 0.15\n",
      " Trainset std  value for each channel is: 0.20\n"
     ]
    },
    {
     "data": {
      "application/vnd.jupyter.widget-view+json": {
       "model_id": "da11438912e44639b8226c42c9095ebb",
       "version_major": 2,
       "version_minor": 0
      },
      "text/plain": [
       "HBox(children=(FloatProgress(value=0.0, description='Loss: - Accuracy:', layout=Layout(flex='2'), max=7.0, sty…"
      ]
     },
     "metadata": {},
     "output_type": "display_data"
    },
    {
     "name": "stdout",
     "output_type": "stream",
     "text": [
      "\n",
      "e_num_side=8-e_radius=340-spacing=None-total_area=4000 is already trained for AxonMapModel\n"
     ]
    },
    {
     "data": {
      "application/vnd.jupyter.widget-view+json": {
       "model_id": "d2e7a90e88dc47f9b35b2c0951978006",
       "version_major": 2,
       "version_minor": 0
      },
      "text/plain": [
       "HBox(children=(FloatProgress(value=0.0, description='Loss: - Accuracy:', layout=Layout(flex='2'), max=7.0, sty…"
      ]
     },
     "metadata": {},
     "output_type": "display_data"
    },
    {
     "name": "stdout",
     "output_type": "stream",
     "text": [
      "\n",
      "# ------------------ ScoreboardModel ----------------- #\n",
      " Trainset mean value for each channel is: 0.10\n",
      " Trainset std  value for each channel is: 0.17\n"
     ]
    },
    {
     "data": {
      "application/vnd.jupyter.widget-view+json": {
       "model_id": "cf889fd17731486ea8b23aa498db110f",
       "version_major": 2,
       "version_minor": 0
      },
      "text/plain": [
       "HBox(children=(FloatProgress(value=0.0, description='Loss: - Accuracy:', layout=Layout(flex='2'), max=7.0, sty…"
      ]
     },
     "metadata": {},
     "output_type": "display_data"
    },
    {
     "name": "stdout",
     "output_type": "stream",
     "text": [
      "\n",
      "e_num_side=8-e_radius=340-spacing=None-total_area=4000 is already trained for ScoreboardModel\n"
     ]
    },
    {
     "data": {
      "application/vnd.jupyter.widget-view+json": {
       "model_id": "233aa27033c642118f9024193f160565",
       "version_major": 2,
       "version_minor": 0
      },
      "text/plain": [
       "HBox(children=(FloatProgress(value=0.0, description='Loss: - Accuracy:', layout=Layout(flex='2'), max=7.0, sty…"
      ]
     },
     "metadata": {},
     "output_type": "display_data"
    },
    {
     "name": "stdout",
     "output_type": "stream",
     "text": [
      "\n",
      "e_radius 350\n",
      "# ------------------ AxonMapModel ----------------- #\n",
      " Trainset mean value for each channel is: 0.15\n",
      " Trainset std  value for each channel is: 0.20\n"
     ]
    },
    {
     "data": {
      "application/vnd.jupyter.widget-view+json": {
       "model_id": "25796943dfa143d584a4d5b4a4e696e1",
       "version_major": 2,
       "version_minor": 0
      },
      "text/plain": [
       "HBox(children=(FloatProgress(value=0.0, description='Loss: - Accuracy:', layout=Layout(flex='2'), max=7.0, sty…"
      ]
     },
     "metadata": {},
     "output_type": "display_data"
    },
    {
     "name": "stdout",
     "output_type": "stream",
     "text": [
      "\n",
      "e_num_side=8-e_radius=350-spacing=None-total_area=4000 is already trained for AxonMapModel\n"
     ]
    },
    {
     "data": {
      "application/vnd.jupyter.widget-view+json": {
       "model_id": "9607275550a04ef79f27bbecfd0574a9",
       "version_major": 2,
       "version_minor": 0
      },
      "text/plain": [
       "HBox(children=(FloatProgress(value=0.0, description='Loss: - Accuracy:', layout=Layout(flex='2'), max=7.0, sty…"
      ]
     },
     "metadata": {},
     "output_type": "display_data"
    },
    {
     "name": "stdout",
     "output_type": "stream",
     "text": [
      "\n",
      "# ------------------ ScoreboardModel ----------------- #\n",
      " Trainset mean value for each channel is: 0.10\n",
      " Trainset std  value for each channel is: 0.17\n"
     ]
    },
    {
     "data": {
      "application/vnd.jupyter.widget-view+json": {
       "model_id": "3272ed555a244b838dfe3cb91102fa1c",
       "version_major": 2,
       "version_minor": 0
      },
      "text/plain": [
       "HBox(children=(FloatProgress(value=0.0, description='Loss: - Accuracy:', layout=Layout(flex='2'), max=7.0, sty…"
      ]
     },
     "metadata": {},
     "output_type": "display_data"
    },
    {
     "name": "stdout",
     "output_type": "stream",
     "text": [
      "\n",
      "e_num_side=8-e_radius=350-spacing=None-total_area=4000 is already trained for ScoreboardModel\n"
     ]
    },
    {
     "data": {
      "application/vnd.jupyter.widget-view+json": {
       "model_id": "a709794ca1bf42698cf95c7a09c6eea0",
       "version_major": 2,
       "version_minor": 0
      },
      "text/plain": [
       "HBox(children=(FloatProgress(value=0.0, description='Loss: - Accuracy:', layout=Layout(flex='2'), max=7.0, sty…"
      ]
     },
     "metadata": {},
     "output_type": "display_data"
    },
    {
     "name": "stdout",
     "output_type": "stream",
     "text": [
      "\n",
      "e_radius 360\n",
      "# ------------------ AxonMapModel ----------------- #\n",
      " Trainset mean value for each channel is: 0.15\n",
      " Trainset std  value for each channel is: 0.20\n"
     ]
    },
    {
     "data": {
      "application/vnd.jupyter.widget-view+json": {
       "model_id": "765219d4c5804a0e9150b471a4c7ae56",
       "version_major": 2,
       "version_minor": 0
      },
      "text/plain": [
       "HBox(children=(FloatProgress(value=0.0, description='Loss: - Accuracy:', layout=Layout(flex='2'), max=7.0, sty…"
      ]
     },
     "metadata": {},
     "output_type": "display_data"
    },
    {
     "name": "stdout",
     "output_type": "stream",
     "text": [
      "\n",
      "e_num_side=8-e_radius=360-spacing=None-total_area=4000 is already trained for AxonMapModel\n"
     ]
    },
    {
     "data": {
      "application/vnd.jupyter.widget-view+json": {
       "model_id": "86ff0b35aef146f586554ac67e1c48d0",
       "version_major": 2,
       "version_minor": 0
      },
      "text/plain": [
       "HBox(children=(FloatProgress(value=0.0, description='Loss: - Accuracy:', layout=Layout(flex='2'), max=7.0, sty…"
      ]
     },
     "metadata": {},
     "output_type": "display_data"
    },
    {
     "name": "stdout",
     "output_type": "stream",
     "text": [
      "\n",
      "# ------------------ ScoreboardModel ----------------- #\n",
      " Trainset mean value for each channel is: 0.10\n",
      " Trainset std  value for each channel is: 0.17\n"
     ]
    },
    {
     "data": {
      "application/vnd.jupyter.widget-view+json": {
       "model_id": "908e40d285294a3d866b378455f902ab",
       "version_major": 2,
       "version_minor": 0
      },
      "text/plain": [
       "HBox(children=(FloatProgress(value=0.0, description='Loss: - Accuracy:', layout=Layout(flex='2'), max=7.0, sty…"
      ]
     },
     "metadata": {},
     "output_type": "display_data"
    },
    {
     "name": "stdout",
     "output_type": "stream",
     "text": [
      "\n",
      "e_num_side=8-e_radius=360-spacing=None-total_area=4000 is already trained for ScoreboardModel\n"
     ]
    },
    {
     "data": {
      "application/vnd.jupyter.widget-view+json": {
       "model_id": "794c2662fccf4ffbae8ca2eb30c8742f",
       "version_major": 2,
       "version_minor": 0
      },
      "text/plain": [
       "HBox(children=(FloatProgress(value=0.0, description='Loss: - Accuracy:', layout=Layout(flex='2'), max=7.0, sty…"
      ]
     },
     "metadata": {},
     "output_type": "display_data"
    },
    {
     "name": "stdout",
     "output_type": "stream",
     "text": [
      "\n",
      "e_radius 370\n",
      "# ------------------ AxonMapModel ----------------- #\n",
      " Trainset mean value for each channel is: 0.15\n",
      " Trainset std  value for each channel is: 0.20\n"
     ]
    },
    {
     "data": {
      "application/vnd.jupyter.widget-view+json": {
       "model_id": "7377795e0c7245b0ab7304c7f3bcf30a",
       "version_major": 2,
       "version_minor": 0
      },
      "text/plain": [
       "HBox(children=(FloatProgress(value=0.0, description='Loss: - Accuracy:', layout=Layout(flex='2'), max=7.0, sty…"
      ]
     },
     "metadata": {},
     "output_type": "display_data"
    },
    {
     "name": "stdout",
     "output_type": "stream",
     "text": [
      "\n",
      "e_num_side=8-e_radius=370-spacing=None-total_area=4000 is already trained for AxonMapModel\n"
     ]
    },
    {
     "data": {
      "application/vnd.jupyter.widget-view+json": {
       "model_id": "3aaa05d424d041a3a1135217cfc257e0",
       "version_major": 2,
       "version_minor": 0
      },
      "text/plain": [
       "HBox(children=(FloatProgress(value=0.0, description='Loss: - Accuracy:', layout=Layout(flex='2'), max=7.0, sty…"
      ]
     },
     "metadata": {},
     "output_type": "display_data"
    },
    {
     "name": "stdout",
     "output_type": "stream",
     "text": [
      "\n",
      "# ------------------ ScoreboardModel ----------------- #\n",
      " Trainset mean value for each channel is: 0.10\n",
      " Trainset std  value for each channel is: 0.17\n"
     ]
    },
    {
     "data": {
      "application/vnd.jupyter.widget-view+json": {
       "model_id": "9eee9191f82345a8acf37dab8b2c3283",
       "version_major": 2,
       "version_minor": 0
      },
      "text/plain": [
       "HBox(children=(FloatProgress(value=0.0, description='Loss: - Accuracy:', layout=Layout(flex='2'), max=7.0, sty…"
      ]
     },
     "metadata": {},
     "output_type": "display_data"
    },
    {
     "name": "stdout",
     "output_type": "stream",
     "text": [
      "\n",
      "e_num_side=8-e_radius=370-spacing=None-total_area=4000 is already trained for ScoreboardModel\n"
     ]
    },
    {
     "data": {
      "application/vnd.jupyter.widget-view+json": {
       "model_id": "b9c90dc54a864c1e9165dad0e289acc7",
       "version_major": 2,
       "version_minor": 0
      },
      "text/plain": [
       "HBox(children=(FloatProgress(value=0.0, description='Loss: - Accuracy:', layout=Layout(flex='2'), max=7.0, sty…"
      ]
     },
     "metadata": {},
     "output_type": "display_data"
    },
    {
     "name": "stdout",
     "output_type": "stream",
     "text": [
      "\n",
      "e_radius 380\n",
      "# ------------------ AxonMapModel ----------------- #\n",
      " Trainset mean value for each channel is: 0.15\n",
      " Trainset std  value for each channel is: 0.20\n"
     ]
    },
    {
     "data": {
      "application/vnd.jupyter.widget-view+json": {
       "model_id": "447c7170671845e6b21c93ed0e914235",
       "version_major": 2,
       "version_minor": 0
      },
      "text/plain": [
       "HBox(children=(FloatProgress(value=0.0, description='Loss: - Accuracy:', layout=Layout(flex='2'), max=7.0, sty…"
      ]
     },
     "metadata": {},
     "output_type": "display_data"
    },
    {
     "name": "stdout",
     "output_type": "stream",
     "text": [
      "\n",
      "e_num_side=8-e_radius=380-spacing=None-total_area=4000 is already trained for AxonMapModel\n"
     ]
    },
    {
     "data": {
      "application/vnd.jupyter.widget-view+json": {
       "model_id": "ff041171cfb943ccb2178637ba0b1a26",
       "version_major": 2,
       "version_minor": 0
      },
      "text/plain": [
       "HBox(children=(FloatProgress(value=0.0, description='Loss: - Accuracy:', layout=Layout(flex='2'), max=7.0, sty…"
      ]
     },
     "metadata": {},
     "output_type": "display_data"
    },
    {
     "name": "stdout",
     "output_type": "stream",
     "text": [
      "\n",
      "# ------------------ ScoreboardModel ----------------- #\n",
      " Trainset mean value for each channel is: 0.10\n",
      " Trainset std  value for each channel is: 0.17\n"
     ]
    },
    {
     "data": {
      "application/vnd.jupyter.widget-view+json": {
       "model_id": "74fb9b3437fb4f24be7d5aa23a444eab",
       "version_major": 2,
       "version_minor": 0
      },
      "text/plain": [
       "HBox(children=(FloatProgress(value=0.0, description='Loss: - Accuracy:', layout=Layout(flex='2'), max=7.0, sty…"
      ]
     },
     "metadata": {},
     "output_type": "display_data"
    },
    {
     "name": "stdout",
     "output_type": "stream",
     "text": [
      "\n",
      "e_num_side=8-e_radius=380-spacing=None-total_area=4000 is already trained for ScoreboardModel\n"
     ]
    },
    {
     "data": {
      "application/vnd.jupyter.widget-view+json": {
       "model_id": "29182440fca043ef927af1d10cb48b00",
       "version_major": 2,
       "version_minor": 0
      },
      "text/plain": [
       "HBox(children=(FloatProgress(value=0.0, description='Loss: - Accuracy:', layout=Layout(flex='2'), max=7.0, sty…"
      ]
     },
     "metadata": {},
     "output_type": "display_data"
    },
    {
     "name": "stdout",
     "output_type": "stream",
     "text": [
      "\n",
      "e_radius 390\n",
      "# ------------------ AxonMapModel ----------------- #\n",
      " Trainset mean value for each channel is: 0.15\n",
      " Trainset std  value for each channel is: 0.20\n"
     ]
    },
    {
     "data": {
      "application/vnd.jupyter.widget-view+json": {
       "model_id": "917227195c2640178fe84997517e0df8",
       "version_major": 2,
       "version_minor": 0
      },
      "text/plain": [
       "HBox(children=(FloatProgress(value=0.0, description='Loss: - Accuracy:', layout=Layout(flex='2'), max=7.0, sty…"
      ]
     },
     "metadata": {},
     "output_type": "display_data"
    },
    {
     "name": "stdout",
     "output_type": "stream",
     "text": [
      "\n",
      "e_num_side=8-e_radius=390-spacing=None-total_area=4000 is already trained for AxonMapModel\n"
     ]
    },
    {
     "data": {
      "application/vnd.jupyter.widget-view+json": {
       "model_id": "fed229ada184484bace6eec6ecce21b9",
       "version_major": 2,
       "version_minor": 0
      },
      "text/plain": [
       "HBox(children=(FloatProgress(value=0.0, description='Loss: - Accuracy:', layout=Layout(flex='2'), max=7.0, sty…"
      ]
     },
     "metadata": {},
     "output_type": "display_data"
    },
    {
     "name": "stdout",
     "output_type": "stream",
     "text": [
      "\n",
      "# ------------------ ScoreboardModel ----------------- #\n",
      " Trainset mean value for each channel is: 0.10\n",
      " Trainset std  value for each channel is: 0.17\n"
     ]
    },
    {
     "data": {
      "application/vnd.jupyter.widget-view+json": {
       "model_id": "e2e0691795a744989f2c90d8af92835c",
       "version_major": 2,
       "version_minor": 0
      },
      "text/plain": [
       "HBox(children=(FloatProgress(value=0.0, description='Loss: - Accuracy:', layout=Layout(flex='2'), max=7.0, sty…"
      ]
     },
     "metadata": {},
     "output_type": "display_data"
    },
    {
     "name": "stdout",
     "output_type": "stream",
     "text": [
      "\n",
      "e_num_side=8-e_radius=390-spacing=None-total_area=4000 is already trained for ScoreboardModel\n"
     ]
    },
    {
     "data": {
      "application/vnd.jupyter.widget-view+json": {
       "model_id": "b7001578d52b4b4e9a139aade27ea726",
       "version_major": 2,
       "version_minor": 0
      },
      "text/plain": [
       "HBox(children=(FloatProgress(value=0.0, description='Loss: - Accuracy:', layout=Layout(flex='2'), max=7.0, sty…"
      ]
     },
     "metadata": {},
     "output_type": "display_data"
    },
    {
     "name": "stdout",
     "output_type": "stream",
     "text": [
      "\n",
      "e_radius 400\n",
      "# ------------------ AxonMapModel ----------------- #\n",
      " Trainset mean value for each channel is: 0.15\n",
      " Trainset std  value for each channel is: 0.20\n"
     ]
    },
    {
     "data": {
      "application/vnd.jupyter.widget-view+json": {
       "model_id": "48af9c5692b94dfcacebe435f69f20c2",
       "version_major": 2,
       "version_minor": 0
      },
      "text/plain": [
       "HBox(children=(FloatProgress(value=0.0, description='Loss: - Accuracy:', layout=Layout(flex='2'), max=7.0, sty…"
      ]
     },
     "metadata": {},
     "output_type": "display_data"
    },
    {
     "name": "stdout",
     "output_type": "stream",
     "text": [
      "\n",
      "e_num_side=8-e_radius=400-spacing=None-total_area=4000 is already trained for AxonMapModel\n"
     ]
    },
    {
     "data": {
      "application/vnd.jupyter.widget-view+json": {
       "model_id": "51ae6a82ce0f4027a8373fdc0c6023e6",
       "version_major": 2,
       "version_minor": 0
      },
      "text/plain": [
       "HBox(children=(FloatProgress(value=0.0, description='Loss: - Accuracy:', layout=Layout(flex='2'), max=7.0, sty…"
      ]
     },
     "metadata": {},
     "output_type": "display_data"
    },
    {
     "name": "stdout",
     "output_type": "stream",
     "text": [
      "\n",
      "# ------------------ ScoreboardModel ----------------- #\n",
      " Trainset mean value for each channel is: 0.10\n",
      " Trainset std  value for each channel is: 0.17\n"
     ]
    },
    {
     "data": {
      "application/vnd.jupyter.widget-view+json": {
       "model_id": "8ea9db25b46c470b82f92cb6af771e8b",
       "version_major": 2,
       "version_minor": 0
      },
      "text/plain": [
       "HBox(children=(FloatProgress(value=0.0, description='Loss: - Accuracy:', layout=Layout(flex='2'), max=7.0, sty…"
      ]
     },
     "metadata": {},
     "output_type": "display_data"
    },
    {
     "name": "stdout",
     "output_type": "stream",
     "text": [
      "\n",
      "e_num_side=8-e_radius=400-spacing=None-total_area=4000 is already trained for ScoreboardModel\n"
     ]
    },
    {
     "data": {
      "application/vnd.jupyter.widget-view+json": {
       "model_id": "c68d6be1edd543c1b2259b58b92c8052",
       "version_major": 2,
       "version_minor": 0
      },
      "text/plain": [
       "HBox(children=(FloatProgress(value=0.0, description='Loss: - Accuracy:', layout=Layout(flex='2'), max=7.0, sty…"
      ]
     },
     "metadata": {},
     "output_type": "display_data"
    },
    {
     "name": "stdout",
     "output_type": "stream",
     "text": [
      "\n",
      "e_num_side 10\n",
      "e_radius 10\n",
      "# ------------------ AxonMapModel ----------------- #\n",
      " Trainset mean value for each channel is: 0.19\n",
      " Trainset std  value for each channel is: 0.23\n"
     ]
    },
    {
     "data": {
      "application/vnd.jupyter.widget-view+json": {
       "model_id": "4ea3edf791ae44f29b691da420556272",
       "version_major": 2,
       "version_minor": 0
      },
      "text/plain": [
       "HBox(children=(FloatProgress(value=0.0, description='Loss: - Accuracy:', layout=Layout(flex='2'), max=7.0, sty…"
      ]
     },
     "metadata": {},
     "output_type": "display_data"
    },
    {
     "name": "stdout",
     "output_type": "stream",
     "text": [
      "\n",
      "e_num_side=10-e_radius=10-spacing=None-total_area=4000 is already trained for AxonMapModel\n"
     ]
    },
    {
     "data": {
      "application/vnd.jupyter.widget-view+json": {
       "model_id": "cf7f62cfde7442048aa768766df70989",
       "version_major": 2,
       "version_minor": 0
      },
      "text/plain": [
       "HBox(children=(FloatProgress(value=0.0, description='Loss: - Accuracy:', layout=Layout(flex='2'), max=7.0, sty…"
      ]
     },
     "metadata": {},
     "output_type": "display_data"
    },
    {
     "name": "stdout",
     "output_type": "stream",
     "text": [
      "\n",
      "# ------------------ ScoreboardModel ----------------- #\n",
      " Trainset mean value for each channel is: 0.14\n",
      " Trainset std  value for each channel is: 0.20\n"
     ]
    },
    {
     "data": {
      "application/vnd.jupyter.widget-view+json": {
       "model_id": "cf08300c5d174d9796ee453dd9100175",
       "version_major": 2,
       "version_minor": 0
      },
      "text/plain": [
       "HBox(children=(FloatProgress(value=0.0, description='Loss: - Accuracy:', layout=Layout(flex='2'), max=7.0, sty…"
      ]
     },
     "metadata": {},
     "output_type": "display_data"
    },
    {
     "name": "stdout",
     "output_type": "stream",
     "text": [
      "\n",
      "e_num_side=10-e_radius=10-spacing=None-total_area=4000 is already trained for ScoreboardModel\n"
     ]
    },
    {
     "data": {
      "application/vnd.jupyter.widget-view+json": {
       "model_id": "f951d177bb7d4f38a33b83581e3a955e",
       "version_major": 2,
       "version_minor": 0
      },
      "text/plain": [
       "HBox(children=(FloatProgress(value=0.0, description='Loss: - Accuracy:', layout=Layout(flex='2'), max=7.0, sty…"
      ]
     },
     "metadata": {},
     "output_type": "display_data"
    },
    {
     "name": "stdout",
     "output_type": "stream",
     "text": [
      "\n",
      "e_radius 20\n",
      "# ------------------ AxonMapModel ----------------- #\n",
      " Trainset mean value for each channel is: 0.19\n",
      " Trainset std  value for each channel is: 0.23\n"
     ]
    },
    {
     "data": {
      "application/vnd.jupyter.widget-view+json": {
       "model_id": "aa9a486b70b945e99544ea24ead0ad4d",
       "version_major": 2,
       "version_minor": 0
      },
      "text/plain": [
       "HBox(children=(FloatProgress(value=0.0, description='Loss: - Accuracy:', layout=Layout(flex='2'), max=7.0, sty…"
      ]
     },
     "metadata": {},
     "output_type": "display_data"
    },
    {
     "name": "stdout",
     "output_type": "stream",
     "text": [
      "\n",
      "e_num_side=10-e_radius=20-spacing=None-total_area=4000 is already trained for AxonMapModel\n"
     ]
    },
    {
     "data": {
      "application/vnd.jupyter.widget-view+json": {
       "model_id": "f09a612e223549df88eefc95f13d284e",
       "version_major": 2,
       "version_minor": 0
      },
      "text/plain": [
       "HBox(children=(FloatProgress(value=0.0, description='Loss: - Accuracy:', layout=Layout(flex='2'), max=7.0, sty…"
      ]
     },
     "metadata": {},
     "output_type": "display_data"
    },
    {
     "name": "stdout",
     "output_type": "stream",
     "text": [
      "\n",
      "# ------------------ ScoreboardModel ----------------- #\n",
      " Trainset mean value for each channel is: 0.14\n",
      " Trainset std  value for each channel is: 0.20\n"
     ]
    },
    {
     "data": {
      "application/vnd.jupyter.widget-view+json": {
       "model_id": "23829e1175e84e15ab960d2f31b3246e",
       "version_major": 2,
       "version_minor": 0
      },
      "text/plain": [
       "HBox(children=(FloatProgress(value=0.0, description='Loss: - Accuracy:', layout=Layout(flex='2'), max=7.0, sty…"
      ]
     },
     "metadata": {},
     "output_type": "display_data"
    },
    {
     "name": "stdout",
     "output_type": "stream",
     "text": [
      "\n",
      "e_num_side=10-e_radius=20-spacing=None-total_area=4000 is already trained for ScoreboardModel\n"
     ]
    },
    {
     "data": {
      "application/vnd.jupyter.widget-view+json": {
       "model_id": "e822972505f2408883f58a6aff990c3f",
       "version_major": 2,
       "version_minor": 0
      },
      "text/plain": [
       "HBox(children=(FloatProgress(value=0.0, description='Loss: - Accuracy:', layout=Layout(flex='2'), max=7.0, sty…"
      ]
     },
     "metadata": {},
     "output_type": "display_data"
    },
    {
     "name": "stdout",
     "output_type": "stream",
     "text": [
      "\n",
      "e_radius 30\n",
      "# ------------------ AxonMapModel ----------------- #\n",
      " Trainset mean value for each channel is: 0.19\n",
      " Trainset std  value for each channel is: 0.23\n"
     ]
    },
    {
     "data": {
      "application/vnd.jupyter.widget-view+json": {
       "model_id": "69f7f47d258b4c50905806bb076320f6",
       "version_major": 2,
       "version_minor": 0
      },
      "text/plain": [
       "HBox(children=(FloatProgress(value=0.0, description='Loss: - Accuracy:', layout=Layout(flex='2'), max=7.0, sty…"
      ]
     },
     "metadata": {},
     "output_type": "display_data"
    },
    {
     "name": "stdout",
     "output_type": "stream",
     "text": [
      "\n",
      "e_num_side=10-e_radius=30-spacing=None-total_area=4000 is already trained for AxonMapModel\n"
     ]
    },
    {
     "data": {
      "application/vnd.jupyter.widget-view+json": {
       "model_id": "32899b8e0e8f42d58171e0bdcc218ba2",
       "version_major": 2,
       "version_minor": 0
      },
      "text/plain": [
       "HBox(children=(FloatProgress(value=0.0, description='Loss: - Accuracy:', layout=Layout(flex='2'), max=7.0, sty…"
      ]
     },
     "metadata": {},
     "output_type": "display_data"
    },
    {
     "name": "stdout",
     "output_type": "stream",
     "text": [
      "\n",
      "# ------------------ ScoreboardModel ----------------- #\n",
      " Trainset mean value for each channel is: 0.14\n",
      " Trainset std  value for each channel is: 0.20\n"
     ]
    },
    {
     "data": {
      "application/vnd.jupyter.widget-view+json": {
       "model_id": "1d157f23767e4a50b80f37358fa1c17f",
       "version_major": 2,
       "version_minor": 0
      },
      "text/plain": [
       "HBox(children=(FloatProgress(value=0.0, description='Loss: - Accuracy:', layout=Layout(flex='2'), max=7.0, sty…"
      ]
     },
     "metadata": {},
     "output_type": "display_data"
    },
    {
     "name": "stdout",
     "output_type": "stream",
     "text": [
      "\n",
      "e_num_side=10-e_radius=30-spacing=None-total_area=4000 is already trained for ScoreboardModel\n"
     ]
    },
    {
     "data": {
      "application/vnd.jupyter.widget-view+json": {
       "model_id": "0e3b92087f7f44d6b66a26cc61cb7d38",
       "version_major": 2,
       "version_minor": 0
      },
      "text/plain": [
       "HBox(children=(FloatProgress(value=0.0, description='Loss: - Accuracy:', layout=Layout(flex='2'), max=7.0, sty…"
      ]
     },
     "metadata": {},
     "output_type": "display_data"
    },
    {
     "name": "stdout",
     "output_type": "stream",
     "text": [
      "\n",
      "e_radius 40\n",
      "# ------------------ AxonMapModel ----------------- #\n",
      " Trainset mean value for each channel is: 0.19\n",
      " Trainset std  value for each channel is: 0.23\n"
     ]
    },
    {
     "data": {
      "application/vnd.jupyter.widget-view+json": {
       "model_id": "481c9d48ef6e4d39a2cf89ec9c7c7b45",
       "version_major": 2,
       "version_minor": 0
      },
      "text/plain": [
       "HBox(children=(FloatProgress(value=0.0, description='Loss: - Accuracy:', layout=Layout(flex='2'), max=7.0, sty…"
      ]
     },
     "metadata": {},
     "output_type": "display_data"
    },
    {
     "name": "stdout",
     "output_type": "stream",
     "text": [
      "\n",
      "e_num_side=10-e_radius=40-spacing=None-total_area=4000 is already trained for AxonMapModel\n"
     ]
    },
    {
     "data": {
      "application/vnd.jupyter.widget-view+json": {
       "model_id": "682842cd1ceb4812ab9171f95dbd8dbb",
       "version_major": 2,
       "version_minor": 0
      },
      "text/plain": [
       "HBox(children=(FloatProgress(value=0.0, description='Loss: - Accuracy:', layout=Layout(flex='2'), max=7.0, sty…"
      ]
     },
     "metadata": {},
     "output_type": "display_data"
    },
    {
     "name": "stdout",
     "output_type": "stream",
     "text": [
      "\n",
      "# ------------------ ScoreboardModel ----------------- #\n",
      " Trainset mean value for each channel is: 0.14\n",
      " Trainset std  value for each channel is: 0.20\n"
     ]
    },
    {
     "data": {
      "application/vnd.jupyter.widget-view+json": {
       "model_id": "d6534e4dd44340febebc3b5a63e60500",
       "version_major": 2,
       "version_minor": 0
      },
      "text/plain": [
       "HBox(children=(FloatProgress(value=0.0, description='Loss: - Accuracy:', layout=Layout(flex='2'), max=7.0, sty…"
      ]
     },
     "metadata": {},
     "output_type": "display_data"
    },
    {
     "name": "stdout",
     "output_type": "stream",
     "text": [
      "\n",
      "e_num_side=10-e_radius=40-spacing=None-total_area=4000 is already trained for ScoreboardModel\n"
     ]
    },
    {
     "data": {
      "application/vnd.jupyter.widget-view+json": {
       "model_id": "2f416d381190421f8c0b1c84514dafc7",
       "version_major": 2,
       "version_minor": 0
      },
      "text/plain": [
       "HBox(children=(FloatProgress(value=0.0, description='Loss: - Accuracy:', layout=Layout(flex='2'), max=7.0, sty…"
      ]
     },
     "metadata": {},
     "output_type": "display_data"
    },
    {
     "name": "stdout",
     "output_type": "stream",
     "text": [
      "\n",
      "e_radius 50\n",
      "# ------------------ AxonMapModel ----------------- #\n",
      " Trainset mean value for each channel is: 0.19\n",
      " Trainset std  value for each channel is: 0.23\n"
     ]
    },
    {
     "data": {
      "application/vnd.jupyter.widget-view+json": {
       "model_id": "16702519b44d419faac8601ab491a7cf",
       "version_major": 2,
       "version_minor": 0
      },
      "text/plain": [
       "HBox(children=(FloatProgress(value=0.0, description='Loss: - Accuracy:', layout=Layout(flex='2'), max=7.0, sty…"
      ]
     },
     "metadata": {},
     "output_type": "display_data"
    },
    {
     "name": "stdout",
     "output_type": "stream",
     "text": [
      "\n",
      "e_num_side=10-e_radius=50-spacing=None-total_area=4000 is already trained for AxonMapModel\n"
     ]
    },
    {
     "data": {
      "application/vnd.jupyter.widget-view+json": {
       "model_id": "265e61be71914745921becd03bc95d99",
       "version_major": 2,
       "version_minor": 0
      },
      "text/plain": [
       "HBox(children=(FloatProgress(value=0.0, description='Loss: - Accuracy:', layout=Layout(flex='2'), max=7.0, sty…"
      ]
     },
     "metadata": {},
     "output_type": "display_data"
    },
    {
     "name": "stdout",
     "output_type": "stream",
     "text": [
      "\n",
      "# ------------------ ScoreboardModel ----------------- #\n",
      " Trainset mean value for each channel is: 0.14\n",
      " Trainset std  value for each channel is: 0.20\n"
     ]
    },
    {
     "data": {
      "application/vnd.jupyter.widget-view+json": {
       "model_id": "2433b49ca4c74a8faeb4fc3e5a5f94d3",
       "version_major": 2,
       "version_minor": 0
      },
      "text/plain": [
       "HBox(children=(FloatProgress(value=0.0, description='Loss: - Accuracy:', layout=Layout(flex='2'), max=7.0, sty…"
      ]
     },
     "metadata": {},
     "output_type": "display_data"
    },
    {
     "name": "stdout",
     "output_type": "stream",
     "text": [
      "\n",
      "e_num_side=10-e_radius=50-spacing=None-total_area=4000 is already trained for ScoreboardModel\n"
     ]
    },
    {
     "data": {
      "application/vnd.jupyter.widget-view+json": {
       "model_id": "5b0a59c908174f5eac95599e4c05f5e3",
       "version_major": 2,
       "version_minor": 0
      },
      "text/plain": [
       "HBox(children=(FloatProgress(value=0.0, description='Loss: - Accuracy:', layout=Layout(flex='2'), max=7.0, sty…"
      ]
     },
     "metadata": {},
     "output_type": "display_data"
    },
    {
     "name": "stdout",
     "output_type": "stream",
     "text": [
      "\n",
      "e_radius 60\n",
      "# ------------------ AxonMapModel ----------------- #\n",
      " Trainset mean value for each channel is: 0.19\n",
      " Trainset std  value for each channel is: 0.23\n"
     ]
    },
    {
     "data": {
      "application/vnd.jupyter.widget-view+json": {
       "model_id": "1c22858d95d147c3b31b19f2b1a96b74",
       "version_major": 2,
       "version_minor": 0
      },
      "text/plain": [
       "HBox(children=(FloatProgress(value=0.0, description='Loss: - Accuracy:', layout=Layout(flex='2'), max=7.0, sty…"
      ]
     },
     "metadata": {},
     "output_type": "display_data"
    },
    {
     "name": "stdout",
     "output_type": "stream",
     "text": [
      "\n",
      "e_num_side=10-e_radius=60-spacing=None-total_area=4000 is already trained for AxonMapModel\n"
     ]
    },
    {
     "data": {
      "application/vnd.jupyter.widget-view+json": {
       "model_id": "5a64292b1bec4f81a2199c55b2f511be",
       "version_major": 2,
       "version_minor": 0
      },
      "text/plain": [
       "HBox(children=(FloatProgress(value=0.0, description='Loss: - Accuracy:', layout=Layout(flex='2'), max=7.0, sty…"
      ]
     },
     "metadata": {},
     "output_type": "display_data"
    },
    {
     "name": "stdout",
     "output_type": "stream",
     "text": [
      "\n",
      "# ------------------ ScoreboardModel ----------------- #\n",
      " Trainset mean value for each channel is: 0.14\n",
      " Trainset std  value for each channel is: 0.20\n"
     ]
    },
    {
     "data": {
      "application/vnd.jupyter.widget-view+json": {
       "model_id": "77645ef35ad6406fac155d69d2016172",
       "version_major": 2,
       "version_minor": 0
      },
      "text/plain": [
       "HBox(children=(FloatProgress(value=0.0, description='Loss: - Accuracy:', layout=Layout(flex='2'), max=7.0, sty…"
      ]
     },
     "metadata": {},
     "output_type": "display_data"
    },
    {
     "name": "stdout",
     "output_type": "stream",
     "text": [
      "\n",
      "e_num_side=10-e_radius=60-spacing=None-total_area=4000 is already trained for ScoreboardModel\n"
     ]
    },
    {
     "data": {
      "application/vnd.jupyter.widget-view+json": {
       "model_id": "d573b91f8ea546b7b2965165edd0a975",
       "version_major": 2,
       "version_minor": 0
      },
      "text/plain": [
       "HBox(children=(FloatProgress(value=0.0, description='Loss: - Accuracy:', layout=Layout(flex='2'), max=7.0, sty…"
      ]
     },
     "metadata": {},
     "output_type": "display_data"
    },
    {
     "name": "stdout",
     "output_type": "stream",
     "text": [
      "\n",
      "e_radius 70\n",
      "# ------------------ AxonMapModel ----------------- #\n",
      " Trainset mean value for each channel is: 0.19\n",
      " Trainset std  value for each channel is: 0.23\n"
     ]
    },
    {
     "data": {
      "application/vnd.jupyter.widget-view+json": {
       "model_id": "04d4741341ee463da8c1f1ee05c4c23b",
       "version_major": 2,
       "version_minor": 0
      },
      "text/plain": [
       "HBox(children=(FloatProgress(value=0.0, description='Loss: - Accuracy:', layout=Layout(flex='2'), max=7.0, sty…"
      ]
     },
     "metadata": {},
     "output_type": "display_data"
    },
    {
     "name": "stdout",
     "output_type": "stream",
     "text": [
      "\n",
      "e_num_side=10-e_radius=70-spacing=None-total_area=4000 is already trained for AxonMapModel\n"
     ]
    },
    {
     "data": {
      "application/vnd.jupyter.widget-view+json": {
       "model_id": "7d2665d2bdf44e2295db2ad6a1b59a16",
       "version_major": 2,
       "version_minor": 0
      },
      "text/plain": [
       "HBox(children=(FloatProgress(value=0.0, description='Loss: - Accuracy:', layout=Layout(flex='2'), max=7.0, sty…"
      ]
     },
     "metadata": {},
     "output_type": "display_data"
    },
    {
     "name": "stdout",
     "output_type": "stream",
     "text": [
      "\n",
      "# ------------------ ScoreboardModel ----------------- #\n",
      " Trainset mean value for each channel is: 0.14\n",
      " Trainset std  value for each channel is: 0.20\n"
     ]
    },
    {
     "data": {
      "application/vnd.jupyter.widget-view+json": {
       "model_id": "2afbea605bb34050bdb6489d01ed8a0a",
       "version_major": 2,
       "version_minor": 0
      },
      "text/plain": [
       "HBox(children=(FloatProgress(value=0.0, description='Loss: - Accuracy:', layout=Layout(flex='2'), max=7.0, sty…"
      ]
     },
     "metadata": {},
     "output_type": "display_data"
    },
    {
     "name": "stdout",
     "output_type": "stream",
     "text": [
      "\n",
      "e_num_side=10-e_radius=70-spacing=None-total_area=4000 is already trained for ScoreboardModel\n"
     ]
    },
    {
     "data": {
      "application/vnd.jupyter.widget-view+json": {
       "model_id": "c9c3c061c2864c12830bac585db86e86",
       "version_major": 2,
       "version_minor": 0
      },
      "text/plain": [
       "HBox(children=(FloatProgress(value=0.0, description='Loss: - Accuracy:', layout=Layout(flex='2'), max=7.0, sty…"
      ]
     },
     "metadata": {},
     "output_type": "display_data"
    },
    {
     "name": "stdout",
     "output_type": "stream",
     "text": [
      "\n",
      "e_radius 80\n",
      "# ------------------ AxonMapModel ----------------- #\n",
      " Trainset mean value for each channel is: 0.19\n",
      " Trainset std  value for each channel is: 0.23\n"
     ]
    },
    {
     "data": {
      "application/vnd.jupyter.widget-view+json": {
       "model_id": "546037b5b6b04f16af53eea837eb48ac",
       "version_major": 2,
       "version_minor": 0
      },
      "text/plain": [
       "HBox(children=(FloatProgress(value=0.0, description='Loss: - Accuracy:', layout=Layout(flex='2'), max=7.0, sty…"
      ]
     },
     "metadata": {},
     "output_type": "display_data"
    },
    {
     "name": "stdout",
     "output_type": "stream",
     "text": [
      "\n",
      "e_num_side=10-e_radius=80-spacing=None-total_area=4000 is already trained for AxonMapModel\n"
     ]
    },
    {
     "data": {
      "application/vnd.jupyter.widget-view+json": {
       "model_id": "cc0fd48ea4754b4cac3c75f3b721e119",
       "version_major": 2,
       "version_minor": 0
      },
      "text/plain": [
       "HBox(children=(FloatProgress(value=0.0, description='Loss: - Accuracy:', layout=Layout(flex='2'), max=7.0, sty…"
      ]
     },
     "metadata": {},
     "output_type": "display_data"
    },
    {
     "name": "stdout",
     "output_type": "stream",
     "text": [
      "\n",
      "# ------------------ ScoreboardModel ----------------- #\n",
      " Trainset mean value for each channel is: 0.14\n",
      " Trainset std  value for each channel is: 0.20\n"
     ]
    },
    {
     "data": {
      "application/vnd.jupyter.widget-view+json": {
       "model_id": "2e5098d944714a45a68a0b6260b24a83",
       "version_major": 2,
       "version_minor": 0
      },
      "text/plain": [
       "HBox(children=(FloatProgress(value=0.0, description='Loss: - Accuracy:', layout=Layout(flex='2'), max=7.0, sty…"
      ]
     },
     "metadata": {},
     "output_type": "display_data"
    },
    {
     "name": "stdout",
     "output_type": "stream",
     "text": [
      "\n",
      "e_num_side=10-e_radius=80-spacing=None-total_area=4000 is already trained for ScoreboardModel\n"
     ]
    },
    {
     "data": {
      "application/vnd.jupyter.widget-view+json": {
       "model_id": "357b368c15584ac58d41d18b65096f7c",
       "version_major": 2,
       "version_minor": 0
      },
      "text/plain": [
       "HBox(children=(FloatProgress(value=0.0, description='Loss: - Accuracy:', layout=Layout(flex='2'), max=7.0, sty…"
      ]
     },
     "metadata": {},
     "output_type": "display_data"
    },
    {
     "name": "stdout",
     "output_type": "stream",
     "text": [
      "\n",
      "e_radius 90\n",
      "# ------------------ AxonMapModel ----------------- #\n",
      " Trainset mean value for each channel is: 0.19\n",
      " Trainset std  value for each channel is: 0.23\n"
     ]
    },
    {
     "data": {
      "application/vnd.jupyter.widget-view+json": {
       "model_id": "e340efdf07b14cd48d37b63b749443b8",
       "version_major": 2,
       "version_minor": 0
      },
      "text/plain": [
       "HBox(children=(FloatProgress(value=0.0, description='Loss: - Accuracy:', layout=Layout(flex='2'), max=7.0, sty…"
      ]
     },
     "metadata": {},
     "output_type": "display_data"
    },
    {
     "name": "stdout",
     "output_type": "stream",
     "text": [
      "\n",
      "e_num_side=10-e_radius=90-spacing=None-total_area=4000 is already trained for AxonMapModel\n"
     ]
    },
    {
     "data": {
      "application/vnd.jupyter.widget-view+json": {
       "model_id": "075261fe15b442ec885f30e44440f92f",
       "version_major": 2,
       "version_minor": 0
      },
      "text/plain": [
       "HBox(children=(FloatProgress(value=0.0, description='Loss: - Accuracy:', layout=Layout(flex='2'), max=7.0, sty…"
      ]
     },
     "metadata": {},
     "output_type": "display_data"
    },
    {
     "name": "stdout",
     "output_type": "stream",
     "text": [
      "\n",
      "# ------------------ ScoreboardModel ----------------- #\n",
      " Trainset mean value for each channel is: 0.14\n",
      " Trainset std  value for each channel is: 0.20\n"
     ]
    },
    {
     "data": {
      "application/vnd.jupyter.widget-view+json": {
       "model_id": "0f1726ac71ff4aa587fc81c72c53d0b3",
       "version_major": 2,
       "version_minor": 0
      },
      "text/plain": [
       "HBox(children=(FloatProgress(value=0.0, description='Loss: - Accuracy:', layout=Layout(flex='2'), max=7.0, sty…"
      ]
     },
     "metadata": {},
     "output_type": "display_data"
    },
    {
     "name": "stdout",
     "output_type": "stream",
     "text": [
      "\n",
      "e_num_side=10-e_radius=90-spacing=None-total_area=4000 is already trained for ScoreboardModel\n"
     ]
    },
    {
     "data": {
      "application/vnd.jupyter.widget-view+json": {
       "model_id": "d5558f82f05947b1b4549320c790bf96",
       "version_major": 2,
       "version_minor": 0
      },
      "text/plain": [
       "HBox(children=(FloatProgress(value=0.0, description='Loss: - Accuracy:', layout=Layout(flex='2'), max=7.0, sty…"
      ]
     },
     "metadata": {},
     "output_type": "display_data"
    },
    {
     "name": "stdout",
     "output_type": "stream",
     "text": [
      "\n",
      "e_radius 100\n",
      "# ------------------ AxonMapModel ----------------- #\n",
      " Trainset mean value for each channel is: 0.19\n",
      " Trainset std  value for each channel is: 0.23\n"
     ]
    },
    {
     "data": {
      "application/vnd.jupyter.widget-view+json": {
       "model_id": "85001e046a164784be425db482c4129a",
       "version_major": 2,
       "version_minor": 0
      },
      "text/plain": [
       "HBox(children=(FloatProgress(value=0.0, description='Loss: - Accuracy:', layout=Layout(flex='2'), max=7.0, sty…"
      ]
     },
     "metadata": {},
     "output_type": "display_data"
    },
    {
     "name": "stdout",
     "output_type": "stream",
     "text": [
      "\n",
      "e_num_side=10-e_radius=100-spacing=None-total_area=4000 is already trained for AxonMapModel\n"
     ]
    },
    {
     "data": {
      "application/vnd.jupyter.widget-view+json": {
       "model_id": "eeb42ce3bd784fd882b73735bf64398f",
       "version_major": 2,
       "version_minor": 0
      },
      "text/plain": [
       "HBox(children=(FloatProgress(value=0.0, description='Loss: - Accuracy:', layout=Layout(flex='2'), max=7.0, sty…"
      ]
     },
     "metadata": {},
     "output_type": "display_data"
    },
    {
     "name": "stdout",
     "output_type": "stream",
     "text": [
      "\n",
      "# ------------------ ScoreboardModel ----------------- #\n",
      " Trainset mean value for each channel is: 0.14\n",
      " Trainset std  value for each channel is: 0.20\n"
     ]
    },
    {
     "data": {
      "application/vnd.jupyter.widget-view+json": {
       "model_id": "61e8a92792cf4c02a270e9d5683e3dc3",
       "version_major": 2,
       "version_minor": 0
      },
      "text/plain": [
       "HBox(children=(FloatProgress(value=0.0, description='Loss: - Accuracy:', layout=Layout(flex='2'), max=7.0, sty…"
      ]
     },
     "metadata": {},
     "output_type": "display_data"
    },
    {
     "name": "stdout",
     "output_type": "stream",
     "text": [
      "\n",
      "e_num_side=10-e_radius=100-spacing=None-total_area=4000 is already trained for ScoreboardModel\n"
     ]
    },
    {
     "data": {
      "application/vnd.jupyter.widget-view+json": {
       "model_id": "757256bf7b004d4f9c156a21fc013f06",
       "version_major": 2,
       "version_minor": 0
      },
      "text/plain": [
       "HBox(children=(FloatProgress(value=0.0, description='Loss: - Accuracy:', layout=Layout(flex='2'), max=7.0, sty…"
      ]
     },
     "metadata": {},
     "output_type": "display_data"
    },
    {
     "name": "stdout",
     "output_type": "stream",
     "text": [
      "\n",
      "e_radius 110\n",
      "# ------------------ AxonMapModel ----------------- #\n",
      " Trainset mean value for each channel is: 0.19\n",
      " Trainset std  value for each channel is: 0.23\n"
     ]
    },
    {
     "data": {
      "application/vnd.jupyter.widget-view+json": {
       "model_id": "8e613bd213614fd4b9817bf71b9a998a",
       "version_major": 2,
       "version_minor": 0
      },
      "text/plain": [
       "HBox(children=(FloatProgress(value=0.0, description='Loss: - Accuracy:', layout=Layout(flex='2'), max=7.0, sty…"
      ]
     },
     "metadata": {},
     "output_type": "display_data"
    },
    {
     "name": "stdout",
     "output_type": "stream",
     "text": [
      "\n",
      "e_num_side=10-e_radius=110-spacing=None-total_area=4000 is already trained for AxonMapModel\n"
     ]
    },
    {
     "data": {
      "application/vnd.jupyter.widget-view+json": {
       "model_id": "9c4767ccc8ee4716814b2816e2bd6e3f",
       "version_major": 2,
       "version_minor": 0
      },
      "text/plain": [
       "HBox(children=(FloatProgress(value=0.0, description='Loss: - Accuracy:', layout=Layout(flex='2'), max=7.0, sty…"
      ]
     },
     "metadata": {},
     "output_type": "display_data"
    },
    {
     "name": "stdout",
     "output_type": "stream",
     "text": [
      "\n",
      "# ------------------ ScoreboardModel ----------------- #\n",
      " Trainset mean value for each channel is: 0.14\n",
      " Trainset std  value for each channel is: 0.20\n"
     ]
    },
    {
     "data": {
      "application/vnd.jupyter.widget-view+json": {
       "model_id": "97a87b0cbcad4f93b2802853743cf2bf",
       "version_major": 2,
       "version_minor": 0
      },
      "text/plain": [
       "HBox(children=(FloatProgress(value=0.0, description='Loss: - Accuracy:', layout=Layout(flex='2'), max=7.0, sty…"
      ]
     },
     "metadata": {},
     "output_type": "display_data"
    },
    {
     "name": "stdout",
     "output_type": "stream",
     "text": [
      "\n",
      "e_num_side=10-e_radius=110-spacing=None-total_area=4000 is already trained for ScoreboardModel\n"
     ]
    },
    {
     "data": {
      "application/vnd.jupyter.widget-view+json": {
       "model_id": "7be441f934a848578bb46903d331eaf8",
       "version_major": 2,
       "version_minor": 0
      },
      "text/plain": [
       "HBox(children=(FloatProgress(value=0.0, description='Loss: - Accuracy:', layout=Layout(flex='2'), max=7.0, sty…"
      ]
     },
     "metadata": {},
     "output_type": "display_data"
    },
    {
     "name": "stdout",
     "output_type": "stream",
     "text": [
      "\n",
      "e_radius 120\n",
      "# ------------------ AxonMapModel ----------------- #\n",
      " Trainset mean value for each channel is: 0.19\n",
      " Trainset std  value for each channel is: 0.23\n"
     ]
    },
    {
     "data": {
      "application/vnd.jupyter.widget-view+json": {
       "model_id": "70b53873f83948cfafd53af5ec7fbd6c",
       "version_major": 2,
       "version_minor": 0
      },
      "text/plain": [
       "HBox(children=(FloatProgress(value=0.0, description='Loss: - Accuracy:', layout=Layout(flex='2'), max=7.0, sty…"
      ]
     },
     "metadata": {},
     "output_type": "display_data"
    },
    {
     "name": "stdout",
     "output_type": "stream",
     "text": [
      "\n",
      "e_num_side=10-e_radius=120-spacing=None-total_area=4000 is already trained for AxonMapModel\n"
     ]
    },
    {
     "data": {
      "application/vnd.jupyter.widget-view+json": {
       "model_id": "ea2e2b3885584a958bc678194d729e10",
       "version_major": 2,
       "version_minor": 0
      },
      "text/plain": [
       "HBox(children=(FloatProgress(value=0.0, description='Loss: - Accuracy:', layout=Layout(flex='2'), max=7.0, sty…"
      ]
     },
     "metadata": {},
     "output_type": "display_data"
    },
    {
     "name": "stdout",
     "output_type": "stream",
     "text": [
      "\n",
      "# ------------------ ScoreboardModel ----------------- #\n",
      " Trainset mean value for each channel is: 0.14\n",
      " Trainset std  value for each channel is: 0.20\n"
     ]
    },
    {
     "data": {
      "application/vnd.jupyter.widget-view+json": {
       "model_id": "2928e065b047474d86d0f679b6dffe51",
       "version_major": 2,
       "version_minor": 0
      },
      "text/plain": [
       "HBox(children=(FloatProgress(value=0.0, description='Loss: - Accuracy:', layout=Layout(flex='2'), max=7.0, sty…"
      ]
     },
     "metadata": {},
     "output_type": "display_data"
    },
    {
     "name": "stdout",
     "output_type": "stream",
     "text": [
      "\n",
      "e_num_side=10-e_radius=120-spacing=None-total_area=4000 is already trained for ScoreboardModel\n"
     ]
    },
    {
     "data": {
      "application/vnd.jupyter.widget-view+json": {
       "model_id": "a1d540ab99d94ab2b9b045c8318b65cf",
       "version_major": 2,
       "version_minor": 0
      },
      "text/plain": [
       "HBox(children=(FloatProgress(value=0.0, description='Loss: - Accuracy:', layout=Layout(flex='2'), max=7.0, sty…"
      ]
     },
     "metadata": {},
     "output_type": "display_data"
    },
    {
     "name": "stdout",
     "output_type": "stream",
     "text": [
      "\n",
      "e_radius 130\n",
      "# ------------------ AxonMapModel ----------------- #\n",
      " Trainset mean value for each channel is: 0.19\n",
      " Trainset std  value for each channel is: 0.23\n"
     ]
    },
    {
     "data": {
      "application/vnd.jupyter.widget-view+json": {
       "model_id": "a033a5aaff7d4ed4958388d526b04191",
       "version_major": 2,
       "version_minor": 0
      },
      "text/plain": [
       "HBox(children=(FloatProgress(value=0.0, description='Loss: - Accuracy:', layout=Layout(flex='2'), max=7.0, sty…"
      ]
     },
     "metadata": {},
     "output_type": "display_data"
    },
    {
     "name": "stdout",
     "output_type": "stream",
     "text": [
      "\n",
      "e_num_side=10-e_radius=130-spacing=None-total_area=4000 is already trained for AxonMapModel\n"
     ]
    },
    {
     "data": {
      "application/vnd.jupyter.widget-view+json": {
       "model_id": "d8dd31bf73af40099f2d97ba2bd1f6db",
       "version_major": 2,
       "version_minor": 0
      },
      "text/plain": [
       "HBox(children=(FloatProgress(value=0.0, description='Loss: - Accuracy:', layout=Layout(flex='2'), max=7.0, sty…"
      ]
     },
     "metadata": {},
     "output_type": "display_data"
    },
    {
     "name": "stdout",
     "output_type": "stream",
     "text": [
      "\n",
      "# ------------------ ScoreboardModel ----------------- #\n",
      " Trainset mean value for each channel is: 0.14\n",
      " Trainset std  value for each channel is: 0.20\n"
     ]
    },
    {
     "data": {
      "application/vnd.jupyter.widget-view+json": {
       "model_id": "e78f83329c524415b809a1bd1e89b667",
       "version_major": 2,
       "version_minor": 0
      },
      "text/plain": [
       "HBox(children=(FloatProgress(value=0.0, description='Loss: - Accuracy:', layout=Layout(flex='2'), max=7.0, sty…"
      ]
     },
     "metadata": {},
     "output_type": "display_data"
    },
    {
     "name": "stdout",
     "output_type": "stream",
     "text": [
      "\n",
      "e_num_side=10-e_radius=130-spacing=None-total_area=4000 is already trained for ScoreboardModel\n"
     ]
    },
    {
     "data": {
      "application/vnd.jupyter.widget-view+json": {
       "model_id": "f0776322d2944e738c10e2d9dcf29d89",
       "version_major": 2,
       "version_minor": 0
      },
      "text/plain": [
       "HBox(children=(FloatProgress(value=0.0, description='Loss: - Accuracy:', layout=Layout(flex='2'), max=7.0, sty…"
      ]
     },
     "metadata": {},
     "output_type": "display_data"
    },
    {
     "name": "stdout",
     "output_type": "stream",
     "text": [
      "\n",
      "e_radius 140\n",
      "# ------------------ AxonMapModel ----------------- #\n",
      " Trainset mean value for each channel is: 0.19\n",
      " Trainset std  value for each channel is: 0.23\n"
     ]
    },
    {
     "data": {
      "application/vnd.jupyter.widget-view+json": {
       "model_id": "f2a3a8869c704d218e95bf92bc31ffdf",
       "version_major": 2,
       "version_minor": 0
      },
      "text/plain": [
       "HBox(children=(FloatProgress(value=0.0, description='Loss: - Accuracy:', layout=Layout(flex='2'), max=7.0, sty…"
      ]
     },
     "metadata": {},
     "output_type": "display_data"
    },
    {
     "name": "stdout",
     "output_type": "stream",
     "text": [
      "\n",
      "e_num_side=10-e_radius=140-spacing=None-total_area=4000 is already trained for AxonMapModel\n"
     ]
    },
    {
     "data": {
      "application/vnd.jupyter.widget-view+json": {
       "model_id": "c3e3fae789424e2b978511b123253608",
       "version_major": 2,
       "version_minor": 0
      },
      "text/plain": [
       "HBox(children=(FloatProgress(value=0.0, description='Loss: - Accuracy:', layout=Layout(flex='2'), max=7.0, sty…"
      ]
     },
     "metadata": {},
     "output_type": "display_data"
    },
    {
     "name": "stdout",
     "output_type": "stream",
     "text": [
      "\n",
      "# ------------------ ScoreboardModel ----------------- #\n",
      " Trainset mean value for each channel is: 0.14\n",
      " Trainset std  value for each channel is: 0.20\n"
     ]
    },
    {
     "data": {
      "application/vnd.jupyter.widget-view+json": {
       "model_id": "edaeef3849e14b33a3dd846dfbbe0402",
       "version_major": 2,
       "version_minor": 0
      },
      "text/plain": [
       "HBox(children=(FloatProgress(value=0.0, description='Loss: - Accuracy:', layout=Layout(flex='2'), max=7.0, sty…"
      ]
     },
     "metadata": {},
     "output_type": "display_data"
    },
    {
     "name": "stdout",
     "output_type": "stream",
     "text": [
      "\n",
      "e_num_side=10-e_radius=140-spacing=None-total_area=4000 is already trained for ScoreboardModel\n"
     ]
    },
    {
     "data": {
      "application/vnd.jupyter.widget-view+json": {
       "model_id": "88cb3a26c5ce4030ad4d7c621fd7f8b9",
       "version_major": 2,
       "version_minor": 0
      },
      "text/plain": [
       "HBox(children=(FloatProgress(value=0.0, description='Loss: - Accuracy:', layout=Layout(flex='2'), max=7.0, sty…"
      ]
     },
     "metadata": {},
     "output_type": "display_data"
    },
    {
     "name": "stdout",
     "output_type": "stream",
     "text": [
      "\n",
      "e_radius 150\n",
      "# ------------------ AxonMapModel ----------------- #\n",
      " Trainset mean value for each channel is: 0.19\n",
      " Trainset std  value for each channel is: 0.23\n"
     ]
    },
    {
     "data": {
      "application/vnd.jupyter.widget-view+json": {
       "model_id": "41f892ad7eb640c288b47a5604ffe755",
       "version_major": 2,
       "version_minor": 0
      },
      "text/plain": [
       "HBox(children=(FloatProgress(value=0.0, description='Loss: - Accuracy:', layout=Layout(flex='2'), max=7.0, sty…"
      ]
     },
     "metadata": {},
     "output_type": "display_data"
    },
    {
     "name": "stdout",
     "output_type": "stream",
     "text": [
      "\n",
      "e_num_side=10-e_radius=150-spacing=None-total_area=4000 is already trained for AxonMapModel\n"
     ]
    },
    {
     "data": {
      "application/vnd.jupyter.widget-view+json": {
       "model_id": "02d1545208444befa6657aab8786762d",
       "version_major": 2,
       "version_minor": 0
      },
      "text/plain": [
       "HBox(children=(FloatProgress(value=0.0, description='Loss: - Accuracy:', layout=Layout(flex='2'), max=7.0, sty…"
      ]
     },
     "metadata": {},
     "output_type": "display_data"
    },
    {
     "name": "stdout",
     "output_type": "stream",
     "text": [
      "\n",
      "# ------------------ ScoreboardModel ----------------- #\n",
      " Trainset mean value for each channel is: 0.14\n",
      " Trainset std  value for each channel is: 0.20\n"
     ]
    },
    {
     "data": {
      "application/vnd.jupyter.widget-view+json": {
       "model_id": "bb55a194caa249529078de5a2ba9432f",
       "version_major": 2,
       "version_minor": 0
      },
      "text/plain": [
       "HBox(children=(FloatProgress(value=0.0, description='Loss: - Accuracy:', layout=Layout(flex='2'), max=7.0, sty…"
      ]
     },
     "metadata": {},
     "output_type": "display_data"
    },
    {
     "name": "stdout",
     "output_type": "stream",
     "text": [
      "\n",
      "e_num_side=10-e_radius=150-spacing=None-total_area=4000 is already trained for ScoreboardModel\n"
     ]
    },
    {
     "data": {
      "application/vnd.jupyter.widget-view+json": {
       "model_id": "58e72c65d4754f8b9be8800a2876238b",
       "version_major": 2,
       "version_minor": 0
      },
      "text/plain": [
       "HBox(children=(FloatProgress(value=0.0, description='Loss: - Accuracy:', layout=Layout(flex='2'), max=7.0, sty…"
      ]
     },
     "metadata": {},
     "output_type": "display_data"
    },
    {
     "name": "stdout",
     "output_type": "stream",
     "text": [
      "\n",
      "e_radius 160\n",
      "# ------------------ AxonMapModel ----------------- #\n",
      " Trainset mean value for each channel is: 0.19\n",
      " Trainset std  value for each channel is: 0.23\n"
     ]
    },
    {
     "data": {
      "application/vnd.jupyter.widget-view+json": {
       "model_id": "a274e19c47c84d67830e76948b5c865e",
       "version_major": 2,
       "version_minor": 0
      },
      "text/plain": [
       "HBox(children=(FloatProgress(value=0.0, description='Loss: - Accuracy:', layout=Layout(flex='2'), max=7.0, sty…"
      ]
     },
     "metadata": {},
     "output_type": "display_data"
    },
    {
     "name": "stdout",
     "output_type": "stream",
     "text": [
      "\n",
      "e_num_side=10-e_radius=160-spacing=None-total_area=4000 is already trained for AxonMapModel\n"
     ]
    },
    {
     "data": {
      "application/vnd.jupyter.widget-view+json": {
       "model_id": "ffe889283acf4329a0f2e4bb2ec54f2b",
       "version_major": 2,
       "version_minor": 0
      },
      "text/plain": [
       "HBox(children=(FloatProgress(value=0.0, description='Loss: - Accuracy:', layout=Layout(flex='2'), max=7.0, sty…"
      ]
     },
     "metadata": {},
     "output_type": "display_data"
    },
    {
     "name": "stdout",
     "output_type": "stream",
     "text": [
      "\n",
      "# ------------------ ScoreboardModel ----------------- #\n",
      " Trainset mean value for each channel is: 0.14\n",
      " Trainset std  value for each channel is: 0.20\n"
     ]
    },
    {
     "data": {
      "application/vnd.jupyter.widget-view+json": {
       "model_id": "6725c6296c0b473daa324ce0d46aaab6",
       "version_major": 2,
       "version_minor": 0
      },
      "text/plain": [
       "HBox(children=(FloatProgress(value=0.0, description='Loss: - Accuracy:', layout=Layout(flex='2'), max=7.0, sty…"
      ]
     },
     "metadata": {},
     "output_type": "display_data"
    },
    {
     "name": "stdout",
     "output_type": "stream",
     "text": [
      "\n",
      "e_num_side=10-e_radius=160-spacing=None-total_area=4000 is already trained for ScoreboardModel\n"
     ]
    },
    {
     "data": {
      "application/vnd.jupyter.widget-view+json": {
       "model_id": "9ef2267bea17474395f02f822ac21a52",
       "version_major": 2,
       "version_minor": 0
      },
      "text/plain": [
       "HBox(children=(FloatProgress(value=0.0, description='Loss: - Accuracy:', layout=Layout(flex='2'), max=7.0, sty…"
      ]
     },
     "metadata": {},
     "output_type": "display_data"
    },
    {
     "name": "stdout",
     "output_type": "stream",
     "text": [
      "\n",
      "e_radius 170\n",
      "# ------------------ AxonMapModel ----------------- #\n",
      " Trainset mean value for each channel is: 0.19\n",
      " Trainset std  value for each channel is: 0.23\n"
     ]
    },
    {
     "data": {
      "application/vnd.jupyter.widget-view+json": {
       "model_id": "efe284061078448dafdd378297c28ab0",
       "version_major": 2,
       "version_minor": 0
      },
      "text/plain": [
       "HBox(children=(FloatProgress(value=0.0, description='Loss: - Accuracy:', layout=Layout(flex='2'), max=7.0, sty…"
      ]
     },
     "metadata": {},
     "output_type": "display_data"
    },
    {
     "name": "stdout",
     "output_type": "stream",
     "text": [
      "\n",
      "e_num_side=10-e_radius=170-spacing=None-total_area=4000 is already trained for AxonMapModel\n"
     ]
    },
    {
     "data": {
      "application/vnd.jupyter.widget-view+json": {
       "model_id": "07eebc5d5c9b4c109fd839449eceae20",
       "version_major": 2,
       "version_minor": 0
      },
      "text/plain": [
       "HBox(children=(FloatProgress(value=0.0, description='Loss: - Accuracy:', layout=Layout(flex='2'), max=7.0, sty…"
      ]
     },
     "metadata": {},
     "output_type": "display_data"
    },
    {
     "name": "stdout",
     "output_type": "stream",
     "text": [
      "\n",
      "# ------------------ ScoreboardModel ----------------- #\n",
      " Trainset mean value for each channel is: 0.14\n",
      " Trainset std  value for each channel is: 0.20\n"
     ]
    },
    {
     "data": {
      "application/vnd.jupyter.widget-view+json": {
       "model_id": "6086a4fa38fc4129967b79dd307065b3",
       "version_major": 2,
       "version_minor": 0
      },
      "text/plain": [
       "HBox(children=(FloatProgress(value=0.0, description='Loss: - Accuracy:', layout=Layout(flex='2'), max=7.0, sty…"
      ]
     },
     "metadata": {},
     "output_type": "display_data"
    },
    {
     "name": "stdout",
     "output_type": "stream",
     "text": [
      "\n",
      "e_num_side=10-e_radius=170-spacing=None-total_area=4000 is already trained for ScoreboardModel\n"
     ]
    },
    {
     "data": {
      "application/vnd.jupyter.widget-view+json": {
       "model_id": "9fe0f3615a3946f1a3dd7bdc7c219c6e",
       "version_major": 2,
       "version_minor": 0
      },
      "text/plain": [
       "HBox(children=(FloatProgress(value=0.0, description='Loss: - Accuracy:', layout=Layout(flex='2'), max=7.0, sty…"
      ]
     },
     "metadata": {},
     "output_type": "display_data"
    },
    {
     "name": "stdout",
     "output_type": "stream",
     "text": [
      "\n",
      "e_radius 180\n",
      "# ------------------ AxonMapModel ----------------- #\n",
      " Trainset mean value for each channel is: 0.19\n",
      " Trainset std  value for each channel is: 0.23\n"
     ]
    },
    {
     "data": {
      "application/vnd.jupyter.widget-view+json": {
       "model_id": "7b2b568940e54b69af95e4290f5688d7",
       "version_major": 2,
       "version_minor": 0
      },
      "text/plain": [
       "HBox(children=(FloatProgress(value=0.0, description='Loss: - Accuracy:', layout=Layout(flex='2'), max=7.0, sty…"
      ]
     },
     "metadata": {},
     "output_type": "display_data"
    },
    {
     "name": "stdout",
     "output_type": "stream",
     "text": [
      "\n",
      "e_num_side=10-e_radius=180-spacing=None-total_area=4000 is already trained for AxonMapModel\n"
     ]
    },
    {
     "data": {
      "application/vnd.jupyter.widget-view+json": {
       "model_id": "630555682b6648ccaff8ca5facfb1258",
       "version_major": 2,
       "version_minor": 0
      },
      "text/plain": [
       "HBox(children=(FloatProgress(value=0.0, description='Loss: - Accuracy:', layout=Layout(flex='2'), max=7.0, sty…"
      ]
     },
     "metadata": {},
     "output_type": "display_data"
    },
    {
     "name": "stdout",
     "output_type": "stream",
     "text": [
      "\n",
      "# ------------------ ScoreboardModel ----------------- #\n",
      " Trainset mean value for each channel is: 0.14\n",
      " Trainset std  value for each channel is: 0.20\n"
     ]
    },
    {
     "data": {
      "application/vnd.jupyter.widget-view+json": {
       "model_id": "92a186c697b34d66b8b5dc8de3f290f2",
       "version_major": 2,
       "version_minor": 0
      },
      "text/plain": [
       "HBox(children=(FloatProgress(value=0.0, description='Loss: - Accuracy:', layout=Layout(flex='2'), max=7.0, sty…"
      ]
     },
     "metadata": {},
     "output_type": "display_data"
    },
    {
     "name": "stdout",
     "output_type": "stream",
     "text": [
      "\n",
      "e_num_side=10-e_radius=180-spacing=None-total_area=4000 is already trained for ScoreboardModel\n"
     ]
    },
    {
     "data": {
      "application/vnd.jupyter.widget-view+json": {
       "model_id": "7826191549ff483e8634464ec11b3984",
       "version_major": 2,
       "version_minor": 0
      },
      "text/plain": [
       "HBox(children=(FloatProgress(value=0.0, description='Loss: - Accuracy:', layout=Layout(flex='2'), max=7.0, sty…"
      ]
     },
     "metadata": {},
     "output_type": "display_data"
    },
    {
     "name": "stdout",
     "output_type": "stream",
     "text": [
      "\n",
      "e_radius 190\n",
      "# ------------------ AxonMapModel ----------------- #\n",
      " Trainset mean value for each channel is: 0.19\n",
      " Trainset std  value for each channel is: 0.23\n"
     ]
    },
    {
     "data": {
      "application/vnd.jupyter.widget-view+json": {
       "model_id": "e8de58ca603c444caa0e034a61370ba8",
       "version_major": 2,
       "version_minor": 0
      },
      "text/plain": [
       "HBox(children=(FloatProgress(value=0.0, description='Loss: - Accuracy:', layout=Layout(flex='2'), max=7.0, sty…"
      ]
     },
     "metadata": {},
     "output_type": "display_data"
    },
    {
     "name": "stdout",
     "output_type": "stream",
     "text": [
      "\n",
      "e_num_side=10-e_radius=190-spacing=None-total_area=4000 is already trained for AxonMapModel\n"
     ]
    },
    {
     "data": {
      "application/vnd.jupyter.widget-view+json": {
       "model_id": "10a2ff881ad74c40ae863c5395e43f79",
       "version_major": 2,
       "version_minor": 0
      },
      "text/plain": [
       "HBox(children=(FloatProgress(value=0.0, description='Loss: - Accuracy:', layout=Layout(flex='2'), max=7.0, sty…"
      ]
     },
     "metadata": {},
     "output_type": "display_data"
    },
    {
     "name": "stdout",
     "output_type": "stream",
     "text": [
      "\n",
      "# ------------------ ScoreboardModel ----------------- #\n",
      " Trainset mean value for each channel is: 0.14\n",
      " Trainset std  value for each channel is: 0.20\n"
     ]
    },
    {
     "data": {
      "application/vnd.jupyter.widget-view+json": {
       "model_id": "112762b629b3447584a15bd0f67685a5",
       "version_major": 2,
       "version_minor": 0
      },
      "text/plain": [
       "HBox(children=(FloatProgress(value=0.0, description='Loss: - Accuracy:', layout=Layout(flex='2'), max=7.0, sty…"
      ]
     },
     "metadata": {},
     "output_type": "display_data"
    },
    {
     "name": "stdout",
     "output_type": "stream",
     "text": [
      "\n",
      "e_num_side=10-e_radius=190-spacing=None-total_area=4000 is already trained for ScoreboardModel\n"
     ]
    },
    {
     "data": {
      "application/vnd.jupyter.widget-view+json": {
       "model_id": "a29bf7dbf0d149f3a3291a70c5d5d334",
       "version_major": 2,
       "version_minor": 0
      },
      "text/plain": [
       "HBox(children=(FloatProgress(value=0.0, description='Loss: - Accuracy:', layout=Layout(flex='2'), max=7.0, sty…"
      ]
     },
     "metadata": {},
     "output_type": "display_data"
    },
    {
     "name": "stdout",
     "output_type": "stream",
     "text": [
      "\n",
      "e_radius 200\n",
      "# ------------------ AxonMapModel ----------------- #\n",
      " Trainset mean value for each channel is: 0.19\n",
      " Trainset std  value for each channel is: 0.23\n"
     ]
    },
    {
     "data": {
      "application/vnd.jupyter.widget-view+json": {
       "model_id": "153049c6840e4b9aa67dc5c495fa909f",
       "version_major": 2,
       "version_minor": 0
      },
      "text/plain": [
       "HBox(children=(FloatProgress(value=0.0, description='Loss: - Accuracy:', layout=Layout(flex='2'), max=7.0, sty…"
      ]
     },
     "metadata": {},
     "output_type": "display_data"
    },
    {
     "name": "stdout",
     "output_type": "stream",
     "text": [
      "\n",
      "e_num_side=10-e_radius=200-spacing=None-total_area=4000 is already trained for AxonMapModel\n"
     ]
    },
    {
     "data": {
      "application/vnd.jupyter.widget-view+json": {
       "model_id": "d1dc7070de0341279b7b705b43eaf794",
       "version_major": 2,
       "version_minor": 0
      },
      "text/plain": [
       "HBox(children=(FloatProgress(value=0.0, description='Loss: - Accuracy:', layout=Layout(flex='2'), max=7.0, sty…"
      ]
     },
     "metadata": {},
     "output_type": "display_data"
    },
    {
     "name": "stdout",
     "output_type": "stream",
     "text": [
      "\n",
      "# ------------------ ScoreboardModel ----------------- #\n",
      " Trainset mean value for each channel is: 0.14\n",
      " Trainset std  value for each channel is: 0.20\n"
     ]
    },
    {
     "data": {
      "application/vnd.jupyter.widget-view+json": {
       "model_id": "bd6a809a45004854aa9de52ebe5f0a89",
       "version_major": 2,
       "version_minor": 0
      },
      "text/plain": [
       "HBox(children=(FloatProgress(value=0.0, description='Loss: - Accuracy:', layout=Layout(flex='2'), max=7.0, sty…"
      ]
     },
     "metadata": {},
     "output_type": "display_data"
    },
    {
     "name": "stdout",
     "output_type": "stream",
     "text": [
      "\n",
      "e_num_side=10-e_radius=200-spacing=None-total_area=4000 is already trained for ScoreboardModel\n"
     ]
    },
    {
     "data": {
      "application/vnd.jupyter.widget-view+json": {
       "model_id": "bc2727223243478caac8e391adebcbbb",
       "version_major": 2,
       "version_minor": 0
      },
      "text/plain": [
       "HBox(children=(FloatProgress(value=0.0, description='Loss: - Accuracy:', layout=Layout(flex='2'), max=7.0, sty…"
      ]
     },
     "metadata": {},
     "output_type": "display_data"
    },
    {
     "name": "stdout",
     "output_type": "stream",
     "text": [
      "\n",
      "e_radius 210\n",
      "# ------------------ AxonMapModel ----------------- #\n",
      " Trainset mean value for each channel is: 0.19\n",
      " Trainset std  value for each channel is: 0.23\n"
     ]
    },
    {
     "data": {
      "application/vnd.jupyter.widget-view+json": {
       "model_id": "a6cfdc20868047ed983d9df6c7cb5e92",
       "version_major": 2,
       "version_minor": 0
      },
      "text/plain": [
       "HBox(children=(FloatProgress(value=0.0, description='Loss: - Accuracy:', layout=Layout(flex='2'), max=7.0, sty…"
      ]
     },
     "metadata": {},
     "output_type": "display_data"
    },
    {
     "name": "stdout",
     "output_type": "stream",
     "text": [
      "\n",
      "e_num_side=10-e_radius=210-spacing=None-total_area=4000 is already trained for AxonMapModel\n"
     ]
    },
    {
     "data": {
      "application/vnd.jupyter.widget-view+json": {
       "model_id": "1e45d0d20035452e944f13a6420d6ef1",
       "version_major": 2,
       "version_minor": 0
      },
      "text/plain": [
       "HBox(children=(FloatProgress(value=0.0, description='Loss: - Accuracy:', layout=Layout(flex='2'), max=7.0, sty…"
      ]
     },
     "metadata": {},
     "output_type": "display_data"
    },
    {
     "name": "stdout",
     "output_type": "stream",
     "text": [
      "\n",
      "# ------------------ ScoreboardModel ----------------- #\n",
      " Trainset mean value for each channel is: 0.14\n",
      " Trainset std  value for each channel is: 0.20\n"
     ]
    },
    {
     "data": {
      "application/vnd.jupyter.widget-view+json": {
       "model_id": "46e3aae1ac404abc91d3788779414a43",
       "version_major": 2,
       "version_minor": 0
      },
      "text/plain": [
       "HBox(children=(FloatProgress(value=0.0, description='Loss: - Accuracy:', layout=Layout(flex='2'), max=7.0, sty…"
      ]
     },
     "metadata": {},
     "output_type": "display_data"
    },
    {
     "name": "stdout",
     "output_type": "stream",
     "text": [
      "\n",
      "e_num_side=10-e_radius=210-spacing=None-total_area=4000 is already trained for ScoreboardModel\n"
     ]
    },
    {
     "data": {
      "application/vnd.jupyter.widget-view+json": {
       "model_id": "5e9717ebc2b0404e99d2a194fbce5435",
       "version_major": 2,
       "version_minor": 0
      },
      "text/plain": [
       "HBox(children=(FloatProgress(value=0.0, description='Loss: - Accuracy:', layout=Layout(flex='2'), max=7.0, sty…"
      ]
     },
     "metadata": {},
     "output_type": "display_data"
    },
    {
     "name": "stdout",
     "output_type": "stream",
     "text": [
      "\n",
      "e_radius 220\n",
      "# ------------------ AxonMapModel ----------------- #\n",
      " Trainset mean value for each channel is: 0.19\n",
      " Trainset std  value for each channel is: 0.23\n"
     ]
    },
    {
     "data": {
      "application/vnd.jupyter.widget-view+json": {
       "model_id": "27c8a1e902a946e7b87d1cd2d9be736a",
       "version_major": 2,
       "version_minor": 0
      },
      "text/plain": [
       "HBox(children=(FloatProgress(value=0.0, description='Loss: - Accuracy:', layout=Layout(flex='2'), max=7.0, sty…"
      ]
     },
     "metadata": {},
     "output_type": "display_data"
    },
    {
     "name": "stdout",
     "output_type": "stream",
     "text": [
      "\n",
      "e_num_side=10-e_radius=220-spacing=None-total_area=4000 is already trained for AxonMapModel\n"
     ]
    },
    {
     "data": {
      "application/vnd.jupyter.widget-view+json": {
       "model_id": "404ce900cc884bb0bd3ea6f9ef0f664b",
       "version_major": 2,
       "version_minor": 0
      },
      "text/plain": [
       "HBox(children=(FloatProgress(value=0.0, description='Loss: - Accuracy:', layout=Layout(flex='2'), max=7.0, sty…"
      ]
     },
     "metadata": {},
     "output_type": "display_data"
    },
    {
     "name": "stdout",
     "output_type": "stream",
     "text": [
      "\n",
      "# ------------------ ScoreboardModel ----------------- #\n",
      " Trainset mean value for each channel is: 0.14\n",
      " Trainset std  value for each channel is: 0.20\n"
     ]
    },
    {
     "data": {
      "application/vnd.jupyter.widget-view+json": {
       "model_id": "8260a125dcd645a5abc59ca44b23ad13",
       "version_major": 2,
       "version_minor": 0
      },
      "text/plain": [
       "HBox(children=(FloatProgress(value=0.0, description='Loss: - Accuracy:', layout=Layout(flex='2'), max=7.0, sty…"
      ]
     },
     "metadata": {},
     "output_type": "display_data"
    },
    {
     "name": "stdout",
     "output_type": "stream",
     "text": [
      "\n",
      "e_num_side=10-e_radius=220-spacing=None-total_area=4000 is already trained for ScoreboardModel\n"
     ]
    },
    {
     "data": {
      "application/vnd.jupyter.widget-view+json": {
       "model_id": "7b9a15001ca7481c911d1492fa91d4e3",
       "version_major": 2,
       "version_minor": 0
      },
      "text/plain": [
       "HBox(children=(FloatProgress(value=0.0, description='Loss: - Accuracy:', layout=Layout(flex='2'), max=7.0, sty…"
      ]
     },
     "metadata": {},
     "output_type": "display_data"
    },
    {
     "name": "stdout",
     "output_type": "stream",
     "text": [
      "\n",
      "e_radius 230\n",
      "# ------------------ AxonMapModel ----------------- #\n",
      " Trainset mean value for each channel is: 0.19\n",
      " Trainset std  value for each channel is: 0.23\n"
     ]
    },
    {
     "data": {
      "application/vnd.jupyter.widget-view+json": {
       "model_id": "035bed42e711490d90bdd11b30a1c9ff",
       "version_major": 2,
       "version_minor": 0
      },
      "text/plain": [
       "HBox(children=(FloatProgress(value=0.0, description='Loss: - Accuracy:', layout=Layout(flex='2'), max=7.0, sty…"
      ]
     },
     "metadata": {},
     "output_type": "display_data"
    },
    {
     "name": "stdout",
     "output_type": "stream",
     "text": [
      "\n",
      "e_num_side=10-e_radius=230-spacing=None-total_area=4000 is already trained for AxonMapModel\n"
     ]
    },
    {
     "data": {
      "application/vnd.jupyter.widget-view+json": {
       "model_id": "16a731862c5346b890582b481c5ce5c7",
       "version_major": 2,
       "version_minor": 0
      },
      "text/plain": [
       "HBox(children=(FloatProgress(value=0.0, description='Loss: - Accuracy:', layout=Layout(flex='2'), max=7.0, sty…"
      ]
     },
     "metadata": {},
     "output_type": "display_data"
    },
    {
     "name": "stdout",
     "output_type": "stream",
     "text": [
      "\n",
      "# ------------------ ScoreboardModel ----------------- #\n",
      " Trainset mean value for each channel is: 0.14\n",
      " Trainset std  value for each channel is: 0.20\n"
     ]
    },
    {
     "data": {
      "application/vnd.jupyter.widget-view+json": {
       "model_id": "4ba4e991efdf44b282a668c86ae3e9ca",
       "version_major": 2,
       "version_minor": 0
      },
      "text/plain": [
       "HBox(children=(FloatProgress(value=0.0, description='Loss: - Accuracy:', layout=Layout(flex='2'), max=7.0, sty…"
      ]
     },
     "metadata": {},
     "output_type": "display_data"
    },
    {
     "name": "stdout",
     "output_type": "stream",
     "text": [
      "\n",
      "e_num_side=10-e_radius=230-spacing=None-total_area=4000 is already trained for ScoreboardModel\n"
     ]
    },
    {
     "data": {
      "application/vnd.jupyter.widget-view+json": {
       "model_id": "246979cd109f41b7815d5b1580552cdf",
       "version_major": 2,
       "version_minor": 0
      },
      "text/plain": [
       "HBox(children=(FloatProgress(value=0.0, description='Loss: - Accuracy:', layout=Layout(flex='2'), max=7.0, sty…"
      ]
     },
     "metadata": {},
     "output_type": "display_data"
    },
    {
     "name": "stdout",
     "output_type": "stream",
     "text": [
      "\n",
      "e_radius 240\n",
      "# ------------------ AxonMapModel ----------------- #\n",
      " Trainset mean value for each channel is: 0.19\n",
      " Trainset std  value for each channel is: 0.23\n"
     ]
    },
    {
     "data": {
      "application/vnd.jupyter.widget-view+json": {
       "model_id": "c12c97b227b7478990b70a8acdece789",
       "version_major": 2,
       "version_minor": 0
      },
      "text/plain": [
       "HBox(children=(FloatProgress(value=0.0, description='Loss: - Accuracy:', layout=Layout(flex='2'), max=7.0, sty…"
      ]
     },
     "metadata": {},
     "output_type": "display_data"
    },
    {
     "name": "stdout",
     "output_type": "stream",
     "text": [
      "\n",
      "e_num_side=10-e_radius=240-spacing=None-total_area=4000 is already trained for AxonMapModel\n"
     ]
    },
    {
     "data": {
      "application/vnd.jupyter.widget-view+json": {
       "model_id": "9530d29dd48d471ea229ef3f7acb19f2",
       "version_major": 2,
       "version_minor": 0
      },
      "text/plain": [
       "HBox(children=(FloatProgress(value=0.0, description='Loss: - Accuracy:', layout=Layout(flex='2'), max=7.0, sty…"
      ]
     },
     "metadata": {},
     "output_type": "display_data"
    },
    {
     "name": "stdout",
     "output_type": "stream",
     "text": [
      "\n",
      "# ------------------ ScoreboardModel ----------------- #\n",
      " Trainset mean value for each channel is: 0.14\n",
      " Trainset std  value for each channel is: 0.20\n"
     ]
    },
    {
     "data": {
      "application/vnd.jupyter.widget-view+json": {
       "model_id": "06e0a40e9a784ec18b0ca9a04c87b194",
       "version_major": 2,
       "version_minor": 0
      },
      "text/plain": [
       "HBox(children=(FloatProgress(value=0.0, description='Loss: - Accuracy:', layout=Layout(flex='2'), max=7.0, sty…"
      ]
     },
     "metadata": {},
     "output_type": "display_data"
    },
    {
     "name": "stdout",
     "output_type": "stream",
     "text": [
      "\n",
      "e_num_side=10-e_radius=240-spacing=None-total_area=4000 is already trained for ScoreboardModel\n"
     ]
    },
    {
     "data": {
      "application/vnd.jupyter.widget-view+json": {
       "model_id": "ec6a3b8823bf4085aedaefb3b9f6b473",
       "version_major": 2,
       "version_minor": 0
      },
      "text/plain": [
       "HBox(children=(FloatProgress(value=0.0, description='Loss: - Accuracy:', layout=Layout(flex='2'), max=7.0, sty…"
      ]
     },
     "metadata": {},
     "output_type": "display_data"
    },
    {
     "name": "stdout",
     "output_type": "stream",
     "text": [
      "\n",
      "e_radius 250\n",
      "# ------------------ AxonMapModel ----------------- #\n",
      " Trainset mean value for each channel is: 0.19\n",
      " Trainset std  value for each channel is: 0.23\n"
     ]
    },
    {
     "data": {
      "application/vnd.jupyter.widget-view+json": {
       "model_id": "cd71129098614d6dba8e7e1edb2ceaf1",
       "version_major": 2,
       "version_minor": 0
      },
      "text/plain": [
       "HBox(children=(FloatProgress(value=0.0, description='Loss: - Accuracy:', layout=Layout(flex='2'), max=7.0, sty…"
      ]
     },
     "metadata": {},
     "output_type": "display_data"
    },
    {
     "name": "stdout",
     "output_type": "stream",
     "text": [
      "\n",
      "e_num_side=10-e_radius=250-spacing=None-total_area=4000 is already trained for AxonMapModel\n"
     ]
    },
    {
     "data": {
      "application/vnd.jupyter.widget-view+json": {
       "model_id": "5971326ce6444a6084120c515c635213",
       "version_major": 2,
       "version_minor": 0
      },
      "text/plain": [
       "HBox(children=(FloatProgress(value=0.0, description='Loss: - Accuracy:', layout=Layout(flex='2'), max=7.0, sty…"
      ]
     },
     "metadata": {},
     "output_type": "display_data"
    },
    {
     "name": "stdout",
     "output_type": "stream",
     "text": [
      "\n",
      "# ------------------ ScoreboardModel ----------------- #\n",
      " Trainset mean value for each channel is: 0.14\n",
      " Trainset std  value for each channel is: 0.20\n"
     ]
    },
    {
     "data": {
      "application/vnd.jupyter.widget-view+json": {
       "model_id": "ce90a7fd216f4302b2955d9bae656913",
       "version_major": 2,
       "version_minor": 0
      },
      "text/plain": [
       "HBox(children=(FloatProgress(value=0.0, description='Loss: - Accuracy:', layout=Layout(flex='2'), max=7.0, sty…"
      ]
     },
     "metadata": {},
     "output_type": "display_data"
    },
    {
     "name": "stdout",
     "output_type": "stream",
     "text": [
      "\n",
      "e_num_side=10-e_radius=250-spacing=None-total_area=4000 is already trained for ScoreboardModel\n"
     ]
    },
    {
     "data": {
      "application/vnd.jupyter.widget-view+json": {
       "model_id": "238ba5d95ceb48039e36ba90a82e1969",
       "version_major": 2,
       "version_minor": 0
      },
      "text/plain": [
       "HBox(children=(FloatProgress(value=0.0, description='Loss: - Accuracy:', layout=Layout(flex='2'), max=7.0, sty…"
      ]
     },
     "metadata": {},
     "output_type": "display_data"
    },
    {
     "name": "stdout",
     "output_type": "stream",
     "text": [
      "\n",
      "e_radius 260\n",
      "# ------------------ AxonMapModel ----------------- #\n",
      " Trainset mean value for each channel is: 0.19\n",
      " Trainset std  value for each channel is: 0.23\n"
     ]
    },
    {
     "data": {
      "application/vnd.jupyter.widget-view+json": {
       "model_id": "dc5d39a66cc54e6aa252ee8173466318",
       "version_major": 2,
       "version_minor": 0
      },
      "text/plain": [
       "HBox(children=(FloatProgress(value=0.0, description='Loss: - Accuracy:', layout=Layout(flex='2'), max=7.0, sty…"
      ]
     },
     "metadata": {},
     "output_type": "display_data"
    },
    {
     "name": "stdout",
     "output_type": "stream",
     "text": [
      "\n",
      "e_num_side=10-e_radius=260-spacing=None-total_area=4000 is already trained for AxonMapModel\n"
     ]
    },
    {
     "data": {
      "application/vnd.jupyter.widget-view+json": {
       "model_id": "7f0bc9ebddd848da98bba8a924112f61",
       "version_major": 2,
       "version_minor": 0
      },
      "text/plain": [
       "HBox(children=(FloatProgress(value=0.0, description='Loss: - Accuracy:', layout=Layout(flex='2'), max=7.0, sty…"
      ]
     },
     "metadata": {},
     "output_type": "display_data"
    },
    {
     "name": "stdout",
     "output_type": "stream",
     "text": [
      "\n",
      "# ------------------ ScoreboardModel ----------------- #\n",
      " Trainset mean value for each channel is: 0.14\n",
      " Trainset std  value for each channel is: 0.20\n"
     ]
    },
    {
     "data": {
      "application/vnd.jupyter.widget-view+json": {
       "model_id": "ae29ac77f60b4c439721f2ffd831f1ce",
       "version_major": 2,
       "version_minor": 0
      },
      "text/plain": [
       "HBox(children=(FloatProgress(value=0.0, description='Loss: - Accuracy:', layout=Layout(flex='2'), max=7.0, sty…"
      ]
     },
     "metadata": {},
     "output_type": "display_data"
    },
    {
     "name": "stdout",
     "output_type": "stream",
     "text": [
      "\n",
      "e_num_side=10-e_radius=260-spacing=None-total_area=4000 is already trained for ScoreboardModel\n"
     ]
    },
    {
     "data": {
      "application/vnd.jupyter.widget-view+json": {
       "model_id": "ed0ff8dde8434924a86ab0c6faa01c67",
       "version_major": 2,
       "version_minor": 0
      },
      "text/plain": [
       "HBox(children=(FloatProgress(value=0.0, description='Loss: - Accuracy:', layout=Layout(flex='2'), max=7.0, sty…"
      ]
     },
     "metadata": {},
     "output_type": "display_data"
    },
    {
     "name": "stdout",
     "output_type": "stream",
     "text": [
      "\n",
      "e_radius 270\n",
      "# ------------------ AxonMapModel ----------------- #\n",
      " Trainset mean value for each channel is: 0.19\n",
      " Trainset std  value for each channel is: 0.23\n"
     ]
    },
    {
     "data": {
      "application/vnd.jupyter.widget-view+json": {
       "model_id": "84003305d9d44049b992c687263cdbcf",
       "version_major": 2,
       "version_minor": 0
      },
      "text/plain": [
       "HBox(children=(FloatProgress(value=0.0, description='Loss: - Accuracy:', layout=Layout(flex='2'), max=7.0, sty…"
      ]
     },
     "metadata": {},
     "output_type": "display_data"
    },
    {
     "name": "stdout",
     "output_type": "stream",
     "text": [
      "\n",
      "e_num_side=10-e_radius=270-spacing=None-total_area=4000 is already trained for AxonMapModel\n"
     ]
    },
    {
     "data": {
      "application/vnd.jupyter.widget-view+json": {
       "model_id": "a6fd58009d214b069ad35213c48bf6f3",
       "version_major": 2,
       "version_minor": 0
      },
      "text/plain": [
       "HBox(children=(FloatProgress(value=0.0, description='Loss: - Accuracy:', layout=Layout(flex='2'), max=7.0, sty…"
      ]
     },
     "metadata": {},
     "output_type": "display_data"
    },
    {
     "name": "stdout",
     "output_type": "stream",
     "text": [
      "\n",
      "# ------------------ ScoreboardModel ----------------- #\n",
      " Trainset mean value for each channel is: 0.14\n",
      " Trainset std  value for each channel is: 0.20\n"
     ]
    },
    {
     "data": {
      "application/vnd.jupyter.widget-view+json": {
       "model_id": "caf1d8e2a01c40aab7a78f686d3f1d85",
       "version_major": 2,
       "version_minor": 0
      },
      "text/plain": [
       "HBox(children=(FloatProgress(value=0.0, description='Loss: - Accuracy:', layout=Layout(flex='2'), max=7.0, sty…"
      ]
     },
     "metadata": {},
     "output_type": "display_data"
    },
    {
     "name": "stdout",
     "output_type": "stream",
     "text": [
      "\n",
      "e_num_side=10-e_radius=270-spacing=None-total_area=4000 is already trained for ScoreboardModel\n"
     ]
    },
    {
     "data": {
      "application/vnd.jupyter.widget-view+json": {
       "model_id": "002c6edfad3a4e4595a44c22b24884bd",
       "version_major": 2,
       "version_minor": 0
      },
      "text/plain": [
       "HBox(children=(FloatProgress(value=0.0, description='Loss: - Accuracy:', layout=Layout(flex='2'), max=7.0, sty…"
      ]
     },
     "metadata": {},
     "output_type": "display_data"
    },
    {
     "name": "stdout",
     "output_type": "stream",
     "text": [
      "\n",
      "e_radius 280\n",
      "# ------------------ AxonMapModel ----------------- #\n",
      " Trainset mean value for each channel is: 0.19\n",
      " Trainset std  value for each channel is: 0.23\n"
     ]
    },
    {
     "data": {
      "application/vnd.jupyter.widget-view+json": {
       "model_id": "cc4bc1b39dcd4bffa7c3b45fad72ff32",
       "version_major": 2,
       "version_minor": 0
      },
      "text/plain": [
       "HBox(children=(FloatProgress(value=0.0, description='Loss: - Accuracy:', layout=Layout(flex='2'), max=7.0, sty…"
      ]
     },
     "metadata": {},
     "output_type": "display_data"
    },
    {
     "name": "stdout",
     "output_type": "stream",
     "text": [
      "\n",
      "e_num_side=10-e_radius=280-spacing=None-total_area=4000 is already trained for AxonMapModel\n"
     ]
    },
    {
     "data": {
      "application/vnd.jupyter.widget-view+json": {
       "model_id": "5b82a5b710da4c069f0a8b8084a90c9c",
       "version_major": 2,
       "version_minor": 0
      },
      "text/plain": [
       "HBox(children=(FloatProgress(value=0.0, description='Loss: - Accuracy:', layout=Layout(flex='2'), max=7.0, sty…"
      ]
     },
     "metadata": {},
     "output_type": "display_data"
    },
    {
     "name": "stdout",
     "output_type": "stream",
     "text": [
      "\n",
      "# ------------------ ScoreboardModel ----------------- #\n",
      " Trainset mean value for each channel is: 0.14\n",
      " Trainset std  value for each channel is: 0.20\n"
     ]
    },
    {
     "data": {
      "application/vnd.jupyter.widget-view+json": {
       "model_id": "1f9b036797ab4400877986b7e386bbc2",
       "version_major": 2,
       "version_minor": 0
      },
      "text/plain": [
       "HBox(children=(FloatProgress(value=0.0, description='Loss: - Accuracy:', layout=Layout(flex='2'), max=7.0, sty…"
      ]
     },
     "metadata": {},
     "output_type": "display_data"
    },
    {
     "name": "stdout",
     "output_type": "stream",
     "text": [
      "\n",
      "e_num_side=10-e_radius=280-spacing=None-total_area=4000 is already trained for ScoreboardModel\n"
     ]
    },
    {
     "data": {
      "application/vnd.jupyter.widget-view+json": {
       "model_id": "fd2c5adcfc714494ae78d940a0adf4e6",
       "version_major": 2,
       "version_minor": 0
      },
      "text/plain": [
       "HBox(children=(FloatProgress(value=0.0, description='Loss: - Accuracy:', layout=Layout(flex='2'), max=7.0, sty…"
      ]
     },
     "metadata": {},
     "output_type": "display_data"
    },
    {
     "name": "stdout",
     "output_type": "stream",
     "text": [
      "\n",
      "e_radius 290\n",
      "# ------------------ AxonMapModel ----------------- #\n",
      " Trainset mean value for each channel is: 0.19\n",
      " Trainset std  value for each channel is: 0.23\n"
     ]
    },
    {
     "data": {
      "application/vnd.jupyter.widget-view+json": {
       "model_id": "0920911937fe4b9ba050572bcf6e6a32",
       "version_major": 2,
       "version_minor": 0
      },
      "text/plain": [
       "HBox(children=(FloatProgress(value=0.0, description='Loss: - Accuracy:', layout=Layout(flex='2'), max=7.0, sty…"
      ]
     },
     "metadata": {},
     "output_type": "display_data"
    },
    {
     "name": "stdout",
     "output_type": "stream",
     "text": [
      "\n",
      "e_num_side=10-e_radius=290-spacing=None-total_area=4000 is already trained for AxonMapModel\n"
     ]
    },
    {
     "data": {
      "application/vnd.jupyter.widget-view+json": {
       "model_id": "71bc41ddb95e404d80e460e8649bf6fe",
       "version_major": 2,
       "version_minor": 0
      },
      "text/plain": [
       "HBox(children=(FloatProgress(value=0.0, description='Loss: - Accuracy:', layout=Layout(flex='2'), max=7.0, sty…"
      ]
     },
     "metadata": {},
     "output_type": "display_data"
    },
    {
     "name": "stdout",
     "output_type": "stream",
     "text": [
      "\n",
      "# ------------------ ScoreboardModel ----------------- #\n",
      " Trainset mean value for each channel is: 0.14\n",
      " Trainset std  value for each channel is: 0.20\n"
     ]
    },
    {
     "data": {
      "application/vnd.jupyter.widget-view+json": {
       "model_id": "735ab4aa4c474fceb53890a0d963002a",
       "version_major": 2,
       "version_minor": 0
      },
      "text/plain": [
       "HBox(children=(FloatProgress(value=0.0, description='Loss: - Accuracy:', layout=Layout(flex='2'), max=7.0, sty…"
      ]
     },
     "metadata": {},
     "output_type": "display_data"
    },
    {
     "name": "stdout",
     "output_type": "stream",
     "text": [
      "\n",
      "e_num_side=10-e_radius=290-spacing=None-total_area=4000 is already trained for ScoreboardModel\n"
     ]
    },
    {
     "data": {
      "application/vnd.jupyter.widget-view+json": {
       "model_id": "06a14c55f81d4dc8805cf8f1debb4106",
       "version_major": 2,
       "version_minor": 0
      },
      "text/plain": [
       "HBox(children=(FloatProgress(value=0.0, description='Loss: - Accuracy:', layout=Layout(flex='2'), max=7.0, sty…"
      ]
     },
     "metadata": {},
     "output_type": "display_data"
    },
    {
     "name": "stdout",
     "output_type": "stream",
     "text": [
      "\n",
      "e_radius 300\n",
      "# ------------------ AxonMapModel ----------------- #\n",
      " Trainset mean value for each channel is: 0.19\n",
      " Trainset std  value for each channel is: 0.23\n"
     ]
    },
    {
     "data": {
      "application/vnd.jupyter.widget-view+json": {
       "model_id": "b2183ea0e4664c1bb105195740b6be26",
       "version_major": 2,
       "version_minor": 0
      },
      "text/plain": [
       "HBox(children=(FloatProgress(value=0.0, description='Loss: - Accuracy:', layout=Layout(flex='2'), max=7.0, sty…"
      ]
     },
     "metadata": {},
     "output_type": "display_data"
    },
    {
     "name": "stdout",
     "output_type": "stream",
     "text": [
      "\n",
      "e_num_side=10-e_radius=300-spacing=None-total_area=4000 is already trained for AxonMapModel\n"
     ]
    },
    {
     "data": {
      "application/vnd.jupyter.widget-view+json": {
       "model_id": "469c4ff39afe41f8b776492472ce5ad1",
       "version_major": 2,
       "version_minor": 0
      },
      "text/plain": [
       "HBox(children=(FloatProgress(value=0.0, description='Loss: - Accuracy:', layout=Layout(flex='2'), max=7.0, sty…"
      ]
     },
     "metadata": {},
     "output_type": "display_data"
    },
    {
     "name": "stdout",
     "output_type": "stream",
     "text": [
      "\n",
      "# ------------------ ScoreboardModel ----------------- #\n",
      " Trainset mean value for each channel is: 0.14\n",
      " Trainset std  value for each channel is: 0.20\n"
     ]
    },
    {
     "data": {
      "application/vnd.jupyter.widget-view+json": {
       "model_id": "2fa01fac786a4ee0a7084c2967d6249e",
       "version_major": 2,
       "version_minor": 0
      },
      "text/plain": [
       "HBox(children=(FloatProgress(value=0.0, description='Loss: - Accuracy:', layout=Layout(flex='2'), max=7.0, sty…"
      ]
     },
     "metadata": {},
     "output_type": "display_data"
    },
    {
     "name": "stdout",
     "output_type": "stream",
     "text": [
      "\n",
      "e_num_side=10-e_radius=300-spacing=None-total_area=4000 is already trained for ScoreboardModel\n"
     ]
    },
    {
     "data": {
      "application/vnd.jupyter.widget-view+json": {
       "model_id": "03edc504d81d472f96e7142703c0d86d",
       "version_major": 2,
       "version_minor": 0
      },
      "text/plain": [
       "HBox(children=(FloatProgress(value=0.0, description='Loss: - Accuracy:', layout=Layout(flex='2'), max=7.0, sty…"
      ]
     },
     "metadata": {},
     "output_type": "display_data"
    },
    {
     "name": "stdout",
     "output_type": "stream",
     "text": [
      "\n",
      "e_radius 310\n",
      "# ------------------ AxonMapModel ----------------- #\n",
      " Trainset mean value for each channel is: 0.19\n",
      " Trainset std  value for each channel is: 0.23\n"
     ]
    },
    {
     "data": {
      "application/vnd.jupyter.widget-view+json": {
       "model_id": "49114322fa25445bb4bda53df7e97c61",
       "version_major": 2,
       "version_minor": 0
      },
      "text/plain": [
       "HBox(children=(FloatProgress(value=0.0, description='Loss: - Accuracy:', layout=Layout(flex='2'), max=7.0, sty…"
      ]
     },
     "metadata": {},
     "output_type": "display_data"
    },
    {
     "name": "stdout",
     "output_type": "stream",
     "text": [
      "\n",
      "e_num_side=10-e_radius=310-spacing=None-total_area=4000 is already trained for AxonMapModel\n"
     ]
    },
    {
     "data": {
      "application/vnd.jupyter.widget-view+json": {
       "model_id": "adb08dd3ddf6475b870243d0ffd8ad94",
       "version_major": 2,
       "version_minor": 0
      },
      "text/plain": [
       "HBox(children=(FloatProgress(value=0.0, description='Loss: - Accuracy:', layout=Layout(flex='2'), max=7.0, sty…"
      ]
     },
     "metadata": {},
     "output_type": "display_data"
    },
    {
     "name": "stdout",
     "output_type": "stream",
     "text": [
      "\n",
      "# ------------------ ScoreboardModel ----------------- #\n",
      " Trainset mean value for each channel is: 0.14\n",
      " Trainset std  value for each channel is: 0.20\n"
     ]
    },
    {
     "data": {
      "application/vnd.jupyter.widget-view+json": {
       "model_id": "9ae35858a5da4240b1ae6d8508ed4962",
       "version_major": 2,
       "version_minor": 0
      },
      "text/plain": [
       "HBox(children=(FloatProgress(value=0.0, description='Loss: - Accuracy:', layout=Layout(flex='2'), max=7.0, sty…"
      ]
     },
     "metadata": {},
     "output_type": "display_data"
    },
    {
     "name": "stdout",
     "output_type": "stream",
     "text": [
      "\n",
      "e_num_side=10-e_radius=310-spacing=None-total_area=4000 is already trained for ScoreboardModel\n"
     ]
    },
    {
     "data": {
      "application/vnd.jupyter.widget-view+json": {
       "model_id": "24acfbe88fb74f08b2981aeb4baf5458",
       "version_major": 2,
       "version_minor": 0
      },
      "text/plain": [
       "HBox(children=(FloatProgress(value=0.0, description='Loss: - Accuracy:', layout=Layout(flex='2'), max=7.0, sty…"
      ]
     },
     "metadata": {},
     "output_type": "display_data"
    },
    {
     "name": "stdout",
     "output_type": "stream",
     "text": [
      "\n",
      "e_radius 320\n",
      "# ------------------ AxonMapModel ----------------- #\n",
      " Trainset mean value for each channel is: 0.19\n",
      " Trainset std  value for each channel is: 0.23\n"
     ]
    },
    {
     "data": {
      "application/vnd.jupyter.widget-view+json": {
       "model_id": "9894cf9072af4aa8be2e9cc6fcde308d",
       "version_major": 2,
       "version_minor": 0
      },
      "text/plain": [
       "HBox(children=(FloatProgress(value=0.0, description='Loss: - Accuracy:', layout=Layout(flex='2'), max=7.0, sty…"
      ]
     },
     "metadata": {},
     "output_type": "display_data"
    },
    {
     "name": "stdout",
     "output_type": "stream",
     "text": [
      "\n",
      "e_num_side=10-e_radius=320-spacing=None-total_area=4000 is already trained for AxonMapModel\n"
     ]
    },
    {
     "data": {
      "application/vnd.jupyter.widget-view+json": {
       "model_id": "e221ede85d084d56aab42373d72cf77b",
       "version_major": 2,
       "version_minor": 0
      },
      "text/plain": [
       "HBox(children=(FloatProgress(value=0.0, description='Loss: - Accuracy:', layout=Layout(flex='2'), max=7.0, sty…"
      ]
     },
     "metadata": {},
     "output_type": "display_data"
    },
    {
     "name": "stdout",
     "output_type": "stream",
     "text": [
      "\n",
      "# ------------------ ScoreboardModel ----------------- #\n",
      " Trainset mean value for each channel is: 0.14\n",
      " Trainset std  value for each channel is: 0.20\n"
     ]
    },
    {
     "data": {
      "application/vnd.jupyter.widget-view+json": {
       "model_id": "e21e7c7e964c41549ec240d2563ac6f1",
       "version_major": 2,
       "version_minor": 0
      },
      "text/plain": [
       "HBox(children=(FloatProgress(value=0.0, description='Loss: - Accuracy:', layout=Layout(flex='2'), max=7.0, sty…"
      ]
     },
     "metadata": {},
     "output_type": "display_data"
    },
    {
     "name": "stdout",
     "output_type": "stream",
     "text": [
      "\n",
      "e_num_side=10-e_radius=320-spacing=None-total_area=4000 is already trained for ScoreboardModel\n"
     ]
    },
    {
     "data": {
      "application/vnd.jupyter.widget-view+json": {
       "model_id": "cc42519f75614e19982653462df28ec8",
       "version_major": 2,
       "version_minor": 0
      },
      "text/plain": [
       "HBox(children=(FloatProgress(value=0.0, description='Loss: - Accuracy:', layout=Layout(flex='2'), max=7.0, sty…"
      ]
     },
     "metadata": {},
     "output_type": "display_data"
    },
    {
     "name": "stdout",
     "output_type": "stream",
     "text": [
      "\n",
      "e_radius 330\n",
      "# ------------------ AxonMapModel ----------------- #\n",
      " Trainset mean value for each channel is: 0.19\n",
      " Trainset std  value for each channel is: 0.23\n"
     ]
    },
    {
     "data": {
      "application/vnd.jupyter.widget-view+json": {
       "model_id": "960b4b72f00341ceb35c4f1c2e3d8f0c",
       "version_major": 2,
       "version_minor": 0
      },
      "text/plain": [
       "HBox(children=(FloatProgress(value=0.0, description='Loss: - Accuracy:', layout=Layout(flex='2'), max=7.0, sty…"
      ]
     },
     "metadata": {},
     "output_type": "display_data"
    },
    {
     "name": "stdout",
     "output_type": "stream",
     "text": [
      "\n",
      "e_num_side=10-e_radius=330-spacing=None-total_area=4000 is already trained for AxonMapModel\n"
     ]
    },
    {
     "data": {
      "application/vnd.jupyter.widget-view+json": {
       "model_id": "d287e42cf95a44888343c85ce023ef83",
       "version_major": 2,
       "version_minor": 0
      },
      "text/plain": [
       "HBox(children=(FloatProgress(value=0.0, description='Loss: - Accuracy:', layout=Layout(flex='2'), max=7.0, sty…"
      ]
     },
     "metadata": {},
     "output_type": "display_data"
    },
    {
     "name": "stdout",
     "output_type": "stream",
     "text": [
      "\n",
      "# ------------------ ScoreboardModel ----------------- #\n",
      " Trainset mean value for each channel is: 0.14\n",
      " Trainset std  value for each channel is: 0.20\n"
     ]
    },
    {
     "data": {
      "application/vnd.jupyter.widget-view+json": {
       "model_id": "89f792b627284d36abfdec327d2518b6",
       "version_major": 2,
       "version_minor": 0
      },
      "text/plain": [
       "HBox(children=(FloatProgress(value=0.0, description='Loss: - Accuracy:', layout=Layout(flex='2'), max=7.0, sty…"
      ]
     },
     "metadata": {},
     "output_type": "display_data"
    },
    {
     "name": "stdout",
     "output_type": "stream",
     "text": [
      "\n",
      "e_num_side=10-e_radius=330-spacing=None-total_area=4000 is already trained for ScoreboardModel\n"
     ]
    },
    {
     "data": {
      "application/vnd.jupyter.widget-view+json": {
       "model_id": "e481354a3c344a9cb8e946279e53e88a",
       "version_major": 2,
       "version_minor": 0
      },
      "text/plain": [
       "HBox(children=(FloatProgress(value=0.0, description='Loss: - Accuracy:', layout=Layout(flex='2'), max=7.0, sty…"
      ]
     },
     "metadata": {},
     "output_type": "display_data"
    },
    {
     "name": "stdout",
     "output_type": "stream",
     "text": [
      "\n",
      "e_radius 340\n",
      "# ------------------ AxonMapModel ----------------- #\n",
      " Trainset mean value for each channel is: 0.19\n",
      " Trainset std  value for each channel is: 0.23\n"
     ]
    },
    {
     "data": {
      "application/vnd.jupyter.widget-view+json": {
       "model_id": "69c1bc14edc94c6fa53ead9264b10c98",
       "version_major": 2,
       "version_minor": 0
      },
      "text/plain": [
       "HBox(children=(FloatProgress(value=0.0, description='Loss: - Accuracy:', layout=Layout(flex='2'), max=7.0, sty…"
      ]
     },
     "metadata": {},
     "output_type": "display_data"
    },
    {
     "name": "stdout",
     "output_type": "stream",
     "text": [
      "\n",
      "e_num_side=10-e_radius=340-spacing=None-total_area=4000 is already trained for AxonMapModel\n"
     ]
    },
    {
     "data": {
      "application/vnd.jupyter.widget-view+json": {
       "model_id": "2e1ae179b1a34371b4a3ec801af6635c",
       "version_major": 2,
       "version_minor": 0
      },
      "text/plain": [
       "HBox(children=(FloatProgress(value=0.0, description='Loss: - Accuracy:', layout=Layout(flex='2'), max=7.0, sty…"
      ]
     },
     "metadata": {},
     "output_type": "display_data"
    },
    {
     "name": "stdout",
     "output_type": "stream",
     "text": [
      "\n",
      "# ------------------ ScoreboardModel ----------------- #\n",
      " Trainset mean value for each channel is: 0.14\n",
      " Trainset std  value for each channel is: 0.20\n"
     ]
    },
    {
     "data": {
      "application/vnd.jupyter.widget-view+json": {
       "model_id": "4aa58c7a42f54ec2bccbb9b0aea7d87f",
       "version_major": 2,
       "version_minor": 0
      },
      "text/plain": [
       "HBox(children=(FloatProgress(value=0.0, description='Loss: - Accuracy:', layout=Layout(flex='2'), max=7.0, sty…"
      ]
     },
     "metadata": {},
     "output_type": "display_data"
    },
    {
     "name": "stdout",
     "output_type": "stream",
     "text": [
      "\n",
      "e_num_side=10-e_radius=340-spacing=None-total_area=4000 is already trained for ScoreboardModel\n"
     ]
    },
    {
     "data": {
      "application/vnd.jupyter.widget-view+json": {
       "model_id": "829d503e85154be3bb16c5c1c03ee596",
       "version_major": 2,
       "version_minor": 0
      },
      "text/plain": [
       "HBox(children=(FloatProgress(value=0.0, description='Loss: - Accuracy:', layout=Layout(flex='2'), max=7.0, sty…"
      ]
     },
     "metadata": {},
     "output_type": "display_data"
    },
    {
     "name": "stdout",
     "output_type": "stream",
     "text": [
      "\n",
      "e_radius 350\n",
      "# ------------------ AxonMapModel ----------------- #\n",
      " Trainset mean value for each channel is: 0.19\n",
      " Trainset std  value for each channel is: 0.23\n"
     ]
    },
    {
     "data": {
      "application/vnd.jupyter.widget-view+json": {
       "model_id": "77ab188175a948e0a7ca2da0602523d0",
       "version_major": 2,
       "version_minor": 0
      },
      "text/plain": [
       "HBox(children=(FloatProgress(value=0.0, description='Loss: - Accuracy:', layout=Layout(flex='2'), max=7.0, sty…"
      ]
     },
     "metadata": {},
     "output_type": "display_data"
    },
    {
     "name": "stdout",
     "output_type": "stream",
     "text": [
      "\n",
      "e_num_side=10-e_radius=350-spacing=None-total_area=4000 is already trained for AxonMapModel\n"
     ]
    },
    {
     "data": {
      "application/vnd.jupyter.widget-view+json": {
       "model_id": "8b86d8947c394e4fbf2d353e49e11b00",
       "version_major": 2,
       "version_minor": 0
      },
      "text/plain": [
       "HBox(children=(FloatProgress(value=0.0, description='Loss: - Accuracy:', layout=Layout(flex='2'), max=7.0, sty…"
      ]
     },
     "metadata": {},
     "output_type": "display_data"
    },
    {
     "name": "stdout",
     "output_type": "stream",
     "text": [
      "\n",
      "# ------------------ ScoreboardModel ----------------- #\n",
      " Trainset mean value for each channel is: 0.14\n",
      " Trainset std  value for each channel is: 0.20\n"
     ]
    },
    {
     "data": {
      "application/vnd.jupyter.widget-view+json": {
       "model_id": "82037e078d1247249cabf6ae798760e7",
       "version_major": 2,
       "version_minor": 0
      },
      "text/plain": [
       "HBox(children=(FloatProgress(value=0.0, description='Loss: - Accuracy:', layout=Layout(flex='2'), max=7.0, sty…"
      ]
     },
     "metadata": {},
     "output_type": "display_data"
    },
    {
     "name": "stdout",
     "output_type": "stream",
     "text": [
      "\n",
      "e_num_side=10-e_radius=350-spacing=None-total_area=4000 is already trained for ScoreboardModel\n"
     ]
    },
    {
     "data": {
      "application/vnd.jupyter.widget-view+json": {
       "model_id": "93817b5e369a445cac607d66e00e2aee",
       "version_major": 2,
       "version_minor": 0
      },
      "text/plain": [
       "HBox(children=(FloatProgress(value=0.0, description='Loss: - Accuracy:', layout=Layout(flex='2'), max=7.0, sty…"
      ]
     },
     "metadata": {},
     "output_type": "display_data"
    },
    {
     "name": "stdout",
     "output_type": "stream",
     "text": [
      "\n",
      "e_radius 360\n",
      "# ------------------ AxonMapModel ----------------- #\n",
      " Trainset mean value for each channel is: 0.19\n",
      " Trainset std  value for each channel is: 0.23\n"
     ]
    },
    {
     "data": {
      "application/vnd.jupyter.widget-view+json": {
       "model_id": "b7aabd7bd87d4bbaaf435fceea1cd847",
       "version_major": 2,
       "version_minor": 0
      },
      "text/plain": [
       "HBox(children=(FloatProgress(value=0.0, description='Loss: - Accuracy:', layout=Layout(flex='2'), max=7.0, sty…"
      ]
     },
     "metadata": {},
     "output_type": "display_data"
    },
    {
     "name": "stdout",
     "output_type": "stream",
     "text": [
      "\n",
      "e_num_side=10-e_radius=360-spacing=None-total_area=4000 is already trained for AxonMapModel\n"
     ]
    },
    {
     "data": {
      "application/vnd.jupyter.widget-view+json": {
       "model_id": "b91d6870fe554a45998a655c1f016ebf",
       "version_major": 2,
       "version_minor": 0
      },
      "text/plain": [
       "HBox(children=(FloatProgress(value=0.0, description='Loss: - Accuracy:', layout=Layout(flex='2'), max=7.0, sty…"
      ]
     },
     "metadata": {},
     "output_type": "display_data"
    },
    {
     "name": "stdout",
     "output_type": "stream",
     "text": [
      "\n",
      "# ------------------ ScoreboardModel ----------------- #\n",
      " Trainset mean value for each channel is: 0.14\n",
      " Trainset std  value for each channel is: 0.20\n"
     ]
    },
    {
     "data": {
      "application/vnd.jupyter.widget-view+json": {
       "model_id": "a99eba34f8174edca0f5b41865507274",
       "version_major": 2,
       "version_minor": 0
      },
      "text/plain": [
       "HBox(children=(FloatProgress(value=0.0, description='Loss: - Accuracy:', layout=Layout(flex='2'), max=7.0, sty…"
      ]
     },
     "metadata": {},
     "output_type": "display_data"
    },
    {
     "name": "stdout",
     "output_type": "stream",
     "text": [
      "\n",
      "e_num_side=10-e_radius=360-spacing=None-total_area=4000 is already trained for ScoreboardModel\n"
     ]
    },
    {
     "data": {
      "application/vnd.jupyter.widget-view+json": {
       "model_id": "449b49da54a448fba9255f8403e4034e",
       "version_major": 2,
       "version_minor": 0
      },
      "text/plain": [
       "HBox(children=(FloatProgress(value=0.0, description='Loss: - Accuracy:', layout=Layout(flex='2'), max=7.0, sty…"
      ]
     },
     "metadata": {},
     "output_type": "display_data"
    },
    {
     "name": "stdout",
     "output_type": "stream",
     "text": [
      "\n",
      "e_radius 370\n",
      "# ------------------ AxonMapModel ----------------- #\n",
      " Trainset mean value for each channel is: 0.19\n",
      " Trainset std  value for each channel is: 0.23\n"
     ]
    },
    {
     "data": {
      "application/vnd.jupyter.widget-view+json": {
       "model_id": "e310f9114b3249989d37bf175e3ce519",
       "version_major": 2,
       "version_minor": 0
      },
      "text/plain": [
       "HBox(children=(FloatProgress(value=0.0, description='Loss: - Accuracy:', layout=Layout(flex='2'), max=7.0, sty…"
      ]
     },
     "metadata": {},
     "output_type": "display_data"
    },
    {
     "name": "stdout",
     "output_type": "stream",
     "text": [
      "\n",
      "e_num_side=10-e_radius=370-spacing=None-total_area=4000 is already trained for AxonMapModel\n"
     ]
    },
    {
     "data": {
      "application/vnd.jupyter.widget-view+json": {
       "model_id": "221ab4e545d64aa48adf6e407549c486",
       "version_major": 2,
       "version_minor": 0
      },
      "text/plain": [
       "HBox(children=(FloatProgress(value=0.0, description='Loss: - Accuracy:', layout=Layout(flex='2'), max=7.0, sty…"
      ]
     },
     "metadata": {},
     "output_type": "display_data"
    },
    {
     "name": "stdout",
     "output_type": "stream",
     "text": [
      "\n",
      "# ------------------ ScoreboardModel ----------------- #\n",
      " Trainset mean value for each channel is: 0.14\n",
      " Trainset std  value for each channel is: 0.20\n"
     ]
    },
    {
     "data": {
      "application/vnd.jupyter.widget-view+json": {
       "model_id": "35b372a5c23e4a50ba89ecf5ba7226fd",
       "version_major": 2,
       "version_minor": 0
      },
      "text/plain": [
       "HBox(children=(FloatProgress(value=0.0, description='Loss: - Accuracy:', layout=Layout(flex='2'), max=7.0, sty…"
      ]
     },
     "metadata": {},
     "output_type": "display_data"
    },
    {
     "name": "stdout",
     "output_type": "stream",
     "text": [
      "\n",
      "e_num_side=10-e_radius=370-spacing=None-total_area=4000 is already trained for ScoreboardModel\n"
     ]
    },
    {
     "data": {
      "application/vnd.jupyter.widget-view+json": {
       "model_id": "0f96be4a5ba04935804a42982288db60",
       "version_major": 2,
       "version_minor": 0
      },
      "text/plain": [
       "HBox(children=(FloatProgress(value=0.0, description='Loss: - Accuracy:', layout=Layout(flex='2'), max=7.0, sty…"
      ]
     },
     "metadata": {},
     "output_type": "display_data"
    },
    {
     "name": "stdout",
     "output_type": "stream",
     "text": [
      "\n",
      "e_radius 380\n",
      "# ------------------ AxonMapModel ----------------- #\n",
      " Trainset mean value for each channel is: 0.19\n",
      " Trainset std  value for each channel is: 0.23\n"
     ]
    },
    {
     "data": {
      "application/vnd.jupyter.widget-view+json": {
       "model_id": "28b84c9c15c54b03b671f245bc46d524",
       "version_major": 2,
       "version_minor": 0
      },
      "text/plain": [
       "HBox(children=(FloatProgress(value=0.0, description='Loss: - Accuracy:', layout=Layout(flex='2'), max=7.0, sty…"
      ]
     },
     "metadata": {},
     "output_type": "display_data"
    },
    {
     "name": "stdout",
     "output_type": "stream",
     "text": [
      "\n",
      "e_num_side=10-e_radius=380-spacing=None-total_area=4000 is already trained for AxonMapModel\n"
     ]
    },
    {
     "data": {
      "application/vnd.jupyter.widget-view+json": {
       "model_id": "c7434e5a84ea47abbd704a882c7506f3",
       "version_major": 2,
       "version_minor": 0
      },
      "text/plain": [
       "HBox(children=(FloatProgress(value=0.0, description='Loss: - Accuracy:', layout=Layout(flex='2'), max=7.0, sty…"
      ]
     },
     "metadata": {},
     "output_type": "display_data"
    },
    {
     "name": "stdout",
     "output_type": "stream",
     "text": [
      "\n",
      "# ------------------ ScoreboardModel ----------------- #\n",
      " Trainset mean value for each channel is: 0.14\n",
      " Trainset std  value for each channel is: 0.20\n"
     ]
    },
    {
     "data": {
      "application/vnd.jupyter.widget-view+json": {
       "model_id": "f2176177dc9e4cef812ecd36c8e34240",
       "version_major": 2,
       "version_minor": 0
      },
      "text/plain": [
       "HBox(children=(FloatProgress(value=0.0, description='Loss: - Accuracy:', layout=Layout(flex='2'), max=7.0, sty…"
      ]
     },
     "metadata": {},
     "output_type": "display_data"
    },
    {
     "name": "stdout",
     "output_type": "stream",
     "text": [
      "\n",
      "e_num_side=10-e_radius=380-spacing=None-total_area=4000 is already trained for ScoreboardModel\n"
     ]
    },
    {
     "data": {
      "application/vnd.jupyter.widget-view+json": {
       "model_id": "e07d41173d544c8c9e7fa2d0af0091e5",
       "version_major": 2,
       "version_minor": 0
      },
      "text/plain": [
       "HBox(children=(FloatProgress(value=0.0, description='Loss: - Accuracy:', layout=Layout(flex='2'), max=7.0, sty…"
      ]
     },
     "metadata": {},
     "output_type": "display_data"
    },
    {
     "name": "stdout",
     "output_type": "stream",
     "text": [
      "\n",
      "e_radius 390\n",
      "# ------------------ AxonMapModel ----------------- #\n",
      " Trainset mean value for each channel is: 0.19\n",
      " Trainset std  value for each channel is: 0.23\n"
     ]
    },
    {
     "data": {
      "application/vnd.jupyter.widget-view+json": {
       "model_id": "453c5072fadb4ac0b09ca663352df153",
       "version_major": 2,
       "version_minor": 0
      },
      "text/plain": [
       "HBox(children=(FloatProgress(value=0.0, description='Loss: - Accuracy:', layout=Layout(flex='2'), max=7.0, sty…"
      ]
     },
     "metadata": {},
     "output_type": "display_data"
    },
    {
     "name": "stdout",
     "output_type": "stream",
     "text": [
      "\n",
      "e_num_side=10-e_radius=390-spacing=None-total_area=4000 is already trained for AxonMapModel\n"
     ]
    },
    {
     "data": {
      "application/vnd.jupyter.widget-view+json": {
       "model_id": "ac1dc816975645f0859cba44fa2cfeef",
       "version_major": 2,
       "version_minor": 0
      },
      "text/plain": [
       "HBox(children=(FloatProgress(value=0.0, description='Loss: - Accuracy:', layout=Layout(flex='2'), max=7.0, sty…"
      ]
     },
     "metadata": {},
     "output_type": "display_data"
    },
    {
     "name": "stdout",
     "output_type": "stream",
     "text": [
      "\n",
      "# ------------------ ScoreboardModel ----------------- #\n",
      " Trainset mean value for each channel is: 0.14\n",
      " Trainset std  value for each channel is: 0.20\n"
     ]
    },
    {
     "data": {
      "application/vnd.jupyter.widget-view+json": {
       "model_id": "f8d489ef5c4c4ac4a19ed2f8f8160d40",
       "version_major": 2,
       "version_minor": 0
      },
      "text/plain": [
       "HBox(children=(FloatProgress(value=0.0, description='Loss: - Accuracy:', layout=Layout(flex='2'), max=7.0, sty…"
      ]
     },
     "metadata": {},
     "output_type": "display_data"
    },
    {
     "name": "stdout",
     "output_type": "stream",
     "text": [
      "\n",
      "e_num_side=10-e_radius=390-spacing=None-total_area=4000 is already trained for ScoreboardModel\n"
     ]
    },
    {
     "data": {
      "application/vnd.jupyter.widget-view+json": {
       "model_id": "092268c45eea42ccab77c0d3b9a5954e",
       "version_major": 2,
       "version_minor": 0
      },
      "text/plain": [
       "HBox(children=(FloatProgress(value=0.0, description='Loss: - Accuracy:', layout=Layout(flex='2'), max=7.0, sty…"
      ]
     },
     "metadata": {},
     "output_type": "display_data"
    },
    {
     "name": "stdout",
     "output_type": "stream",
     "text": [
      "\n",
      "e_radius 400\n",
      "# ------------------ AxonMapModel ----------------- #\n",
      " Trainset mean value for each channel is: 0.19\n",
      " Trainset std  value for each channel is: 0.23\n"
     ]
    },
    {
     "data": {
      "application/vnd.jupyter.widget-view+json": {
       "model_id": "a2cd10d15a9d4287a54be7f8d761b165",
       "version_major": 2,
       "version_minor": 0
      },
      "text/plain": [
       "HBox(children=(FloatProgress(value=0.0, description='Loss: - Accuracy:', layout=Layout(flex='2'), max=7.0, sty…"
      ]
     },
     "metadata": {},
     "output_type": "display_data"
    },
    {
     "name": "stdout",
     "output_type": "stream",
     "text": [
      "\n",
      "e_num_side=10-e_radius=400-spacing=None-total_area=4000 is already trained for AxonMapModel\n"
     ]
    },
    {
     "data": {
      "application/vnd.jupyter.widget-view+json": {
       "model_id": "743c6ded0acb49e8a1c407d2618a41f3",
       "version_major": 2,
       "version_minor": 0
      },
      "text/plain": [
       "HBox(children=(FloatProgress(value=0.0, description='Loss: - Accuracy:', layout=Layout(flex='2'), max=7.0, sty…"
      ]
     },
     "metadata": {},
     "output_type": "display_data"
    },
    {
     "name": "stdout",
     "output_type": "stream",
     "text": [
      "\n",
      "# ------------------ ScoreboardModel ----------------- #\n",
      " Trainset mean value for each channel is: 0.14\n",
      " Trainset std  value for each channel is: 0.20\n"
     ]
    },
    {
     "data": {
      "application/vnd.jupyter.widget-view+json": {
       "model_id": "37076bce22f54f39bfc9b531bfb03ebc",
       "version_major": 2,
       "version_minor": 0
      },
      "text/plain": [
       "HBox(children=(FloatProgress(value=0.0, description='Loss: - Accuracy:', layout=Layout(flex='2'), max=7.0, sty…"
      ]
     },
     "metadata": {},
     "output_type": "display_data"
    },
    {
     "name": "stdout",
     "output_type": "stream",
     "text": [
      "\n",
      "e_num_side=10-e_radius=400-spacing=None-total_area=4000 is already trained for ScoreboardModel\n"
     ]
    },
    {
     "data": {
      "application/vnd.jupyter.widget-view+json": {
       "model_id": "105f7cb33e9e48699eec68b739a78656",
       "version_major": 2,
       "version_minor": 0
      },
      "text/plain": [
       "HBox(children=(FloatProgress(value=0.0, description='Loss: - Accuracy:', layout=Layout(flex='2'), max=7.0, sty…"
      ]
     },
     "metadata": {},
     "output_type": "display_data"
    },
    {
     "name": "stdout",
     "output_type": "stream",
     "text": [
      "\n",
      "e_num_side 15\n",
      "e_radius 10\n",
      "# ------------------ AxonMapModel ----------------- #\n",
      " Trainset mean value for each channel is: 0.27\n",
      " Trainset std  value for each channel is: 0.31\n"
     ]
    },
    {
     "data": {
      "application/vnd.jupyter.widget-view+json": {
       "model_id": "4bc51c4db18c48c7b818988e001e3800",
       "version_major": 2,
       "version_minor": 0
      },
      "text/plain": [
       "HBox(children=(FloatProgress(value=0.0, description='Loss: - Accuracy:', layout=Layout(flex='2'), max=7.0, sty…"
      ]
     },
     "metadata": {},
     "output_type": "display_data"
    },
    {
     "name": "stdout",
     "output_type": "stream",
     "text": [
      "\n",
      "e_num_side=15-e_radius=10-spacing=None-total_area=4000 is already trained for AxonMapModel\n"
     ]
    },
    {
     "data": {
      "application/vnd.jupyter.widget-view+json": {
       "model_id": "f6004de8dc7947168f70df1e08bce54a",
       "version_major": 2,
       "version_minor": 0
      },
      "text/plain": [
       "HBox(children=(FloatProgress(value=0.0, description='Loss: - Accuracy:', layout=Layout(flex='2'), max=7.0, sty…"
      ]
     },
     "metadata": {},
     "output_type": "display_data"
    },
    {
     "name": "stdout",
     "output_type": "stream",
     "text": [
      "\n",
      "# ------------------ ScoreboardModel ----------------- #\n",
      " Trainset mean value for each channel is: 0.27\n",
      " Trainset std  value for each channel is: 0.31\n"
     ]
    },
    {
     "data": {
      "application/vnd.jupyter.widget-view+json": {
       "model_id": "ed7932ca40454cf5946d0b2e2d81a166",
       "version_major": 2,
       "version_minor": 0
      },
      "text/plain": [
       "HBox(children=(FloatProgress(value=0.0, description='Loss: - Accuracy:', layout=Layout(flex='2'), max=7.0, sty…"
      ]
     },
     "metadata": {},
     "output_type": "display_data"
    },
    {
     "name": "stdout",
     "output_type": "stream",
     "text": [
      "\n",
      "e_num_side=15-e_radius=10-spacing=None-total_area=4000 is already trained for ScoreboardModel\n"
     ]
    },
    {
     "data": {
      "application/vnd.jupyter.widget-view+json": {
       "model_id": "49ef6e41d577409095105f0691c594ea",
       "version_major": 2,
       "version_minor": 0
      },
      "text/plain": [
       "HBox(children=(FloatProgress(value=0.0, description='Loss: - Accuracy:', layout=Layout(flex='2'), max=7.0, sty…"
      ]
     },
     "metadata": {},
     "output_type": "display_data"
    },
    {
     "name": "stdout",
     "output_type": "stream",
     "text": [
      "\n",
      "e_radius 20\n",
      "# ------------------ AxonMapModel ----------------- #\n",
      " Trainset mean value for each channel is: 0.27\n",
      " Trainset std  value for each channel is: 0.31\n"
     ]
    },
    {
     "data": {
      "application/vnd.jupyter.widget-view+json": {
       "model_id": "48fbe365c1f74264add3648835e35ed0",
       "version_major": 2,
       "version_minor": 0
      },
      "text/plain": [
       "HBox(children=(FloatProgress(value=0.0, description='Loss: - Accuracy:', layout=Layout(flex='2'), max=7.0, sty…"
      ]
     },
     "metadata": {},
     "output_type": "display_data"
    },
    {
     "name": "stdout",
     "output_type": "stream",
     "text": [
      "\n",
      "e_num_side=15-e_radius=20-spacing=None-total_area=4000 is already trained for AxonMapModel\n"
     ]
    },
    {
     "data": {
      "application/vnd.jupyter.widget-view+json": {
       "model_id": "fe415e6cb0054915ae06fe8b7123de29",
       "version_major": 2,
       "version_minor": 0
      },
      "text/plain": [
       "HBox(children=(FloatProgress(value=0.0, description='Loss: - Accuracy:', layout=Layout(flex='2'), max=7.0, sty…"
      ]
     },
     "metadata": {},
     "output_type": "display_data"
    },
    {
     "name": "stdout",
     "output_type": "stream",
     "text": [
      "\n",
      "# ------------------ ScoreboardModel ----------------- #\n",
      " Trainset mean value for each channel is: 0.27\n",
      " Trainset std  value for each channel is: 0.31\n"
     ]
    },
    {
     "data": {
      "application/vnd.jupyter.widget-view+json": {
       "model_id": "fd4d0298640b4699a723893288badaed",
       "version_major": 2,
       "version_minor": 0
      },
      "text/plain": [
       "HBox(children=(FloatProgress(value=0.0, description='Loss: - Accuracy:', layout=Layout(flex='2'), max=7.0, sty…"
      ]
     },
     "metadata": {},
     "output_type": "display_data"
    },
    {
     "name": "stdout",
     "output_type": "stream",
     "text": [
      "\n",
      "e_num_side=15-e_radius=20-spacing=None-total_area=4000 is already trained for ScoreboardModel\n"
     ]
    },
    {
     "data": {
      "application/vnd.jupyter.widget-view+json": {
       "model_id": "5b64906bd5574af9bad9992a7f12dc46",
       "version_major": 2,
       "version_minor": 0
      },
      "text/plain": [
       "HBox(children=(FloatProgress(value=0.0, description='Loss: - Accuracy:', layout=Layout(flex='2'), max=7.0, sty…"
      ]
     },
     "metadata": {},
     "output_type": "display_data"
    },
    {
     "name": "stdout",
     "output_type": "stream",
     "text": [
      "\n",
      "e_radius 30\n",
      "# ------------------ AxonMapModel ----------------- #\n",
      " Trainset mean value for each channel is: 0.27\n",
      " Trainset std  value for each channel is: 0.31\n"
     ]
    },
    {
     "data": {
      "application/vnd.jupyter.widget-view+json": {
       "model_id": "82d95a4a48ba4dec9da28204955445fc",
       "version_major": 2,
       "version_minor": 0
      },
      "text/plain": [
       "HBox(children=(FloatProgress(value=0.0, description='Loss: - Accuracy:', layout=Layout(flex='2'), max=7.0, sty…"
      ]
     },
     "metadata": {},
     "output_type": "display_data"
    },
    {
     "name": "stdout",
     "output_type": "stream",
     "text": [
      "\n",
      "e_num_side=15-e_radius=30-spacing=None-total_area=4000 is already trained for AxonMapModel\n"
     ]
    },
    {
     "data": {
      "application/vnd.jupyter.widget-view+json": {
       "model_id": "e970b2db33a3487080c4a23af0ee4c4c",
       "version_major": 2,
       "version_minor": 0
      },
      "text/plain": [
       "HBox(children=(FloatProgress(value=0.0, description='Loss: - Accuracy:', layout=Layout(flex='2'), max=7.0, sty…"
      ]
     },
     "metadata": {},
     "output_type": "display_data"
    },
    {
     "name": "stdout",
     "output_type": "stream",
     "text": [
      "\n",
      "# ------------------ ScoreboardModel ----------------- #\n",
      " Trainset mean value for each channel is: 0.27\n",
      " Trainset std  value for each channel is: 0.31\n"
     ]
    },
    {
     "data": {
      "application/vnd.jupyter.widget-view+json": {
       "model_id": "63f88efdf642454cb82224b6fe05d2ac",
       "version_major": 2,
       "version_minor": 0
      },
      "text/plain": [
       "HBox(children=(FloatProgress(value=0.0, description='Loss: - Accuracy:', layout=Layout(flex='2'), max=7.0, sty…"
      ]
     },
     "metadata": {},
     "output_type": "display_data"
    },
    {
     "name": "stdout",
     "output_type": "stream",
     "text": [
      "\n",
      "e_num_side=15-e_radius=30-spacing=None-total_area=4000 is already trained for ScoreboardModel\n"
     ]
    },
    {
     "data": {
      "application/vnd.jupyter.widget-view+json": {
       "model_id": "bd301f46e3df491bb6bf53f890cf5128",
       "version_major": 2,
       "version_minor": 0
      },
      "text/plain": [
       "HBox(children=(FloatProgress(value=0.0, description='Loss: - Accuracy:', layout=Layout(flex='2'), max=7.0, sty…"
      ]
     },
     "metadata": {},
     "output_type": "display_data"
    },
    {
     "name": "stdout",
     "output_type": "stream",
     "text": [
      "\n",
      "e_radius 40\n",
      "# ------------------ AxonMapModel ----------------- #\n",
      " Trainset mean value for each channel is: 0.27\n",
      " Trainset std  value for each channel is: 0.31\n"
     ]
    },
    {
     "data": {
      "application/vnd.jupyter.widget-view+json": {
       "model_id": "cff84ed0cd8c42008e981beaf06a12a6",
       "version_major": 2,
       "version_minor": 0
      },
      "text/plain": [
       "HBox(children=(FloatProgress(value=0.0, description='Loss: - Accuracy:', layout=Layout(flex='2'), max=7.0, sty…"
      ]
     },
     "metadata": {},
     "output_type": "display_data"
    },
    {
     "name": "stdout",
     "output_type": "stream",
     "text": [
      "\n",
      "e_num_side=15-e_radius=40-spacing=None-total_area=4000 is already trained for AxonMapModel\n"
     ]
    },
    {
     "data": {
      "application/vnd.jupyter.widget-view+json": {
       "model_id": "b1d907ca0bde41529ac381da79bf8999",
       "version_major": 2,
       "version_minor": 0
      },
      "text/plain": [
       "HBox(children=(FloatProgress(value=0.0, description='Loss: - Accuracy:', layout=Layout(flex='2'), max=7.0, sty…"
      ]
     },
     "metadata": {},
     "output_type": "display_data"
    },
    {
     "name": "stdout",
     "output_type": "stream",
     "text": [
      "\n",
      "# ------------------ ScoreboardModel ----------------- #\n",
      " Trainset mean value for each channel is: 0.27\n",
      " Trainset std  value for each channel is: 0.31\n"
     ]
    },
    {
     "data": {
      "application/vnd.jupyter.widget-view+json": {
       "model_id": "a2b24e5b2ac34512a308d3f66eedc910",
       "version_major": 2,
       "version_minor": 0
      },
      "text/plain": [
       "HBox(children=(FloatProgress(value=0.0, description='Loss: - Accuracy:', layout=Layout(flex='2'), max=7.0, sty…"
      ]
     },
     "metadata": {},
     "output_type": "display_data"
    },
    {
     "name": "stdout",
     "output_type": "stream",
     "text": [
      "\n",
      "e_num_side=15-e_radius=40-spacing=None-total_area=4000 is already trained for ScoreboardModel\n"
     ]
    },
    {
     "data": {
      "application/vnd.jupyter.widget-view+json": {
       "model_id": "4a92b8af8a3b4692851b5ec5f199f8af",
       "version_major": 2,
       "version_minor": 0
      },
      "text/plain": [
       "HBox(children=(FloatProgress(value=0.0, description='Loss: - Accuracy:', layout=Layout(flex='2'), max=7.0, sty…"
      ]
     },
     "metadata": {},
     "output_type": "display_data"
    },
    {
     "name": "stdout",
     "output_type": "stream",
     "text": [
      "\n",
      "e_radius 50\n",
      "# ------------------ AxonMapModel ----------------- #\n",
      " Trainset mean value for each channel is: 0.27\n",
      " Trainset std  value for each channel is: 0.31\n"
     ]
    },
    {
     "data": {
      "application/vnd.jupyter.widget-view+json": {
       "model_id": "72cadeeab153474397e564ef65eb3423",
       "version_major": 2,
       "version_minor": 0
      },
      "text/plain": [
       "HBox(children=(FloatProgress(value=0.0, description='Loss: - Accuracy:', layout=Layout(flex='2'), max=7.0, sty…"
      ]
     },
     "metadata": {},
     "output_type": "display_data"
    },
    {
     "name": "stdout",
     "output_type": "stream",
     "text": [
      "\n",
      "e_num_side=15-e_radius=50-spacing=None-total_area=4000 is already trained for AxonMapModel\n"
     ]
    },
    {
     "data": {
      "application/vnd.jupyter.widget-view+json": {
       "model_id": "4c104284820f45e89249be506dbd6c56",
       "version_major": 2,
       "version_minor": 0
      },
      "text/plain": [
       "HBox(children=(FloatProgress(value=0.0, description='Loss: - Accuracy:', layout=Layout(flex='2'), max=7.0, sty…"
      ]
     },
     "metadata": {},
     "output_type": "display_data"
    },
    {
     "name": "stdout",
     "output_type": "stream",
     "text": [
      "\n",
      "# ------------------ ScoreboardModel ----------------- #\n",
      " Trainset mean value for each channel is: 0.27\n",
      " Trainset std  value for each channel is: 0.31\n"
     ]
    },
    {
     "data": {
      "application/vnd.jupyter.widget-view+json": {
       "model_id": "e236f4f3f37a402bbfd3c44cfbd58e9b",
       "version_major": 2,
       "version_minor": 0
      },
      "text/plain": [
       "HBox(children=(FloatProgress(value=0.0, description='Loss: - Accuracy:', layout=Layout(flex='2'), max=7.0, sty…"
      ]
     },
     "metadata": {},
     "output_type": "display_data"
    },
    {
     "name": "stdout",
     "output_type": "stream",
     "text": [
      "\n",
      "e_num_side=15-e_radius=50-spacing=None-total_area=4000 is already trained for ScoreboardModel\n"
     ]
    },
    {
     "data": {
      "application/vnd.jupyter.widget-view+json": {
       "model_id": "6202980ff1f546d485bc82e6c7b85ac8",
       "version_major": 2,
       "version_minor": 0
      },
      "text/plain": [
       "HBox(children=(FloatProgress(value=0.0, description='Loss: - Accuracy:', layout=Layout(flex='2'), max=7.0, sty…"
      ]
     },
     "metadata": {},
     "output_type": "display_data"
    },
    {
     "name": "stdout",
     "output_type": "stream",
     "text": [
      "\n",
      "e_radius 60\n",
      "# ------------------ AxonMapModel ----------------- #\n",
      " Trainset mean value for each channel is: 0.27\n",
      " Trainset std  value for each channel is: 0.31\n"
     ]
    },
    {
     "data": {
      "application/vnd.jupyter.widget-view+json": {
       "model_id": "3bddf3f92571496da218ec48dcd609b2",
       "version_major": 2,
       "version_minor": 0
      },
      "text/plain": [
       "HBox(children=(FloatProgress(value=0.0, description='Loss: - Accuracy:', layout=Layout(flex='2'), max=7.0, sty…"
      ]
     },
     "metadata": {},
     "output_type": "display_data"
    },
    {
     "name": "stdout",
     "output_type": "stream",
     "text": [
      "\n",
      "e_num_side=15-e_radius=60-spacing=None-total_area=4000 is already trained for AxonMapModel\n"
     ]
    },
    {
     "data": {
      "application/vnd.jupyter.widget-view+json": {
       "model_id": "252edc6aa9034dcdbea378dd1ab1bb45",
       "version_major": 2,
       "version_minor": 0
      },
      "text/plain": [
       "HBox(children=(FloatProgress(value=0.0, description='Loss: - Accuracy:', layout=Layout(flex='2'), max=7.0, sty…"
      ]
     },
     "metadata": {},
     "output_type": "display_data"
    },
    {
     "name": "stdout",
     "output_type": "stream",
     "text": [
      "\n",
      "# ------------------ ScoreboardModel ----------------- #\n",
      " Trainset mean value for each channel is: 0.27\n",
      " Trainset std  value for each channel is: 0.31\n"
     ]
    },
    {
     "data": {
      "application/vnd.jupyter.widget-view+json": {
       "model_id": "bd2db35b11d84ef78bcc9328b69cab85",
       "version_major": 2,
       "version_minor": 0
      },
      "text/plain": [
       "HBox(children=(FloatProgress(value=0.0, description='Loss: - Accuracy:', layout=Layout(flex='2'), max=7.0, sty…"
      ]
     },
     "metadata": {},
     "output_type": "display_data"
    },
    {
     "name": "stdout",
     "output_type": "stream",
     "text": [
      "\n",
      "e_num_side=15-e_radius=60-spacing=None-total_area=4000 is already trained for ScoreboardModel\n"
     ]
    },
    {
     "data": {
      "application/vnd.jupyter.widget-view+json": {
       "model_id": "d0b744d5466e46ff8be1e0d44ce08fbd",
       "version_major": 2,
       "version_minor": 0
      },
      "text/plain": [
       "HBox(children=(FloatProgress(value=0.0, description='Loss: - Accuracy:', layout=Layout(flex='2'), max=7.0, sty…"
      ]
     },
     "metadata": {},
     "output_type": "display_data"
    },
    {
     "name": "stdout",
     "output_type": "stream",
     "text": [
      "\n",
      "e_radius 70\n",
      "# ------------------ AxonMapModel ----------------- #\n",
      " Trainset mean value for each channel is: 0.27\n",
      " Trainset std  value for each channel is: 0.31\n"
     ]
    },
    {
     "data": {
      "application/vnd.jupyter.widget-view+json": {
       "model_id": "884b5614084b4c7c94573075e12c5bd7",
       "version_major": 2,
       "version_minor": 0
      },
      "text/plain": [
       "HBox(children=(FloatProgress(value=0.0, description='Loss: - Accuracy:', layout=Layout(flex='2'), max=7.0, sty…"
      ]
     },
     "metadata": {},
     "output_type": "display_data"
    },
    {
     "name": "stdout",
     "output_type": "stream",
     "text": [
      "\n",
      "e_num_side=15-e_radius=70-spacing=None-total_area=4000 is already trained for AxonMapModel\n"
     ]
    },
    {
     "data": {
      "application/vnd.jupyter.widget-view+json": {
       "model_id": "291ce5d6654b4457812f803a6d090294",
       "version_major": 2,
       "version_minor": 0
      },
      "text/plain": [
       "HBox(children=(FloatProgress(value=0.0, description='Loss: - Accuracy:', layout=Layout(flex='2'), max=7.0, sty…"
      ]
     },
     "metadata": {},
     "output_type": "display_data"
    },
    {
     "name": "stdout",
     "output_type": "stream",
     "text": [
      "\n",
      "# ------------------ ScoreboardModel ----------------- #\n",
      " Trainset mean value for each channel is: 0.27\n",
      " Trainset std  value for each channel is: 0.31\n"
     ]
    },
    {
     "data": {
      "application/vnd.jupyter.widget-view+json": {
       "model_id": "4ef77e5f816d4cdc92999b42da8b89e7",
       "version_major": 2,
       "version_minor": 0
      },
      "text/plain": [
       "HBox(children=(FloatProgress(value=0.0, description='Loss: - Accuracy:', layout=Layout(flex='2'), max=7.0, sty…"
      ]
     },
     "metadata": {},
     "output_type": "display_data"
    },
    {
     "name": "stdout",
     "output_type": "stream",
     "text": [
      "\n",
      "e_num_side=15-e_radius=70-spacing=None-total_area=4000 is already trained for ScoreboardModel\n"
     ]
    },
    {
     "data": {
      "application/vnd.jupyter.widget-view+json": {
       "model_id": "2616f2458aca4256808c8ee2bc317cbd",
       "version_major": 2,
       "version_minor": 0
      },
      "text/plain": [
       "HBox(children=(FloatProgress(value=0.0, description='Loss: - Accuracy:', layout=Layout(flex='2'), max=7.0, sty…"
      ]
     },
     "metadata": {},
     "output_type": "display_data"
    },
    {
     "name": "stdout",
     "output_type": "stream",
     "text": [
      "\n",
      "e_radius 80\n",
      "# ------------------ AxonMapModel ----------------- #\n",
      " Trainset mean value for each channel is: 0.27\n",
      " Trainset std  value for each channel is: 0.31\n"
     ]
    },
    {
     "data": {
      "application/vnd.jupyter.widget-view+json": {
       "model_id": "14593f38a3a246729587a03d07d4a7ae",
       "version_major": 2,
       "version_minor": 0
      },
      "text/plain": [
       "HBox(children=(FloatProgress(value=0.0, description='Loss: - Accuracy:', layout=Layout(flex='2'), max=7.0, sty…"
      ]
     },
     "metadata": {},
     "output_type": "display_data"
    },
    {
     "name": "stdout",
     "output_type": "stream",
     "text": [
      "\n",
      "e_num_side=15-e_radius=80-spacing=None-total_area=4000 is already trained for AxonMapModel\n"
     ]
    },
    {
     "data": {
      "application/vnd.jupyter.widget-view+json": {
       "model_id": "72be509832954f758453922b2fc9a472",
       "version_major": 2,
       "version_minor": 0
      },
      "text/plain": [
       "HBox(children=(FloatProgress(value=0.0, description='Loss: - Accuracy:', layout=Layout(flex='2'), max=7.0, sty…"
      ]
     },
     "metadata": {},
     "output_type": "display_data"
    },
    {
     "name": "stdout",
     "output_type": "stream",
     "text": [
      "\n",
      "# ------------------ ScoreboardModel ----------------- #\n",
      " Trainset mean value for each channel is: 0.27\n",
      " Trainset std  value for each channel is: 0.31\n"
     ]
    },
    {
     "data": {
      "application/vnd.jupyter.widget-view+json": {
       "model_id": "ae2c902e8f0f448e92e52a6ee23ccdd8",
       "version_major": 2,
       "version_minor": 0
      },
      "text/plain": [
       "HBox(children=(FloatProgress(value=0.0, description='Loss: - Accuracy:', layout=Layout(flex='2'), max=7.0, sty…"
      ]
     },
     "metadata": {},
     "output_type": "display_data"
    },
    {
     "name": "stdout",
     "output_type": "stream",
     "text": [
      "\n",
      "e_num_side=15-e_radius=80-spacing=None-total_area=4000 is already trained for ScoreboardModel\n"
     ]
    },
    {
     "data": {
      "application/vnd.jupyter.widget-view+json": {
       "model_id": "aade856febf94d49a1e70492da4b5475",
       "version_major": 2,
       "version_minor": 0
      },
      "text/plain": [
       "HBox(children=(FloatProgress(value=0.0, description='Loss: - Accuracy:', layout=Layout(flex='2'), max=7.0, sty…"
      ]
     },
     "metadata": {},
     "output_type": "display_data"
    },
    {
     "name": "stdout",
     "output_type": "stream",
     "text": [
      "\n",
      "e_radius 90\n",
      "# ------------------ AxonMapModel ----------------- #\n",
      " Trainset mean value for each channel is: 0.27\n",
      " Trainset std  value for each channel is: 0.31\n"
     ]
    },
    {
     "data": {
      "application/vnd.jupyter.widget-view+json": {
       "model_id": "318cca0970924f38983ec5bddf5d0b70",
       "version_major": 2,
       "version_minor": 0
      },
      "text/plain": [
       "HBox(children=(FloatProgress(value=0.0, description='Loss: - Accuracy:', layout=Layout(flex='2'), max=7.0, sty…"
      ]
     },
     "metadata": {},
     "output_type": "display_data"
    },
    {
     "name": "stdout",
     "output_type": "stream",
     "text": [
      "\n",
      "e_num_side=15-e_radius=90-spacing=None-total_area=4000 is already trained for AxonMapModel\n"
     ]
    },
    {
     "data": {
      "application/vnd.jupyter.widget-view+json": {
       "model_id": "5480c617a0094ca98e8392e92a9ced4d",
       "version_major": 2,
       "version_minor": 0
      },
      "text/plain": [
       "HBox(children=(FloatProgress(value=0.0, description='Loss: - Accuracy:', layout=Layout(flex='2'), max=7.0, sty…"
      ]
     },
     "metadata": {},
     "output_type": "display_data"
    },
    {
     "name": "stdout",
     "output_type": "stream",
     "text": [
      "\n",
      "# ------------------ ScoreboardModel ----------------- #\n",
      " Trainset mean value for each channel is: 0.27\n",
      " Trainset std  value for each channel is: 0.31\n"
     ]
    },
    {
     "data": {
      "application/vnd.jupyter.widget-view+json": {
       "model_id": "0c80da4e27454b80b6ae640ab95dc807",
       "version_major": 2,
       "version_minor": 0
      },
      "text/plain": [
       "HBox(children=(FloatProgress(value=0.0, description='Loss: - Accuracy:', layout=Layout(flex='2'), max=7.0, sty…"
      ]
     },
     "metadata": {},
     "output_type": "display_data"
    },
    {
     "name": "stdout",
     "output_type": "stream",
     "text": [
      "\n",
      "e_num_side=15-e_radius=90-spacing=None-total_area=4000 is already trained for ScoreboardModel\n"
     ]
    },
    {
     "data": {
      "application/vnd.jupyter.widget-view+json": {
       "model_id": "d333ef391cf74a48a1f9c912c726703e",
       "version_major": 2,
       "version_minor": 0
      },
      "text/plain": [
       "HBox(children=(FloatProgress(value=0.0, description='Loss: - Accuracy:', layout=Layout(flex='2'), max=7.0, sty…"
      ]
     },
     "metadata": {},
     "output_type": "display_data"
    },
    {
     "name": "stdout",
     "output_type": "stream",
     "text": [
      "\n",
      "e_num_side 20\n",
      "e_radius 10\n",
      "# ------------------ AxonMapModel ----------------- #\n",
      " Trainset mean value for each channel is: 0.28\n",
      " Trainset std  value for each channel is: 0.33\n"
     ]
    },
    {
     "data": {
      "application/vnd.jupyter.widget-view+json": {
       "model_id": "71255ec8a5284e1b8b398d48ad02c44e",
       "version_major": 2,
       "version_minor": 0
      },
      "text/plain": [
       "HBox(children=(FloatProgress(value=0.0, description='Loss: - Accuracy:', layout=Layout(flex='2'), max=7.0, sty…"
      ]
     },
     "metadata": {},
     "output_type": "display_data"
    },
    {
     "name": "stdout",
     "output_type": "stream",
     "text": [
      "\n"
     ]
    },
    {
     "data": {
      "application/vnd.jupyter.widget-view+json": {
       "model_id": "0dc4041a76874c198ca3ee3674818094",
       "version_major": 2,
       "version_minor": 0
      },
      "text/plain": [
       "HBox(children=(FloatProgress(value=0.0, max=1.0), HTML(value='')))"
      ]
     },
     "metadata": {},
     "output_type": "display_data"
    },
    {
     "data": {
      "application/vnd.jupyter.widget-view+json": {
       "model_id": "efadb2ad4bb449e8a4ba772236a695c4",
       "version_major": 2,
       "version_minor": 0
      },
      "text/plain": [
       "HBox(children=(FloatProgress(value=0.0, description='TRAINING | Loss: - Accuracy:', layout=Layout(flex='2'), m…"
      ]
     },
     "metadata": {},
     "output_type": "display_data"
    },
    {
     "name": "stderr",
     "output_type": "stream",
     "text": [
      "..\\torch\\csrc\\utils\\python_arg_parser.cpp:756: UserWarning: This overload of add_ is deprecated:\n",
      "\tadd_(Number alpha, Tensor other)\n",
      "Consider using one of the following signatures instead:\n",
      "\tadd_(Tensor other, *, Number alpha)\n"
     ]
    },
    {
     "name": "stdout",
     "output_type": "stream",
     "text": [
      "\n"
     ]
    },
    {
     "data": {
      "application/vnd.jupyter.widget-view+json": {
       "model_id": "7319afec12b04dcd8c1dab123a403e97",
       "version_major": 2,
       "version_minor": 0
      },
      "text/plain": [
       "HBox(children=(FloatProgress(value=0.0, description='VALIDATION | Loss: - Accuracy:', layout=Layout(flex='2'),…"
      ]
     },
     "metadata": {},
     "output_type": "display_data"
    },
    {
     "name": "stdout",
     "output_type": "stream",
     "text": [
      "\n",
      "\n",
      "Training complete in 0m 47s\n",
      "2 epochs done. Best validation accuracy is 66.750. Best validation loss is 1.240\n"
     ]
    },
    {
     "data": {
      "application/vnd.jupyter.widget-view+json": {
       "model_id": "9e3974a9ab2e449ba3469180e3e38b7f",
       "version_major": 2,
       "version_minor": 0
      },
      "text/plain": [
       "HBox(children=(FloatProgress(value=0.0, description='Loss: - Accuracy:', layout=Layout(flex='2'), max=7.0, sty…"
      ]
     },
     "metadata": {},
     "output_type": "display_data"
    },
    {
     "name": "stdout",
     "output_type": "stream",
     "text": [
      "\n",
      "# ------------------ ScoreboardModel ----------------- #\n",
      " Trainset mean value for each channel is: 0.31\n",
      " Trainset std  value for each channel is: 0.35\n"
     ]
    },
    {
     "data": {
      "application/vnd.jupyter.widget-view+json": {
       "model_id": "b48be92ec34f497592a73e14a3350169",
       "version_major": 2,
       "version_minor": 0
      },
      "text/plain": [
       "HBox(children=(FloatProgress(value=0.0, description='Loss: - Accuracy:', layout=Layout(flex='2'), max=7.0, sty…"
      ]
     },
     "metadata": {},
     "output_type": "display_data"
    },
    {
     "name": "stdout",
     "output_type": "stream",
     "text": [
      "\n"
     ]
    },
    {
     "data": {
      "application/vnd.jupyter.widget-view+json": {
       "model_id": "31138609481d4a4099652b9b690a306e",
       "version_major": 2,
       "version_minor": 0
      },
      "text/plain": [
       "HBox(children=(FloatProgress(value=0.0, max=1.0), HTML(value='')))"
      ]
     },
     "metadata": {},
     "output_type": "display_data"
    },
    {
     "data": {
      "application/vnd.jupyter.widget-view+json": {
       "model_id": "147e37b581ab4bdcb2c69d879a1f0e23",
       "version_major": 2,
       "version_minor": 0
      },
      "text/plain": [
       "HBox(children=(FloatProgress(value=0.0, description='TRAINING | Loss: - Accuracy:', layout=Layout(flex='2'), m…"
      ]
     },
     "metadata": {},
     "output_type": "display_data"
    },
    {
     "name": "stdout",
     "output_type": "stream",
     "text": [
      "\n"
     ]
    },
    {
     "data": {
      "application/vnd.jupyter.widget-view+json": {
       "model_id": "c6fb92873b614ce99f505f0c06b69dfa",
       "version_major": 2,
       "version_minor": 0
      },
      "text/plain": [
       "HBox(children=(FloatProgress(value=0.0, description='VALIDATION | Loss: - Accuracy:', layout=Layout(flex='2'),…"
      ]
     },
     "metadata": {},
     "output_type": "display_data"
    },
    {
     "name": "stdout",
     "output_type": "stream",
     "text": [
      "\n",
      "\n",
      "Training complete in 0m 47s\n",
      "2 epochs done. Best validation accuracy is 70.500. Best validation loss is 1.017\n"
     ]
    },
    {
     "data": {
      "application/vnd.jupyter.widget-view+json": {
       "model_id": "556489ea332149c6be2953c5a532b439",
       "version_major": 2,
       "version_minor": 0
      },
      "text/plain": [
       "HBox(children=(FloatProgress(value=0.0, description='Loss: - Accuracy:', layout=Layout(flex='2'), max=7.0, sty…"
      ]
     },
     "metadata": {},
     "output_type": "display_data"
    },
    {
     "name": "stdout",
     "output_type": "stream",
     "text": [
      "\n",
      "e_radius 20\n",
      "# ------------------ AxonMapModel ----------------- #\n",
      " Trainset mean value for each channel is: 0.28\n",
      " Trainset std  value for each channel is: 0.33\n"
     ]
    },
    {
     "data": {
      "application/vnd.jupyter.widget-view+json": {
       "model_id": "688907ff060a4206af704012f293fc92",
       "version_major": 2,
       "version_minor": 0
      },
      "text/plain": [
       "HBox(children=(FloatProgress(value=0.0, description='Loss: - Accuracy:', layout=Layout(flex='2'), max=7.0, sty…"
      ]
     },
     "metadata": {},
     "output_type": "display_data"
    },
    {
     "name": "stdout",
     "output_type": "stream",
     "text": [
      "\n"
     ]
    },
    {
     "data": {
      "application/vnd.jupyter.widget-view+json": {
       "model_id": "66510ad50aca49a1a4dd5e2b152f8d52",
       "version_major": 2,
       "version_minor": 0
      },
      "text/plain": [
       "HBox(children=(FloatProgress(value=0.0, max=1.0), HTML(value='')))"
      ]
     },
     "metadata": {},
     "output_type": "display_data"
    },
    {
     "data": {
      "application/vnd.jupyter.widget-view+json": {
       "model_id": "2a733cfbe07b4a1fa49a04ad1297652b",
       "version_major": 2,
       "version_minor": 0
      },
      "text/plain": [
       "HBox(children=(FloatProgress(value=0.0, description='TRAINING | Loss: - Accuracy:', layout=Layout(flex='2'), m…"
      ]
     },
     "metadata": {},
     "output_type": "display_data"
    },
    {
     "name": "stdout",
     "output_type": "stream",
     "text": [
      "\n"
     ]
    },
    {
     "data": {
      "application/vnd.jupyter.widget-view+json": {
       "model_id": "a0cc180e492444adb8798c7e0cdcf2a0",
       "version_major": 2,
       "version_minor": 0
      },
      "text/plain": [
       "HBox(children=(FloatProgress(value=0.0, description='VALIDATION | Loss: - Accuracy:', layout=Layout(flex='2'),…"
      ]
     },
     "metadata": {},
     "output_type": "display_data"
    },
    {
     "name": "stdout",
     "output_type": "stream",
     "text": [
      "\n",
      "\n",
      "Training complete in 0m 48s\n",
      "2 epochs done. Best validation accuracy is 66.500. Best validation loss is 1.186\n"
     ]
    },
    {
     "data": {
      "application/vnd.jupyter.widget-view+json": {
       "model_id": "4329d5acf028444fa46d926a27022009",
       "version_major": 2,
       "version_minor": 0
      },
      "text/plain": [
       "HBox(children=(FloatProgress(value=0.0, description='Loss: - Accuracy:', layout=Layout(flex='2'), max=7.0, sty…"
      ]
     },
     "metadata": {},
     "output_type": "display_data"
    },
    {
     "name": "stdout",
     "output_type": "stream",
     "text": [
      "\n",
      "# ------------------ ScoreboardModel ----------------- #\n",
      " Trainset mean value for each channel is: 0.31\n",
      " Trainset std  value for each channel is: 0.35\n"
     ]
    },
    {
     "data": {
      "application/vnd.jupyter.widget-view+json": {
       "model_id": "4f0df569550e4912afa3315bbcd1c2ac",
       "version_major": 2,
       "version_minor": 0
      },
      "text/plain": [
       "HBox(children=(FloatProgress(value=0.0, description='Loss: - Accuracy:', layout=Layout(flex='2'), max=7.0, sty…"
      ]
     },
     "metadata": {},
     "output_type": "display_data"
    },
    {
     "name": "stdout",
     "output_type": "stream",
     "text": [
      "\n"
     ]
    },
    {
     "data": {
      "application/vnd.jupyter.widget-view+json": {
       "model_id": "7b0806a9abde491c8be847af0027b39e",
       "version_major": 2,
       "version_minor": 0
      },
      "text/plain": [
       "HBox(children=(FloatProgress(value=0.0, max=1.0), HTML(value='')))"
      ]
     },
     "metadata": {},
     "output_type": "display_data"
    },
    {
     "data": {
      "application/vnd.jupyter.widget-view+json": {
       "model_id": "47ef89a097ed4d87ac9c636115499466",
       "version_major": 2,
       "version_minor": 0
      },
      "text/plain": [
       "HBox(children=(FloatProgress(value=0.0, description='TRAINING | Loss: - Accuracy:', layout=Layout(flex='2'), m…"
      ]
     },
     "metadata": {},
     "output_type": "display_data"
    },
    {
     "name": "stdout",
     "output_type": "stream",
     "text": [
      "\n"
     ]
    },
    {
     "data": {
      "application/vnd.jupyter.widget-view+json": {
       "model_id": "64b94e03ae454ae6b9c5eed2eb370dbf",
       "version_major": 2,
       "version_minor": 0
      },
      "text/plain": [
       "HBox(children=(FloatProgress(value=0.0, description='VALIDATION | Loss: - Accuracy:', layout=Layout(flex='2'),…"
      ]
     },
     "metadata": {},
     "output_type": "display_data"
    },
    {
     "name": "stdout",
     "output_type": "stream",
     "text": [
      "\n",
      "\n",
      "Training complete in 0m 49s\n",
      "2 epochs done. Best validation accuracy is 70.500. Best validation loss is 0.919\n"
     ]
    },
    {
     "data": {
      "application/vnd.jupyter.widget-view+json": {
       "model_id": "09ffd7e8f210443b81d40bc1d07f2f75",
       "version_major": 2,
       "version_minor": 0
      },
      "text/plain": [
       "HBox(children=(FloatProgress(value=0.0, description='Loss: - Accuracy:', layout=Layout(flex='2'), max=7.0, sty…"
      ]
     },
     "metadata": {},
     "output_type": "display_data"
    },
    {
     "name": "stdout",
     "output_type": "stream",
     "text": [
      "\n",
      "e_radius 30\n",
      "# ------------------ AxonMapModel ----------------- #\n",
      " Trainset mean value for each channel is: 0.28\n",
      " Trainset std  value for each channel is: 0.33\n"
     ]
    },
    {
     "data": {
      "application/vnd.jupyter.widget-view+json": {
       "model_id": "1f88878f774e450abb3c207a4d2b47c2",
       "version_major": 2,
       "version_minor": 0
      },
      "text/plain": [
       "HBox(children=(FloatProgress(value=0.0, description='Loss: - Accuracy:', layout=Layout(flex='2'), max=7.0, sty…"
      ]
     },
     "metadata": {},
     "output_type": "display_data"
    },
    {
     "name": "stdout",
     "output_type": "stream",
     "text": [
      "\n"
     ]
    },
    {
     "data": {
      "application/vnd.jupyter.widget-view+json": {
       "model_id": "514fc2000cde40f18dacfe805f7320fe",
       "version_major": 2,
       "version_minor": 0
      },
      "text/plain": [
       "HBox(children=(FloatProgress(value=0.0, max=1.0), HTML(value='')))"
      ]
     },
     "metadata": {},
     "output_type": "display_data"
    },
    {
     "data": {
      "application/vnd.jupyter.widget-view+json": {
       "model_id": "3f942512b0d14932b92c142c08d06fc0",
       "version_major": 2,
       "version_minor": 0
      },
      "text/plain": [
       "HBox(children=(FloatProgress(value=0.0, description='TRAINING | Loss: - Accuracy:', layout=Layout(flex='2'), m…"
      ]
     },
     "metadata": {},
     "output_type": "display_data"
    },
    {
     "name": "stdout",
     "output_type": "stream",
     "text": [
      "\n"
     ]
    },
    {
     "data": {
      "application/vnd.jupyter.widget-view+json": {
       "model_id": "0e5cfa2898f5404495f371384e36e0a0",
       "version_major": 2,
       "version_minor": 0
      },
      "text/plain": [
       "HBox(children=(FloatProgress(value=0.0, description='VALIDATION | Loss: - Accuracy:', layout=Layout(flex='2'),…"
      ]
     },
     "metadata": {},
     "output_type": "display_data"
    },
    {
     "name": "stdout",
     "output_type": "stream",
     "text": [
      "\n",
      "\n",
      "Training complete in 0m 49s\n",
      "2 epochs done. Best validation accuracy is 66.500. Best validation loss is 1.282\n"
     ]
    },
    {
     "data": {
      "application/vnd.jupyter.widget-view+json": {
       "model_id": "5aa0e3a1cb3c40439c12a576b918361c",
       "version_major": 2,
       "version_minor": 0
      },
      "text/plain": [
       "HBox(children=(FloatProgress(value=0.0, description='Loss: - Accuracy:', layout=Layout(flex='2'), max=7.0, sty…"
      ]
     },
     "metadata": {},
     "output_type": "display_data"
    },
    {
     "name": "stdout",
     "output_type": "stream",
     "text": [
      "\n",
      "# ------------------ ScoreboardModel ----------------- #\n",
      " Trainset mean value for each channel is: 0.31\n",
      " Trainset std  value for each channel is: 0.35\n"
     ]
    },
    {
     "data": {
      "application/vnd.jupyter.widget-view+json": {
       "model_id": "09d2a9f3cc594166b2f2b2db38bb2402",
       "version_major": 2,
       "version_minor": 0
      },
      "text/plain": [
       "HBox(children=(FloatProgress(value=0.0, description='Loss: - Accuracy:', layout=Layout(flex='2'), max=7.0, sty…"
      ]
     },
     "metadata": {},
     "output_type": "display_data"
    },
    {
     "name": "stdout",
     "output_type": "stream",
     "text": [
      "\n"
     ]
    },
    {
     "data": {
      "application/vnd.jupyter.widget-view+json": {
       "model_id": "077f21a0439c44188ab3ad03775b9daa",
       "version_major": 2,
       "version_minor": 0
      },
      "text/plain": [
       "HBox(children=(FloatProgress(value=0.0, max=1.0), HTML(value='')))"
      ]
     },
     "metadata": {},
     "output_type": "display_data"
    },
    {
     "data": {
      "application/vnd.jupyter.widget-view+json": {
       "model_id": "8c2f3ea41961423492d589eb7076bedb",
       "version_major": 2,
       "version_minor": 0
      },
      "text/plain": [
       "HBox(children=(FloatProgress(value=0.0, description='TRAINING | Loss: - Accuracy:', layout=Layout(flex='2'), m…"
      ]
     },
     "metadata": {},
     "output_type": "display_data"
    },
    {
     "name": "stdout",
     "output_type": "stream",
     "text": [
      "\n"
     ]
    },
    {
     "data": {
      "application/vnd.jupyter.widget-view+json": {
       "model_id": "8e1a496e402d420284112e878e00a322",
       "version_major": 2,
       "version_minor": 0
      },
      "text/plain": [
       "HBox(children=(FloatProgress(value=0.0, description='VALIDATION | Loss: - Accuracy:', layout=Layout(flex='2'),…"
      ]
     },
     "metadata": {},
     "output_type": "display_data"
    },
    {
     "name": "stdout",
     "output_type": "stream",
     "text": [
      "\n",
      "\n",
      "Training complete in 0m 46s\n",
      "2 epochs done. Best validation accuracy is 68.000. Best validation loss is 1.017\n"
     ]
    },
    {
     "data": {
      "application/vnd.jupyter.widget-view+json": {
       "model_id": "a9305eb61c204429baf100ec39d44426",
       "version_major": 2,
       "version_minor": 0
      },
      "text/plain": [
       "HBox(children=(FloatProgress(value=0.0, description='Loss: - Accuracy:', layout=Layout(flex='2'), max=7.0, sty…"
      ]
     },
     "metadata": {},
     "output_type": "display_data"
    },
    {
     "name": "stdout",
     "output_type": "stream",
     "text": [
      "\n",
      "e_radius 40\n",
      "# ------------------ AxonMapModel ----------------- #\n",
      " Trainset mean value for each channel is: 0.28\n",
      " Trainset std  value for each channel is: 0.33\n"
     ]
    },
    {
     "data": {
      "application/vnd.jupyter.widget-view+json": {
       "model_id": "adb10f80ca074ab098d93227679e1a4e",
       "version_major": 2,
       "version_minor": 0
      },
      "text/plain": [
       "HBox(children=(FloatProgress(value=0.0, description='Loss: - Accuracy:', layout=Layout(flex='2'), max=7.0, sty…"
      ]
     },
     "metadata": {},
     "output_type": "display_data"
    },
    {
     "name": "stdout",
     "output_type": "stream",
     "text": [
      "\n"
     ]
    },
    {
     "data": {
      "application/vnd.jupyter.widget-view+json": {
       "model_id": "ca2d63be2a374d02b7f3ffb6e711eb7a",
       "version_major": 2,
       "version_minor": 0
      },
      "text/plain": [
       "HBox(children=(FloatProgress(value=0.0, max=1.0), HTML(value='')))"
      ]
     },
     "metadata": {},
     "output_type": "display_data"
    },
    {
     "data": {
      "application/vnd.jupyter.widget-view+json": {
       "model_id": "ddf31338486c4e019ffbee538dd86609",
       "version_major": 2,
       "version_minor": 0
      },
      "text/plain": [
       "HBox(children=(FloatProgress(value=0.0, description='TRAINING | Loss: - Accuracy:', layout=Layout(flex='2'), m…"
      ]
     },
     "metadata": {},
     "output_type": "display_data"
    },
    {
     "name": "stdout",
     "output_type": "stream",
     "text": [
      "\n"
     ]
    },
    {
     "data": {
      "application/vnd.jupyter.widget-view+json": {
       "model_id": "31e03eb59c7841ae839423a6a0b4f0f5",
       "version_major": 2,
       "version_minor": 0
      },
      "text/plain": [
       "HBox(children=(FloatProgress(value=0.0, description='VALIDATION | Loss: - Accuracy:', layout=Layout(flex='2'),…"
      ]
     },
     "metadata": {},
     "output_type": "display_data"
    },
    {
     "name": "stdout",
     "output_type": "stream",
     "text": [
      "\n",
      "\n",
      "Training complete in 0m 49s\n",
      "2 epochs done. Best validation accuracy is 66.250. Best validation loss is 1.213\n"
     ]
    },
    {
     "data": {
      "application/vnd.jupyter.widget-view+json": {
       "model_id": "f507014de57647798f5ed9370483d42f",
       "version_major": 2,
       "version_minor": 0
      },
      "text/plain": [
       "HBox(children=(FloatProgress(value=0.0, description='Loss: - Accuracy:', layout=Layout(flex='2'), max=7.0, sty…"
      ]
     },
     "metadata": {},
     "output_type": "display_data"
    },
    {
     "name": "stdout",
     "output_type": "stream",
     "text": [
      "\n",
      "# ------------------ ScoreboardModel ----------------- #\n",
      " Trainset mean value for each channel is: 0.31\n",
      " Trainset std  value for each channel is: 0.35\n"
     ]
    },
    {
     "data": {
      "application/vnd.jupyter.widget-view+json": {
       "model_id": "c00f839dbd844de380c08f11b478f6f2",
       "version_major": 2,
       "version_minor": 0
      },
      "text/plain": [
       "HBox(children=(FloatProgress(value=0.0, description='Loss: - Accuracy:', layout=Layout(flex='2'), max=7.0, sty…"
      ]
     },
     "metadata": {},
     "output_type": "display_data"
    },
    {
     "name": "stdout",
     "output_type": "stream",
     "text": [
      "\n"
     ]
    },
    {
     "data": {
      "application/vnd.jupyter.widget-view+json": {
       "model_id": "62d076652d4747c38a44a5ba7257b8c9",
       "version_major": 2,
       "version_minor": 0
      },
      "text/plain": [
       "HBox(children=(FloatProgress(value=0.0, max=1.0), HTML(value='')))"
      ]
     },
     "metadata": {},
     "output_type": "display_data"
    },
    {
     "data": {
      "application/vnd.jupyter.widget-view+json": {
       "model_id": "7c2e604fbcc64a71b13bc2d381e02fa0",
       "version_major": 2,
       "version_minor": 0
      },
      "text/plain": [
       "HBox(children=(FloatProgress(value=0.0, description='TRAINING | Loss: - Accuracy:', layout=Layout(flex='2'), m…"
      ]
     },
     "metadata": {},
     "output_type": "display_data"
    },
    {
     "name": "stdout",
     "output_type": "stream",
     "text": [
      "\n"
     ]
    },
    {
     "data": {
      "application/vnd.jupyter.widget-view+json": {
       "model_id": "ccfd51406e0e4e96af4008fd86dd1a68",
       "version_major": 2,
       "version_minor": 0
      },
      "text/plain": [
       "HBox(children=(FloatProgress(value=0.0, description='VALIDATION | Loss: - Accuracy:', layout=Layout(flex='2'),…"
      ]
     },
     "metadata": {},
     "output_type": "display_data"
    },
    {
     "name": "stdout",
     "output_type": "stream",
     "text": [
      "\n",
      "\n",
      "Training complete in 0m 46s\n",
      "2 epochs done. Best validation accuracy is 69.250. Best validation loss is 0.895\n"
     ]
    },
    {
     "data": {
      "application/vnd.jupyter.widget-view+json": {
       "model_id": "eda4e5e050384e8da6b29ba523592980",
       "version_major": 2,
       "version_minor": 0
      },
      "text/plain": [
       "HBox(children=(FloatProgress(value=0.0, description='Loss: - Accuracy:', layout=Layout(flex='2'), max=7.0, sty…"
      ]
     },
     "metadata": {},
     "output_type": "display_data"
    },
    {
     "name": "stdout",
     "output_type": "stream",
     "text": [
      "\n",
      "e_radius 50\n",
      "# ------------------ AxonMapModel ----------------- #\n",
      " Trainset mean value for each channel is: 0.28\n",
      " Trainset std  value for each channel is: 0.33\n"
     ]
    },
    {
     "data": {
      "application/vnd.jupyter.widget-view+json": {
       "model_id": "40687db5b67d4417b09e03d801fe6ec9",
       "version_major": 2,
       "version_minor": 0
      },
      "text/plain": [
       "HBox(children=(FloatProgress(value=0.0, description='Loss: - Accuracy:', layout=Layout(flex='2'), max=7.0, sty…"
      ]
     },
     "metadata": {},
     "output_type": "display_data"
    },
    {
     "name": "stdout",
     "output_type": "stream",
     "text": [
      "\n"
     ]
    },
    {
     "data": {
      "application/vnd.jupyter.widget-view+json": {
       "model_id": "20d7022f642845b7954db81be689dedd",
       "version_major": 2,
       "version_minor": 0
      },
      "text/plain": [
       "HBox(children=(FloatProgress(value=0.0, max=1.0), HTML(value='')))"
      ]
     },
     "metadata": {},
     "output_type": "display_data"
    },
    {
     "data": {
      "application/vnd.jupyter.widget-view+json": {
       "model_id": "c29fe33ef9b9423d8e8800794ecdceaf",
       "version_major": 2,
       "version_minor": 0
      },
      "text/plain": [
       "HBox(children=(FloatProgress(value=0.0, description='TRAINING | Loss: - Accuracy:', layout=Layout(flex='2'), m…"
      ]
     },
     "metadata": {},
     "output_type": "display_data"
    },
    {
     "name": "stdout",
     "output_type": "stream",
     "text": [
      "\n"
     ]
    },
    {
     "data": {
      "application/vnd.jupyter.widget-view+json": {
       "model_id": "7a65ffc857fc4239b08696b45038e368",
       "version_major": 2,
       "version_minor": 0
      },
      "text/plain": [
       "HBox(children=(FloatProgress(value=0.0, description='VALIDATION | Loss: - Accuracy:', layout=Layout(flex='2'),…"
      ]
     },
     "metadata": {},
     "output_type": "display_data"
    },
    {
     "name": "stdout",
     "output_type": "stream",
     "text": [
      "\n",
      "\n",
      "Training complete in 0m 50s\n",
      "2 epochs done. Best validation accuracy is 66.500. Best validation loss is 1.356\n"
     ]
    },
    {
     "data": {
      "application/vnd.jupyter.widget-view+json": {
       "model_id": "ff62bd095a564a79a45a23fd491ffde7",
       "version_major": 2,
       "version_minor": 0
      },
      "text/plain": [
       "HBox(children=(FloatProgress(value=0.0, description='Loss: - Accuracy:', layout=Layout(flex='2'), max=7.0, sty…"
      ]
     },
     "metadata": {},
     "output_type": "display_data"
    },
    {
     "name": "stdout",
     "output_type": "stream",
     "text": [
      "\n",
      "# ------------------ ScoreboardModel ----------------- #\n",
      " Trainset mean value for each channel is: 0.31\n",
      " Trainset std  value for each channel is: 0.35\n"
     ]
    },
    {
     "data": {
      "application/vnd.jupyter.widget-view+json": {
       "model_id": "3fe5300f3f7b4ae69dd114b903f5f705",
       "version_major": 2,
       "version_minor": 0
      },
      "text/plain": [
       "HBox(children=(FloatProgress(value=0.0, description='Loss: - Accuracy:', layout=Layout(flex='2'), max=7.0, sty…"
      ]
     },
     "metadata": {},
     "output_type": "display_data"
    },
    {
     "name": "stdout",
     "output_type": "stream",
     "text": [
      "\n"
     ]
    },
    {
     "data": {
      "application/vnd.jupyter.widget-view+json": {
       "model_id": "f26f5ffe547b423c85551f901a38ed49",
       "version_major": 2,
       "version_minor": 0
      },
      "text/plain": [
       "HBox(children=(FloatProgress(value=0.0, max=1.0), HTML(value='')))"
      ]
     },
     "metadata": {},
     "output_type": "display_data"
    },
    {
     "data": {
      "application/vnd.jupyter.widget-view+json": {
       "model_id": "9f874dd8653b4175b44fd5e681d84e1d",
       "version_major": 2,
       "version_minor": 0
      },
      "text/plain": [
       "HBox(children=(FloatProgress(value=0.0, description='TRAINING | Loss: - Accuracy:', layout=Layout(flex='2'), m…"
      ]
     },
     "metadata": {},
     "output_type": "display_data"
    },
    {
     "name": "stdout",
     "output_type": "stream",
     "text": [
      "\n"
     ]
    },
    {
     "data": {
      "application/vnd.jupyter.widget-view+json": {
       "model_id": "bdbb0666912e44b38f3a9687f0e33a5a",
       "version_major": 2,
       "version_minor": 0
      },
      "text/plain": [
       "HBox(children=(FloatProgress(value=0.0, description='VALIDATION | Loss: - Accuracy:', layout=Layout(flex='2'),…"
      ]
     },
     "metadata": {},
     "output_type": "display_data"
    },
    {
     "name": "stdout",
     "output_type": "stream",
     "text": [
      "\n",
      "\n",
      "Training complete in 0m 56s\n",
      "2 epochs done. Best validation accuracy is 70.750. Best validation loss is 0.979\n"
     ]
    },
    {
     "data": {
      "application/vnd.jupyter.widget-view+json": {
       "model_id": "4826429d569b4379beaf99514acec94b",
       "version_major": 2,
       "version_minor": 0
      },
      "text/plain": [
       "HBox(children=(FloatProgress(value=0.0, description='Loss: - Accuracy:', layout=Layout(flex='2'), max=7.0, sty…"
      ]
     },
     "metadata": {},
     "output_type": "display_data"
    },
    {
     "name": "stdout",
     "output_type": "stream",
     "text": [
      "\n",
      "e_radius 60\n",
      "# ------------------ AxonMapModel ----------------- #\n",
      " Trainset mean value for each channel is: 0.28\n",
      " Trainset std  value for each channel is: 0.33\n"
     ]
    },
    {
     "data": {
      "application/vnd.jupyter.widget-view+json": {
       "model_id": "5f9e4af0bd45423e979a8ba7557e9b8b",
       "version_major": 2,
       "version_minor": 0
      },
      "text/plain": [
       "HBox(children=(FloatProgress(value=0.0, description='Loss: - Accuracy:', layout=Layout(flex='2'), max=7.0, sty…"
      ]
     },
     "metadata": {},
     "output_type": "display_data"
    },
    {
     "name": "stdout",
     "output_type": "stream",
     "text": [
      "\n"
     ]
    },
    {
     "data": {
      "application/vnd.jupyter.widget-view+json": {
       "model_id": "c62a68121cdc4ddda2f3a6b1b8b8ff61",
       "version_major": 2,
       "version_minor": 0
      },
      "text/plain": [
       "HBox(children=(FloatProgress(value=0.0, max=1.0), HTML(value='')))"
      ]
     },
     "metadata": {},
     "output_type": "display_data"
    },
    {
     "data": {
      "application/vnd.jupyter.widget-view+json": {
       "model_id": "6b6c51425e7247e4a4b2a9f5543f1cd1",
       "version_major": 2,
       "version_minor": 0
      },
      "text/plain": [
       "HBox(children=(FloatProgress(value=0.0, description='TRAINING | Loss: - Accuracy:', layout=Layout(flex='2'), m…"
      ]
     },
     "metadata": {},
     "output_type": "display_data"
    },
    {
     "name": "stdout",
     "output_type": "stream",
     "text": [
      "\n"
     ]
    },
    {
     "data": {
      "application/vnd.jupyter.widget-view+json": {
       "model_id": "bba3444cb0594603b608e6325d3093d5",
       "version_major": 2,
       "version_minor": 0
      },
      "text/plain": [
       "HBox(children=(FloatProgress(value=0.0, description='VALIDATION | Loss: - Accuracy:', layout=Layout(flex='2'),…"
      ]
     },
     "metadata": {},
     "output_type": "display_data"
    },
    {
     "name": "stdout",
     "output_type": "stream",
     "text": [
      "\n",
      "\n",
      "Training complete in 0m 53s\n",
      "2 epochs done. Best validation accuracy is 66.000. Best validation loss is 1.185\n"
     ]
    },
    {
     "data": {
      "application/vnd.jupyter.widget-view+json": {
       "model_id": "6eb956d88247447fb4c828d41d05c0cb",
       "version_major": 2,
       "version_minor": 0
      },
      "text/plain": [
       "HBox(children=(FloatProgress(value=0.0, description='Loss: - Accuracy:', layout=Layout(flex='2'), max=7.0, sty…"
      ]
     },
     "metadata": {},
     "output_type": "display_data"
    },
    {
     "name": "stdout",
     "output_type": "stream",
     "text": [
      "\n",
      "# ------------------ ScoreboardModel ----------------- #\n",
      " Trainset mean value for each channel is: 0.31\n",
      " Trainset std  value for each channel is: 0.35\n"
     ]
    },
    {
     "data": {
      "application/vnd.jupyter.widget-view+json": {
       "model_id": "3b4f454563e24342a15f7739a90b1da6",
       "version_major": 2,
       "version_minor": 0
      },
      "text/plain": [
       "HBox(children=(FloatProgress(value=0.0, description='Loss: - Accuracy:', layout=Layout(flex='2'), max=7.0, sty…"
      ]
     },
     "metadata": {},
     "output_type": "display_data"
    },
    {
     "name": "stdout",
     "output_type": "stream",
     "text": [
      "\n"
     ]
    },
    {
     "data": {
      "application/vnd.jupyter.widget-view+json": {
       "model_id": "fcde505fe2d74e2096b237171f53ec10",
       "version_major": 2,
       "version_minor": 0
      },
      "text/plain": [
       "HBox(children=(FloatProgress(value=0.0, max=1.0), HTML(value='')))"
      ]
     },
     "metadata": {},
     "output_type": "display_data"
    },
    {
     "data": {
      "application/vnd.jupyter.widget-view+json": {
       "model_id": "e2e7ba215d66483b8e3ae0a33485205e",
       "version_major": 2,
       "version_minor": 0
      },
      "text/plain": [
       "HBox(children=(FloatProgress(value=0.0, description='TRAINING | Loss: - Accuracy:', layout=Layout(flex='2'), m…"
      ]
     },
     "metadata": {},
     "output_type": "display_data"
    },
    {
     "name": "stdout",
     "output_type": "stream",
     "text": [
      "\n"
     ]
    },
    {
     "data": {
      "application/vnd.jupyter.widget-view+json": {
       "model_id": "91762b36c3f445f586e78f15408521d1",
       "version_major": 2,
       "version_minor": 0
      },
      "text/plain": [
       "HBox(children=(FloatProgress(value=0.0, description='VALIDATION | Loss: - Accuracy:', layout=Layout(flex='2'),…"
      ]
     },
     "metadata": {},
     "output_type": "display_data"
    },
    {
     "name": "stdout",
     "output_type": "stream",
     "text": [
      "\n",
      "\n",
      "Training complete in 0m 55s\n",
      "2 epochs done. Best validation accuracy is 72.750. Best validation loss is 0.918\n"
     ]
    },
    {
     "data": {
      "application/vnd.jupyter.widget-view+json": {
       "model_id": "aa9702b13b434fe4a77633f16e1eea70",
       "version_major": 2,
       "version_minor": 0
      },
      "text/plain": [
       "HBox(children=(FloatProgress(value=0.0, description='Loss: - Accuracy:', layout=Layout(flex='2'), max=7.0, sty…"
      ]
     },
     "metadata": {},
     "output_type": "display_data"
    },
    {
     "name": "stdout",
     "output_type": "stream",
     "text": [
      "\n",
      "e_radius 70\n",
      "# ------------------ AxonMapModel ----------------- #\n",
      " Trainset mean value for each channel is: 0.28\n",
      " Trainset std  value for each channel is: 0.33\n"
     ]
    },
    {
     "data": {
      "application/vnd.jupyter.widget-view+json": {
       "model_id": "c65154e81fe14e9a8d8ed948d3ce2c5b",
       "version_major": 2,
       "version_minor": 0
      },
      "text/plain": [
       "HBox(children=(FloatProgress(value=0.0, description='Loss: - Accuracy:', layout=Layout(flex='2'), max=7.0, sty…"
      ]
     },
     "metadata": {},
     "output_type": "display_data"
    },
    {
     "name": "stdout",
     "output_type": "stream",
     "text": [
      "\n"
     ]
    },
    {
     "data": {
      "application/vnd.jupyter.widget-view+json": {
       "model_id": "3a1f8178339c400191c9e72d69908508",
       "version_major": 2,
       "version_minor": 0
      },
      "text/plain": [
       "HBox(children=(FloatProgress(value=0.0, max=1.0), HTML(value='')))"
      ]
     },
     "metadata": {},
     "output_type": "display_data"
    },
    {
     "data": {
      "application/vnd.jupyter.widget-view+json": {
       "model_id": "0af3bf8a033d467585059a6ecf9270aa",
       "version_major": 2,
       "version_minor": 0
      },
      "text/plain": [
       "HBox(children=(FloatProgress(value=0.0, description='TRAINING | Loss: - Accuracy:', layout=Layout(flex='2'), m…"
      ]
     },
     "metadata": {},
     "output_type": "display_data"
    },
    {
     "name": "stdout",
     "output_type": "stream",
     "text": [
      "\n"
     ]
    },
    {
     "data": {
      "application/vnd.jupyter.widget-view+json": {
       "model_id": "ef010c1bce6f408e94071644862ca5e4",
       "version_major": 2,
       "version_minor": 0
      },
      "text/plain": [
       "HBox(children=(FloatProgress(value=0.0, description='VALIDATION | Loss: - Accuracy:', layout=Layout(flex='2'),…"
      ]
     },
     "metadata": {},
     "output_type": "display_data"
    },
    {
     "name": "stdout",
     "output_type": "stream",
     "text": [
      "\n",
      "\n",
      "Training complete in 0m 50s\n",
      "2 epochs done. Best validation accuracy is 67.500. Best validation loss is 1.149\n"
     ]
    },
    {
     "data": {
      "application/vnd.jupyter.widget-view+json": {
       "model_id": "8592cd20a6a54a6a8a734e8538e280ad",
       "version_major": 2,
       "version_minor": 0
      },
      "text/plain": [
       "HBox(children=(FloatProgress(value=0.0, description='Loss: - Accuracy:', layout=Layout(flex='2'), max=7.0, sty…"
      ]
     },
     "metadata": {},
     "output_type": "display_data"
    },
    {
     "name": "stdout",
     "output_type": "stream",
     "text": [
      "\n",
      "# ------------------ ScoreboardModel ----------------- #\n",
      " Trainset mean value for each channel is: 0.31\n",
      " Trainset std  value for each channel is: 0.35\n"
     ]
    },
    {
     "data": {
      "application/vnd.jupyter.widget-view+json": {
       "model_id": "ea9603dbeb85423ca7cb8d0140d9d582",
       "version_major": 2,
       "version_minor": 0
      },
      "text/plain": [
       "HBox(children=(FloatProgress(value=0.0, description='Loss: - Accuracy:', layout=Layout(flex='2'), max=7.0, sty…"
      ]
     },
     "metadata": {},
     "output_type": "display_data"
    },
    {
     "name": "stdout",
     "output_type": "stream",
     "text": [
      "\n"
     ]
    },
    {
     "data": {
      "application/vnd.jupyter.widget-view+json": {
       "model_id": "f88b193a8fd342afac1b2a1f5d78c1b9",
       "version_major": 2,
       "version_minor": 0
      },
      "text/plain": [
       "HBox(children=(FloatProgress(value=0.0, max=1.0), HTML(value='')))"
      ]
     },
     "metadata": {},
     "output_type": "display_data"
    },
    {
     "data": {
      "application/vnd.jupyter.widget-view+json": {
       "model_id": "f026c79098ac4e0cb29967971af4e3dc",
       "version_major": 2,
       "version_minor": 0
      },
      "text/plain": [
       "HBox(children=(FloatProgress(value=0.0, description='TRAINING | Loss: - Accuracy:', layout=Layout(flex='2'), m…"
      ]
     },
     "metadata": {},
     "output_type": "display_data"
    },
    {
     "name": "stdout",
     "output_type": "stream",
     "text": [
      "\n"
     ]
    },
    {
     "data": {
      "application/vnd.jupyter.widget-view+json": {
       "model_id": "eb146a48fdc048cf8fe80309278b05c7",
       "version_major": 2,
       "version_minor": 0
      },
      "text/plain": [
       "HBox(children=(FloatProgress(value=0.0, description='VALIDATION | Loss: - Accuracy:', layout=Layout(flex='2'),…"
      ]
     },
     "metadata": {},
     "output_type": "display_data"
    },
    {
     "name": "stdout",
     "output_type": "stream",
     "text": [
      "\n",
      "\n",
      "Training complete in 0m 50s\n",
      "2 epochs done. Best validation accuracy is 71.500. Best validation loss is 0.991\n"
     ]
    },
    {
     "data": {
      "application/vnd.jupyter.widget-view+json": {
       "model_id": "32a74b3d2f7b42f8a7f533ab1794177d",
       "version_major": 2,
       "version_minor": 0
      },
      "text/plain": [
       "HBox(children=(FloatProgress(value=0.0, description='Loss: - Accuracy:', layout=Layout(flex='2'), max=7.0, sty…"
      ]
     },
     "metadata": {},
     "output_type": "display_data"
    },
    {
     "name": "stdout",
     "output_type": "stream",
     "text": [
      "\n",
      "e_radius 80\n",
      "# ------------------ AxonMapModel ----------------- #\n",
      " Trainset mean value for each channel is: 0.28\n",
      " Trainset std  value for each channel is: 0.33\n"
     ]
    },
    {
     "data": {
      "application/vnd.jupyter.widget-view+json": {
       "model_id": "419e8a91e18f43e1b4f1d0f1402a80cb",
       "version_major": 2,
       "version_minor": 0
      },
      "text/plain": [
       "HBox(children=(FloatProgress(value=0.0, description='Loss: - Accuracy:', layout=Layout(flex='2'), max=7.0, sty…"
      ]
     },
     "metadata": {},
     "output_type": "display_data"
    },
    {
     "name": "stdout",
     "output_type": "stream",
     "text": [
      "\n"
     ]
    },
    {
     "data": {
      "application/vnd.jupyter.widget-view+json": {
       "model_id": "54591da9eaf64471a3530be82abfc949",
       "version_major": 2,
       "version_minor": 0
      },
      "text/plain": [
       "HBox(children=(FloatProgress(value=0.0, max=1.0), HTML(value='')))"
      ]
     },
     "metadata": {},
     "output_type": "display_data"
    },
    {
     "data": {
      "application/vnd.jupyter.widget-view+json": {
       "model_id": "ba563789a6bc4d9391ed4cf00b801777",
       "version_major": 2,
       "version_minor": 0
      },
      "text/plain": [
       "HBox(children=(FloatProgress(value=0.0, description='TRAINING | Loss: - Accuracy:', layout=Layout(flex='2'), m…"
      ]
     },
     "metadata": {},
     "output_type": "display_data"
    },
    {
     "name": "stdout",
     "output_type": "stream",
     "text": [
      "\n"
     ]
    },
    {
     "data": {
      "application/vnd.jupyter.widget-view+json": {
       "model_id": "cee4c81a2201400381505fda65853b8b",
       "version_major": 2,
       "version_minor": 0
      },
      "text/plain": [
       "HBox(children=(FloatProgress(value=0.0, description='VALIDATION | Loss: - Accuracy:', layout=Layout(flex='2'),…"
      ]
     },
     "metadata": {},
     "output_type": "display_data"
    },
    {
     "name": "stdout",
     "output_type": "stream",
     "text": [
      "\n",
      "\n",
      "Training complete in 0m 48s\n",
      "2 epochs done. Best validation accuracy is 67.250. Best validation loss is 1.297\n"
     ]
    },
    {
     "data": {
      "application/vnd.jupyter.widget-view+json": {
       "model_id": "848f84ef6adc44b9b61d02ac88411f6e",
       "version_major": 2,
       "version_minor": 0
      },
      "text/plain": [
       "HBox(children=(FloatProgress(value=0.0, description='Loss: - Accuracy:', layout=Layout(flex='2'), max=7.0, sty…"
      ]
     },
     "metadata": {},
     "output_type": "display_data"
    },
    {
     "name": "stdout",
     "output_type": "stream",
     "text": [
      "\n",
      "# ------------------ ScoreboardModel ----------------- #\n",
      " Trainset mean value for each channel is: 0.31\n",
      " Trainset std  value for each channel is: 0.35\n"
     ]
    },
    {
     "data": {
      "application/vnd.jupyter.widget-view+json": {
       "model_id": "8a9a9a13c9dc42a48cad9ec885a00f64",
       "version_major": 2,
       "version_minor": 0
      },
      "text/plain": [
       "HBox(children=(FloatProgress(value=0.0, description='Loss: - Accuracy:', layout=Layout(flex='2'), max=7.0, sty…"
      ]
     },
     "metadata": {},
     "output_type": "display_data"
    },
    {
     "name": "stdout",
     "output_type": "stream",
     "text": [
      "\n"
     ]
    },
    {
     "data": {
      "application/vnd.jupyter.widget-view+json": {
       "model_id": "883527247f264e6dba2e45e2fdb8cb87",
       "version_major": 2,
       "version_minor": 0
      },
      "text/plain": [
       "HBox(children=(FloatProgress(value=0.0, max=1.0), HTML(value='')))"
      ]
     },
     "metadata": {},
     "output_type": "display_data"
    },
    {
     "data": {
      "application/vnd.jupyter.widget-view+json": {
       "model_id": "6d7a6907480e4b7da2646cb24766ff02",
       "version_major": 2,
       "version_minor": 0
      },
      "text/plain": [
       "HBox(children=(FloatProgress(value=0.0, description='TRAINING | Loss: - Accuracy:', layout=Layout(flex='2'), m…"
      ]
     },
     "metadata": {},
     "output_type": "display_data"
    },
    {
     "name": "stdout",
     "output_type": "stream",
     "text": [
      "\n"
     ]
    },
    {
     "data": {
      "application/vnd.jupyter.widget-view+json": {
       "model_id": "287d7d7579304ea08f86557fedad6501",
       "version_major": 2,
       "version_minor": 0
      },
      "text/plain": [
       "HBox(children=(FloatProgress(value=0.0, description='VALIDATION | Loss: - Accuracy:', layout=Layout(flex='2'),…"
      ]
     },
     "metadata": {},
     "output_type": "display_data"
    },
    {
     "name": "stdout",
     "output_type": "stream",
     "text": [
      "\n",
      "\n",
      "Training complete in 0m 45s\n",
      "2 epochs done. Best validation accuracy is 70.250. Best validation loss is 0.983\n"
     ]
    },
    {
     "data": {
      "application/vnd.jupyter.widget-view+json": {
       "model_id": "712fb3bc2cb447b68bfd0bdbbf93ff06",
       "version_major": 2,
       "version_minor": 0
      },
      "text/plain": [
       "HBox(children=(FloatProgress(value=0.0, description='Loss: - Accuracy:', layout=Layout(flex='2'), max=7.0, sty…"
      ]
     },
     "metadata": {},
     "output_type": "display_data"
    },
    {
     "name": "stdout",
     "output_type": "stream",
     "text": [
      "\n",
      "e_radius 90\n",
      "# ------------------ AxonMapModel ----------------- #\n",
      " Trainset mean value for each channel is: 0.28\n",
      " Trainset std  value for each channel is: 0.33\n"
     ]
    },
    {
     "data": {
      "application/vnd.jupyter.widget-view+json": {
       "model_id": "b49a54219c9743069b290802bcbbba36",
       "version_major": 2,
       "version_minor": 0
      },
      "text/plain": [
       "HBox(children=(FloatProgress(value=0.0, description='Loss: - Accuracy:', layout=Layout(flex='2'), max=7.0, sty…"
      ]
     },
     "metadata": {},
     "output_type": "display_data"
    },
    {
     "name": "stdout",
     "output_type": "stream",
     "text": [
      "\n"
     ]
    },
    {
     "data": {
      "application/vnd.jupyter.widget-view+json": {
       "model_id": "1dd6374f89954f36ac91bf3cedcee321",
       "version_major": 2,
       "version_minor": 0
      },
      "text/plain": [
       "HBox(children=(FloatProgress(value=0.0, max=1.0), HTML(value='')))"
      ]
     },
     "metadata": {},
     "output_type": "display_data"
    },
    {
     "data": {
      "application/vnd.jupyter.widget-view+json": {
       "model_id": "9d13ce1afdc24b5686de58ba260cce3d",
       "version_major": 2,
       "version_minor": 0
      },
      "text/plain": [
       "HBox(children=(FloatProgress(value=0.0, description='TRAINING | Loss: - Accuracy:', layout=Layout(flex='2'), m…"
      ]
     },
     "metadata": {},
     "output_type": "display_data"
    },
    {
     "name": "stdout",
     "output_type": "stream",
     "text": [
      "\n"
     ]
    },
    {
     "data": {
      "application/vnd.jupyter.widget-view+json": {
       "model_id": "a2d19796646943b59533aed24f47c8c4",
       "version_major": 2,
       "version_minor": 0
      },
      "text/plain": [
       "HBox(children=(FloatProgress(value=0.0, description='VALIDATION | Loss: - Accuracy:', layout=Layout(flex='2'),…"
      ]
     },
     "metadata": {},
     "output_type": "display_data"
    },
    {
     "name": "stdout",
     "output_type": "stream",
     "text": [
      "\n",
      "\n",
      "Training complete in 0m 46s\n",
      "2 epochs done. Best validation accuracy is 67.250. Best validation loss is 1.205\n"
     ]
    },
    {
     "data": {
      "application/vnd.jupyter.widget-view+json": {
       "model_id": "f138db525a8246169efee28f75fbeb12",
       "version_major": 2,
       "version_minor": 0
      },
      "text/plain": [
       "HBox(children=(FloatProgress(value=0.0, description='Loss: - Accuracy:', layout=Layout(flex='2'), max=7.0, sty…"
      ]
     },
     "metadata": {},
     "output_type": "display_data"
    },
    {
     "name": "stdout",
     "output_type": "stream",
     "text": [
      "\n",
      "# ------------------ ScoreboardModel ----------------- #\n",
      " Trainset mean value for each channel is: 0.31\n",
      " Trainset std  value for each channel is: 0.35\n"
     ]
    },
    {
     "data": {
      "application/vnd.jupyter.widget-view+json": {
       "model_id": "085afa3d4e144850927ee60286889d80",
       "version_major": 2,
       "version_minor": 0
      },
      "text/plain": [
       "HBox(children=(FloatProgress(value=0.0, description='Loss: - Accuracy:', layout=Layout(flex='2'), max=7.0, sty…"
      ]
     },
     "metadata": {},
     "output_type": "display_data"
    },
    {
     "name": "stdout",
     "output_type": "stream",
     "text": [
      "\n"
     ]
    },
    {
     "data": {
      "application/vnd.jupyter.widget-view+json": {
       "model_id": "6c6ee8d95ad541be96f432219993d4dd",
       "version_major": 2,
       "version_minor": 0
      },
      "text/plain": [
       "HBox(children=(FloatProgress(value=0.0, max=1.0), HTML(value='')))"
      ]
     },
     "metadata": {},
     "output_type": "display_data"
    },
    {
     "data": {
      "application/vnd.jupyter.widget-view+json": {
       "model_id": "c9db1dfed1fa4968b7f3dce2fa080472",
       "version_major": 2,
       "version_minor": 0
      },
      "text/plain": [
       "HBox(children=(FloatProgress(value=0.0, description='TRAINING | Loss: - Accuracy:', layout=Layout(flex='2'), m…"
      ]
     },
     "metadata": {},
     "output_type": "display_data"
    },
    {
     "name": "stdout",
     "output_type": "stream",
     "text": [
      "\n"
     ]
    },
    {
     "data": {
      "application/vnd.jupyter.widget-view+json": {
       "model_id": "e6850610d98b4f3984c0fde63ba7ef7a",
       "version_major": 2,
       "version_minor": 0
      },
      "text/plain": [
       "HBox(children=(FloatProgress(value=0.0, description='VALIDATION | Loss: - Accuracy:', layout=Layout(flex='2'),…"
      ]
     },
     "metadata": {},
     "output_type": "display_data"
    },
    {
     "name": "stdout",
     "output_type": "stream",
     "text": [
      "\n",
      "\n",
      "Training complete in 0m 46s\n",
      "2 epochs done. Best validation accuracy is 71.750. Best validation loss is 0.960\n"
     ]
    },
    {
     "data": {
      "application/vnd.jupyter.widget-view+json": {
       "model_id": "9c981875197b4a0c850c047bc8f46a64",
       "version_major": 2,
       "version_minor": 0
      },
      "text/plain": [
       "HBox(children=(FloatProgress(value=0.0, description='Loss: - Accuracy:', layout=Layout(flex='2'), max=7.0, sty…"
      ]
     },
     "metadata": {},
     "output_type": "display_data"
    },
    {
     "name": "stdout",
     "output_type": "stream",
     "text": [
      "\n",
      "e_num_side 25\n",
      "e_radius 10\n",
      "# ------------------ AxonMapModel ----------------- #\n",
      " Trainset mean value for each channel is: 0.27\n",
      " Trainset std  value for each channel is: 0.32\n"
     ]
    },
    {
     "data": {
      "application/vnd.jupyter.widget-view+json": {
       "model_id": "442c16acd3af450d983c8bd19642b88e",
       "version_major": 2,
       "version_minor": 0
      },
      "text/plain": [
       "HBox(children=(FloatProgress(value=0.0, description='Loss: - Accuracy:', layout=Layout(flex='2'), max=7.0, sty…"
      ]
     },
     "metadata": {},
     "output_type": "display_data"
    },
    {
     "name": "stdout",
     "output_type": "stream",
     "text": [
      "\n",
      "e_num_side=25-e_radius=10-spacing=None-total_area=4000 is already trained for AxonMapModel\n"
     ]
    },
    {
     "data": {
      "application/vnd.jupyter.widget-view+json": {
       "model_id": "3fb155f2c99b4a988f096af1959f9a46",
       "version_major": 2,
       "version_minor": 0
      },
      "text/plain": [
       "HBox(children=(FloatProgress(value=0.0, description='Loss: - Accuracy:', layout=Layout(flex='2'), max=7.0, sty…"
      ]
     },
     "metadata": {},
     "output_type": "display_data"
    },
    {
     "name": "stdout",
     "output_type": "stream",
     "text": [
      "\n",
      "# ------------------ ScoreboardModel ----------------- #\n",
      " Trainset mean value for each channel is: 0.30\n",
      " Trainset std  value for each channel is: 0.35\n"
     ]
    },
    {
     "data": {
      "application/vnd.jupyter.widget-view+json": {
       "model_id": "be887e3f584a40baa9155b3e7c9b6fe7",
       "version_major": 2,
       "version_minor": 0
      },
      "text/plain": [
       "HBox(children=(FloatProgress(value=0.0, description='Loss: - Accuracy:', layout=Layout(flex='2'), max=7.0, sty…"
      ]
     },
     "metadata": {},
     "output_type": "display_data"
    },
    {
     "name": "stdout",
     "output_type": "stream",
     "text": [
      "\n",
      "e_num_side=25-e_radius=10-spacing=None-total_area=4000 is already trained for ScoreboardModel\n"
     ]
    },
    {
     "data": {
      "application/vnd.jupyter.widget-view+json": {
       "model_id": "b3ba8c1e92764e6bab26b4e541e47506",
       "version_major": 2,
       "version_minor": 0
      },
      "text/plain": [
       "HBox(children=(FloatProgress(value=0.0, description='Loss: - Accuracy:', layout=Layout(flex='2'), max=7.0, sty…"
      ]
     },
     "metadata": {},
     "output_type": "display_data"
    },
    {
     "name": "stdout",
     "output_type": "stream",
     "text": [
      "\n",
      "e_radius 20\n",
      "# ------------------ AxonMapModel ----------------- #\n",
      " Trainset mean value for each channel is: 0.27\n",
      " Trainset std  value for each channel is: 0.32\n"
     ]
    },
    {
     "data": {
      "application/vnd.jupyter.widget-view+json": {
       "model_id": "7928f7126e8043a8921589f35a38f468",
       "version_major": 2,
       "version_minor": 0
      },
      "text/plain": [
       "HBox(children=(FloatProgress(value=0.0, description='Loss: - Accuracy:', layout=Layout(flex='2'), max=7.0, sty…"
      ]
     },
     "metadata": {},
     "output_type": "display_data"
    },
    {
     "name": "stdout",
     "output_type": "stream",
     "text": [
      "\n",
      "e_num_side=25-e_radius=20-spacing=None-total_area=4000 is already trained for AxonMapModel\n"
     ]
    },
    {
     "data": {
      "application/vnd.jupyter.widget-view+json": {
       "model_id": "1ba9d07ed2544d01a30b7d012d7dce37",
       "version_major": 2,
       "version_minor": 0
      },
      "text/plain": [
       "HBox(children=(FloatProgress(value=0.0, description='Loss: - Accuracy:', layout=Layout(flex='2'), max=7.0, sty…"
      ]
     },
     "metadata": {},
     "output_type": "display_data"
    },
    {
     "name": "stdout",
     "output_type": "stream",
     "text": [
      "\n",
      "# ------------------ ScoreboardModel ----------------- #\n",
      " Trainset mean value for each channel is: 0.30\n",
      " Trainset std  value for each channel is: 0.35\n"
     ]
    },
    {
     "data": {
      "application/vnd.jupyter.widget-view+json": {
       "model_id": "928ec951fa6e4d11a1f2736a13215ad2",
       "version_major": 2,
       "version_minor": 0
      },
      "text/plain": [
       "HBox(children=(FloatProgress(value=0.0, description='Loss: - Accuracy:', layout=Layout(flex='2'), max=7.0, sty…"
      ]
     },
     "metadata": {},
     "output_type": "display_data"
    },
    {
     "name": "stdout",
     "output_type": "stream",
     "text": [
      "\n",
      "e_num_side=25-e_radius=20-spacing=None-total_area=4000 is already trained for ScoreboardModel\n"
     ]
    },
    {
     "data": {
      "application/vnd.jupyter.widget-view+json": {
       "model_id": "9fdf0730dab145d980ed5786b4226511",
       "version_major": 2,
       "version_minor": 0
      },
      "text/plain": [
       "HBox(children=(FloatProgress(value=0.0, description='Loss: - Accuracy:', layout=Layout(flex='2'), max=7.0, sty…"
      ]
     },
     "metadata": {},
     "output_type": "display_data"
    },
    {
     "name": "stdout",
     "output_type": "stream",
     "text": [
      "\n",
      "e_radius 30\n",
      "# ------------------ AxonMapModel ----------------- #\n",
      " Trainset mean value for each channel is: 0.27\n",
      " Trainset std  value for each channel is: 0.32\n"
     ]
    },
    {
     "data": {
      "application/vnd.jupyter.widget-view+json": {
       "model_id": "dee065b390e54c4e9cce3908e3c121ca",
       "version_major": 2,
       "version_minor": 0
      },
      "text/plain": [
       "HBox(children=(FloatProgress(value=0.0, description='Loss: - Accuracy:', layout=Layout(flex='2'), max=7.0, sty…"
      ]
     },
     "metadata": {},
     "output_type": "display_data"
    },
    {
     "name": "stdout",
     "output_type": "stream",
     "text": [
      "\n",
      "e_num_side=25-e_radius=30-spacing=None-total_area=4000 is already trained for AxonMapModel\n"
     ]
    },
    {
     "data": {
      "application/vnd.jupyter.widget-view+json": {
       "model_id": "78ac6003d5a7471c8e313749e34431a5",
       "version_major": 2,
       "version_minor": 0
      },
      "text/plain": [
       "HBox(children=(FloatProgress(value=0.0, description='Loss: - Accuracy:', layout=Layout(flex='2'), max=7.0, sty…"
      ]
     },
     "metadata": {},
     "output_type": "display_data"
    },
    {
     "name": "stdout",
     "output_type": "stream",
     "text": [
      "\n",
      "# ------------------ ScoreboardModel ----------------- #\n",
      " Trainset mean value for each channel is: 0.30\n",
      " Trainset std  value for each channel is: 0.35\n"
     ]
    },
    {
     "data": {
      "application/vnd.jupyter.widget-view+json": {
       "model_id": "d6bbee34ae09441fb5b91bc17d6c9714",
       "version_major": 2,
       "version_minor": 0
      },
      "text/plain": [
       "HBox(children=(FloatProgress(value=0.0, description='Loss: - Accuracy:', layout=Layout(flex='2'), max=7.0, sty…"
      ]
     },
     "metadata": {},
     "output_type": "display_data"
    },
    {
     "name": "stdout",
     "output_type": "stream",
     "text": [
      "\n",
      "e_num_side=25-e_radius=30-spacing=None-total_area=4000 is already trained for ScoreboardModel\n"
     ]
    },
    {
     "data": {
      "application/vnd.jupyter.widget-view+json": {
       "model_id": "139cbaa399474d2da5bec207ebbb17e8",
       "version_major": 2,
       "version_minor": 0
      },
      "text/plain": [
       "HBox(children=(FloatProgress(value=0.0, description='Loss: - Accuracy:', layout=Layout(flex='2'), max=7.0, sty…"
      ]
     },
     "metadata": {},
     "output_type": "display_data"
    },
    {
     "name": "stdout",
     "output_type": "stream",
     "text": [
      "\n",
      "e_radius 40\n",
      "# ------------------ AxonMapModel ----------------- #\n",
      " Trainset mean value for each channel is: 0.27\n",
      " Trainset std  value for each channel is: 0.32\n"
     ]
    },
    {
     "data": {
      "application/vnd.jupyter.widget-view+json": {
       "model_id": "302f7bebd87e45188356c66cf6f38de3",
       "version_major": 2,
       "version_minor": 0
      },
      "text/plain": [
       "HBox(children=(FloatProgress(value=0.0, description='Loss: - Accuracy:', layout=Layout(flex='2'), max=7.0, sty…"
      ]
     },
     "metadata": {},
     "output_type": "display_data"
    },
    {
     "name": "stdout",
     "output_type": "stream",
     "text": [
      "\n",
      "e_num_side=25-e_radius=40-spacing=None-total_area=4000 is already trained for AxonMapModel\n"
     ]
    },
    {
     "data": {
      "application/vnd.jupyter.widget-view+json": {
       "model_id": "42f8ea1657144813b482b21403f7bbef",
       "version_major": 2,
       "version_minor": 0
      },
      "text/plain": [
       "HBox(children=(FloatProgress(value=0.0, description='Loss: - Accuracy:', layout=Layout(flex='2'), max=7.0, sty…"
      ]
     },
     "metadata": {},
     "output_type": "display_data"
    },
    {
     "name": "stdout",
     "output_type": "stream",
     "text": [
      "\n",
      "# ------------------ ScoreboardModel ----------------- #\n",
      " Trainset mean value for each channel is: 0.30\n",
      " Trainset std  value for each channel is: 0.35\n"
     ]
    },
    {
     "data": {
      "application/vnd.jupyter.widget-view+json": {
       "model_id": "424126dd2ca64b99b39e10cb24731281",
       "version_major": 2,
       "version_minor": 0
      },
      "text/plain": [
       "HBox(children=(FloatProgress(value=0.0, description='Loss: - Accuracy:', layout=Layout(flex='2'), max=7.0, sty…"
      ]
     },
     "metadata": {},
     "output_type": "display_data"
    },
    {
     "name": "stdout",
     "output_type": "stream",
     "text": [
      "\n",
      "e_num_side=25-e_radius=40-spacing=None-total_area=4000 is already trained for ScoreboardModel\n"
     ]
    },
    {
     "data": {
      "application/vnd.jupyter.widget-view+json": {
       "model_id": "0623cd2cf7ca46b9bffdb666564f6863",
       "version_major": 2,
       "version_minor": 0
      },
      "text/plain": [
       "HBox(children=(FloatProgress(value=0.0, description='Loss: - Accuracy:', layout=Layout(flex='2'), max=7.0, sty…"
      ]
     },
     "metadata": {},
     "output_type": "display_data"
    },
    {
     "name": "stdout",
     "output_type": "stream",
     "text": [
      "\n",
      "e_radius 50\n",
      "# ------------------ AxonMapModel ----------------- #\n",
      " Trainset mean value for each channel is: 0.27\n",
      " Trainset std  value for each channel is: 0.32\n"
     ]
    },
    {
     "data": {
      "application/vnd.jupyter.widget-view+json": {
       "model_id": "8d35149f7bb14df2bbf02f060dbd02a7",
       "version_major": 2,
       "version_minor": 0
      },
      "text/plain": [
       "HBox(children=(FloatProgress(value=0.0, description='Loss: - Accuracy:', layout=Layout(flex='2'), max=7.0, sty…"
      ]
     },
     "metadata": {},
     "output_type": "display_data"
    },
    {
     "name": "stdout",
     "output_type": "stream",
     "text": [
      "\n",
      "e_num_side=25-e_radius=50-spacing=None-total_area=4000 is already trained for AxonMapModel\n"
     ]
    },
    {
     "data": {
      "application/vnd.jupyter.widget-view+json": {
       "model_id": "e4b7e54754eb4f9ab87262757479e5d8",
       "version_major": 2,
       "version_minor": 0
      },
      "text/plain": [
       "HBox(children=(FloatProgress(value=0.0, description='Loss: - Accuracy:', layout=Layout(flex='2'), max=7.0, sty…"
      ]
     },
     "metadata": {},
     "output_type": "display_data"
    },
    {
     "name": "stdout",
     "output_type": "stream",
     "text": [
      "\n",
      "# ------------------ ScoreboardModel ----------------- #\n",
      " Trainset mean value for each channel is: 0.30\n",
      " Trainset std  value for each channel is: 0.35\n"
     ]
    },
    {
     "data": {
      "application/vnd.jupyter.widget-view+json": {
       "model_id": "3e9200b8e723457fbaebb5847a665255",
       "version_major": 2,
       "version_minor": 0
      },
      "text/plain": [
       "HBox(children=(FloatProgress(value=0.0, description='Loss: - Accuracy:', layout=Layout(flex='2'), max=7.0, sty…"
      ]
     },
     "metadata": {},
     "output_type": "display_data"
    },
    {
     "name": "stdout",
     "output_type": "stream",
     "text": [
      "\n",
      "e_num_side=25-e_radius=50-spacing=None-total_area=4000 is already trained for ScoreboardModel\n"
     ]
    },
    {
     "data": {
      "application/vnd.jupyter.widget-view+json": {
       "model_id": "20ef18a5bd074181bc205b199b0f9eb5",
       "version_major": 2,
       "version_minor": 0
      },
      "text/plain": [
       "HBox(children=(FloatProgress(value=0.0, description='Loss: - Accuracy:', layout=Layout(flex='2'), max=7.0, sty…"
      ]
     },
     "metadata": {},
     "output_type": "display_data"
    },
    {
     "name": "stdout",
     "output_type": "stream",
     "text": [
      "\n",
      "e_radius 60\n",
      "# ------------------ AxonMapModel ----------------- #\n",
      " Trainset mean value for each channel is: 0.27\n",
      " Trainset std  value for each channel is: 0.32\n"
     ]
    },
    {
     "data": {
      "application/vnd.jupyter.widget-view+json": {
       "model_id": "80e45379ac714f0195576a777a4e49fd",
       "version_major": 2,
       "version_minor": 0
      },
      "text/plain": [
       "HBox(children=(FloatProgress(value=0.0, description='Loss: - Accuracy:', layout=Layout(flex='2'), max=7.0, sty…"
      ]
     },
     "metadata": {},
     "output_type": "display_data"
    },
    {
     "name": "stdout",
     "output_type": "stream",
     "text": [
      "\n",
      "e_num_side=25-e_radius=60-spacing=None-total_area=4000 is already trained for AxonMapModel\n"
     ]
    },
    {
     "data": {
      "application/vnd.jupyter.widget-view+json": {
       "model_id": "dbf4ec4f45c143de81063de677ea6f6d",
       "version_major": 2,
       "version_minor": 0
      },
      "text/plain": [
       "HBox(children=(FloatProgress(value=0.0, description='Loss: - Accuracy:', layout=Layout(flex='2'), max=7.0, sty…"
      ]
     },
     "metadata": {},
     "output_type": "display_data"
    },
    {
     "name": "stdout",
     "output_type": "stream",
     "text": [
      "\n",
      "# ------------------ ScoreboardModel ----------------- #\n",
      " Trainset mean value for each channel is: 0.30\n",
      " Trainset std  value for each channel is: 0.35\n"
     ]
    },
    {
     "data": {
      "application/vnd.jupyter.widget-view+json": {
       "model_id": "6124b0a1ac9948709f4631ef130ab0fd",
       "version_major": 2,
       "version_minor": 0
      },
      "text/plain": [
       "HBox(children=(FloatProgress(value=0.0, description='Loss: - Accuracy:', layout=Layout(flex='2'), max=7.0, sty…"
      ]
     },
     "metadata": {},
     "output_type": "display_data"
    },
    {
     "name": "stdout",
     "output_type": "stream",
     "text": [
      "\n",
      "e_num_side=25-e_radius=60-spacing=None-total_area=4000 is already trained for ScoreboardModel\n"
     ]
    },
    {
     "data": {
      "application/vnd.jupyter.widget-view+json": {
       "model_id": "905e09fdea15459b8fe5e5710a0b2123",
       "version_major": 2,
       "version_minor": 0
      },
      "text/plain": [
       "HBox(children=(FloatProgress(value=0.0, description='Loss: - Accuracy:', layout=Layout(flex='2'), max=7.0, sty…"
      ]
     },
     "metadata": {},
     "output_type": "display_data"
    },
    {
     "name": "stdout",
     "output_type": "stream",
     "text": [
      "\n",
      "\n"
     ]
    }
   ],
   "source": [
    "pbar = tqdm(total=sum(1+(np.array(e_radius_ub)-np.array(e_radius_lb))//10))\n",
    "\n",
    "for ens_idx, e_num_side in enumerate(e_num_sides):\n",
    "    print(\"e_num_side\", e_num_side)\n",
    "    for er_idx, e_radius in enumerate(range(e_radius_lb[ens_idx], e_radius_ub[ens_idx] + 1, 10)):\n",
    "        print(\"e_radius\", e_radius)\n",
    "        implant_name = 'e_num_side='+str(e_num_side)+'-e_radius='+str(e_radius)+ \\\n",
    "                       '-spacing='+str(spacing)+'-total_area='+str(total_area)\n",
    "\n",
    "        # ------------------ AXON MAP MODEL ----------------- #\n",
    "        (axon_init_loss,   axon_init_accu,\n",
    "         axon_loss,   axon_accu,   _) = one('AxonMapModel',    implant_name,\n",
    "                                           './data/MNIST__ResNet18Model__Adabound__25_epochs.pth')\n",
    "        # ---------------- SCORE BOARD MODEL ---------------- #\n",
    "        (sboard_init_loss, sboard_init_accu,\n",
    "         sboard_loss, sboard_accu, _) = one('ScoreboardModel', implant_name,\n",
    "                                           './data/MNIST__ResNet18Model__Adabound__25_epochs.pth')\n",
    "\n",
    "        # ----------------- FILL THE ARRAYS ----------------- #\n",
    "        e_num_sides_acc[ens_idx, er_idx, :]  =[axon_accu, sboard_accu]\n",
    "        e_radius_acc[er_idx, ens_idx, :]     =[axon_accu, sboard_accu]\n",
    "\n",
    "        e_num_sides_loss[ens_idx, er_idx, :] =[axon_loss, sboard_loss]\n",
    "        e_radius_loss[er_idx, ens_idx, :]    =[axon_loss, sboard_loss]\n",
    "\n",
    "        e_num_sides_acc_init[ens_idx, er_idx, :]  =[axon_init_accu, sboard_init_accu]\n",
    "        e_radius_acc_init[er_idx, ens_idx, :]     =[axon_init_accu, sboard_init_accu]\n",
    "\n",
    "        e_num_sides_loss_init[ens_idx, er_idx, :] =[axon_init_loss, sboard_init_loss]\n",
    "        e_radius_loss_init[er_idx, ens_idx, :]    =[axon_init_loss, sboard_init_loss]\n",
    "\n",
    "        pbar.update()\n",
    "pbar.close()"
   ]
  },
  {
   "cell_type": "code",
   "execution_count": 29,
   "metadata": {},
   "outputs": [],
   "source": [
    "np.save('e_num_sides_acc.npy', e_num_sides_acc)\n",
    "np.save('e_radius_acc.npy', e_radius_acc)\n",
    "np.save('e_num_sides_loss.npy', e_num_sides_loss)\n",
    "np.save('e_radius_loss.npy', e_radius_loss)\n",
    "\n",
    "np.save('e_num_sides_acc_init.npy', e_num_sides_acc_init)\n",
    "np.save('e_radius_acc_init.npy', e_radius_acc_init)\n",
    "np.save('e_num_sides_loss_init.npy', e_num_sides_loss_init)\n",
    "np.save('e_radius_loss_init.npy', e_radius_loss_init)"
   ]
  },
  {
   "cell_type": "code",
   "execution_count": 260,
   "metadata": {},
   "outputs": [],
   "source": [
    "def plot_stats(in_arr, idx=0, title=None, label=None, ylabel='accuracy [%]',\n",
    "               line_color='gray', marker_color='black', error_line_color='red'):\n",
    "    if np.sum(in_arr == 0):\n",
    "        arr = np.copy(in_arr)\n",
    "        arr[arr == 0] = np.nan\n",
    "    else:\n",
    "        arr = in_arr\n",
    "\n",
    "    points = np.array(e_num_sides)**2\n",
    "    means  = np.nanmean(arr, axis=0)[:, idx]\n",
    "    stds   = np.nanvar( arr, axis=0)[:, idx]\n",
    "    maxes  = np.nanmax( arr, axis=0)[:, idx]\n",
    "    mins   = np.nanmin( arr, axis=0)[:, idx]\n",
    "\n",
    "    plt.ylabel(ylabel)\n",
    "    if title is not None:\n",
    "        plt.title(title)\n",
    "    try:\n",
    "        plt.errorbar(points, means, [means - mins, maxes - means], capsize=3, capthick=2, label=label, markeredgecolor=marker_color,\n",
    "                     linestyle='dashed', color=line_color, marker='^', mfc=marker_color, ecolor=error_line_color, lw=1)\n",
    "        plt.xlabel('Number of electrodes')\n",
    "    except:\n",
    "        points = np.arange(min(e_radius_lb), max(e_radius_ub)+1, 10)\n",
    "        plt.errorbar(points, means, [means - mins, maxes - means], capsize=3, capthick=2, label=label, markeredgecolor=marker_color,\n",
    "                     linestyle='dashed', color=line_color, marker='^', mfc=marker_color, ecolor=error_line_color, lw=1)\n",
    "        plt.xlabel('Electrodes size [microns]')\n",
    "    plt.legend()"
   ]
  },
  {
   "cell_type": "code",
   "execution_count": 261,
   "metadata": {},
   "outputs": [],
   "source": [
    "%matplotlib inline"
   ]
  },
  {
   "cell_type": "code",
   "execution_count": 286,
   "metadata": {},
   "outputs": [
    {
     "data": {
      "image/png": "[encoded data removed]",
      "text/plain": [
       "<Figure size 432x288 with 1 Axes>"
      ]
     },
     "metadata": {
      "needs_background": "light"
     },
     "output_type": "display_data"
    }
   ],
   "source": [
    "plot_stats(e_radius_acc, 0, label='AxonMapModel', title='Accuracy after one epoch versus the number of electrodes - mean, min, max')\n",
    "plot_stats(e_radius_acc, 1, label='ScoreBoardModel', line_color='green', marker_color='blue', error_line_color='cyan')\n",
    "plt.savefig('1_epoch_accuracy_versus_number_of_electrods', bbox_inches='tight')"
   ]
  },
  {
   "cell_type": "code",
   "execution_count": 293,
   "metadata": {},
   "outputs": [
    {
     "data": {
      "image/png": "[encoded data removed]",
      "text/plain": [
       "<Figure size 432x288 with 1 Axes>"
      ]
     },
     "metadata": {
      "needs_background": "light"
     },
     "output_type": "display_data"
    }
   ],
   "source": [
    "plot_stats(e_radius_acc_init, 0, label='AxonMapModel', title='Initial accuracy versus the number of electrodes - mean, min, max')\n",
    "plot_stats(e_radius_acc_init, 1, label='ScoreBoardModel', line_color='green', marker_color='blue', error_line_color='cyan')\n",
    "plt.savefig('init_accuracy_versus_number_of_electrods', bbox_inches='tight')"
   ]
  },
  {
   "cell_type": "code",
   "execution_count": 271,
   "metadata": {},
   "outputs": [
    {
     "data": {
      "image/png": "[encoded data removed]",
      "text/plain": [
       "<Figure size 432x288 with 1 Axes>"
      ]
     },
     "metadata": {
      "needs_background": "light"
     },
     "output_type": "display_data"
    }
   ],
   "source": [
    "plot_stats(e_radius_acc_init, 0)"
   ]
  },
  {
   "cell_type": "code",
   "execution_count": 272,
   "metadata": {
    "scrolled": true
   },
   "outputs": [
    {
     "data": {
      "image/png": "[encoded data removed]",
      "text/plain": [
       "<Figure size 432x288 with 1 Axes>"
      ]
     },
     "metadata": {
      "needs_background": "light"
     },
     "output_type": "display_data"
    }
   ],
   "source": [
    "plot_stats(e_radius_acc, 1)"
   ]
  },
  {
   "cell_type": "code",
   "execution_count": 273,
   "metadata": {},
   "outputs": [
    {
     "data": {
      "image/png": "[encoded data removed]",
      "text/plain": [
       "<Figure size 432x288 with 1 Axes>"
      ]
     },
     "metadata": {
      "needs_background": "light"
     },
     "output_type": "display_data"
    }
   ],
   "source": [
    "plot_stats(e_radius_acc_init, 1)"
   ]
  },
  {
   "cell_type": "code",
   "execution_count": 290,
   "metadata": {},
   "outputs": [
    {
     "data": {
      "image/png": "[encoded data removed]",
      "text/plain": [
       "<Figure size 432x288 with 1 Axes>"
      ]
     },
     "metadata": {
      "needs_background": "light"
     },
     "output_type": "display_data"
    }
   ],
   "source": [
    "plot_stats(e_num_sides_acc, 0, label='AxonMapModel', title='Accuracy after one epoch versus electrode size - mean, min, max')\n",
    "plot_stats(e_num_sides_acc, 1, label='ScoreBoardModel', line_color='green', marker_color='blue', error_line_color='cyan')\n",
    "plt.savefig('1_epoch_accuracy_versus_electrode_size', bbox_inches='tight')"
   ]
  },
  {
   "cell_type": "code",
   "execution_count": 275,
   "metadata": {},
   "outputs": [
    {
     "name": "stderr",
     "output_type": "stream",
     "text": [
      "<ipython-input-275-10e7cc20abcc>:2: RuntimeWarning: invalid value encountered in greater\n",
      "  plt.plot(np.array(e_num_sides)[e_radius_acc[i, :, 1] > 0],\n",
      "<ipython-input-275-10e7cc20abcc>:3: RuntimeWarning: invalid value encountered in greater\n",
      "  e_radius_acc[i, e_radius_acc[i, :, 1] > 0, 0])\n",
      "<ipython-input-275-10e7cc20abcc>:2: RuntimeWarning: invalid value encountered in greater\n",
      "  plt.plot(np.array(e_num_sides)[e_radius_acc[i, :, 1] > 0],\n",
      "<ipython-input-275-10e7cc20abcc>:3: RuntimeWarning: invalid value encountered in greater\n",
      "  e_radius_acc[i, e_radius_acc[i, :, 1] > 0, 0])\n",
      "<ipython-input-275-10e7cc20abcc>:2: RuntimeWarning: invalid value encountered in greater\n",
      "  plt.plot(np.array(e_num_sides)[e_radius_acc[i, :, 1] > 0],\n",
      "<ipython-input-275-10e7cc20abcc>:3: RuntimeWarning: invalid value encountered in greater\n",
      "  e_radius_acc[i, e_radius_acc[i, :, 1] > 0, 0])\n",
      "<ipython-input-275-10e7cc20abcc>:2: RuntimeWarning: invalid value encountered in greater\n",
      "  plt.plot(np.array(e_num_sides)[e_radius_acc[i, :, 1] > 0],\n",
      "<ipython-input-275-10e7cc20abcc>:3: RuntimeWarning: invalid value encountered in greater\n",
      "  e_radius_acc[i, e_radius_acc[i, :, 1] > 0, 0])\n",
      "<ipython-input-275-10e7cc20abcc>:2: RuntimeWarning: invalid value encountered in greater\n",
      "  plt.plot(np.array(e_num_sides)[e_radius_acc[i, :, 1] > 0],\n",
      "<ipython-input-275-10e7cc20abcc>:3: RuntimeWarning: invalid value encountered in greater\n",
      "  e_radius_acc[i, e_radius_acc[i, :, 1] > 0, 0])\n",
      "<ipython-input-275-10e7cc20abcc>:2: RuntimeWarning: invalid value encountered in greater\n",
      "  plt.plot(np.array(e_num_sides)[e_radius_acc[i, :, 1] > 0],\n",
      "<ipython-input-275-10e7cc20abcc>:3: RuntimeWarning: invalid value encountered in greater\n",
      "  e_radius_acc[i, e_radius_acc[i, :, 1] > 0, 0])\n",
      "<ipython-input-275-10e7cc20abcc>:2: RuntimeWarning: invalid value encountered in greater\n",
      "  plt.plot(np.array(e_num_sides)[e_radius_acc[i, :, 1] > 0],\n",
      "<ipython-input-275-10e7cc20abcc>:3: RuntimeWarning: invalid value encountered in greater\n",
      "  e_radius_acc[i, e_radius_acc[i, :, 1] > 0, 0])\n",
      "<ipython-input-275-10e7cc20abcc>:2: RuntimeWarning: invalid value encountered in greater\n",
      "  plt.plot(np.array(e_num_sides)[e_radius_acc[i, :, 1] > 0],\n",
      "<ipython-input-275-10e7cc20abcc>:3: RuntimeWarning: invalid value encountered in greater\n",
      "  e_radius_acc[i, e_radius_acc[i, :, 1] > 0, 0])\n",
      "<ipython-input-275-10e7cc20abcc>:2: RuntimeWarning: invalid value encountered in greater\n",
      "  plt.plot(np.array(e_num_sides)[e_radius_acc[i, :, 1] > 0],\n",
      "<ipython-input-275-10e7cc20abcc>:3: RuntimeWarning: invalid value encountered in greater\n",
      "  e_radius_acc[i, e_radius_acc[i, :, 1] > 0, 0])\n",
      "<ipython-input-275-10e7cc20abcc>:2: RuntimeWarning: invalid value encountered in greater\n",
      "  plt.plot(np.array(e_num_sides)[e_radius_acc[i, :, 1] > 0],\n",
      "<ipython-input-275-10e7cc20abcc>:3: RuntimeWarning: invalid value encountered in greater\n",
      "  e_radius_acc[i, e_radius_acc[i, :, 1] > 0, 0])\n",
      "<ipython-input-275-10e7cc20abcc>:2: RuntimeWarning: invalid value encountered in greater\n",
      "  plt.plot(np.array(e_num_sides)[e_radius_acc[i, :, 1] > 0],\n",
      "<ipython-input-275-10e7cc20abcc>:3: RuntimeWarning: invalid value encountered in greater\n",
      "  e_radius_acc[i, e_radius_acc[i, :, 1] > 0, 0])\n",
      "<ipython-input-275-10e7cc20abcc>:2: RuntimeWarning: invalid value encountered in greater\n",
      "  plt.plot(np.array(e_num_sides)[e_radius_acc[i, :, 1] > 0],\n",
      "<ipython-input-275-10e7cc20abcc>:3: RuntimeWarning: invalid value encountered in greater\n",
      "  e_radius_acc[i, e_radius_acc[i, :, 1] > 0, 0])\n",
      "<ipython-input-275-10e7cc20abcc>:2: RuntimeWarning: invalid value encountered in greater\n",
      "  plt.plot(np.array(e_num_sides)[e_radius_acc[i, :, 1] > 0],\n",
      "<ipython-input-275-10e7cc20abcc>:3: RuntimeWarning: invalid value encountered in greater\n",
      "  e_radius_acc[i, e_radius_acc[i, :, 1] > 0, 0])\n",
      "<ipython-input-275-10e7cc20abcc>:2: RuntimeWarning: invalid value encountered in greater\n",
      "  plt.plot(np.array(e_num_sides)[e_radius_acc[i, :, 1] > 0],\n",
      "<ipython-input-275-10e7cc20abcc>:3: RuntimeWarning: invalid value encountered in greater\n",
      "  e_radius_acc[i, e_radius_acc[i, :, 1] > 0, 0])\n",
      "<ipython-input-275-10e7cc20abcc>:2: RuntimeWarning: invalid value encountered in greater\n",
      "  plt.plot(np.array(e_num_sides)[e_radius_acc[i, :, 1] > 0],\n",
      "<ipython-input-275-10e7cc20abcc>:3: RuntimeWarning: invalid value encountered in greater\n",
      "  e_radius_acc[i, e_radius_acc[i, :, 1] > 0, 0])\n",
      "<ipython-input-275-10e7cc20abcc>:2: RuntimeWarning: invalid value encountered in greater\n",
      "  plt.plot(np.array(e_num_sides)[e_radius_acc[i, :, 1] > 0],\n",
      "<ipython-input-275-10e7cc20abcc>:3: RuntimeWarning: invalid value encountered in greater\n",
      "  e_radius_acc[i, e_radius_acc[i, :, 1] > 0, 0])\n",
      "<ipython-input-275-10e7cc20abcc>:2: RuntimeWarning: invalid value encountered in greater\n",
      "  plt.plot(np.array(e_num_sides)[e_radius_acc[i, :, 1] > 0],\n",
      "<ipython-input-275-10e7cc20abcc>:3: RuntimeWarning: invalid value encountered in greater\n",
      "  e_radius_acc[i, e_radius_acc[i, :, 1] > 0, 0])\n",
      "<ipython-input-275-10e7cc20abcc>:2: RuntimeWarning: invalid value encountered in greater\n",
      "  plt.plot(np.array(e_num_sides)[e_radius_acc[i, :, 1] > 0],\n",
      "<ipython-input-275-10e7cc20abcc>:3: RuntimeWarning: invalid value encountered in greater\n",
      "  e_radius_acc[i, e_radius_acc[i, :, 1] > 0, 0])\n",
      "<ipython-input-275-10e7cc20abcc>:2: RuntimeWarning: invalid value encountered in greater\n",
      "  plt.plot(np.array(e_num_sides)[e_radius_acc[i, :, 1] > 0],\n",
      "<ipython-input-275-10e7cc20abcc>:3: RuntimeWarning: invalid value encountered in greater\n",
      "  e_radius_acc[i, e_radius_acc[i, :, 1] > 0, 0])\n",
      "<ipython-input-275-10e7cc20abcc>:2: RuntimeWarning: invalid value encountered in greater\n",
      "  plt.plot(np.array(e_num_sides)[e_radius_acc[i, :, 1] > 0],\n",
      "<ipython-input-275-10e7cc20abcc>:3: RuntimeWarning: invalid value encountered in greater\n",
      "  e_radius_acc[i, e_radius_acc[i, :, 1] > 0, 0])\n",
      "<ipython-input-275-10e7cc20abcc>:2: RuntimeWarning: invalid value encountered in greater\n",
      "  plt.plot(np.array(e_num_sides)[e_radius_acc[i, :, 1] > 0],\n",
      "<ipython-input-275-10e7cc20abcc>:3: RuntimeWarning: invalid value encountered in greater\n",
      "  e_radius_acc[i, e_radius_acc[i, :, 1] > 0, 0])\n",
      "<ipython-input-275-10e7cc20abcc>:2: RuntimeWarning: invalid value encountered in greater\n",
      "  plt.plot(np.array(e_num_sides)[e_radius_acc[i, :, 1] > 0],\n",
      "<ipython-input-275-10e7cc20abcc>:3: RuntimeWarning: invalid value encountered in greater\n",
      "  e_radius_acc[i, e_radius_acc[i, :, 1] > 0, 0])\n",
      "<ipython-input-275-10e7cc20abcc>:2: RuntimeWarning: invalid value encountered in greater\n",
      "  plt.plot(np.array(e_num_sides)[e_radius_acc[i, :, 1] > 0],\n",
      "<ipython-input-275-10e7cc20abcc>:3: RuntimeWarning: invalid value encountered in greater\n",
      "  e_radius_acc[i, e_radius_acc[i, :, 1] > 0, 0])\n",
      "<ipython-input-275-10e7cc20abcc>:2: RuntimeWarning: invalid value encountered in greater\n",
      "  plt.plot(np.array(e_num_sides)[e_radius_acc[i, :, 1] > 0],\n",
      "<ipython-input-275-10e7cc20abcc>:3: RuntimeWarning: invalid value encountered in greater\n",
      "  e_radius_acc[i, e_radius_acc[i, :, 1] > 0, 0])\n",
      "<ipython-input-275-10e7cc20abcc>:2: RuntimeWarning: invalid value encountered in greater\n",
      "  plt.plot(np.array(e_num_sides)[e_radius_acc[i, :, 1] > 0],\n",
      "<ipython-input-275-10e7cc20abcc>:3: RuntimeWarning: invalid value encountered in greater\n",
      "  e_radius_acc[i, e_radius_acc[i, :, 1] > 0, 0])\n",
      "<ipython-input-275-10e7cc20abcc>:2: RuntimeWarning: invalid value encountered in greater\n",
      "  plt.plot(np.array(e_num_sides)[e_radius_acc[i, :, 1] > 0],\n",
      "<ipython-input-275-10e7cc20abcc>:3: RuntimeWarning: invalid value encountered in greater\n",
      "  e_radius_acc[i, e_radius_acc[i, :, 1] > 0, 0])\n",
      "<ipython-input-275-10e7cc20abcc>:2: RuntimeWarning: invalid value encountered in greater\n",
      "  plt.plot(np.array(e_num_sides)[e_radius_acc[i, :, 1] > 0],\n",
      "<ipython-input-275-10e7cc20abcc>:3: RuntimeWarning: invalid value encountered in greater\n",
      "  e_radius_acc[i, e_radius_acc[i, :, 1] > 0, 0])\n",
      "<ipython-input-275-10e7cc20abcc>:2: RuntimeWarning: invalid value encountered in greater\n",
      "  plt.plot(np.array(e_num_sides)[e_radius_acc[i, :, 1] > 0],\n",
      "<ipython-input-275-10e7cc20abcc>:3: RuntimeWarning: invalid value encountered in greater\n",
      "  e_radius_acc[i, e_radius_acc[i, :, 1] > 0, 0])\n",
      "<ipython-input-275-10e7cc20abcc>:2: RuntimeWarning: invalid value encountered in greater\n",
      "  plt.plot(np.array(e_num_sides)[e_radius_acc[i, :, 1] > 0],\n",
      "<ipython-input-275-10e7cc20abcc>:3: RuntimeWarning: invalid value encountered in greater\n",
      "  e_radius_acc[i, e_radius_acc[i, :, 1] > 0, 0])\n",
      "<ipython-input-275-10e7cc20abcc>:2: RuntimeWarning: invalid value encountered in greater\n",
      "  plt.plot(np.array(e_num_sides)[e_radius_acc[i, :, 1] > 0],\n",
      "<ipython-input-275-10e7cc20abcc>:3: RuntimeWarning: invalid value encountered in greater\n",
      "  e_radius_acc[i, e_radius_acc[i, :, 1] > 0, 0])\n",
      "<ipython-input-275-10e7cc20abcc>:2: RuntimeWarning: invalid value encountered in greater\n",
      "  plt.plot(np.array(e_num_sides)[e_radius_acc[i, :, 1] > 0],\n",
      "<ipython-input-275-10e7cc20abcc>:3: RuntimeWarning: invalid value encountered in greater\n",
      "  e_radius_acc[i, e_radius_acc[i, :, 1] > 0, 0])\n",
      "<ipython-input-275-10e7cc20abcc>:2: RuntimeWarning: invalid value encountered in greater\n",
      "  plt.plot(np.array(e_num_sides)[e_radius_acc[i, :, 1] > 0],\n",
      "<ipython-input-275-10e7cc20abcc>:3: RuntimeWarning: invalid value encountered in greater\n",
      "  e_radius_acc[i, e_radius_acc[i, :, 1] > 0, 0])\n",
      "<ipython-input-275-10e7cc20abcc>:2: RuntimeWarning: invalid value encountered in greater\n",
      "  plt.plot(np.array(e_num_sides)[e_radius_acc[i, :, 1] > 0],\n",
      "<ipython-input-275-10e7cc20abcc>:3: RuntimeWarning: invalid value encountered in greater\n",
      "  e_radius_acc[i, e_radius_acc[i, :, 1] > 0, 0])\n",
      "<ipython-input-275-10e7cc20abcc>:2: RuntimeWarning: invalid value encountered in greater\n",
      "  plt.plot(np.array(e_num_sides)[e_radius_acc[i, :, 1] > 0],\n",
      "<ipython-input-275-10e7cc20abcc>:3: RuntimeWarning: invalid value encountered in greater\n",
      "  e_radius_acc[i, e_radius_acc[i, :, 1] > 0, 0])\n"
     ]
    },
    {
     "data": {
      "image/png": "[encoded data removed]",
      "text/plain": [
       "<Figure size 432x288 with 1 Axes>"
      ]
     },
     "metadata": {
      "needs_background": "light"
     },
     "output_type": "display_data"
    }
   ],
   "source": [
    "for i in range(e_radius_acc.shape[0]):\n",
    "    plt.plot(np.array(e_num_sides)[e_radius_acc[i, :, 1] > 0],\n",
    "             e_radius_acc[i, e_radius_acc[i, :, 1] > 0, 0])"
   ]
  },
  {
   "cell_type": "code",
   "execution_count": 40,
   "metadata": {},
   "outputs": [
    {
     "data": {
      "image/png": "[encoded data removed]",
      "text/plain": [
       "<Figure size 432x288 with 1 Axes>"
      ]
     },
     "metadata": {
      "needs_background": "light"
     },
     "output_type": "display_data"
    }
   ],
   "source": [
    "for i in range(e_radius_acc.shape[0]):\n",
    "    plt.plot((np.array(e_num_sides)**2)[e_radius_acc[i, :, 0] > 0],\n",
    "             e_radius_acc[i, e_radius_acc[i, :, 0] > 0, 0])"
   ]
  },
  {
   "cell_type": "code",
   "execution_count": 44,
   "metadata": {
    "scrolled": false
   },
   "outputs": [
    {
     "data": {
      "image/png": "[encoded data removed]",
      "text/plain": [
       "<Figure size 432x288 with 1 Axes>"
      ]
     },
     "metadata": {
      "needs_background": "light"
     },
     "output_type": "display_data"
    }
   ],
   "source": [
    "for i in range(e_radius_acc.shape[0]):\n",
    "    plt.plot((np.array(e_num_sides)**2)[e_radius_acc[i, :, 1] > 0],\n",
    "             e_radius_acc[i, e_radius_acc[i, :, 1] > 0, 1])"
   ]
  },
  {
   "cell_type": "code",
   "execution_count": 292,
   "metadata": {},
   "outputs": [
    {
     "data": {
      "image/png": "[encoded data removed]",
      "text/plain": [
       "<Figure size 432x288 with 1 Axes>"
      ]
     },
     "metadata": {
      "needs_background": "light"
     },
     "output_type": "display_data"
    }
   ],
   "source": [
    "for i in range(e_num_sides_acc.shape[0]):\n",
    "    plt.plot(np.arange(10, 10 * sum(e_num_sides_acc[i, :, 0] > 0) + 1, 10),\n",
    "             e_num_sides_acc[i, e_num_sides_acc[i, :, 0] > 0, 0],\n",
    "             label=e_num_sides[i])\n",
    "plt.legend()\n",
    "plt.ylabel('accuracy [%]')\n",
    "plt.xlabel('Electrodes size [microns]')\n",
    "plt.title('AxonMapModel accuracy after one epoch versus electrode size')\n",
    "plt.savefig('1_epoch_accuracy_versus_electrod_size_AxonMap', bbox_inches='tight')"
   ]
  },
  {
   "cell_type": "code",
   "execution_count": 291,
   "metadata": {},
   "outputs": [
    {
     "data": {
      "image/png": "[encoded data removed]",
      "text/plain": [
       "<Figure size 432x288 with 1 Axes>"
      ]
     },
     "metadata": {
      "needs_background": "light"
     },
     "output_type": "display_data"
    }
   ],
   "source": [
    "for i in range(e_num_sides_acc.shape[0]):\n",
    "    plt.plot(np.arange(10, 10 * sum(e_num_sides_acc[i, :, 1] > 0) + 1, 10),\n",
    "             e_num_sides_acc[i, e_num_sides_acc[i, :, 1] > 0, 1],\n",
    "             label=e_num_sides[i])\n",
    "plt.legend()\n",
    "plt.ylabel('accuracy [%]')\n",
    "plt.xlabel('Electrodes size [microns]')\n",
    "plt.title('ScoreBoardModel accuracy after one epoch versus electrode size')\n",
    "plt.savefig('1_epoch_accuracy_versus_electrod_size_ScoreBoard', bbox_inches='tight')"
   ]
  },
  {
   "cell_type": "markdown",
   "metadata": {},
   "source": [
    "Print samples from dataset"
   ]
  },
  {
   "cell_type": "code",
   "execution_count": 7,
   "metadata": {
    "scrolled": false
   },
   "outputs": [
    {
     "name": "stdout",
     "output_type": "stream",
     "text": [
      " Trainset mean value for each channel is: 0.14\n",
      " Trainset std  value for each channel is: 0.20\n"
     ]
    },
    {
     "data": {
      "image/png": "[encoded data removed]",
      "text/plain": [
       "<Figure size 504x504 with 60 Axes>"
      ]
     },
     "metadata": {
      "needs_background": "light"
     },
     "output_type": "display_data"
    }
   ],
   "source": [
    "def min_max_scaling(img):\n",
    "    return (img-img.min())/(img.max()-img.min())\n",
    "\n",
    "implant_name = 'e_num_side=10-e_radius=30-spacing=None-total_area=4000'\n",
    "\n",
    "trainloader, testloader = get_dataset_loaders(os.path.join(MNIST_SUBSET_DATA_PATH,\n",
    "                                                           'ScoreBoardModel'+'-'+implant_name))\n",
    "dataiter = iter(trainloader)\n",
    "images, labels = dataiter.next()\n",
    "\n",
    "num_of_images = 60\n",
    "fig = plt.figure(figsize=(7, 7))\n",
    "for index in range(1, num_of_images + 1):\n",
    "    plt.subplot(6, 10, index)\n",
    "    plt.axis('off')\n",
    "    plt.imshow(min_max_scaling(np.transpose(images[index], (1, 2, 0))[:, :, 0]), cmap='gray')\n",
    "    plt.title(int(labels[index].cpu()))\n",
    "    plt.subplots_adjust(hspace=0, wspace=0.1)\n",
    "\n",
    "# plt.savefig('ScoreBoardModel_e_num_side=5-e_radius=400_samples', bbox_inches='tight')"
   ]
  },
  {
   "cell_type": "markdown",
   "metadata": {},
   "source": [
    "Just train one"
   ]
  },
  {
   "cell_type": "code",
   "execution_count": 349,
   "metadata": {},
   "outputs": [
    {
     "name": "stdout",
     "output_type": "stream",
     "text": [
      "# ------------------ AxonMapModel ----------------- #\n",
      " Trainset mean value for each channel is: 0.19\n",
      " Trainset std  value for each channel is: 0.23\n"
     ]
    },
    {
     "data": {
      "application/vnd.jupyter.widget-view+json": {
       "model_id": "d4ad72a9b96645efaf03aadc9afb6bcc",
       "version_major": 2,
       "version_minor": 0
      },
      "text/plain": [
       "HBox(children=(FloatProgress(value=0.0, description='Loss: - Accuracy:', layout=Layout(flex='2'), max=7.0, sty…"
      ]
     },
     "metadata": {},
     "output_type": "display_data"
    },
    {
     "name": "stdout",
     "output_type": "stream",
     "text": [
      "\n"
     ]
    },
    {
     "data": {
      "application/vnd.jupyter.widget-view+json": {
       "model_id": "1df2ba02c92c46fb9bc8eab746254d7c",
       "version_major": 2,
       "version_minor": 0
      },
      "text/plain": [
       "HBox(children=(FloatProgress(value=0.0, max=1.0), HTML(value='')))"
      ]
     },
     "metadata": {},
     "output_type": "display_data"
    },
    {
     "data": {
      "application/vnd.jupyter.widget-view+json": {
       "model_id": "ee28018433684fb9a79b660fd5c4f772",
       "version_major": 2,
       "version_minor": 0
      },
      "text/plain": [
       "HBox(children=(FloatProgress(value=0.0, description='TRAINING | Loss: - Accuracy:', layout=Layout(flex='2'), m…"
      ]
     },
     "metadata": {},
     "output_type": "display_data"
    },
    {
     "name": "stdout",
     "output_type": "stream",
     "text": [
      "\n"
     ]
    },
    {
     "data": {
      "application/vnd.jupyter.widget-view+json": {
       "model_id": "922fe5f17f05479590e007099596ab0d",
       "version_major": 2,
       "version_minor": 0
      },
      "text/plain": [
       "HBox(children=(FloatProgress(value=0.0, description='VALIDATION | Loss: - Accuracy:', layout=Layout(flex='2'),…"
      ]
     },
     "metadata": {},
     "output_type": "display_data"
    },
    {
     "name": "stdout",
     "output_type": "stream",
     "text": [
      "\n",
      "\n",
      "Training complete in 0m 9s\n",
      "2 epochs done. Best validation accuracy is 33.000. Best validation loss is 2.780\n"
     ]
    }
   ],
   "source": [
    "model_name = 'AxonMapModel'\n",
    "implant_name = 'e_num_side=10-e_radius=10-spacing=None-total_area=4000'\n",
    "\n",
    "print(f'# ------------------ {model_name} ----------------- #')\n",
    "\n",
    "model = ResNet18MNIST(pretrained=True,\n",
    "                      feature_extraction=True,\n",
    "                      load_state_path='./data/MNIST__ResNet18Model__Adabound__25_epochs.pth')\n",
    "\n",
    "criterion = torch.nn.CrossEntropyLoss()\n",
    "optimizer = AdaBound(model.parameters(), lr=1e-3, final_lr=0.1)\n",
    "trainloader, testloader = get_dataset_loaders(os.path.join(MNIST_SUBSET_DATA_PATH,\n",
    "                                                           model_name+'-'+implant_name))\n",
    "ppln = Pipeline(model, device, optimizer, criterion,\n",
    "                trainloader, testloader, testloader,\n",
    "                live_plot=False)\n",
    "\n",
    "init_loss, init_accu = ppln.test()\n",
    "\n",
    "_ = ppln.training(epochs=1)"
   ]
  }
 ],
 "metadata": {
  "kernelspec": {
   "display_name": "Python 3",
   "language": "python",
   "name": "python3"
  },
  "language_info": {
   "codemirror_mode": {
    "name": "ipython",
    "version": 3
   },
   "file_extension": ".py",
   "mimetype": "text/x-python",
   "name": "python",
   "nbconvert_exporter": "python",
   "pygments_lexer": "ipython3",
   "version": "3.8.3"
  }
 },
 "nbformat": 4,
 "nbformat_minor": 4
}