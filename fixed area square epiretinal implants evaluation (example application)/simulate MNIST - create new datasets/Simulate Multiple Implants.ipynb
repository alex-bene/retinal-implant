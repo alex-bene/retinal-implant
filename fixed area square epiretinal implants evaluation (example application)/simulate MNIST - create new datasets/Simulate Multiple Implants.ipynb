{
 "cells": [
  {
   "cell_type": "code",
   "execution_count": 1,
   "metadata": {
    "cell_id": "73282a04-5657-4d17-a3cb-92abab7ec51c"
   },
   "outputs": [
    {
     "name": "stderr",
     "output_type": "stream",
     "text": [
      "<ipython-input-1-837c52fdefad>:1: TqdmExperimentalWarning: Using `tqdm.autonotebook.tqdm` in notebook mode. Use `tqdm.tqdm` instead to force console mode (e.g. in jupyter console)\n",
      "  from tqdm.autonotebook import tqdm, trange\n"
     ]
    }
   ],
   "source": [
    "from tqdm.autonotebook import tqdm, trange\n",
    "from pulse2percept.models import ScoreboardModel, AxonMapModel\n",
    "from pulse2percept.implants import ArgusII\n",
    "from torchvision import datasets, transforms\n",
    "from multiprocessing import cpu_count, Pool\n",
    "import parmap\n",
    "\n",
    "from CustomImplant import CustomImplant\n",
    "from ImplantSimulateDataset import ImplantSimulateDataset"
   ]
  },
  {
   "cell_type": "code",
   "execution_count": 2,
   "metadata": {},
   "outputs": [],
   "source": [
    "%matplotlib inline"
   ]
  },
  {
   "cell_type": "code",
   "execution_count": 6,
   "metadata": {},
   "outputs": [],
   "source": [
    "def one_train_loop(img, label, idx):\n",
    "    isd.one_loop(img, label, idx, isd.percept_path_train)\n",
    "\n",
    "def one_test_loop(img, label, idx):\n",
    "    isd.one_loop(img, label, idx, isd.percept_path_test)"
   ]
  },
  {
   "cell_type": "code",
   "execution_count": 7,
   "metadata": {},
   "outputs": [
    {
     "data": {
      "text/plain": [
       "ScoreboardModel(engine='serial', grid_type='rectangular', \n",
       "                n_jobs=1, rho=100, scheduler='threading', \n",
       "                spatial=ScoreboardSpatial, temporal=None, \n",
       "                thresh_percept=0, verbose=True, \n",
       "                xrange=(-20, 20), xystep=0.25, \n",
       "                yrange=(-15, 15))"
      ]
     },
     "execution_count": 7,
     "metadata": {},
     "output_type": "execute_result"
    }
   ],
   "source": [
    "# Initialize models\n",
    "axonMap_model    = AxonMapModel()\n",
    "scoreBoard_model = ScoreboardModel()\n",
    "\n",
    "# Build models\n",
    "axonMap_model.build()\n",
    "scoreBoard_model.build()"
   ]
  },
  {
   "cell_type": "code",
   "execution_count": 8,
   "metadata": {},
   "outputs": [],
   "source": [
    "transform   = transforms.Compose([transforms.ToTensor()])\n",
    "\n",
    "trainset    = datasets.MNIST('./data', download=True, train=True,  transform=transform)\n",
    "testset     = datasets.MNIST('./data', download=True, train=False, transform=transform)"
   ]
  },
  {
   "cell_type": "code",
   "execution_count": 10,
   "metadata": {
    "scrolled": true
   },
   "outputs": [
    {
     "name": "stdout",
     "output_type": "stream",
     "text": [
      "Current electrode radius in microns   is : 10\n",
      "Current electrode numbers per side    is : 20\n",
      "Current implant total area in microns is : 4000\n"
     ]
    },
    {
     "name": "stderr",
     "output_type": "stream",
     "text": [
      "0it [00:00, ?it/s]\n",
      "0it [00:00, ?it/s]\n"
     ]
    },
    {
     "name": "stdout",
     "output_type": "stream",
     "text": [
      "Current electrode radius in microns   is : 20\n",
      "Current electrode numbers per side    is : 20\n",
      "Current implant total area in microns is : 4000\n"
     ]
    },
    {
     "name": "stderr",
     "output_type": "stream",
     "text": [
      "0it [00:00, ?it/s]\n",
      "0it [00:00, ?it/s]\n"
     ]
    },
    {
     "name": "stdout",
     "output_type": "stream",
     "text": [
      "Current electrode radius in microns   is : 30\n",
      "Current electrode numbers per side    is : 20\n",
      "Current implant total area in microns is : 4000\n"
     ]
    },
    {
     "name": "stderr",
     "output_type": "stream",
     "text": [
      "0it [00:00, ?it/s]\n",
      "0it [00:00, ?it/s]\n"
     ]
    },
    {
     "name": "stdout",
     "output_type": "stream",
     "text": [
      "Current electrode radius in microns   is : 40\n",
      "Current electrode numbers per side    is : 20\n",
      "Current implant total area in microns is : 4000\n"
     ]
    },
    {
     "name": "stderr",
     "output_type": "stream",
     "text": [
      "0it [00:00, ?it/s]\n",
      "0it [00:00, ?it/s]\n"
     ]
    },
    {
     "name": "stdout",
     "output_type": "stream",
     "text": [
      "Current electrode radius in microns   is : 50\n",
      "Current electrode numbers per side    is : 20\n",
      "Current implant total area in microns is : 4000\n"
     ]
    },
    {
     "name": "stderr",
     "output_type": "stream",
     "text": [
      "0it [00:00, ?it/s]\n",
      "0it [00:00, ?it/s]\n"
     ]
    },
    {
     "name": "stdout",
     "output_type": "stream",
     "text": [
      "Current electrode radius in microns   is : 60\n",
      "Current electrode numbers per side    is : 20\n",
      "Current implant total area in microns is : 4000\n"
     ]
    },
    {
     "name": "stderr",
     "output_type": "stream",
     "text": [
      "0it [00:00, ?it/s]\n",
      "0it [00:00, ?it/s]\n"
     ]
    },
    {
     "name": "stdout",
     "output_type": "stream",
     "text": [
      "Current electrode radius in microns   is : 70\n",
      "Current electrode numbers per side    is : 20\n",
      "Current implant total area in microns is : 4000\n"
     ]
    },
    {
     "name": "stderr",
     "output_type": "stream",
     "text": [
      "0it [00:00, ?it/s]\n",
      "0it [00:00, ?it/s]\n"
     ]
    },
    {
     "name": "stdout",
     "output_type": "stream",
     "text": [
      "Current electrode radius in microns   is : 80\n",
      "Current electrode numbers per side    is : 20\n",
      "Current implant total area in microns is : 4000\n"
     ]
    },
    {
     "name": "stderr",
     "output_type": "stream",
     "text": [
      "0it [00:00, ?it/s]\n",
      "0it [00:00, ?it/s]\n"
     ]
    },
    {
     "name": "stdout",
     "output_type": "stream",
     "text": [
      "Current electrode radius in microns   is : 90\n",
      "Current electrode numbers per side    is : 20\n",
      "Current implant total area in microns is : 4000\n"
     ]
    },
    {
     "name": "stderr",
     "output_type": "stream",
     "text": [
      "0it [00:00, ?it/s]\n",
      "0it [00:00, ?it/s]\n"
     ]
    }
   ],
   "source": [
    "e_radiuses = [e_radius for e_radius in range(10, 91, 10)]\n",
    "# e_radiuses = [10]\n",
    "e_num_side = 20\n",
    "total_area = 4000\n",
    "\n",
    "custom_implant = CustomImplant(e_num_side=e_num_side, e_radius=e_radiuses[0], total_area=total_area)\n",
    "isd = ImplantSimulateDataset(custom_implant, trainset, testset, 'MNIST', axonMap_model, './data',\n",
    "                             train_work_samples=2000, test_work_samples=400)\n",
    "\n",
    "with Pool(processes = cpu_count()-1) as pool:\n",
    "    for e_radius in e_radiuses:\n",
    "        print(f\"Current electrode radius in microns   is : {e_radius}\")\n",
    "        print(f\"Current electrode numbers per side    is : {e_num_side}\")\n",
    "        print(f\"Current implant total area in microns is : {total_area}\")\n",
    "        custom_implant = CustomImplant(e_num_side=e_num_side, e_radius=e_radius, total_area=total_area)\n",
    "        isd.change_implant(custom_implant)\n",
    "\n",
    "        parmap.starmap(one_train_loop, isd.zipped_train_args,\n",
    "                       pm_pbar=True, pm_processes=cpu_count(), pm_chunksize=5)\n",
    "        parmap.starmap(one_test_loop, isd.zipped_test_args,\n",
    "                       pm_pbar=True, pm_processes=cpu_count(), pm_chunksize=5)"
   ]
  },
  {
   "cell_type": "code",
   "execution_count": 7,
   "metadata": {},
   "outputs": [
    {
     "name": "stderr",
     "output_type": "stream",
     "text": [
      "35it [00:21,  1.64it/s]                        \n",
      "0it [00:00, ?it/s]\n"
     ]
    }
   ],
   "source": [
    "ArgusII_implant = ArgusII()\n",
    "isd = ImplantSimulateDataset(ArgusII_implant, trainset, testset, 'MNIST', axonMap_model, './data')\n",
    "\n",
    "with Pool(processes = cpu_count()) as pool:\n",
    "    parmap.starmap(one_train_loop, isd.zipped_train_args,\n",
    "                   pm_pbar=True, pm_processes=cpu_count(), pm_chunksize=5)\n",
    "\n",
    "    parmap.starmap(one_test_loop, isd.zipped_test_args,\n",
    "                   pm_pbar=True, pm_processes=cpu_count(), pm_chunksize=5)"
   ]
  },
  {
   "cell_type": "code",
   "execution_count": 20,
   "metadata": {},
   "outputs": [],
   "source": [
    "# ##FIX -- from .pt (tensors saved with torch.save) to .png (images saved with PIL)\n",
    "\n",
    "# import os\n",
    "# import numpy as np\n",
    "# import PIL\n",
    "# import torch\n",
    "# from torchvision import transforms\n",
    "# import pickle\n",
    "\n",
    "# def filter_function(path, file):\n",
    "#     trunc_filename = os.path.join(path, file.split('.')[0])\n",
    "#     return file.endswith('.pt') and os.path.getsize(trunc_filename+'.pt') > 0 \\\n",
    "#            and (not os.path.exists(trunc_filename+'.png') or os.path.getsize(trunc_filename+'.png') <= 0)\n",
    "\n",
    "# def single_folder(PATH):\n",
    "#     lstdr = os.listdir(PATH)\n",
    "#     lstdr = list(filter(lambda file: filter_function(PATH, file), lstdr))\n",
    "#     print(lstdr)\n",
    "#     for filename in tqdm(lstdr):\n",
    "#         tensor = torch.load(os.path.join(PATH, filename))\n",
    "#         tensor = (tensor - tensor.min())/(tensor.max() - tensor.min())\n",
    "#         img = transforms.ToPILImage()(tensor)\n",
    "#         img.save(os.path.join(PATH, filename.split('.')[0]+'.png'), compress_level=0)\n",
    "\n",
    "# orig_path = os.path.join(os.getcwd(), 'data', 'MNIST', 'percept')\n",
    "# for folder in tqdm(os.listdir(orig_path)):\n",
    "#     single_folder(os.path.join(orig_path, folder, 'train'))\n",
    "#     single_folder(os.path.join(orig_path, folder, 'test'))"
   ]
  }
 ],
 "metadata": {
  "deepnote_execution_queue": [],
  "deepnote_notebook_id": "15559035-ef61-4565-a93d-7a39922190cc",
  "kernelspec": {
   "display_name": "Python 3",
   "language": "python",
   "name": "python3"
  },
  "language_info": {
   "codemirror_mode": {
    "name": "ipython",
    "version": 3
   },
   "file_extension": ".py",
   "mimetype": "text/x-python",
   "name": "python",
   "nbconvert_exporter": "python",
   "pygments_lexer": "ipython3",
   "version": "3.8.3"
  }
 },
 "nbformat": 4,
 "nbformat_minor": 2
}
