{
 "cells": [
  {
   "cell_type": "markdown",
   "metadata": {},
   "source": [
    "# Import the necessary libraries"
   ]
  },
  {
   "cell_type": "code",
   "execution_count": 1,
   "metadata": {},
   "outputs": [
    {
     "name": "stderr",
     "output_type": "stream",
     "text": [
      "<ipython-input-1-f2b5f8a13308>:2: TqdmExperimentalWarning: Using `tqdm.autonotebook.tqdm` in notebook mode. Use `tqdm.tqdm` instead to force console mode (e.g. in jupyter console)\n",
      "  from tqdm.autonotebook import tqdm\n"
     ]
    }
   ],
   "source": [
    "import os\n",
    "from tqdm.autonotebook import tqdm\n",
    "from ImplantSimulateDataset import ImplantSimulateDataset as isd"
   ]
  },
  {
   "cell_type": "markdown",
   "metadata": {},
   "source": [
    "# Create the necessary folders to store the datasets if not already there"
   ]
  },
  {
   "cell_type": "code",
   "execution_count": 2,
   "metadata": {},
   "outputs": [],
   "source": [
    "# Folder Containing All Data\n",
    "DATA_PATH                  = os.path.join(os.getcwd(), 'data')\n",
    "# Raw Data Folders\n",
    "FULL_ARGUSII_RAW_DATA_PATH = os.path.join(DATA_PATH, 'MNIST', 'percept')\n",
    "MNIST_SUBSET_RAW_DATA_PATH = os.path.join(DATA_PATH, 'MNIST_2000_400', 'percept')\n",
    "# Datasets Out Folders\n",
    "FULL_ARGUSII_OUT_DATA_PATH = os.path.join(DATA_PATH, 'MNIST', 'processed')\n",
    "MNIST_SUBSET_OUT_DATA_PATH = os.path.join(DATA_PATH, 'MNIST_2000_400', 'processed')\n",
    "\n",
    "# Create the Folders IF Not Already There\n",
    "if not os.path.exists(FULL_ARGUSII_OUT_DATA_PATH):\n",
    "    os.makedirs(FULL_ARGUSII_OUT_DATA_PATH)\n",
    "if not os.path.exists(MNIST_SUBSET_OUT_DATA_PATH):\n",
    "    os.makedirs(MNIST_SUBSET_OUT_DATA_PATH)"
   ]
  },
  {
   "cell_type": "markdown",
   "metadata": {},
   "source": [
    "# Create the datasets for all of the MNIST subsets"
   ]
  },
  {
   "cell_type": "code",
   "execution_count": 4,
   "metadata": {},
   "outputs": [],
   "source": [
    "implant_model_names = os.listdir(MNIST_SUBSET_RAW_DATA_PATH)\n",
    "\n",
    "for implant_model_name in tqdm(implant_model_names):\n",
    "    isd.create_dataset(os.path.join(MNIST_SUBSET_RAW_DATA_PATH, implant_model_name),\n",
    "                       os.path.join(MNIST_SUBSET_OUT_DATA_PATH, implant_model_name),\n",
    "                       output=False, p_bar=False)"
   ]
  },
  {
   "cell_type": "markdown",
   "metadata": {},
   "source": [
    "# Create the datasets for all of the full MNIST - ArgusII"
   ]
  },
  {
   "cell_type": "code",
   "execution_count": 5,
   "metadata": {
    "scrolled": true
   },
   "outputs": [
    {
     "name": "stdout",
     "output_type": "stream",
     "text": [
      "Create samples list from path: /mnt/c/Users/el16077/Documents/Coding/retinal-implants/retinal_implants_utils/data/MNIST/percept/AxonMapModel-ArgusII/train\n"
     ]
    },
    {
     "data": {
      "application/vnd.jupyter.widget-view+json": {
       "model_id": "18be4f850838484eaf672aa56468ce44",
       "version_major": 2,
       "version_minor": 0
      },
      "text/plain": [
       "HBox(children=(FloatProgress(value=0.0, max=60000.0), HTML(value='')))"
      ]
     },
     "metadata": {},
     "output_type": "display_data"
    },
    {
     "name": "stdout",
     "output_type": "stream",
     "text": [
      "\n",
      "Create samples list from path: /mnt/c/Users/el16077/Documents/Coding/retinal-implants/retinal_implants_utils/data/MNIST/percept/AxonMapModel-ArgusII/test\n"
     ]
    },
    {
     "data": {
      "application/vnd.jupyter.widget-view+json": {
       "model_id": "4ccef637753b464eada5b6f716402bf9",
       "version_major": 2,
       "version_minor": 0
      },
      "text/plain": [
       "HBox(children=(FloatProgress(value=0.0, max=10000.0), HTML(value='')))"
      ]
     },
     "metadata": {},
     "output_type": "display_data"
    },
    {
     "name": "stdout",
     "output_type": "stream",
     "text": [
      "\n",
      "Create samples list from path: /mnt/c/Users/el16077/Documents/Coding/retinal-implants/retinal_implants_utils/data/MNIST/percept/ScoreboardModel-ArgusII/train\n"
     ]
    },
    {
     "data": {
      "application/vnd.jupyter.widget-view+json": {
       "model_id": "d196b94cbc624324b61446b698942af1",
       "version_major": 2,
       "version_minor": 0
      },
      "text/plain": [
       "HBox(children=(FloatProgress(value=0.0, max=60000.0), HTML(value='')))"
      ]
     },
     "metadata": {},
     "output_type": "display_data"
    },
    {
     "name": "stdout",
     "output_type": "stream",
     "text": [
      "\n",
      "Create samples list from path: /mnt/c/Users/el16077/Documents/Coding/retinal-implants/retinal_implants_utils/data/MNIST/percept/ScoreboardModel-ArgusII/test\n"
     ]
    },
    {
     "data": {
      "application/vnd.jupyter.widget-view+json": {
       "model_id": "79224573b81840b1aef593e55929d760",
       "version_major": 2,
       "version_minor": 0
      },
      "text/plain": [
       "HBox(children=(FloatProgress(value=0.0, max=10000.0), HTML(value='')))"
      ]
     },
     "metadata": {},
     "output_type": "display_data"
    },
    {
     "name": "stdout",
     "output_type": "stream",
     "text": [
      "\n"
     ]
    }
   ],
   "source": [
    "implant_model_names = os.listdir(FULL_ARGUSII_RAW_DATA_PATH)\n",
    "\n",
    "for implant_model_name in implant_model_names:\n",
    "    isd.create_dataset(os.path.join(FULL_ARGUSII_RAW_DATA_PATH, implant_model_name),\n",
    "                       os.path.join(FULL_ARGUSII_OUT_DATA_PATH, implant_model_name))"
   ]
  }
 ],
 "metadata": {
  "kernelspec": {
   "display_name": "Python 3",
   "language": "python",
   "name": "python3"
  },
  "language_info": {
   "codemirror_mode": {
    "name": "ipython",
    "version": 3
   },
   "file_extension": ".py",
   "mimetype": "text/x-python",
   "name": "python",
   "nbconvert_exporter": "python",
   "pygments_lexer": "ipython3",
   "version": "3.8.3"
  }
 },
 "nbformat": 4,
 "nbformat_minor": 4
}
